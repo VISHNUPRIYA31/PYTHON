{
 "cells": [
  {
   "cell_type": "markdown",
   "id": "7bdd6130",
   "metadata": {},
   "source": [
    "#### Write a program that generate a set of number that are prime numbers (1-50) and another set of numbers divisible by 5 (1-50),then apply union, intersection, difference and symmetric difference on the resultant sets  div=set([x for x in range(1,50) if x%5==0])"
   ]
  },
  {
   "cell_type": "code",
   "execution_count": 5,
   "id": "090c0c97",
   "metadata": {},
   "outputs": [
    {
     "name": "stdout",
     "output_type": "stream",
     "text": [
      "DIVISIBLE BY 5:  {35, 5, 40, 10, 45, 15, 20, 25, 30}\n",
      "Prime Numbers:  {1, 2, 3, 5, 37, 7, 41, 11, 43, 13, 47, 17, 19, 23, 29, 31}\n",
      "Union:  {1, 2, 3, 5, 7, 10, 11, 13, 15, 17, 19, 20, 23, 25, 29, 30, 31, 35, 37, 40, 41, 43, 45, 47}\n",
      "Intersection:  {5}\n",
      "Difference:  {35, 40, 10, 45, 15, 20, 25, 30}\n",
      "Symmetric Difference:  {1, 2, 3, 7, 10, 11, 13, 15, 17, 19, 20, 23, 25, 29, 30, 31, 35, 37, 40, 41, 43, 45, 47}\n"
     ]
    }
   ],
   "source": [
    "def prime(n):\n",
    "    count=0\n",
    "    for j in range(2,n+1):\n",
    "        if (n%j==0):\n",
    "            count+=1\n",
    "    if count >= 2:\n",
    "        return False\n",
    "    else:\n",
    "        return True\n",
    "primes = set()\n",
    "div_5 = set()\n",
    "for i in range(1,50):\n",
    "    if (prime(i)):\n",
    "        primes.add(i)\n",
    "    if i%5 == 0:\n",
    "        div_5.add(i)\n",
    "print(\"DIVISIBLE BY 5: \", div_5)\n",
    "print(\"Prime Numbers: \", primes)\n",
    "print(\"Union: \", div_5.union(primes))\n",
    "print(\"Intersection: \", div_5.intersection(primes))\n",
    "print(\"Difference: \", div_5.difference(primes))\n",
    "print(\"Symmetric Difference: \", div_5.symmetric_difference(primes))"
   ]
  },
  {
   "cell_type": "markdown",
   "id": "dd5b5554",
   "metadata": {},
   "source": [
    "#### Write a program that generates a set of squares of numbers in the range(1-30) and another list generates numbers that are divisible by 3 in the range(1-30). Generate a newset from a square set, which should not contain the numbers that are divisible by 3."
   ]
  },
  {
   "cell_type": "code",
   "execution_count": 12,
   "id": "40dc656c",
   "metadata": {},
   "outputs": [
    {
     "name": "stdout",
     "output_type": "stream",
     "text": [
      "Squares of numbers  {256, 1, 4, 900, 9, 16, 144, 400, 529, 784, 25, 289, 36, 676, 169, 49, 441, 64, 576, 196, 324, 841, 81, 729, 225, 100, 484, 361, 625, 121}\n",
      "\n",
      "Numbers that are divisible by 3  {3, 6, 9, 12, 15, 18, 21, 24, 27, 30}\n",
      "\n",
      "Square of numbers set without numbers that are divisible by 3\n",
      "{256, 1, 4, 900, 16, 144, 400, 529, 784, 25, 289, 36, 676, 169, 49, 441, 64, 576, 196, 324, 841, 81, 729, 225, 100, 484, 361, 625, 121}\n"
     ]
    }
   ],
   "source": [
    "square=set([x**2 for x in range(1,31)])\n",
    "print(\"Squares of numbers \",square)\n",
    "div=set([x for x in range(1,31) if x%3==0])\n",
    "print(\"\\nNumbers that are divisible by 3 \",div)\n",
    "for i in sq:\n",
    "           if i%3==0:\n",
    "             sq.remove(i)\n",
    "sq_no_3 = square.difference(div)\n",
    "print(\"\\nSquare of numbers set without numbers that are divisible by 3\")\n",
    "print(sq_no_3)"
   ]
  },
  {
   "cell_type": "markdown",
   "id": "85a58291",
   "metadata": {},
   "source": [
    "#### Write a Python Program to Count the Number of Vowels in a Given String Using Sets. Don’t use any built in string functions. "
   ]
  },
  {
   "cell_type": "code",
   "execution_count": 14,
   "id": "b60bf515",
   "metadata": {},
   "outputs": [
    {
     "name": "stdout",
     "output_type": "stream",
     "text": [
      "Enter the String: Welcome to Set\n",
      "No. of vowels : 5\n"
     ]
    }
   ],
   "source": [
    "def vowel_count(str):\n",
    "    vowels = \"aeiouAEIOU\"\n",
    "    count = len([char for char in str if char in vowels])\n",
    "    print(\"No. of vowels :\", count)\n",
    "str = input(\"Enter the String: \")\n",
    "vowel_count(str)"
   ]
  },
  {
   "cell_type": "markdown",
   "id": "06048206",
   "metadata": {},
   "source": [
    "#### Consider the given list and find the common elements of the three given lists USING SET.\n",
    "\n",
    "List1 = [10, 45, 34, 20, 11]\n",
    "\n",
    "List2 = [11, 25, 45, 20]\n",
    "\n",
    "List3 = [20, 25, 11, 14, 45, 65]"
   ]
  },
  {
   "cell_type": "code",
   "execution_count": 18,
   "id": "42ca5d05",
   "metadata": {},
   "outputs": [
    {
     "name": "stdout",
     "output_type": "stream",
     "text": [
      "The common elements of the list: \n",
      "[11, 45, 20, 55]\n"
     ]
    }
   ],
   "source": [
    "def find_common(l1,l2,l3):\n",
    "    set1 = set(l1)\n",
    "    set2 = set(l2)\n",
    "    set3 = set(l3)\n",
    "    return [element for element in set1 if element in set2 and element in set3]\n",
    "\n",
    "l1 = [10, 45, 34, 20, 11, 55]\n",
    "\n",
    "l2 = [11, 25, 45, 20, 55]\n",
    "\n",
    "l3 =[20, 25, 11, 14, 45, 65, 55]\n",
    "\n",
    "common = find_common(l1,l2,l3)\n",
    "print(\"The common elements of the list: \")\n",
    "print(common)"
   ]
  },
  {
   "cell_type": "markdown",
   "id": "1622842e",
   "metadata": {},
   "source": [
    "#### Write a python program that scans an email address and forms a tuple of user name and domain"
   ]
  },
  {
   "cell_type": "code",
   "execution_count": 19,
   "id": "0b5c7cbc",
   "metadata": {},
   "outputs": [
    {
     "name": "stdout",
     "output_type": "stream",
     "text": [
      "enter your mail id: bvishnu2731@gmail.com\n",
      "userr name=  bvishnu2731\n",
      "domain name=  gmail.com\n"
     ]
    }
   ],
   "source": [
    "a=input(\"enter your mail id: \")\n",
    "a=a.split(\"@\")\n",
    "user_n=a[0]\n",
    "domain_n=a[1]\n",
    "print(\"userr name= \",user_n)\n",
    "print(\"domain name= \",domain_n)"
   ]
  },
  {
   "cell_type": "markdown",
   "id": "84868c22",
   "metadata": {},
   "source": [
    "#### Write a python program that has a list of positive and negative numbers.Make a new tuple that has only positive values from the list"
   ]
  },
  {
   "cell_type": "code",
   "execution_count": 21,
   "id": "634cfc9c",
   "metadata": {},
   "outputs": [
    {
     "name": "stdout",
     "output_type": "stream",
     "text": [
      "tuple after removing negative values:  (4, 5, 6, 15, 78, 55, 89)\n"
     ]
    }
   ],
   "source": [
    "a=[-2,-3,4,5,6,15,-89,78,-105,55,89]\n",
    "tup=()\n",
    "for i in a:\n",
    "    if i>0:\n",
    "        tup=tup+(i,)\n",
    "print(\"tuple after removing negative values: \",tup)"
   ]
  }
 ],
 "metadata": {
  "kernelspec": {
   "display_name": "Python 3 (ipykernel)",
   "language": "python",
   "name": "python3"
  },
  "language_info": {
   "codemirror_mode": {
    "name": "ipython",
    "version": 3
   },
   "file_extension": ".py",
   "mimetype": "text/x-python",
   "name": "python",
   "nbconvert_exporter": "python",
   "pygments_lexer": "ipython3",
   "version": "3.9.7"
  }
 },
 "nbformat": 4,
 "nbformat_minor": 5
}
