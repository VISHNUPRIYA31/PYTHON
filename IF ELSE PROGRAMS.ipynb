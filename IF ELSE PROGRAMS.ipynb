{
 "cells": [
  {
   "cell_type": "markdown",
   "id": "a5c5a6ae",
   "metadata": {},
   "source": [
    "#### Accept a number from the user and check whether it's a positive number or not."
   ]
  },
  {
   "cell_type": "code",
   "execution_count": 5,
   "id": "e810d464",
   "metadata": {},
   "outputs": [
    {
     "name": "stdout",
     "output_type": "stream",
     "text": [
      "Enter the number: 56\n",
      "Positive number\n"
     ]
    }
   ],
   "source": [
    "num = int(input(\"Enter the number: \"))\n",
    "if(num>0):\n",
    "    print(\"Positive number\")\n",
    "elif(num<0):\n",
    "    print(\"Negative Number\")\n",
    "else:\n",
    "    print(\"Zero\")"
   ]
  },
  {
   "cell_type": "markdown",
   "id": "48bbf1f3",
   "metadata": {},
   "source": [
    "#### Accept three sides of the triangle and check whether the triangle is possible or not."
   ]
  },
  {
   "cell_type": "code",
   "execution_count": 7,
   "id": "1db6b1bf",
   "metadata": {},
   "outputs": [
    {
     "name": "stdout",
     "output_type": "stream",
     "text": [
      "Enter the number: 2\n",
      "Enter the number: 3\n",
      "Enter the number: 6\n",
      "Triangle not Possible\n"
     ]
    }
   ],
   "source": [
    "a =  int(input(\"Enter the number: \"))\n",
    "b =  int(input(\"Enter the number: \"))\n",
    "c =  int(input(\"Enter the number: \"))\n",
    "if((a+b>c) and (b+c>a) and (a+c>b)):\n",
    "    print(\"Triangle Possible\")\n",
    "else:\n",
    "    print(\"Triangle not Possible\")"
   ]
  },
  {
   "cell_type": "markdown",
   "id": "9767a151",
   "metadata": {},
   "source": [
    "#### Check if the nth power of a number is even or not (get the number and the power as an input)."
   ]
  },
  {
   "cell_type": "code",
   "execution_count": 2,
   "id": "39d049b2",
   "metadata": {},
   "outputs": [
    {
     "name": "stdout",
     "output_type": "stream",
     "text": [
      "Enter the number: 6\n",
      "Enter the power value: 3\n",
      "nth power of number is Even\n"
     ]
    }
   ],
   "source": [
    "num = int(input(\"Enter the number: \"))\n",
    "poww = int(input(\"Enter the power value: \"))\n",
    "r = num ** poww\n",
    "if(r%2==0):\n",
    "    print(\"nth power of number is Even\")\n",
    "else:\n",
    "    print(\"nth power of number is Odd\")"
   ]
  },
  {
   "cell_type": "markdown",
   "id": "8016981f",
   "metadata": {},
   "source": [
    "#### ABC Omni Bus Fare Calculator\n",
    "ACB - Omni Bus Company, has decided to give a traveling fare concession for the Senior Citizen as 20%, the actual fare will be Rs 1020. The upper age limit for Senior Citizens is Above ‘60’. \n",
    "For verification, they will ask for the date of birth, and if satisfied, they will be given concession and will be displayed the final traveling charge, if not original fare will be displayed. "
   ]
  },
  {
   "cell_type": "code",
   "execution_count": 4,
   "id": "3bf08375",
   "metadata": {},
   "outputs": [
    {
     "name": "stdout",
     "output_type": "stream",
     "text": [
      "Enter the year of birth: 1956\n",
      "Final Travelling Charge = Rs.  816.0\n"
     ]
    }
   ],
   "source": [
    "b_year = int(input(\"Enter the year of birth: \"))\n",
    "if(2023 - b_year >= 60):\n",
    "    f = 1020*20/100\n",
    "    print(\"Final Travelling Charge = Rs. \",1020 - f)\n",
    "else:\n",
    "    print(\"Final Travelling Charge = Rs. \",1020)"
   ]
  },
  {
   "attachments": {
    "image.png": {
     "image/png": "[encoded data removed]"
    }
   },
   "cell_type": "markdown",
   "id": "5f3f83cf",
   "metadata": {},
   "source": [
    "#### Pythogorean Triple\n",
    "Three numbers form a Pythogorean Triple, if the sum of squares of two numbers is equal to the square of the third.\n",
    "\n",
    "Formula\n",
    "\n",
    "![image.png](attachment:image.png)\n",
    "\n",
    "\n",
    "Enter the Three numbers n1, n2, and n3 (It should be in increasing order). If they form a Pythoagorean triple, then print ‘1’ otherwise print ‘0’."
   ]
  },
  {
   "cell_type": "code",
   "execution_count": 22,
   "id": "e428171e",
   "metadata": {},
   "outputs": [
    {
     "name": "stdout",
     "output_type": "stream",
     "text": [
      "Enter number 1 = 2\n",
      "Enter number 2 = 3\n",
      "Enter number 3 = 1\n",
      "Enter the number in increasing order...\n"
     ]
    }
   ],
   "source": [
    "n1 = int(input(\"Enter number 1 = \"))\n",
    "n2 = int(input(\"Enter number 2 = \"))\n",
    "n3 = int(input(\"Enter number 3 = \"))\n",
    "if(n1>n2 or n2>n3):\n",
    "    print(\"Enter the number in increasing order...\")\n",
    "else:\n",
    "    if(n1**2 + n2**2 == n3**2):\n",
    "        print(\"1 - Pythoagorean triple\")\n",
    "    else:\n",
    "        print(\"0 - Not a Pythoagorean triple\")"
   ]
  },
  {
   "cell_type": "markdown",
   "id": "e4b36566",
   "metadata": {},
   "source": [
    "#### Blood Donation Camp\n",
    "A Rotary Club has decided to conduct a blood donation camp. The eligibility criteria for the blood donation camp will be that the person should be above 18 and his or her weight should be above 40. The volunteers will enter the name, age, and weight of the person, and then it will display whether they are eligible or not.\n",
    "Display \"1\" if they are eligible and \"0\" if they are not eligible.\n"
   ]
  },
  {
   "cell_type": "code",
   "execution_count": 30,
   "id": "55b348e9",
   "metadata": {},
   "outputs": [
    {
     "name": "stdout",
     "output_type": "stream",
     "text": [
      "Enter the donars age: 17\n",
      "Enter the donars weight: 42\n",
      "0 - Sorry Not eligible\n",
      "You are under 18\n"
     ]
    }
   ],
   "source": [
    "age = int(input(\"Enter the donars age: \"))\n",
    "weight = float(input(\"Enter the donars weight: \"))\n",
    "if(age > 18 and weight > 40.0):\n",
    "    print(\"1 - Eligible to Donate ... Thank you for Volunteering\")\n",
    "else:\n",
    "    print(\"0 - Sorry Not eligible\")\n",
    "    if(age<=18):\n",
    "        print(\"You are under 18\")\n",
    "    if(weight<=40.0):\n",
    "        print(\"Under weight\")"
   ]
  },
  {
   "cell_type": "markdown",
   "id": "e2cbaf6e",
   "metadata": {},
   "source": [
    "#### Bonus Calculation\n",
    "A company has decided to give bonuses to their employees based on their service.\n",
    "##### More than 10 Years: 10%\n",
    "##### More than 6 years and less than 10–8%\n",
    "##### Less than 6 years: 5%\n",
    "Ask the user to enter the salary and year of service and print their bonus.\n"
   ]
  },
  {
   "cell_type": "code",
   "execution_count": 34,
   "id": "7e7944dd",
   "metadata": {},
   "outputs": [
    {
     "name": "stdout",
     "output_type": "stream",
     "text": [
      "Your Salary : 60000\n",
      "Year(s) of Service : 2\n",
      "Your Bonus will be Rs.  3000.0\n"
     ]
    }
   ],
   "source": [
    "salary = int(input(\"Your Salary : \"))\n",
    "exp = int(input(\"Year(s) of Service : \"))\n",
    "if exp > 10:\n",
    "    print(\"Your Bonus will be Rs. \",salary*10/100)\n",
    "elif exp > 6 and exp <=10:\n",
    "    print(\"Your Bonus will be Rs. \",salary*8/100)\n",
    "else:\n",
    "    print(\"Your Bonus will be Rs. \",salary*5/100)"
   ]
  },
  {
   "cell_type": "markdown",
   "id": "79dcbb5c",
   "metadata": {},
   "source": [
    "#### Wages Calculation\n",
    "\n",
    "Accept the name, age, gender (‘M’ or ‘F’), number of days, and display the wages accordingly.<br>\n",
    "**Age:** greater than or equal to 18 and less than 30, gender: \"M”, then wages will be Rs 700 per day and display the total amount to be paid to the employee (amount to be paid = number of day * wages).<br>\n",
    "**Age:** greater than or equal to 18 and less than 30, gender: \"F\" then wages will be Rs 750 per day and display the total amount to be paid to the employee.<br>\n",
    "**Age:** is greater than or equal to 30 and less than or equal to 40, and gender is \"M’, then wages will be Rs 800 per day and display the total amount to be paid to the employee.<br>\n",
    "**Age:** greater than or equal to 30 and less than or equal to 40; gender: \"F,\" then wages will be Rs 850 per day and display the total amount to be paid to the employee.\n"
   ]
  },
  {
   "cell_type": "code",
   "execution_count": 39,
   "id": "f17f3622",
   "metadata": {},
   "outputs": [
    {
     "name": "stdout",
     "output_type": "stream",
     "text": [
      "Enter your name : Krishna\n",
      "Enter your age : 35\n",
      "Enter your gender : m\n",
      "Enter the number of days worked : 8\n",
      "Wages for  Krishna  will be Rs 700 per day and the amount to be paid = Rs. 5600\n"
     ]
    }
   ],
   "source": [
    "name = input(\"Enter your name : \")\n",
    "age = int(input(\"Enter your age : \"))\n",
    "gender = input(\"Enter your gender : \")\n",
    "nod = int(input(\"Enter the number of days worked : \"))\n",
    "if age>=18 and age<30 and gender == \"M\" or gender == 'm':\n",
    "    print(\"Wages for \", name,\" will be Rs 700 per day and the amount to be paid = Rs.\",700*nod)\n",
    "elif age>=18 and age<30 and gender == \"F\" or gender == 'f':\n",
    "    print(\"Wages for \", name,\" will be Rs 750 per day and the amount to be paid = Rs.\",750*nod)\n",
    "elif age>=30 and age<40 and gender == \"M\" or gender == 'm':\n",
    "    print(\"Wages for \", name,\" will be Rs 800 per day and the amount to be paid = Rs.\",800*nod)\n",
    "else:\n",
    "    print(\"Wages for \", name,\" will be Rs 850 per day and the amount to be paid = Rs.\",850*nod)"
   ]
  },
  {
   "cell_type": "markdown",
   "id": "2749f0d6",
   "metadata": {},
   "source": [
    "#### Restaurant Tip Calculator:\n",
    "**Steps:**\n",
    "Ratings will be: 1 is bad, 2 is not bad, 3 is average, 4 is good, and 5 is excellent.\n",
    "\n",
    "Read Food Rating: 1-5 <br>\n",
    "Read Service Rating: 1-5 <br>\n",
    "Read Ambience Rating: 1–5 <br>\n",
    "\n",
    "Read the bill's amount. \n",
    "\n",
    "If the food is good or excellent:<br>\n",
    "&emsp;Service and ambience are also good or excellent.<br>\n",
    "&emsp;&emsp;Then the tip is 10% of your bill amount.<br>\n",
    "&emsp;Service and ambience are average/okay/bad.<br>\n",
    "&emsp;&emsp;Then the tip is 5% of your amount.<br>\n",
    "If the food is average, okay, or bad:<br>\n",
    "&emsp;Service and ambience are also good or excellent.<br>\n",
    "&emsp;&emsp;Then the tip is 5% of your bill amount.<br>\n",
    "&emsp;Service and ambience are average/okay/bad.<br>\n",
    "&emsp;&emsp;Then the tip is 1% of your bill amount.<br>\n"
   ]
  },
  {
   "cell_type": "code",
   "execution_count": 43,
   "id": "172d33a4",
   "metadata": {},
   "outputs": [
    {
     "name": "stdout",
     "output_type": "stream",
     "text": [
      "Enter your Bill Amount: 545\n",
      "Food Rating (1-5): 4\n",
      "Service Rating (1-5): 4\n",
      "Ambience Rating (1-5): 5\n",
      "Tip = Rs. 54 \n",
      "Thanks for your service !!!!\n"
     ]
    }
   ],
   "source": [
    "bill = int(input(\"Enter your Bill Amount: \"))\n",
    "f = int(input(\"Food Rating (1-5): \"))\n",
    "s = int(input(\"Service Rating (1-5): \"))\n",
    "a = int(input(\"Ambience Rating (1-5): \"))\n",
    "\n",
    "if f >= 4 :\n",
    "    if s >= 4 and a >= 4:\n",
    "        print(\"Tip = Rs.\",round(bill*10/100),\"\\nThanks for your service !!!!\")\n",
    "    else:\n",
    "        print(\"Tip = Rs.\",round(bill*5/100),\"\\nThanks for your service !!!!\")\n",
    "else:\n",
    "    if s >= 4 and a >= 4:\n",
    "        print(\"Tip = Rs.\",round(bill*5/100),\"\\nThanks for your service !!!!\")\n",
    "    else:\n",
    "        print(\"Tip = Rs.\",round(bill*1/100),\"\\nThanks for your service !!!!\")\n"
   ]
  },
  {
   "attachments": {
    "image.png": {
     "image/png": "[encoded data removed]"
    }
   },
   "cell_type": "markdown",
   "id": "d716f3ec",
   "metadata": {},
   "source": [
    "#### Leap Year\n",
    "The rules for determining whether or not a year is a leap year follow: \n",
    "\n",
    "- Any year that is divisible by 400 is a leap year. \n",
    "- Of the remaining years, any year that is divisible by 100 is not a leap year. \n",
    "- Of the remaining years, any year that is divisible by 4 is a leap year. \n",
    "- All other years are not leap years. \n",
    "\n",
    "![image.png](attachment:image.png)\n",
    "\n",
    "Write a program that reads a year from the user and displays a message indicating whether or not it is a leap year. \n",
    "\n",
    "Sample Input: 1 <br>\n",
    "1900  <br>\n",
    "Sample Output 1  <br>\n",
    "1900 is not a leap year.  <br>\n",
    "Sample Input 2  <br>\n",
    "2000  <br>\n",
    "Sample Output 2  <br>\n",
    "2000 is a leap year. "
   ]
  },
  {
   "cell_type": "code",
   "execution_count": 70,
   "id": "11ef609a",
   "metadata": {},
   "outputs": [
    {
     "name": "stdout",
     "output_type": "stream",
     "text": [
      "2400\n",
      "Leap Year\n"
     ]
    }
   ],
   "source": [
    "year = int(input())\n",
    "if year%4 == 0:\n",
    "    if year%100 == 0:\n",
    "        if year%400 == 0:\n",
    "            print(\"Leap Year\")\n",
    "        else:\n",
    "            print(\"Not a Leap Year\")\n",
    "    else:\n",
    "        print(\"Leap Year\")\n",
    "else:\n",
    "    print(\"Not a Leap Year\")\n",
    "\n",
    "if year%4 == 0 and year%100 != 0 :\n",
    "    print(\"Leap Year\")\n",
    "else:\n",
    "    print(\"Not a Leap Year\")"
   ]
  }
 ],
 "metadata": {
  "kernelspec": {
   "display_name": "Python 3 (ipykernel)",
   "language": "python",
   "name": "python3"
  },
  "language_info": {
   "codemirror_mode": {
    "name": "ipython",
    "version": 3
   },
   "file_extension": ".py",
   "mimetype": "text/x-python",
   "name": "python",
   "nbconvert_exporter": "python",
   "pygments_lexer": "ipython3",
   "version": "3.9.7"
  }
 },
 "nbformat": 4,
 "nbformat_minor": 5
}
