{
 "cells": [
  {
   "cell_type": "markdown",
   "id": "49e095c0",
   "metadata": {},
   "source": [
    "Write a Python program to get a string made of the first 2 and last 2 characters of a given string. If the string length is less than 2, return the empty string instead."
   ]
  },
  {
   "cell_type": "code",
   "execution_count": 5,
   "id": "e63bbae6",
   "metadata": {},
   "outputs": [
    {
     "name": "stdout",
     "output_type": "stream",
     "text": [
      "Enter the string: Even Semester\n",
      "Ever\n"
     ]
    }
   ],
   "source": [
    "s = input(\"Enter the string: \")\n",
    "print(s[0:2],s[-2:],sep=\"\")"
   ]
  },
  {
   "cell_type": "markdown",
   "id": "b3e6bf85",
   "metadata": {},
   "source": [
    "Write a Python program to get a single string from two given strings, separated by a space and swap the first two characters of each string."
   ]
  },
  {
   "cell_type": "code",
   "execution_count": 14,
   "id": "76ad5ae1",
   "metadata": {},
   "outputs": [
    {
     "name": "stdout",
     "output_type": "stream",
     "text": [
      "Enter 1st string : fice\n",
      "Enter 2nd string : mike\n",
      "New Strings \n",
      "mice\n",
      "fike\n"
     ]
    }
   ],
   "source": [
    "s1 = input(\"Enter 1st string : \")\n",
    "s2 = input(\"Enter 2nd string : \")\n",
    "new_s1 = s2[:2] + s1[2:] \n",
    "new_s2 = s1[:2] + s2[2:] \n",
    "print(\"New Strings \")\n",
    "print(new_s1)\n",
    "print(new_s2)"
   ]
  },
  {
   "cell_type": "markdown",
   "id": "166bdd75",
   "metadata": {},
   "source": [
    "Write a Python function that takes a sentence and return the longest word and the length of the longest one."
   ]
  },
  {
   "cell_type": "code",
   "execution_count": 28,
   "id": "fafa1fba",
   "metadata": {},
   "outputs": [
    {
     "name": "stdout",
     "output_type": "stream",
     "text": [
      "Enter the sentence: even semester\n",
      "['even', 'semester']\n",
      "Longest word is  semester and its length is  8\n"
     ]
    }
   ],
   "source": [
    "def long(l):\n",
    "    print(l)\n",
    "    m = l[0]\n",
    "    leng = len(l[0])\n",
    "    for i in l:\n",
    "        if len(i) > leng :\n",
    "            m = i\n",
    "    return m\n",
    "s = input(\"Enter the sentence: \")\n",
    "l = s.split()\n",
    "ll = long(l)\n",
    "print(\"Longest word is \", ll,\"and its length is \",len(ll))"
   ]
  },
  {
   "cell_type": "markdown",
   "id": "ec0e7c52",
   "metadata": {},
   "source": [
    "Write a Python function which finds the length of the string, if the length of the string is multiple of 5, reverse the string and capitalize all the characters."
   ]
  },
  {
   "cell_type": "code",
   "execution_count": 30,
   "id": "0eb39c39",
   "metadata": {},
   "outputs": [
    {
     "name": "stdout",
     "output_type": "stream",
     "text": [
      "Enter the string: hello\n",
      "New String:  OLLEH\n"
     ]
    }
   ],
   "source": [
    "def s_fun(s):\n",
    "    s_l = len(s)\n",
    "    if s_l%5 == 0:\n",
    "        t_str = s[::-1]\n",
    "        new_string = t_str.upper()\n",
    "    else:\n",
    "        new_string = s\n",
    "    return new_string\n",
    "\n",
    "s = input(\"Enter the string: \")\n",
    "print(\"New String: \", s_fun(s))\n",
    "        "
   ]
  },
  {
   "cell_type": "markdown",
   "id": "d58acbd8",
   "metadata": {},
   "source": [
    "Write a python program which reads your mail id, and extract the username from the mail id and generate the password such as username and the reverse of it.\n",
    "\n",
    "**Sample Input**\n",
    "\n",
    "Enter the email id: bvishnu2731@gmail.com\n",
    "\n",
    "**Sample Output**\n",
    "\n",
    "Username - bvishnu2731<br>\n",
    "Password - bvishnu27311372UNHSIVB <br>\n",
    "\n",
    "The username is the first part of the Gmail address, before the @ symbol. <br>\n",
    "Password will be the combination of username followed by the reverse uppercase of the username."
   ]
  },
  {
   "cell_type": "code",
   "execution_count": 31,
   "id": "19943ffb",
   "metadata": {},
   "outputs": [
    {
     "name": "stdout",
     "output_type": "stream",
     "text": [
      "Enter your email id: bvishnu2731@gmail.com\n",
      "Username is  ['bvishnu2731', 'gmail.com']\n",
      "Password is  bvishnu27311372UNHSIVB\n"
     ]
    }
   ],
   "source": [
    "email = input(\"Enter your email id: \")\n",
    "user = email.split(\"@\")\n",
    "r = user[0]\n",
    "p1 = r[::-1]\n",
    "p2 = p1.upper()\n",
    "password = r+p2\n",
    "print(\"Username is \",user)\n",
    "print(\"Password is \",password)"
   ]
  }
 ],
 "metadata": {
  "kernelspec": {
   "display_name": "Python 3 (ipykernel)",
   "language": "python",
   "name": "python3"
  },
  "language_info": {
   "codemirror_mode": {
    "name": "ipython",
    "version": 3
   },
   "file_extension": ".py",
   "mimetype": "text/x-python",
   "name": "python",
   "nbconvert_exporter": "python",
   "pygments_lexer": "ipython3",
   "version": "3.9.7"
  }
 },
 "nbformat": 4,
 "nbformat_minor": 5
}
