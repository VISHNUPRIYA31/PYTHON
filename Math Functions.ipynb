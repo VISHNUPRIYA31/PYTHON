{
 "cells": [
  {
   "cell_type": "code",
   "execution_count": 6,
   "id": "5a3c7e31-5cfe-4dfa-b1c3-bc96e65390cf",
   "metadata": {},
   "outputs": [
    {
     "name": "stdout",
     "output_type": "stream",
     "text": [
      "10\n",
      "120\n",
      "10\n",
      "4\n",
      "20\n"
     ]
    }
   ],
   "source": [
    "import math\n",
    "\n",
    "print(math.comb(5, 2))  \n",
    "\n",
    "print(math.factorial(5))\n",
    "\n",
    "print(math.gcd(40, 30))\n",
    "#40 - 2,2,2,5\n",
    "#30 - 2,3,5\n",
    "\n",
    "print(math.isqrt(16))  \n",
    "\n",
    "print(math.perm(5, 2)) \n"
   ]
  },
  {
   "cell_type": "code",
   "execution_count": 9,
   "id": "5d5d4761-a9b9-48fb-894e-cffabe568c5b",
   "metadata": {},
   "outputs": [
    {
     "name": "stdout",
     "output_type": "stream",
     "text": [
      "5\n",
      "4.3\n",
      "4\n",
      "1.0\n",
      "(0.7000000000000002, 4.0)\n",
      "1.0\n",
      "4\n"
     ]
    }
   ],
   "source": [
    "\n",
    "print(\"math.ceil(4.3) =\", math.ceil(4.3))  \n",
    "\n",
    "print(\"math.fabs(-4.3) =\", math.fabs(-4.3))  \n",
    "\n",
    "print(\"math.floor(4.7) =\", math.floor(4.7))  \n",
    "\n",
    "# fmod(x, y) - Returns the remainder of x / y with the same sign as x\n",
    "print(\"math.fmod(10, 3) =\", math.fmod(10, 3))  \n",
    "# Output: 1.0\n",
    "\n",
    "# modf(x) - Splits x into its fractional and integer parts\n",
    "print(\"math.modf(4.7) =\", math.modf(4.7))  \n",
    "# Output: (0.7, 4.0)\n",
    "\n",
    "# remainder(x, y) - Returns the IEEE remainder of x / y\n",
    "print(\"math.remainder(10, 3) =\", math.remainder(10, 3))  \n",
    "# Output: -1.0\n",
    "\n",
    "# trunc(x) - Truncates x to its integer part (removes decimal)\n",
    "print(\"math.trunc(4.7) =\", math.trunc(4.7))  \n",
    "# Output: 4"
   ]
  },
  {
   "cell_type": "code",
   "execution_count": 35,
   "id": "14f02aea-dbb4-4367-94f0-b0d5d682d999",
   "metadata": {},
   "outputs": [
    {
     "name": "stdout",
     "output_type": "stream",
     "text": [
      "math.copysign(5, -3) = -5.0\n",
      "math.frexp(8)\n",
      "(0.5, 4)\n",
      "math.isclose(1.0001, 1.0002, rel_tol=0.0001) = True\n",
      "math.isfinite(100.0) = True\n",
      "math.isfinite(math.inf) = False\n",
      "math.isinf(math.inf) = True\n",
      "math.isinf(10) = False\n",
      "math.isnan(float('nan')) = True\n",
      "math.isnan(5.5) = False\n",
      "math.ldexp(0.5, 4) = 8.0\n"
     ]
    }
   ],
   "source": [
    "print(\"math.copysign(5, -3) =\", math.copysign(5, -3))  \n",
    "\n",
    "# frexp(x) - Returns (mantissa, exponent) such that x = mantissa * (2**exponent)\n",
    "print(\"math.frexp(8)\")  \n",
    "print(math.frexp(8)) \n",
    "\n",
    "# isclose(a, b, rel_tol, abs_tol) - Checks if a and b are close to each other\n",
    "print(\"math.isclose(1.0001, 1.0002, rel_tol=0.0001) =\", math.isclose(1.0001, 1.0002, rel_tol=0.0001)) \n",
    "\n",
    "# isfinite(x) - Checks if x is neither infinity nor NaN\n",
    "print(\"math.isfinite(100.0) =\", math.isfinite(100.0))  \n",
    "print(\"math.isfinite(math.inf) =\", math.isfinite(math.inf))  \n",
    "\n",
    "# isinf(x) - Checks if x is infinity\n",
    "print(\"math.isinf(math.inf) =\", math.isinf(math.inf))  \n",
    "print(\"math.isinf(10) =\", math.isinf(10))  \n",
    "\n",
    "# isnan(x) - Checks if x is NaN (Not a Number)\n",
    "print(\"math.isnan(float('nan')) =\", math.isnan(float('nan')))  \n",
    "print(\"math.isnan(5.5) =\", math.isnan(5.5))\n",
    "\n",
    "# ldexp(x, i) - Computes x * (2**i), inverse of frexp()\n",
    "print(\"math.ldexp(0.5, 4) =\", math.ldexp(0.5, 4)) "
   ]
  },
  {
   "cell_type": "code",
   "execution_count": 36,
   "id": "9662b976-3eea-4162-84de-c72e62dd6c51",
   "metadata": {},
   "outputs": [
    {
     "name": "stdout",
     "output_type": "stream",
     "text": [
      "math.cbrt(27) = 3.0\n",
      "math.exp(2) = 7.38905609893065\n",
      "math.exp2(3) = 8.0\n",
      "math.expm1(0.001) = 0.0010005001667083417\n",
      "math.log(100, 10) = 2.0\n",
      "math.log1p(0.001) = 0.0009995003330835331\n",
      "math.log2(12) = 3.584962500721156\n",
      "math.log10(1000) = 3.0\n",
      "math.pow(2, 4) = 16.0\n",
      "math.sqrt(49) = 7.0\n"
     ]
    }
   ],
   "source": [
    "# cbrt(x) - Cube root of x\n",
    "print(\"math.cbrt(27) =\", math.pow(27, 1/3))  \n",
    "\n",
    "# exp(x) - e^x (Euler's number raised to the power of x)\n",
    "print(\"math.exp(2) =\", math.exp(2))  \n",
    "\n",
    "# exp2(x) - 2^x (2 raised to the power x)\n",
    "print(\"math.exp2(3) =\", math.pow(2, 3))  \n",
    "\n",
    "# expm1(x) - e^x - 1 (More accurate for small x)\n",
    "print(\"math.expm1(0.001) =\", math.expm1(0.001)) \n",
    "\n",
    "# log(x, base) - Logarithm of x to the given base (default base e)\n",
    "print(\"math.log(100, 10) =\", math.log(100, 10)) \n",
    "\n",
    "# log1p(x) - Natural logarithm of (1+x), useful for small x\n",
    "print(\"math.log1p(0.001) =\", math.log1p(0.001))\n",
    "\n",
    "# log2(x) - Base-2 logarithm of x\n",
    "print(\"math.log2(12) =\", math.log2(12))\n",
    "\n",
    "# log10(x) - Base-10 logarithm of x\n",
    "print(\"math.log10(1000) =\", math.log10(1000))  \n",
    "\n",
    "# pow(x, y) - x^y (x raised to the power y)\n",
    "print(\"math.pow(2, 4) =\", math.pow(2, 4))  \n",
    "\n",
    "# sqrt(x) - Square root of x\n",
    "print(\"math.sqrt(49) =\", math.sqrt(49))  "
   ]
  },
  {
   "cell_type": "code",
   "execution_count": 37,
   "id": "70253f95-5459-4c76-b080-d7ec761a633e",
   "metadata": {},
   "outputs": [
    {
     "name": "stdout",
     "output_type": "stream",
     "text": [
      "math.dist((3,4), (0,0)) = 5.0\n",
      "math.fsum([0.1, 0.2, 0.3]) = 0.66\n",
      "math.hypot(3, 4) = 5.0\n",
      "math.prod([1, 2, 3, 4]) = 24\n",
      "sumprod([1,2,3], [4,5,6]) = 32\n",
      "math.degrees(math.pi) = 180.0\n",
      "math.radians(180) = 3.141592653589793\n"
     ]
    }
   ],
   "source": [
    "# dist(p, q) - Euclidean distance between two points p and q\n",
    "point1 = (3, 4)\n",
    "point2 = (0, 0)\n",
    "print(\"math.dist((3,4), (0,0)) =\", math.dist(point1, point2))\n",
    "\n",
    "\n",
    "# fsum(iterable) - Accurate floating-point sum\n",
    "values = [0.1, 0.2, 0.36]\n",
    "print(\"math.fsum([0.1, 0.2, 0.3]) =\", math.fsum(values))\n",
    "\n",
    "# hypot(*coordinates) - Euclidean norm (Hypotenuse)\n",
    "print(\"math.hypot(3, 4) =\", math.hypot(3, 4))\n",
    "\n",
    "\n",
    "# prod(iterable, start) - Product of elements with a start value\n",
    "numbers = [1, 2, 3, 4]\n",
    "print(\"math.prod([1, 2, 3, 4]) =\", math.prod(numbers))\n",
    "\n",
    "\n",
    "# sumprod(p, q) - Sum of products from two iterables\n",
    "p = [1, 2, 3]\n",
    "q = [4, 5, 6]\n",
    "sum_product = sum(x * y for x, y in zip(p, q))\n",
    "print(\"sumprod([1,2,3], [4,5,6]) =\", sum_product)\n",
    "\n",
    "\n",
    "# degrees(x) - Convert radians to degrees\n",
    "print(\"math.degrees(math.pi) =\", math.degrees(math.pi))\n",
    "\n",
    "\n",
    "# radians(x) - Convert degrees to radians\n",
    "print(\"math.radians(180) =\", math.radians(180))\n"
   ]
  },
  {
   "cell_type": "code",
   "execution_count": 28,
   "id": "6549fd8c-e5ce-40de-b32c-d8231835c7db",
   "metadata": {},
   "outputs": [
    {
     "name": "stdout",
     "output_type": "stream",
     "text": [
      "math.acos(0.5) = 60.00000000000001\n",
      "math.asin(0.5) = 30.000000000000004\n",
      "math.atan(1) = 45.0\n",
      "math.atan2(1, 1) = 45.0\n",
      "math.cos(math.radians(60)) = 0.5000000000000001\n",
      "math.sin(math.radians(30)) = 0.49999999999999994\n",
      "math.tan(math.radians(45)) = 0.9999999999999999\n"
     ]
    }
   ],
   "source": [
    "# acos(x) - Arc cosine (Inverse cosine)\n",
    "print(\"math.acos(0.5) =\", math.degrees(math.acos(0.5)))\n",
    "\n",
    "# asin(x) - Arc sine (Inverse sine)\n",
    "print(\"math.asin(0.5) =\", math.degrees(math.asin(0.5)))\n",
    "\n",
    "# atan(x) - Arc tangent (Inverse tangent)\n",
    "print(\"math.atan(1) =\", math.degrees(math.atan(1)))\n",
    "\n",
    "# atan2(y, x) - Computes atan(y/x) considering quadrants\n",
    "print(\"math.atan2(1, 1) =\", math.degrees(math.atan2(1, 1)))\n",
    "\n",
    "# cos(x) - Cosine of x (x in radians)\n",
    "print(\"math.cos(math.radians(60)) =\", math.cos(math.radians(60)))\n",
    "\n",
    "# sin(x) - Sine of x (x in radians)\n",
    "print(\"math.sin(math.radians(30)) =\", math.sin(math.radians(30)))\n",
    "\n",
    "# tan(x) - Tangent of x (x in radians)\n",
    "print(\"math.tan(math.radians(45)) =\", math.tan(math.radians(45)))\n"
   ]
  },
  {
   "cell_type": "code",
   "execution_count": 30,
   "id": "5d8f44ad-7bce-44ee-896b-573e226ad62e",
   "metadata": {},
   "outputs": [
    {
     "name": "stdout",
     "output_type": "stream",
     "text": [
      "math.acosh(10) = 2.993222846126381\n",
      "math.asinh(10) = 2.99822295029797\n",
      "math.atanh(0.5) = 0.5493061443340549\n",
      "math.cosh(1) = 1.5430806348152437\n",
      "math.sinh(1) = 1.1752011936438014\n",
      "math.tanh(1) = 0.7615941559557649\n"
     ]
    }
   ],
   "source": [
    "print(\"math.acosh(10) =\", math.acosh(10))\n",
    "print(\"math.asinh(10) =\", math.asinh(10)) \n",
    "print(\"math.atanh(0.5) =\", math.atanh(0.5))\n",
    "\n",
    "print(\"math.cosh(1) =\", math.cosh(1)) \n",
    "print(\"math.sinh(1) =\", math.sinh(1))\n",
    "print(\"math.tanh(1) =\", math.tanh(1))"
   ]
  },
  {
   "cell_type": "code",
   "execution_count": 31,
   "id": "c445c317-a8b1-4552-98ae-0a236edc3dad",
   "metadata": {},
   "outputs": [
    {
     "name": "stdout",
     "output_type": "stream",
     "text": [
      "math.pi = 3.141592653589793\n",
      "math.e = 2.718281828459045\n",
      "math.tau = 6.283185307179586\n",
      "math.inf = inf\n",
      "math.nan = nan\n",
      "Circumference of a circle (r=5): 31.41592653589793\n",
      "Exponential growth (e^3): 20.085536923187668\n",
      "Checking infinity: True\n",
      "Checking NaN: True\n"
     ]
    }
   ],
   "source": [
    "print(\"math.pi =\", math.pi)  # 3.141592653589793\n",
    "print(\"math.e =\", math.e)    # 2.718281828459045\n",
    "print(\"math.tau =\", math.tau)  # 6.283185307179586 (2 * π)\n",
    "print(\"math.inf =\", math.inf)  # Infinity\n",
    "print(\"math.nan =\", math.nan)  # Not a Number (NaN)\n",
    "\n",
    "# Usage Examples:\n",
    "print(\"Circumference of a circle (r=5):\", 2 * math.pi * 5)  # 31.41592653589793\n",
    "print(\"Exponential growth (e^3):\", math.exp(3))  # 20.085536923187668\n",
    "print(\"Checking infinity:\", math.isinf(math.inf))  # True\n",
    "print(\"Checking NaN:\", math.isnan(math.nan))  # True\n"
   ]
  },
  {
   "cell_type": "code",
   "execution_count": 32,
   "id": "946bd675-25d7-47b2-bfc6-1ca5c1eb2fa1",
   "metadata": {},
   "outputs": [
    {
     "name": "stdout",
     "output_type": "stream",
     "text": [
      "3.141592653589793\n",
      "2.718281828459045\n",
      "6.283185307179586\n",
      "inf\n",
      "nan\n",
      "Circumference of a circle (r=5): 31.41592653589793\n",
      "Exponential growth (e^3): 20.085536923187668\n",
      "Checking infinity: True\n",
      "Checking NaN: True\n"
     ]
    }
   ],
   "source": [
    "print(math.pi) \n",
    "print(math.e)  \n",
    "print(math.tau)\n",
    "print(math.inf)\n",
    "print(math.nan) \n",
    "\n",
    "\n",
    "print(\"Circumference of a circle (r=5):\", 2 * math.pi * 5) \n",
    "print(\"Exponential growth (e^3):\", math.exp(3))\n",
    "print(\"Checking infinity:\", math.isinf(math.inf))\n",
    "print(\"Checking NaN:\", math.isnan(math.nan))\n"
   ]
  }
 ],
 "metadata": {
  "kernelspec": {
   "display_name": "Python 3 (ipykernel)",
   "language": "python",
   "name": "python3"
  },
  "language_info": {
   "codemirror_mode": {
    "name": "ipython",
    "version": 3
   },
   "file_extension": ".py",
   "mimetype": "text/x-python",
   "name": "python",
   "nbconvert_exporter": "python",
   "pygments_lexer": "ipython3",
   "version": "3.8.0"
  }
 },
 "nbformat": 4,
 "nbformat_minor": 5
}
