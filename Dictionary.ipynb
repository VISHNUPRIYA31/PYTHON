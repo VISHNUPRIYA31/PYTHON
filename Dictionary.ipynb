{
 "cells": [
  {
   "cell_type": "markdown",
   "id": "b4c8ca5c-020b-4ab8-a307-5b87642a7ca0",
   "metadata": {},
   "source": [
    "### Dictionaries "
   ]
  },
  {
   "cell_type": "markdown",
   "id": "89b1e0b9-4be9-401e-9b49-0f1f372fa67d",
   "metadata": {},
   "source": [
    "Python dictionary represents a mapping between a key and a value. \n",
    "\n",
    "Python dictionary can store pairs of keys and values. \n",
    "\n",
    "Each key is linked to a specific value. \n",
    "\n",
    "Once stored in a dictionary, you can later obtain the value using just the key.\n",
    "\n",
    "For example, consider the Phone lookup, where it is very easy and fast to find the phone number(value) when we know the name(Key) associated with it."
   ]
  },
  {
   "cell_type": "markdown",
   "id": "177405b7-1522-4620-8091-603356474196",
   "metadata": {},
   "source": [
    "#### Characteristics of dictionaries\n",
    "1. **Ordered** (In Python 3.7 and higher version): dictionaries are ordered, which means that the items have a defined order, and that order will not change. A simple Hash Table consists of key-value pair arranged in pseudo-random order based on the calculations from Hash Function.\n",
    "2. **Unique**: As mentioned above, each value has a Key; the Keys in Dictionaries should be unique.  If we store any value with a Key that already exists, then the most recent value will replace the old value.\n",
    "3. **Mutable**: The dictionaries are changeable collections, which implies that we can add or remove items after the creation."
   ]
  },
  {
   "cell_type": "markdown",
   "id": "9c639116-49fb-47c5-961f-fc9d97038b45",
   "metadata": {},
   "source": [
    "#### Creating a dictionary\n",
    "\n",
    "**Using curly brackets:** The dictionaries are created by enclosing the comma-separated Key: Value pairs inside the {} curly brackets. The colon ‘:‘ is used to separate the key and value in a pair.\n",
    "\n",
    "**Using dict() constructor:** Create a dictionary by passing the comma-separated key: value pairs inside the dict()."
   ]
  },
  {
   "cell_type": "code",
   "execution_count": 1,
   "id": "d0e6da1b-3820-4522-a215-4673048f19f6",
   "metadata": {},
   "outputs": [
    {
     "name": "stdout",
     "output_type": "stream",
     "text": [
      "<class 'dict'>\n",
      "<class 'dict'>\n"
     ]
    }
   ],
   "source": [
    "di = {} ##Empty Dictionary\n",
    "dii = dict()\n",
    "print(type(di))\n",
    "print(type(dii))"
   ]
  },
  {
   "cell_type": "code",
   "execution_count": 2,
   "id": "8f814bf9-b8d3-4b65-8628-28062b7cfe14",
   "metadata": {},
   "outputs": [
    {
     "name": "stdout",
     "output_type": "stream",
     "text": [
      "{1: 'BMW', 2: 'AUDI', 3: 'BENZ'}\n",
      "BMW\n"
     ]
    }
   ],
   "source": [
    "#dict_variable = {key1:value1,key2:vaule2 ,......}\n",
    "\n",
    "cars = {1:\"BMW\",2:\"AUDI\",3:\"BENZ\"}\n",
    "print(cars)\n",
    "print(cars[1])"
   ]
  },
  {
   "cell_type": "markdown",
   "id": "ebb91946-4402-4d09-8bdf-386bd3426ce5",
   "metadata": {},
   "source": [
    "1. A dictionary value can be of any type, and duplicates are allowed in that.\n",
    "\n",
    "2. Keys in the dictionary must be unique and of immutable types like string, numbers, or tuples."
   ]
  },
  {
   "cell_type": "markdown",
   "id": "3ff62417-dcc7-4f8d-b915-2a032b1ea4fe",
   "metadata": {},
   "source": [
    "#### Accessing elements of a dictionary\n",
    "There are two different ways to access the elements of a dictionary.\n",
    "\n",
    "Retrieve value using the key name inside the **[] square brackets**\n",
    "\n",
    "Retrieve value by passing key name as a parameter to the **get() method** of a dictionary."
   ]
  },
  {
   "cell_type": "code",
   "execution_count": 3,
   "id": "922a6f31-0e76-4e5c-a59b-aadcdab81c05",
   "metadata": {},
   "outputs": [
    {
     "name": "stdout",
     "output_type": "stream",
     "text": [
      "Ajay\n",
      "9875463210\n"
     ]
    }
   ],
   "source": [
    "# create a dictionary named person\n",
    "person = {\"name\": \"Ajay\", \"country\": \"India\", \"telephone\": 9875463210}\n",
    "\n",
    "# access value using key name in []\n",
    "print(person['name'])\n",
    "# Output 'Jessa'\n",
    "\n",
    "#  get key value using key name in get()\n",
    "print(person.get('telephone'))\n",
    "# Output 1178"
   ]
  },
  {
   "cell_type": "markdown",
   "id": "a0cd1612-a634-401e-881b-0d5c8fd9b39e",
   "metadata": {},
   "source": [
    "#### Get all keys and values\n",
    "\n",
    "Use the following dictionary methods to retrieve all key and values at once\n",
    "\n",
    "**keys()**\tReturns the list of all keys present in the dictionary.\n",
    "\n",
    "**values()**\tReturns the list of all values present in the dictionary\n",
    "\n",
    "**items()**\tReturns all the items present in the dictionary. Each item will be inside a tuple as a key-value pair."
   ]
  },
  {
   "cell_type": "code",
   "execution_count": 4,
   "id": "58ca670e-e29c-498e-9517-520fac6abced",
   "metadata": {},
   "outputs": [
    {
     "name": "stdout",
     "output_type": "stream",
     "text": [
      "dict_keys(['name', 'country', 'telephone'])\n",
      "<class 'dict_keys'>\n",
      "dict_values(['Ajay', 'India', 9875463210])\n",
      "<class 'dict_values'>\n",
      "dict_items([('name', 'Ajay'), ('country', 'India'), ('telephone', 9875463210)])\n",
      "<class 'dict_items'>\n"
     ]
    }
   ],
   "source": [
    "print(person.keys())\n",
    "print(type(person.keys()))\n",
    "\n",
    "print(person.values())\n",
    "print(type(person.values()))  \n",
    "\n",
    "print(person.items())\n",
    "print(type(person.items()))"
   ]
  },
  {
   "cell_type": "markdown",
   "id": "d7236f77-8a9d-439b-b997-052f0a343d75",
   "metadata": {},
   "source": [
    "#### Iterating a dictionary"
   ]
  },
  {
   "cell_type": "code",
   "execution_count": 6,
   "id": "0db3d5fe-626a-4e49-92b8-3ad8f4d3a1d9",
   "metadata": {},
   "outputs": [
    {
     "name": "stdout",
     "output_type": "stream",
     "text": [
      "key : value\n",
      "name : Ajay\n",
      "country : India\n",
      "telephone : 9875463210\n",
      "key : value\n",
      "name Ajay\n",
      "country India\n",
      "telephone 9875463210\n"
     ]
    }
   ],
   "source": [
    "# Iterating the dictionary using for-loop\n",
    "print('key', ':', 'value')\n",
    "for key in person:\n",
    "    print(key, ':', person[key])\n",
    "\n",
    "# using items() method\n",
    "print('key', ':', 'value')\n",
    "for key_value in person.items():\n",
    "    print(key_value[0], key_value[1])"
   ]
  },
  {
   "cell_type": "markdown",
   "id": "1768e9ff-a76a-46dc-9043-afa0e62b03b0",
   "metadata": {},
   "source": [
    "#### Find a length of a dictionary"
   ]
  },
  {
   "cell_type": "code",
   "execution_count": 7,
   "id": "1a100b1a-1325-4bb6-90be-88d8afc8391b",
   "metadata": {},
   "outputs": [
    {
     "name": "stdout",
     "output_type": "stream",
     "text": [
      "3\n"
     ]
    }
   ],
   "source": [
    "print(len(person))"
   ]
  },
  {
   "cell_type": "markdown",
   "id": "e421547f-06c7-4e95-8dcc-9c91cd33d86a",
   "metadata": {},
   "source": [
    "#### Adding items to the dictionary\n",
    "\n",
    "\n",
    "**Using key-value assignment:** Using a simple assignment statement where value can be assigned directly to the new key.\n",
    "\n",
    "**Using update() Method:** In this method, the item passed inside the update() method will be inserted into the dictionary. The item can be another dictionary or any iterable like a tuple of key-value pairs."
   ]
  },
  {
   "cell_type": "code",
   "execution_count": 8,
   "id": "f529167a-4957-4635-90f3-136269e8d56b",
   "metadata": {},
   "outputs": [
    {
     "name": "stdout",
     "output_type": "stream",
     "text": [
      "{'name': 'Ajay', 'country': 'India', 'telephone': 9875463210, 'weight': 50, 'height': 6}\n"
     ]
    }
   ],
   "source": [
    "person[\"weight\"] = 50\n",
    "person.update({\"height\": 6})\n",
    "\n",
    "print(person)"
   ]
  },
  {
   "cell_type": "code",
   "execution_count": 9,
   "id": "d9225c58-6122-49b6-add2-2ee0c76da959",
   "metadata": {},
   "outputs": [
    {
     "name": "stdout",
     "output_type": "stream",
     "text": [
      "{'name': 'Ajay', 'country': 'India', 'telephone': 9875463210, 'weight': 55, 'height': 5}\n",
      "{'name': 'Ajay', 'country': 'India', 'telephone': 9875463210, 'weight': 55, 'height': 5, 'city': 'CBE', 'company': 'IBM'}\n"
     ]
    }
   ],
   "source": [
    "person.update({\"weight\": 55, \"height\": 5})\n",
    "print(person)\n",
    "\n",
    "# pass new keys as as list of tuple\n",
    "person.update([(\"city\", \"CBE\"), (\"company\", \"IBM\",)])\n",
    "print(person)"
   ]
  },
  {
   "cell_type": "markdown",
   "id": "da78e054-9168-4262-816c-8447f21aa1ab",
   "metadata": {},
   "source": [
    "#### Set default value to a key\n",
    "\n",
    "Using the **setdefault()** method default value can be assigned to a key in the dictionary. In case the key doesn’t exist already, then the key will be inserted into the dictionary, and the value becomes the default value, and None will be inserted if a value is not mentioned.\n",
    "\n",
    "In case the key exists, then it will return the value of a key."
   ]
  },
  {
   "cell_type": "markdown",
   "id": "2b3f03e4-a8e1-48f8-9372-5cf8318e6cc8",
   "metadata": {},
   "source": [
    "#### Modify the values of the dictionary keys\n"
   ]
  },
  {
   "cell_type": "code",
   "execution_count": 11,
   "id": "58f4e416-d93b-45af-86bc-8d568bf13b2a",
   "metadata": {},
   "outputs": [
    {
     "name": "stdout",
     "output_type": "stream",
     "text": [
      "9784563210\n",
      "Coimbatore\n"
     ]
    }
   ],
   "source": [
    "person[\"telephone\"] = 9784563210\n",
    "print(person['telephone'])\n",
    "\n",
    "person.update({\"city\": \"Coimbatore\"})\n",
    "print(person['city'])"
   ]
  },
  {
   "cell_type": "markdown",
   "id": "e49aa56c-d076-4b50-923f-d9ca0b292e92",
   "metadata": {},
   "source": [
    "#### Removing items from the dictionary\n",
    "\n",
    "**pop(key[,d])**\tReturn and removes the item with the key and return its value. If the key is not found, it raises KeyError.\n",
    "\n",
    "**popitem()**\tReturn and removes the last inserted item from the dictionary. If the dictionary is empty, it raises KeyError.\n",
    "\n",
    "**del key**\tThe del keyword will delete the item with the key that is passed\n",
    "\n",
    "**clear()**\tRemoves all items from the dictionary. Empty the dictionary\n",
    "\n",
    "**del dict_name**\tDelete the entire dictionary"
   ]
  },
  {
   "cell_type": "code",
   "execution_count": 12,
   "id": "74221aa3-64b1-4907-9686-a7375a6fd3b1",
   "metadata": {},
   "outputs": [
    {
     "name": "stdout",
     "output_type": "stream",
     "text": [
      "('company', 'IBM')\n",
      "{'name': 'Ajay', 'country': 'India', 'telephone': 9784563210, 'weight': 55, 'height': 5, 'city': 'Coimbatore'}\n"
     ]
    }
   ],
   "source": [
    "deleted_item = person.popitem()\n",
    "print(deleted_item)  \n",
    "print(person)  "
   ]
  },
  {
   "cell_type": "code",
   "execution_count": 13,
   "id": "ad83a565-7d6c-4f98-83a5-b492693aae1a",
   "metadata": {},
   "outputs": [
    {
     "name": "stdout",
     "output_type": "stream",
     "text": [
      "9784563210\n",
      "{'name': 'Ajay', 'country': 'India', 'weight': 55, 'height': 5, 'city': 'Coimbatore'}\n"
     ]
    }
   ],
   "source": [
    "deleted_item = person.pop('telephone')\n",
    "print(deleted_item)  \n",
    "print(person)  "
   ]
  },
  {
   "cell_type": "code",
   "execution_count": 14,
   "id": "54feb785-6065-4457-923e-bae25b2d9ffa",
   "metadata": {},
   "outputs": [
    {
     "name": "stdout",
     "output_type": "stream",
     "text": [
      "{'name': 'Ajay', 'country': 'India', 'height': 5, 'city': 'Coimbatore'}\n"
     ]
    }
   ],
   "source": [
    "del person['weight']\n",
    "print(person)"
   ]
  },
  {
   "cell_type": "code",
   "execution_count": 15,
   "id": "69c29203-5991-45d9-8e95-8623992f3fdf",
   "metadata": {},
   "outputs": [
    {
     "name": "stdout",
     "output_type": "stream",
     "text": [
      "{}\n"
     ]
    }
   ],
   "source": [
    "person.clear()\n",
    "print(person) "
   ]
  },
  {
   "cell_type": "code",
   "execution_count": 16,
   "id": "d7457d61-f5c4-426f-a839-9b003536e2f4",
   "metadata": {},
   "outputs": [],
   "source": [
    "# Delete the entire dictionary\n",
    "del person"
   ]
  },
  {
   "cell_type": "code",
   "execution_count": 17,
   "id": "c1e07114-3185-4daf-9c8e-c109e595b55f",
   "metadata": {},
   "outputs": [
    {
     "ename": "NameError",
     "evalue": "name 'person' is not defined",
     "output_type": "error",
     "traceback": [
      "\u001b[1;31m---------------------------------------------------------------------------\u001b[0m",
      "\u001b[1;31mNameError\u001b[0m                                 Traceback (most recent call last)",
      "Cell \u001b[1;32mIn[17], line 1\u001b[0m\n\u001b[1;32m----> 1\u001b[0m \u001b[38;5;28mprint\u001b[39m(\u001b[43mperson\u001b[49m)\n",
      "\u001b[1;31mNameError\u001b[0m: name 'person' is not defined"
     ]
    }
   ],
   "source": [
    "print(person)"
   ]
  },
  {
   "cell_type": "markdown",
   "id": "a2013038-2e88-4b51-a83d-c0298581a397",
   "metadata": {},
   "source": [
    "#### Join two dictionary\n",
    "\n",
    "We can add two dictionaries using the **update()** method or unpacking arbitrary keywords operator **. Let us see each one with an example.\n",
    "\n",
    "Using update() method\n",
    "\n",
    "In this method, the dictionary to be added will be passed as the argument to the update() method and the updated dictionary will have items of both the dictionaries."
   ]
  },
  {
   "cell_type": "code",
   "execution_count": 19,
   "id": "d91b8037-9db5-4105-8e57-026ba89e4dca",
   "metadata": {},
   "outputs": [
    {
     "name": "stdout",
     "output_type": "stream",
     "text": [
      "{'Abi': 70, 'Arul': 80, 'Elango': 55, 'Kavin': 68, 'Harish': 50, 'Jack': 66}\n"
     ]
    }
   ],
   "source": [
    "CSE_A = {'Abi': 70, 'Arul': 80, 'Elango': 55}\n",
    "CSE_B = {'Kavin': 68, 'Harish': 50, 'Jack': 66}\n",
    "\n",
    "CSE_A.update(CSE_B)\n",
    "print(CSE_A)"
   ]
  },
  {
   "cell_type": "markdown",
   "id": "95780a93-2060-4484-b98d-3c017e2d39d5",
   "metadata": {},
   "source": [
    "#### Using **kwargs to unpack\n",
    "\n",
    "We can unpack any number of dictionary and add their contents to another dictionary using **kwargs. \n",
    "\n",
    "In this way, we can add multiple length arguments to one dictionary in a single statement."
   ]
  },
  {
   "cell_type": "code",
   "execution_count": 21,
   "id": "322ddd21-cc78-4481-915d-61fbe854abc0",
   "metadata": {},
   "outputs": [
    {
     "name": "stdout",
     "output_type": "stream",
     "text": [
      "{'Adhi': 1, 'Arul': 2, 'Harry': 5, 'Kavin': 6, 'Nancy': 7, 'Peter': 9}\n"
     ]
    }
   ],
   "source": [
    "student_A = {'Adhi': 1, 'Arul': 2}\n",
    "student_B = {'Harry': 5, 'Kavin': 6}\n",
    "student_C = {'Nancy': 7, 'Peter': 9}\n",
    "\n",
    "student_dict = {**student_A, **student_B, **student_C}\n",
    "print(student_dict)"
   ]
  },
  {
   "cell_type": "code",
   "execution_count": 22,
   "id": "634704b3-6273-4a6b-9b73-0e07e9809e57",
   "metadata": {},
   "outputs": [
    {
     "name": "stdout",
     "output_type": "stream",
     "text": [
      "6\n"
     ]
    }
   ],
   "source": [
    "#Join two dictionaries having few items in common\n",
    "student_A1 = {'Adhi': 1, 'Arul': 2}\n",
    "student_B1 = {'Harry': 5, 'Arul': 6}\n",
    "\n",
    "student_A1.update(student_B1)\n",
    "print(student_A1['Arul'])"
   ]
  },
  {
   "cell_type": "markdown",
   "id": "9f3a6b16-2417-46b2-a1b9-d0297097115e",
   "metadata": {},
   "source": [
    "#### Copy a Dictionary\n",
    "Using copy() method.\n"
   ]
  },
  {
   "cell_type": "code",
   "execution_count": 25,
   "id": "b11e629f-c8bb-4476-ae5a-b4e206f693ff",
   "metadata": {},
   "outputs": [
    {
     "name": "stdout",
     "output_type": "stream",
     "text": [
      "{'Adhi': 1, 'Arul': 2}\n",
      "{'Adhi': 1, 'Arul': 2}\n",
      "{'Adhi': 1, 'Arul': 2}\n",
      "{'Adhi': 1, 'Arul': 3}\n"
     ]
    }
   ],
   "source": [
    "dict1 = {'Adhi': 1, 'Arul': 2}\n",
    "\n",
    "dict2 = dict1.copy()\n",
    "print(dict2)\n",
    "\n",
    "dict3 = dict(dict1) #Using the dict() constructor\n",
    "print(dict3)\n",
    "\n",
    "dict4 = dict(dict1.items())\n",
    "print(dict4)\n",
    "\n",
    "dict1['Arul']=3\n",
    "print(dict1) #will be update only in dict1 not in dict2 or dict3 or dict4"
   ]
  },
  {
   "cell_type": "markdown",
   "id": "8d3dbd19-c8fe-468f-b4c5-8e6f23bc89d2",
   "metadata": {},
   "source": [
    "#### Copy using the assignment operator\n",
    "\n",
    "We can simply use the '=' operator to create a copy.\n",
    "\n",
    "When you set **dict2 = dict1**, you are **making them refer to the same dict object**, so when you modify one of them, all references associated with that object reflect the current state of the object. \n",
    "\n",
    "So don’t use the assignment operator to copy the dictionary instead use the copy() method."
   ]
  },
  {
   "cell_type": "code",
   "execution_count": 26,
   "id": "37c5e7d2-5f5f-4a5f-998b-fe7acfb98090",
   "metadata": {},
   "outputs": [
    {
     "name": "stdout",
     "output_type": "stream",
     "text": [
      "{'Adhi': 90, 'Arul': 2}\n",
      "{'Adhi': 90, 'Arul': 2}\n"
     ]
    }
   ],
   "source": [
    "dict1 = {'Adhi': 1, 'Arul': 2}\n",
    "dict2 = dict1\n",
    "dict2.update({'Adhi': 90})\n",
    "print(dict2)\n",
    "print(dict1)"
   ]
  },
  {
   "cell_type": "markdown",
   "id": "9230d775-bfb6-4b6d-bfca-db2bf9862049",
   "metadata": {},
   "source": [
    "#### Nested dictionary\n",
    "\n",
    "Nested dictionaries are dictionaries that have one or more dictionaries as their members. It is a collection of many dictionaries in one dictionary.\n",
    "\n",
    "Let us see an example of creating a nested dictionary ‘Address’ inside a ‘person’ dictionary."
   ]
  },
  {
   "cell_type": "code",
   "execution_count": 28,
   "id": "1580d9fe-354c-4edb-bf10-b27ed1d2aa86",
   "metadata": {},
   "outputs": [
    {
     "name": "stdout",
     "output_type": "stream",
     "text": [
      "person: {'name': 'Jerry', 'company': 'IBM', 'address': {'state': 'TN', 'city': 'CBE'}}\n",
      "City: CBE\n",
      "Person details\n",
      "name : Jerry\n",
      "company : IBM\n",
      "Person Address\n",
      "state : TN\n",
      "city : CBE\n"
     ]
    }
   ],
   "source": [
    "address = {\"state\": \"TN\", 'city': 'CBE'}\n",
    "\n",
    "# dictionary to store person details with address as a nested dictionary\n",
    "person = {'name': 'Jerry', 'company': 'IBM', 'address': address}\n",
    "\n",
    "print(\"person:\", person)\n",
    "\n",
    "print(\"City:\", person['address']['city'])\n",
    "\n",
    "print(\"Person details\")\n",
    "for key, value in person.items():\n",
    "    if key == 'address':\n",
    "        # Iterating through nested dictionary\n",
    "        print(\"Person Address\")\n",
    "        for n_k, n_v in value.items():\n",
    "            print(n_k, ':', n_v)\n",
    "    else:\n",
    "        print(key, ':', value)\n"
   ]
  },
  {
   "cell_type": "markdown",
   "id": "d2b6525e-4977-468c-b488-80040de3982c",
   "metadata": {},
   "source": [
    "#### Add multiple dictionaries inside a single dictionary\n"
   ]
  },
  {
   "cell_type": "code",
   "execution_count": 35,
   "id": "45f779b3-7f85-47e2-b298-c32ca4196b78",
   "metadata": {},
   "outputs": [
    {
     "name": "stdout",
     "output_type": "stream",
     "text": [
      "Student 2 name: Abi\n",
      "Student 2 marks: 60\n",
      "Student 2 marks: SLM\n",
      "\n",
      "Class details\n",
      "\n",
      "student1 --> Jerry\n",
      "name : Jerry\n",
      "state : TN\n",
      "city : CBE\n",
      "marks : 75\n",
      "\n",
      "\n",
      "student2 --> Abi\n",
      "name : Abi\n",
      "state : TN\n",
      "city : SLM\n",
      "marks : 60\n",
      "\n",
      "\n",
      "student3 --> kelvin\n",
      "name : kelvin\n",
      "state : TN\n",
      "city : CBE\n",
      "marks : 85\n",
      "\n",
      "\n"
     ]
    }
   ],
   "source": [
    "Jerry = {'name': 'Jerry', 'state': 'TN', 'city': 'CBE', 'marks': 75}\n",
    "Abi = {'name': 'Abi', 'state': 'TN', 'city': 'SLM', 'marks': 60}\n",
    "kelvin = {'name': 'kelvin', 'state': 'TN', 'city': 'CBE', 'marks': 85}\n",
    "\n",
    "# Outer dictionary to store all student dictionaries (nested dictionaries)\n",
    "CSE = {'student1': Jerry, 'student2': Abi, 'student3': kelvin}\n",
    "\n",
    "# Get student3's name and mark\n",
    "print(\"Student 2 name:\", CSE['student2']['name'])\n",
    "print(\"Student 2 marks:\", CSE['student2']['marks'])\n",
    "print(\"Student 2 marks:\", CSE['student2']['city'])\n",
    "\n",
    "#nested Dictionary\n",
    "print(\"\\nClass details\\n\")\n",
    "for k, v in CSE.items():\n",
    "    print(k,\"-->\",v['name'])\n",
    "    for n_k, n_v in v.items():\n",
    "        print(n_k, ':', n_v)\n",
    "    print('\\n')"
   ]
  },
  {
   "cell_type": "markdown",
   "id": "b2a11710-23a8-4e9c-a6c0-3dc2e49a8dd9",
   "metadata": {},
   "source": [
    "#### Sort dictionary"
   ]
  },
  {
   "cell_type": "code",
   "execution_count": 36,
   "id": "0c151895-9ea0-48b7-a508-91862abec9b3",
   "metadata": {},
   "outputs": [
    {
     "name": "stdout",
     "output_type": "stream",
     "text": [
      "[('Bread', 45), ('Note', 95), ('Pen', 35)]\n",
      "['Bread', 'Note', 'Pen']\n",
      "[35, 45, 95]\n"
     ]
    }
   ],
   "source": [
    "Items = {'Bread': 45, 'Note': 95, 'Pen': 35}\n",
    "\n",
    "# sorting dictionary by keys\n",
    "print(sorted(Items.items()))\n",
    "\n",
    "# sort dict keys\n",
    "print(sorted(Items))\n",
    "\n",
    "# sort dictionary values\n",
    "print(sorted(Items.values()))"
   ]
  },
  {
   "cell_type": "markdown",
   "id": "8b7698ef-6b01-42c7-9c4b-770fb6860174",
   "metadata": {},
   "source": [
    "#### Dictionary comprehension\n",
    "\n",
    "Dictionary comprehension is one way of creating the dictionary where the values of the key values are generated in a for-loop and we can filter the items to be added to the dictionary with an optional if condition. The general syntax is as follows\n",
    "\n",
    "**output_dictionary = {key : value for key,value in iterable [if  key, value condition1]}**"
   ]
  },
  {
   "cell_type": "code",
   "execution_count": 37,
   "id": "0ca99c94-4358-4334-873b-7ef74240bff7",
   "metadata": {},
   "outputs": [
    {
     "name": "stdout",
     "output_type": "stream",
     "text": [
      "{1: 1, 3: 9, 5: 25, 2: 4, 8: 64}\n"
     ]
    }
   ],
   "source": [
    "numbers = [1, 3, 5, 2, 8]\n",
    "s_n = {}\n",
    "for i in numbers:\n",
    "    s_n[i] = i**2\n",
    "print(s_n)"
   ]
  },
  {
   "cell_type": "code",
   "execution_count": 65,
   "id": "7f24e6fe-25ad-4d8b-8433-629f7e29b8cd",
   "metadata": {},
   "outputs": [
    {
     "name": "stdout",
     "output_type": "stream",
     "text": [
      "{1: 1, 3: 9, 5: 25, 2: 4, 8: 64}\n"
     ]
    }
   ],
   "source": [
    "numbers = [1, 3, 5, 2, 8]\n",
    "squares = {i: i ** 2 for i in numbers}\n",
    "print(squares)"
   ]
  },
  {
   "cell_type": "code",
   "execution_count": 41,
   "id": "1fe6ec57-65a9-4f41-a7c3-dc9dd7f97218",
   "metadata": {},
   "outputs": [
    {
     "name": "stdout",
     "output_type": "stream",
     "text": [
      "{2: 4, 8: 64}\n"
     ]
    }
   ],
   "source": [
    "numbers = [1, 3, 5, 2, 8]\n",
    "s_n = {}\n",
    "for i in numbers:\n",
    "    if i % 2 == 0:\n",
    "        s_n[i] = i**2\n",
    "print(s_n)"
   ]
  },
  {
   "cell_type": "code",
   "execution_count": 42,
   "id": "431815e0-b956-4ae0-b89f-896e40f0a4c6",
   "metadata": {},
   "outputs": [
    {
     "name": "stdout",
     "output_type": "stream",
     "text": [
      "{2: 4, 8: 64}\n"
     ]
    }
   ],
   "source": [
    "numbers = [1, 3, 5, 2, 8]\n",
    "s_n = {i: i ** 2 for i in numbers if i % 2 == 0}\n",
    "print(s_n)"
   ]
  },
  {
   "cell_type": "markdown",
   "id": "23f680b4-99ba-4ea0-aa96-b83146895839",
   "metadata": {},
   "source": [
    "#### Python Built-in functions with dictionary"
   ]
  },
  {
   "cell_type": "code",
   "execution_count": 43,
   "id": "90e0d04f-acc3-45bb-9d25-d3f41aed7347",
   "metadata": {},
   "outputs": [
    {
     "name": "stdout",
     "output_type": "stream",
     "text": [
      "Minimum Marks:  Abi\n",
      "Maximum Marks:  Kavin\n"
     ]
    }
   ],
   "source": [
    "p = {'Abi': 70, 'Arul': 80, 'Elango': 55, 'Kavin': 68, 'Harish': 50, 'Jack': 66}\n",
    "print(\"Minimum Marks: \",min(p)) #giving the result based on key\n",
    "print(\"Maximum Marks: \",max(p)) #giving the result based on key\n"
   ]
  },
  {
   "cell_type": "code",
   "execution_count": 45,
   "id": "4e1ae14c-d594-427d-9a55-44ebacfad574",
   "metadata": {},
   "outputs": [
    {
     "name": "stdout",
     "output_type": "stream",
     "text": [
      "Minimum Marks:  50\n",
      "Maximum Marks:  80\n"
     ]
    }
   ],
   "source": [
    "print(\"Minimum Marks: \",min(p.values())) #giving the result based on Values\n",
    "print(\"Maximum Marks: \",max(p.values())) #giving the result based on Values"
   ]
  },
  {
   "cell_type": "markdown",
   "id": "b33164e4-71f7-4707-aa98-7236e296c7f9",
   "metadata": {},
   "source": [
    "**all()**\n",
    "\n",
    "When the built-in function all() is used with the dictionary the return value will be true in the case of all – true keys and false in case one of the keys is false."
   ]
  },
  {
   "cell_type": "code",
   "execution_count": 47,
   "id": "ca106627-6c9c-4278-8446-86f45999c0ab",
   "metadata": {},
   "outputs": [
    {
     "name": "stdout",
     "output_type": "stream",
     "text": [
      "True\n",
      "False\n",
      "True\n",
      "True\n"
     ]
    }
   ],
   "source": [
    "dict1 = {1:'True',1:'False'}\n",
    "dict2 = {0:'True',1:'False'}\n",
    "\n",
    "dict3= {}\n",
    "dict4 = {'0':False}\n",
    "\n",
    "print(all(dict1)) #All True Keys -->\n",
    "print(all(dict2))#One False Key-->\n",
    "print(all(dict3))#Empty Dictionary\n",
    "print(all(dict4))#With 0 in single quotes"
   ]
  },
  {
   "cell_type": "markdown",
   "id": "352ec86d-6c51-4fe0-8794-d9220c013a56",
   "metadata": {},
   "source": [
    "**any()**\n",
    "\n",
    "any() function will return true if dictionary keys contain anyone false which could be 0 or false. Let us see what any() method will return for the above cases."
   ]
  },
  {
   "cell_type": "code",
   "execution_count": 48,
   "id": "3d8c59f0-4632-499b-bb20-00c750920591",
   "metadata": {},
   "outputs": [
    {
     "name": "stdout",
     "output_type": "stream",
     "text": [
      "True\n",
      "True\n",
      "False\n",
      "True\n",
      "False\n"
     ]
    }
   ],
   "source": [
    "dict1 = {1:'True',1:'False'}\n",
    "dict2 = {0:'True',1:'False'}\n",
    "\n",
    "dict3= {}\n",
    "dict4 = {'0':False}\n",
    "dict5 = {0:False}\n",
    "\n",
    "print(any(dict1)) #All True Keys -->\n",
    "print(any(dict2))#One False Key-->\n",
    "print(any(dict3))#Empty Dictionary\n",
    "print(any(dict4))#With 0 in single quotes\n",
    "print(any(dict5))#all false :: "
   ]
  },
  {
   "cell_type": "code",
   "execution_count": 51,
   "id": "8e24529e-3552-401d-8ead-b12320351517",
   "metadata": {},
   "outputs": [
    {
     "name": "stdin",
     "output_type": "stream",
     "text": [
      "Enter the number of Items: 3\n",
      "Enter the item name:  pen\n",
      "Enter the quantity:  45\n",
      "Enter the item name:  Stick\n",
      "Enter the quantity:  15\n",
      "Enter the item name:  Note\n",
      "Enter the quantity:  60\n"
     ]
    },
    {
     "name": "stdout",
     "output_type": "stream",
     "text": [
      "{'pen': 45, 'Stick': 15, 'Note': 60}\n"
     ]
    }
   ],
   "source": [
    "item = {}\n",
    "no_of_items = int(input(\"Enter the number of Items:\"))\n",
    "for i in range(no_of_items):\n",
    "    i_name = input(\"Enter the item name: \")\n",
    "    quan = int(input(\"Enter the quantity: \"))\n",
    "    item[i_name]=quan\n",
    "print(item)"
   ]
  },
  {
   "cell_type": "code",
   "execution_count": 57,
   "id": "1f85b1e2-0e1f-4ce0-8a3f-d03fe857f963",
   "metadata": {},
   "outputs": [
    {
     "name": "stdout",
     "output_type": "stream",
     "text": [
      "{'Note': 60, 'Stick': 15, 'pen': 45}\n"
     ]
    }
   ],
   "source": [
    "item_s = dict(sorted(item.items()))\n",
    "print(item_s)"
   ]
  },
  {
   "cell_type": "code",
   "execution_count": 64,
   "id": "b1acdb88-5ee4-4929-9e7b-2d2b47f9cebe",
   "metadata": {},
   "outputs": [
    {
     "name": "stdout",
     "output_type": "stream",
     "text": [
      "['Note', 'Stick', 'pen']\n",
      "[15, 45, 60]\n",
      "[('Note', 60), ('Stick', 15), ('pen', 45)]\n",
      "{'Note': 60, 'Stick': 15, 'pen': 45}\n"
     ]
    }
   ],
   "source": [
    "print(sorted(item))\n",
    "print(sorted(item.values()))\n",
    "print(sorted(item.items()))\n",
    "print(dict(sorted(item.items()))) \n",
    "#('pen', 45)"
   ]
  },
  {
   "cell_type": "code",
   "execution_count": 59,
   "id": "6837e276-0a63-45b2-9275-c9bf6fde5901",
   "metadata": {},
   "outputs": [
    {
     "name": "stdout",
     "output_type": "stream",
     "text": [
      "{'Stick': 15, 'pen': 45, 'Note': 60}\n"
     ]
    }
   ],
   "source": [
    "#sorted(iterable, key=None, reverse=False)\n",
    "sv_item = sorted(item.items(), key=lambda x: x[1])\n",
    "sv_item = dict(sv_item)\n",
    "print(sv_item)"
   ]
  },
  {
   "cell_type": "code",
   "execution_count": 58,
   "id": "4ee1ade6-d3cd-418a-ae07-ecc11fd4126a",
   "metadata": {},
   "outputs": [
    {
     "data": {
      "text/plain": [
       "[('Note', 60), ('pen', 45), ('Stick', 15)]"
      ]
     },
     "execution_count": 58,
     "metadata": {},
     "output_type": "execute_result"
    }
   ],
   "source": [
    "sorted(item.items(), key=lambda x: x[1],reverse=True)"
   ]
  },
  {
   "cell_type": "code",
   "execution_count": 60,
   "id": "3aee2357-17d7-42e4-b6bd-b92c45c1a9b9",
   "metadata": {},
   "outputs": [
    {
     "data": {
      "text/plain": [
       "[('Note', 60), ('Stick', 15), ('pen', 45)]"
      ]
     },
     "execution_count": 60,
     "metadata": {},
     "output_type": "execute_result"
    }
   ],
   "source": [
    "sorted(item.items(), key=lambda x: x[0])"
   ]
  },
  {
   "cell_type": "code",
   "execution_count": 66,
   "id": "63494e5f-12fd-4d06-a0c1-e2e7066ea4be",
   "metadata": {},
   "outputs": [
    {
     "name": "stdout",
     "output_type": "stream",
     "text": [
      "Enter 3 subject marks\n"
     ]
    },
    {
     "name": "stdin",
     "output_type": "stream",
     "text": [
      " 78\n",
      " 67\n",
      " 89\n"
     ]
    },
    {
     "name": "stdout",
     "output_type": "stream",
     "text": [
      "[78, 67, 89]\n"
     ]
    }
   ],
   "source": [
    "marks = []\n",
    "print(\"Enter 3 subject marks\")\n",
    "for i in range(3):\n",
    "    marks.append(int(input()))\n",
    "print(marks)"
   ]
  },
  {
   "cell_type": "code",
   "execution_count": 4,
   "id": "8791403a-48d3-438b-8446-060d0f3822af",
   "metadata": {},
   "outputs": [
    {
     "ename": "SyntaxError",
     "evalue": "incomplete input (3964681332.py, line 15)",
     "output_type": "error",
     "traceback": [
      "\u001b[1;36m  Cell \u001b[1;32mIn[4], line 15\u001b[1;36m\u001b[0m\n\u001b[1;33m    def avg_rank(stud_d):\u001b[0m\n\u001b[1;37m                         ^\u001b[0m\n\u001b[1;31mSyntaxError\u001b[0m\u001b[1;31m:\u001b[0m incomplete input\n"
     ]
    }
   ],
   "source": [
    "#stud_d = {'Arun':[78, 67, 89],'Harish':[78, 75, 83],'Jack':[78, 67, 89]}\n",
    "stud_d = {}\n",
    "n = int(input(\"Enter number of students: \"))\n",
    "for i in range(n):\n",
    "    name = input(\"Enter student name: \")\n",
    "    marks = []\n",
    "    print(\"Enter 3 subject marks\")\n",
    "    for i in range(3):\n",
    "        marks.append(int(input()))\n",
    "    stud_d[name] = marks\n",
    "print(stud_d)    \n",
    "#define a function which compute the average and display name of the top ranker\n",
    "#create a dict as stud_avg = {'Arun':85.5,'Harish':79.5,'Jack':81.5}\n",
    "#Display the top-ranked person = Arun\n",
    "def avg_rank(stud_d):\n",
    "    stud_avg = {}\n",
    "    "
   ]
  },
  {
   "cell_type": "code",
   "execution_count": 3,
   "id": "29e2c1d6-d395-4d33-8b5b-a170156d9f0b",
   "metadata": {},
   "outputs": [
    {
     "name": "stdout",
     "output_type": "stream",
     "text": [
      "234\n",
      "78.0\n"
     ]
    }
   ],
   "source": [
    "print(sum([78, 67, 89]))\n",
    "print(sum([78, 67, 89])/3)"
   ]
  },
  {
   "cell_type": "code",
   "execution_count": null,
   "id": "69ed9877-acf6-454a-807f-fca7c55b6882",
   "metadata": {},
   "outputs": [],
   "source": []
  }
 ],
 "metadata": {
  "kernelspec": {
   "display_name": "Python 3 (ipykernel)",
   "language": "python",
   "name": "python3"
  },
  "language_info": {
   "codemirror_mode": {
    "name": "ipython",
    "version": 3
   },
   "file_extension": ".py",
   "mimetype": "text/x-python",
   "name": "python",
   "nbconvert_exporter": "python",
   "pygments_lexer": "ipython3",
   "version": "3.12.5"
  }
 },
 "nbformat": 4,
 "nbformat_minor": 5
}
