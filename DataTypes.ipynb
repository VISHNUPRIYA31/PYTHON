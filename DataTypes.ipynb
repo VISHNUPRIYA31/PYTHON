{
 "cells": [
  {
   "cell_type": "code",
   "execution_count": null,
   "id": "1d1116c7-541c-41bc-a4f6-2a0825b655d1",
   "metadata": {},
   "outputs": [],
   "source": []
  },
  {
   "cell_type": "markdown",
   "id": "68262c6a-1b8a-4730-9993-45eb97cfe487",
   "metadata": {},
   "source": [
    "## INTERGER\n",
    "\n",
    "+ve, -ve, 0 are called int\n",
    "\r\n",
    "size/range is dependent onthe  machin\r\n"
   ]
  },
  {
   "cell_type": "code",
   "execution_count": 5,
   "id": "1145f56b-4f15-42a8-9fdb-55a7db942f2b",
   "metadata": {},
   "outputs": [
    {
     "name": "stdout",
     "output_type": "stream",
     "text": [
      "0\n",
      "100\n",
      "-10\n",
      "1234567890\n",
      "5000000000000000000000000000000000000000000000000000000\n"
     ]
    }
   ],
   "source": [
    "x = 0\n",
    "print(x)\n",
    "x = 100\n",
    "print(x)\n",
    "x = -10\n",
    "print(x)\n",
    "x = 1234567890\n",
    "print(x)\n",
    "x = 5000000000000000000000000000000000000000000000000000000\n",
    "print(x)"
   ]
  },
  {
   "cell_type": "code",
   "execution_count": 7,
   "id": "b92e81a9-7341-4d50-ae7e-542caf447a27",
   "metadata": {},
   "outputs": [
    {
     "name": "stdout",
     "output_type": "stream",
     "text": [
      "0\n",
      "Size of  24\n",
      "100\n",
      "Size of  28\n",
      "-10\n",
      "Size of  28\n",
      "1234567890\n",
      "Size of  32\n",
      "5000000000000000000000000000000000000000000000000000000\n",
      "Size of  52\n"
     ]
    }
   ],
   "source": [
    "x = 0\n",
    "print(x)\n",
    "print(\"Size of \", x.__sizeof__())\n",
    "x = 100\n",
    "print(x)\n",
    "print(\"Size of \", x.__sizeof__())\n",
    "x = -10\n",
    "print(x)\n",
    "print(\"Size of \", x.__sizeof__())\n",
    "x = 1234567890\n",
    "print(x)\n",
    "print(\"Size of \", x.__sizeof__())\n",
    "x = 5000000000000000000000000000000000000000000000000000000\n",
    "print(x)\n",
    "print(\"Size of \", x.__sizeof__())"
   ]
  },
  {
   "cell_type": "code",
   "execution_count": 35,
   "id": "1ce566f3-b06b-42a5-ae53-f8fc84f67abe",
   "metadata": {},
   "outputs": [
    {
     "name": "stdout",
     "output_type": "stream",
     "text": [
      "1533428493296\n",
      "1533428494256\n"
     ]
    }
   ],
   "source": [
    "x = 257\n",
    "x1 = 257\n",
    "print(id(x))\n",
    "print(id(x1))"
   ]
  },
  {
   "cell_type": "code",
   "execution_count": 36,
   "id": "a06a155e-6f76-4a42-af3b-2c215b3bd3c7",
   "metadata": {},
   "outputs": [
    {
     "name": "stdout",
     "output_type": "stream",
     "text": [
      "<class 'int'>\n",
      "<class 'int'>\n",
      "<class 'int'>\n"
     ]
    }
   ],
   "source": [
    "print(type(100))\n",
    "\n",
    "x=1234567890\n",
    "print(type(x))\n",
    "\n",
    "y=5000000000000000000000000000000000000000000000000000000\n",
    "print(type(y))"
   ]
  },
  {
   "cell_type": "markdown",
   "id": "380b9919-fdc4-49c9-bc70-cf94de08e20f",
   "metadata": {},
   "source": [
    "**Leading zeros in non-zero integers are not allowed in Python, e.g. 000123 is invalid number and 0000 becomes 0.**"
   ]
  },
  {
   "cell_type": "code",
   "execution_count": 38,
   "id": "633edfae-6c27-41a6-9062-c39a4d778603",
   "metadata": {},
   "outputs": [],
   "source": [
    "x=001234567890"
   ]
  },
  {
   "cell_type": "code",
   "execution_count": 39,
   "id": "42b859b2-5e5c-4a1e-a0fb-14d6a50b6911",
   "metadata": {},
   "outputs": [
    {
     "name": "stdout",
     "output_type": "stream",
     "text": [
      "0\n"
     ]
    }
   ],
   "source": [
    "x=0000000000\n",
    "print(x)"
   ]
  },
  {
   "cell_type": "code",
   "execution_count": 13,
   "id": "eefec9ec-70e2-4ec5-9dbd-185b88ae33ea",
   "metadata": {},
   "outputs": [],
   "source": [
    "x=12345678900"
   ]
  },
  {
   "cell_type": "code",
   "execution_count": 43,
   "id": "6f7537bb-6c6d-4723-bc7b-b76bbecc6822",
   "metadata": {},
   "outputs": [
    {
     "name": "stdout",
     "output_type": "stream",
     "text": [
      "(1, 23, 100)\n"
     ]
    }
   ],
   "source": [
    "am = 1,23,100\n",
    "print(am)"
   ]
  },
  {
   "cell_type": "markdown",
   "id": "eb8d8085-5911-4c72-8208-a7a89e5f783f",
   "metadata": {},
   "source": [
    "**Python does not allow comma as number delimiter. Use underscore _ as a delimiter instead.**"
   ]
  },
  {
   "cell_type": "code",
   "execution_count": 50,
   "id": "60d79900-507f-4347-a787-f002ff2348ac",
   "metadata": {},
   "outputs": [
    {
     "name": "stdout",
     "output_type": "stream",
     "text": [
      "123100\n"
     ]
    }
   ],
   "source": [
    "_23_100 = 10\n",
    "am = 1_23_100\n",
    "print(am)"
   ]
  },
  {
   "cell_type": "markdown",
   "id": "6bf97c55-0522-43ce-823a-cad3ecbe3151",
   "metadata": {},
   "source": [
    "**The int() function converts a string or float to int.**"
   ]
  },
  {
   "cell_type": "code",
   "execution_count": 51,
   "id": "23576860-3c87-41b8-812e-f8f820cecba1",
   "metadata": {},
   "outputs": [
    {
     "name": "stdout",
     "output_type": "stream",
     "text": [
      "100\n",
      "-10\n",
      "5\n",
      "4\n",
      "16\n",
      "25\n"
     ]
    }
   ],
   "source": [
    "x = int('100')\n",
    "print(x)\n",
    "\n",
    "y = int('-10')\n",
    "print(y) \n",
    "\n",
    "z = int(5.5)\n",
    "print(z)\n",
    "\n",
    "n = int('100', 2) #convert to any base values 2 --> Binary\n",
    "print(n)\n",
    "\n",
    "n = int('100', 4)\n",
    "print(n)\n",
    "\n",
    "n = int('100', 5)\n",
    "print(n)"
   ]
  },
  {
   "cell_type": "markdown",
   "id": "81fc80c6-6d4f-458b-9ede-1a49c6f00d97",
   "metadata": {},
   "source": [
    "**Integers to other number system.**"
   ]
  },
  {
   "cell_type": "markdown",
   "id": "d7d82836-8c41-4687-bcaf-2640f7407595",
   "metadata": {},
   "source": [
    "### Binary\r\n",
    "A numberwith **(0b or 0B)** with eight digits in the combination of 0 and 1 representse binary numbers in Python. For example, 0b11011000 is a binary number equivalent to integer 216\n",
    "\n",
    "### Octal\r\n",
    "A number having 0o or 0 as  prefix represents an octal number. For example, 0O12 is equivalent to integer 10\n",
    "\n",
    "### Hexadecimal\r\n",
    "A number with 0x or 0 as  prefix represents hexadecimal number. For example, 0x12 is equivalent to integer 18..\n",
    "\r\n"
   ]
  },
  {
   "cell_type": "code",
   "execution_count": 58,
   "id": "53956af4-20ba-49ef-80ee-a466b5fc9187",
   "metadata": {
    "scrolled": true
   },
   "outputs": [
    {
     "name": "stdout",
     "output_type": "stream",
     "text": [
      "216\n",
      "216\n",
      "<class 'int'>\n",
      "14\n",
      "<class 'int'>\n",
      "298\n",
      "<class 'int'>\n"
     ]
    }
   ],
   "source": [
    "x = 0b11011000\n",
    "print(x)\n",
    "\n",
    "x = 0b_1101_1000\n",
    "print(x)\n",
    "print(type(x))\n",
    "\n",
    "x = 0o16\n",
    "\n",
    "print(x)\n",
    "print(type(x))\n",
    "\n",
    "x = 0x12A\n",
    "\n",
    "print(x)\n",
    "print(type(x))"
   ]
  },
  {
   "cell_type": "markdown",
   "id": "b4a291ee-2975-420b-98fd-2ba20870a0bb",
   "metadata": {},
   "source": [
    "**Integers converted to binary, octal, and hexadecimal values.**"
   ]
  },
  {
   "cell_type": "code",
   "execution_count": 18,
   "id": "05f77324-4a68-49e1-ad9e-b73023c55e0d",
   "metadata": {},
   "outputs": [
    {
     "name": "stdout",
     "output_type": "stream",
     "text": [
      "0b1011010\n"
     ]
    }
   ],
   "source": [
    "x = 90\n",
    "print(bin(x))"
   ]
  },
  {
   "cell_type": "code",
   "execution_count": 21,
   "id": "308440c3-39e0-485c-a708-8736bc4644a5",
   "metadata": {},
   "outputs": [
    {
     "name": "stdout",
     "output_type": "stream",
     "text": [
      "0o132\n"
     ]
    }
   ],
   "source": [
    "x = 90\n",
    "print(oct(x))"
   ]
  },
  {
   "cell_type": "code",
   "execution_count": 59,
   "id": "e7a1e0af-a935-4d46-8232-f2b9bbb941cb",
   "metadata": {},
   "outputs": [
    {
     "name": "stdout",
     "output_type": "stream",
     "text": [
      "0xef\n"
     ]
    }
   ],
   "source": [
    "x = 239\n",
    "print(hex(x))"
   ]
  },
  {
   "cell_type": "markdown",
   "id": "b4977a1b-15d2-47da-a21b-1787aefcf82a",
   "metadata": {},
   "source": [
    "## Float\n",
    "\r\n",
    "In Python, floating point numbers (float) are positive and negative real numbers with a fractional part denoted by the decimal symbol **dot .**. or the scientific notation E or e, e.g. 1234.56, 3.142, -1.55, 0.23\n",
    "\r\n"
   ]
  },
  {
   "cell_type": "code",
   "execution_count": 70,
   "id": "ebf90294-50a8-4bcf-a0ff-9f115a916962",
   "metadata": {},
   "outputs": [
    {
     "name": "stdout",
     "output_type": "stream",
     "text": [
      "1.2\n",
      "<class 'float'>\n",
      "24\n",
      "123266666662.22202\n",
      "24\n",
      "1.2000002\n"
     ]
    }
   ],
   "source": [
    "f = 1.2\n",
    "print(f)\n",
    "print(type(f)) \n",
    "print(f.__sizeof__())\n",
    "\n",
    "f=123266666662.222_0132222222222222222222222222222222222222222 \n",
    "print(f)\n",
    "print(f.__sizeof__())\n",
    "\n",
    "print(0001.2000002)"
   ]
  },
  {
   "cell_type": "markdown",
   "id": "17e51600-0005-4c45-a3bb-21a3ee6fc50b",
   "metadata": {},
   "source": [
    "In Python, floating-point numbers follow the IEEE 754 standard, where the **maximum finite value for a float (double precision)** is approximately **1.8 × 10 ^ 308** \n",
    "\n",
    "**The float beyond its maximum size referred as inf, Inf, INFINITY, or infinity.**"
   ]
  },
  {
   "cell_type": "code",
   "execution_count": 76,
   "id": "9b643969-bfc9-4659-a2e2-a761defe65f4",
   "metadata": {},
   "outputs": [
    {
     "name": "stdout",
     "output_type": "stream",
     "text": [
      "inf\n"
     ]
    }
   ],
   "source": [
    "f=40e400 # 1 * 10^200\n",
    "print(f) #output: inf"
   ]
  },
  {
   "cell_type": "markdown",
   "id": "ec0141aa-3997-45bb-8b7c-582425ba0b40",
   "metadata": {},
   "source": [
    "**e Notation (Scientific Notation)**\n",
    "\n",
    "In Python, **e (or E)** in a number represents exponentiation with base 10.\n",
    "\n",
    "XeY means --> X * $10^{Y}$"
   ]
  },
  {
   "cell_type": "code",
   "execution_count": 74,
   "id": "32a307c0-72df-483d-bbc0-b13b5ae29e54",
   "metadata": {},
   "outputs": [
    {
     "name": "stdout",
     "output_type": "stream",
     "text": [
      "1000.0\n",
      "<class 'float'>\n",
      "100000.0\n",
      "<class 'float'>\n",
      "345.56789\n",
      "<class 'float'>\n"
     ]
    }
   ],
   "source": [
    "f = 1e3\n",
    "print(f) \n",
    "print(type(f)) \n",
    "\n",
    "f = 1e5\n",
    "print(f)\n",
    "print(type(f)) \n",
    "\n",
    "f = 3.4556789e2\n",
    "print(f)\n",
    "print(type(f)) "
   ]
  },
  {
   "cell_type": "markdown",
   "id": "77d8588b-1e5a-4874-9d81-9b7853214a7a",
   "metadata": {},
   "source": [
    "**Use the float() function to convert string, int to float.**"
   ]
  },
  {
   "cell_type": "code",
   "execution_count": 77,
   "id": "d19efc52-2abe-4620-a91e-5b26530882c3",
   "metadata": {},
   "outputs": [
    {
     "name": "stdout",
     "output_type": "stream",
     "text": [
      "5.5\n",
      "5.0\n",
      "-5.0\n",
      "1000.0\n",
      "-inf\n",
      "inf\n",
      "<class 'float'>\n"
     ]
    }
   ],
   "source": [
    "f=float('5.5')\n",
    "print(f)\n",
    "\n",
    "f=float('5')\n",
    "print(f) \n",
    "\n",
    "f=float('     -5')\n",
    "print(f)\n",
    "\n",
    "f=float('1e3')\n",
    "print(f)\n",
    "\n",
    "f=float('-Infinity')\n",
    "print(f)\n",
    "\n",
    "f=float('inf')\n",
    "print(f) \n",
    "print(type(f))"
   ]
  },
  {
   "cell_type": "markdown",
   "id": "3a1d83b4-cd92-471d-b46e-45713d0fcd81",
   "metadata": {},
   "source": [
    "## Complex Numbers\r\n",
    "\n",
    "A complex number is a number with real and imaginary components. For example, 5 + 6j is a complex number where 5 is the real component and 6 multiplied by j is an imaginary component."
   ]
  },
  {
   "cell_type": "code",
   "execution_count": 82,
   "id": "83c5c118-b136-4c84-a9a6-138237f43390",
   "metadata": {},
   "outputs": [
    {
     "name": "stdout",
     "output_type": "stream",
     "text": [
      "(5.2+2j)\n",
      "<class 'complex'>\n"
     ]
    }
   ],
   "source": [
    "a = 5.2+2j\n",
    "print(a)\n",
    "print(type(a))"
   ]
  },
  {
   "cell_type": "code",
   "execution_count": 80,
   "id": "c78a9ba7-a339-449d-b11e-fec2d65c32fb",
   "metadata": {},
   "outputs": [
    {
     "name": "stdout",
     "output_type": "stream",
     "text": [
      "(-5-2j)\n",
      "<class 'complex'>\n"
     ]
    }
   ],
   "source": [
    "a = -5-2j\n",
    "print(a)\n",
    "print(type(a))"
   ]
  },
  {
   "cell_type": "code",
   "execution_count": 81,
   "id": "a492df37-b100-400d-9a42-36c4096e9bde",
   "metadata": {},
   "outputs": [
    {
     "name": "stdout",
     "output_type": "stream",
     "text": [
      "2j\n",
      "<class 'complex'>\n"
     ]
    }
   ],
   "source": [
    "a = 2j\n",
    "print(a)\n",
    "print(type(a))"
   ]
  },
  {
   "cell_type": "code",
   "execution_count": null,
   "id": "87c49e20-bcde-4791-96bf-55f78f932f31",
   "metadata": {},
   "outputs": [],
   "source": [
    "a = 5+3j\n",
    "a = 5-3j\n",
    "3j\n",
    "5+3J\n",
    "3.5+3J\n",
    "3.5+6J"
   ]
  },
  {
   "cell_type": "code",
   "execution_count": 28,
   "id": "dc9643af-68a7-498c-b995-9042a9e27505",
   "metadata": {},
   "outputs": [
    {
     "name": "stdout",
     "output_type": "stream",
     "text": [
      "(10+21j)\n"
     ]
    }
   ],
   "source": [
    "bc = 0b1010 + 21j\n",
    "print(bc)"
   ]
  },
  {
   "cell_type": "code",
   "execution_count": 83,
   "id": "5f58473e-3f5e-41e3-bb72-979965fe50fe",
   "metadata": {},
   "outputs": [
    {
     "name": "stdout",
     "output_type": "stream",
     "text": [
      "7.0\n",
      "9.0\n"
     ]
    }
   ],
   "source": [
    "a = 7 + 9j\n",
    "print(a.real)\n",
    "print(a.imag)"
   ]
  },
  {
   "cell_type": "code",
   "execution_count": null,
   "id": "3613d0a6-4541-4959-bac9-c169c35fa4a6",
   "metadata": {},
   "outputs": [],
   "source": []
  },
  {
   "cell_type": "code",
   "execution_count": null,
   "id": "90e92361-d29e-4fb1-aa19-5afa6fc8d7b7",
   "metadata": {},
   "outputs": [],
   "source": []
  },
  {
   "cell_type": "markdown",
   "id": "2dcff5c3-8710-440c-a7f0-cd16c5e5ff04",
   "metadata": {},
   "source": [
    "**INVALID COMPLEX NUMBERS**"
   ]
  },
  {
   "cell_type": "code",
   "execution_count": 84,
   "id": "6f28dd96-b131-410e-858d-7560e14723db",
   "metadata": {},
   "outputs": [
    {
     "ename": "SyntaxError",
     "evalue": "invalid syntax (336981122.py, line 1)",
     "output_type": "error",
     "traceback": [
      "\u001b[1;36m  Cell \u001b[1;32mIn[84], line 1\u001b[1;36m\u001b[0m\n\u001b[1;33m    a=5+2k\u001b[0m\n\u001b[1;37m         ^\u001b[0m\n\u001b[1;31mSyntaxError\u001b[0m\u001b[1;31m:\u001b[0m invalid syntax\n"
     ]
    }
   ],
   "source": [
    "a=5+2k"
   ]
  },
  {
   "cell_type": "code",
   "execution_count": 86,
   "id": "eb6778bc-7247-454f-88a9-60ea7a4be7d8",
   "metadata": {},
   "outputs": [],
   "source": [
    "a=5+j"
   ]
  },
  {
   "cell_type": "code",
   "execution_count": 88,
   "id": "f6b3dad2-1847-4856-b6e2-7c2bb2ae3d52",
   "metadata": {},
   "outputs": [],
   "source": [
    "a=5i+2j"
   ]
  },
  {
   "cell_type": "code",
   "execution_count": 89,
   "id": "dfeb2d27-2050-4cf1-88d1-0a75d9a59ac0",
   "metadata": {},
   "outputs": [
    {
     "ename": "SyntaxError",
     "evalue": "invalid syntax (3654297737.py, line 1)",
     "output_type": "error",
     "traceback": [
      "\u001b[1;36m  Cell \u001b[1;32mIn[89], line 1\u001b[1;36m\u001b[0m\n\u001b[1;33m    bc = 0x13 + 0x13J\u001b[0m\n\u001b[1;37m                    ^\u001b[0m\n\u001b[1;31mSyntaxError\u001b[0m\u001b[1;31m:\u001b[0m invalid syntax\n"
     ]
    }
   ],
   "source": [
    "bc = 0x13 + 13j\n",
    "print(bc)"
   ]
  },
  {
   "cell_type": "markdown",
   "id": "926d3dbe-8ae3-4a3a-a0d5-559b631e5b73",
   "metadata": {},
   "source": [
    "## Numeric Functions\r\n",
    "\n",
    "A numeric object of one type can be converted in another type using the following functions\n",
    ":"
   ]
  },
  {
   "attachments": {
    "1ece6ed4-e434-473f-beb7-8f9385cc4590.png": {
     "image/png": "[encoded data removed]"
    }
   },
   "cell_type": "markdown",
   "id": "83ca412a-2438-4302-8d79-3482e43d7a90",
   "metadata": {},
   "source": [
    "![image.png](attachment:1ece6ed4-e434-473f-beb7-8f9385cc4590.png)"
   ]
  },
  {
   "cell_type": "code",
   "execution_count": null,
   "id": "7cbb12e2-ff24-4637-a8df-99f5f0ec464d",
   "metadata": {},
   "outputs": [],
   "source": []
  }
 ],
 "metadata": {
  "kernelspec": {
   "display_name": "Python 3 (ipykernel)",
   "language": "python",
   "name": "python3"
  },
  "language_info": {
   "codemirror_mode": {
    "name": "ipython",
    "version": 3
   },
   "file_extension": ".py",
   "mimetype": "text/x-python",
   "name": "python",
   "nbconvert_exporter": "python",
   "pygments_lexer": "ipython3",
   "version": "3.8.0"
  }
 },
 "nbformat": 4,
 "nbformat_minor": 5
}
