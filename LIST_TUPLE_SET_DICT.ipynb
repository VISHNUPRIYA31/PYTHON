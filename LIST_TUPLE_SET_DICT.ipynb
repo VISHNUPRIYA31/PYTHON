{
 "cells": [
  {
   "cell_type": "markdown",
   "id": "0e65203d",
   "metadata": {},
   "source": [
    "## LIST"
   ]
  },
  {
   "cell_type": "markdown",
   "id": "a0997236",
   "metadata": {},
   "source": [
    "### Properties of a list.\n",
    "\n",
    "1. Mutable: The elements of the list can be modified. We can add or remove items to the list after it has been created.<br>\n",
    "\n",
    "2. Ordered: The items in the lists are ordered. Each item has a unique index value. The new items will be added to the end of the list.<br>\n",
    "\n",
    "3. Heterogenous: The list can contain different kinds of elements i.e; they can contain elements of string, integer, boolean, or any type.<br>\n",
    "\n",
    "4. Duplicates: The list can contain duplicates i.e., lists can have two items with the same values.<br>\n"
   ]
  },
  {
   "cell_type": "markdown",
   "id": "9dc72cf6",
   "metadata": {},
   "source": [
    "List can be created in Two ways as below using square brackets **[ ]** and **list()** constructor"
   ]
  },
  {
   "cell_type": "code",
   "execution_count": 1,
   "id": "a9371a6a",
   "metadata": {},
   "outputs": [
    {
     "name": "stdout",
     "output_type": "stream",
     "text": [
      "[101, 'priya', 'cse', 153.3]\n",
      "[1]\n",
      "<class 'list'>\n"
     ]
    }
   ],
   "source": [
    "det = [101,\"priya\",\"cse\",153.3]\n",
    "print(det)\n",
    "k = [1]\n",
    "print(k)\n",
    "print(type(k))"
   ]
  },
  {
   "cell_type": "code",
   "execution_count": 5,
   "id": "14d2f85b",
   "metadata": {},
   "outputs": [
    {
     "name": "stdout",
     "output_type": "stream",
     "text": [
      "[105, 'priya', 'cse', 153.3]\n"
     ]
    }
   ],
   "source": [
    "det1 = list((105,\"priya\",\"cse\",153.3))\n",
    "print(det1)"
   ]
  },
  {
   "cell_type": "markdown",
   "id": "003651d0",
   "metadata": {},
   "source": [
    "The below code will create an empty list."
   ]
  },
  {
   "cell_type": "code",
   "execution_count": 7,
   "id": "1f67dba6",
   "metadata": {},
   "outputs": [
    {
     "name": "stdout",
     "output_type": "stream",
     "text": [
      "[]\n",
      "[]\n"
     ]
    }
   ],
   "source": [
    "k = []\n",
    "l = list()\n",
    "print(k)\n",
    "print(l)"
   ]
  },
  {
   "cell_type": "code",
   "execution_count": 8,
   "id": "c3208dc4",
   "metadata": {},
   "outputs": [
    {
     "name": "stdout",
     "output_type": "stream",
     "text": [
      "4\n"
     ]
    }
   ],
   "source": [
    "print(len(det))"
   ]
  },
  {
   "cell_type": "markdown",
   "id": "8ca06ca0",
   "metadata": {},
   "source": [
    "### Accessing items of a List\n",
    "\n",
    "The items in a list can be accessed through indexing and slicing. This section will guide you by accessing the list using the following two ways\n",
    "\n",
    "1. Using indexing, we can access any item from a list using its index number\n",
    "2. Using slicing, we can access a range of items from a list"
   ]
  },
  {
   "attachments": {
    "image-2.png": {
     "image/png": "[encoded data removed]"
    }
   },
   "cell_type": "markdown",
   "id": "a55242c8",
   "metadata": {},
   "source": [
    "### Indexing\n",
    "\n",
    "The list elements can be accessed using the “indexing” technique. Lists are ordered collections with unique indexes for each item. We can access the items in the list using this index number.\n",
    "\n",
    "![image-2.png](attachment:image-2.png)"
   ]
  },
  {
   "cell_type": "code",
   "execution_count": 1,
   "id": "8f13a949",
   "metadata": {},
   "outputs": [
    {
     "name": "stdout",
     "output_type": "stream",
     "text": [
      "['Hari', 25, 'M', 75.6, 153.2, [2000, 1886, 4555]]\n",
      "['Hari', 25, 'M', 75.6, 153.2, [2000, 1886, 4555]]\n"
     ]
    }
   ],
   "source": [
    "pr = [\"Hari\",25,\"M\",75.6,153.2,[2000,1886,4555]]\n",
    "print(pr)\n",
    "pr2 = list((\"Hari\",25,\"M\",75.6,153.2,[2000,1886,4555]))\n",
    "print(pr2)"
   ]
  },
  {
   "cell_type": "code",
   "execution_count": 3,
   "id": "d08113ac",
   "metadata": {},
   "outputs": [
    {
     "name": "stdout",
     "output_type": "stream",
     "text": [
      "M\n",
      "25\n",
      "153.2\n"
     ]
    },
    {
     "ename": "IndexError",
     "evalue": "list index out of range",
     "output_type": "error",
     "traceback": [
      "\u001b[1;31m---------------------------------------------------------------------------\u001b[0m",
      "\u001b[1;31mIndexError\u001b[0m                                Traceback (most recent call last)",
      "\u001b[1;32m~\\AppData\\Local\\Temp/ipykernel_296/4250770501.py\u001b[0m in \u001b[0;36m<module>\u001b[1;34m\u001b[0m\n\u001b[0;32m      2\u001b[0m \u001b[0mprint\u001b[0m\u001b[1;33m(\u001b[0m\u001b[0mpr\u001b[0m\u001b[1;33m[\u001b[0m\u001b[1;33m-\u001b[0m\u001b[1;36m5\u001b[0m\u001b[1;33m]\u001b[0m\u001b[1;33m)\u001b[0m\u001b[1;33m\u001b[0m\u001b[1;33m\u001b[0m\u001b[0m\n\u001b[0;32m      3\u001b[0m \u001b[0mprint\u001b[0m\u001b[1;33m(\u001b[0m\u001b[0mpr\u001b[0m\u001b[1;33m[\u001b[0m\u001b[0mlen\u001b[0m\u001b[1;33m(\u001b[0m\u001b[0mpr\u001b[0m\u001b[1;33m)\u001b[0m\u001b[1;33m-\u001b[0m\u001b[1;36m2\u001b[0m\u001b[1;33m]\u001b[0m\u001b[1;33m)\u001b[0m\u001b[1;33m\u001b[0m\u001b[1;33m\u001b[0m\u001b[0m\n\u001b[1;32m----> 4\u001b[1;33m \u001b[0mprint\u001b[0m\u001b[1;33m(\u001b[0m\u001b[0mpr\u001b[0m\u001b[1;33m[\u001b[0m\u001b[1;36m6\u001b[0m\u001b[1;33m]\u001b[0m\u001b[1;33m)\u001b[0m\u001b[1;33m\u001b[0m\u001b[1;33m\u001b[0m\u001b[0m\n\u001b[0m",
      "\u001b[1;31mIndexError\u001b[0m: list index out of range"
     ]
    }
   ],
   "source": [
    "print(pr[2])\n",
    "print(pr[-5])\n",
    "print(pr[len(pr)-2])\n",
    "print(pr[6])"
   ]
  },
  {
   "cell_type": "markdown",
   "id": "ca3876c0",
   "metadata": {},
   "source": [
    "### Traversing the list using loop"
   ]
  },
  {
   "cell_type": "code",
   "execution_count": 2,
   "id": "4d3bf001",
   "metadata": {},
   "outputs": [
    {
     "name": "stdout",
     "output_type": "stream",
     "text": [
      "10,20,30,40,50,"
     ]
    }
   ],
   "source": [
    "lst = [10,20,30,40,50]\n",
    "for x in lst:\n",
    "    print(x,end = \",\")\n",
    "    "
   ]
  },
  {
   "cell_type": "code",
   "execution_count": 14,
   "id": "24deb611",
   "metadata": {},
   "outputs": [
    {
     "name": "stdout",
     "output_type": "stream",
     "text": [
      "10,20,30,40,50,\b\n"
     ]
    }
   ],
   "source": [
    "lst = [10,20,30,40,50]\n",
    "for x in range(len(lst)):\n",
    "    print(lst[x],end = \",\")\n",
    "\n",
    "print(\"\\b\")"
   ]
  },
  {
   "cell_type": "markdown",
   "id": "ebff6a11",
   "metadata": {},
   "source": [
    "### LIST SLICING\n",
    "\n",
    "syntax for list slicing.\n",
    "\n",
    "**listname[start_index : end_index : step]**\n",
    "\n",
    "The **start_index** denotes the index position from where the slicing should begin and the **end_index** parameter denotes the index positions till which the slicing should be done.\n",
    "\n",
    "The step allows you to take each nth-element within a **start_index:end_index** range."
   ]
  },
  {
   "cell_type": "code",
   "execution_count": 3,
   "id": "00b4dbf5",
   "metadata": {},
   "outputs": [
    {
     "name": "stdout",
     "output_type": "stream",
     "text": [
      "['yogi', 23, 153.26, 82, [1000, 4000, 3000, 500, 1500], 32.5, 'm', 'CBE']\n",
      "['CBE', 'm', 32.5, [1000, 4000, 3000, 500, 1500], 82, 153.26, 23, 'yogi']\n",
      "[]\n",
      "[23]\n",
      "['yogi', 23, 153.26, 82]\n",
      "1986022631936\n",
      "['yogi', 22, 154, 79.5, [1000, 4000, 3000, 500, 1500], 37.6, 'M', 'SALEM']\n",
      "['apple', 'cherry', 'mango']\n",
      "['orange', 'mango']\n"
     ]
    }
   ],
   "source": [
    "person = [\"yogi\",23,153.26,82,[1000,4000,3000,500,1500],32.5,\"m\",\"CBE\"]\n",
    "print(person)\n",
    "print(person[::-1])\n",
    "print(person[3:3])\n",
    "print(person[1:2:2])\n",
    "print(person[0:4])\n",
    "print(id(person))\n",
    "person[3] = [78,80,81,80,81]\n",
    "person[1:4] = [22,154,79.5]\n",
    "person[5:] = [37.6,\"M\",\"SALEM\"]\n",
    "print(person)\n",
    "f = [\"apple\",\"cherry\",\"mango\"]\n",
    "print(f)\n",
    "f[0:2]=[\"orange\"]\n",
    "print(f)"
   ]
  },
  {
   "cell_type": "code",
   "execution_count": 28,
   "id": "09aa519f",
   "metadata": {
    "collapsed": true,
    "jupyter": {
     "outputs_hidden": true
    }
   },
   "outputs": [
    {
     "name": "stdout",
     "output_type": "stream",
     "text": [
      "Elements in the list:  ['yogi', 22, 154, 79.5, [1000, 4000, 3000, 500, 1500], 37.6, 'M', 'SALEM'] \n",
      "\n",
      "['yogi', 22, 154, 79.5, [1000, 4000, 3000, 500, 1500], 37.6, 'M', 'SALEM']\n",
      "['yogi', 22, 154, 79.5, [1000, 4000, 3000, 500, 1500], 37.6, 'M', 'SALEM']\n",
      "2325393600000\n",
      "2325393600000\n",
      "2325393614592\n",
      "after modifying the list using person1 variable, now will access the list using person variable\n",
      " ['yogi', 30, 154, 79.5, [1000, 4000, 3000, 500, 1500], 37.6, 'M', 'SALEM']\n",
      "person= ['yogi', 30, 154, 79.5, [1000, 4000, 3000, 500, 1500], 37.6, 'M', 'SALEM']\n",
      "person2 =  ['yogi', 22, 154, 153.98, [1000, 4000, 3000, 500, 1500], 37.6, 'M', 'SALEM']\n",
      "[1, 10, 20, 30, 5, 6, 7]\n",
      "[1, 11, 22, 33, 30, 5, 6, 7]\n"
     ]
    }
   ],
   "source": [
    "print(\"Elements in the list: \",person,\"\\n\")\n",
    "person1 = person #copying a list to another list -> after this the list is been referred by two variable person and person1\n",
    "person2 = person.copy() #copying a list to another list using copy() function - which will create a copy and store in the person2\n",
    "print(person2)\n",
    "print(person1)\n",
    "print(id(person))\n",
    "print(id(person1))\n",
    "print(id(person2))\n",
    "person1[1] = 30 #a single list is been referred by two variables (person and person1), therefore if we modify the list using person1 variable, the list will be update\n",
    "print(\"after modifying the list using person1 variable, now will access the list using person variable\\n\",person)\n",
    "person2[3] = 153.98\n",
    "print(\"person=\",person)\n",
    "print(\"person2 = \",person2)\n",
    "l = [1,2,3,4,5,6,7]\n",
    "l[1:4] = [10,20,30]\n",
    "print(l)\n",
    "l[1:3] = [11,22,33]\n",
    "print(l)"
   ]
  },
  {
   "cell_type": "markdown",
   "id": "bd2ea500",
   "metadata": {},
   "source": [
    "##### Using the copy() method\n",
    "The copy method can be used to create a copy of a list. This will create a new list and any changes made in the original list will not reflect in the new list. This is **shallow copying.**"
   ]
  },
  {
   "cell_type": "markdown",
   "id": "58ce9c45",
   "metadata": {},
   "source": [
    "### Basic List operations"
   ]
  },
  {
   "cell_type": "code",
   "execution_count": 4,
   "id": "2251ac0c",
   "metadata": {},
   "outputs": [
    {
     "name": "stdout",
     "output_type": "stream",
     "text": [
      "8\n",
      "['yogi', 22, 154, 79.5, [1000, 4000, 3000, 500, 1500], 37.6, 'M', 'SALEM', 'Rice', 'Poori', 'Sweet']\n",
      "['yogi', 22, 154, 79.5, [1000, 4000, 3000, 500, 1500], 37.6, 'M', 'SALEM', 'yogi', 22, 154, 79.5, [1000, 4000, 3000, 500, 1500], 37.6, 'M', 'SALEM', 'yogi', 22, 154, 79.5, [1000, 4000, 3000, 500, 1500], 37.6, 'M', 'SALEM']\n",
      "462\n",
      "False\n",
      "False\n"
     ]
    },
    {
     "ename": "NameError",
     "evalue": "name 'person1' is not defined",
     "output_type": "error",
     "traceback": [
      "\u001b[1;31m---------------------------------------------------------------------------\u001b[0m",
      "\u001b[1;31mNameError\u001b[0m                                 Traceback (most recent call last)",
      "Cell \u001b[1;32mIn[4], line 7\u001b[0m\n\u001b[0;32m      5\u001b[0m \u001b[38;5;28mprint\u001b[39m(\u001b[38;5;241m25\u001b[39m \u001b[38;5;129;01min\u001b[39;00m person)\n\u001b[0;32m      6\u001b[0m \u001b[38;5;28mprint\u001b[39m(\u001b[38;5;124m\"\u001b[39m\u001b[38;5;124m25\u001b[39m\u001b[38;5;124m\"\u001b[39m \u001b[38;5;129;01min\u001b[39;00m person)\n\u001b[1;32m----> 7\u001b[0m \u001b[38;5;28mprint\u001b[39m(\u001b[38;5;124m\"\u001b[39m\u001b[38;5;124myogi\u001b[39m\u001b[38;5;124m\"\u001b[39m \u001b[38;5;129;01mnot\u001b[39;00m \u001b[38;5;129;01min\u001b[39;00m \u001b[43mperson1\u001b[49m)\n\u001b[0;32m      8\u001b[0m \u001b[38;5;66;03m#print(max(person))\u001b[39;00m\n\u001b[0;32m      9\u001b[0m l \u001b[38;5;241m=\u001b[39m [\u001b[38;5;241m12\u001b[39m,\u001b[38;5;241m45\u001b[39m,\u001b[38;5;241m3\u001b[39m,\u001b[38;5;241m89\u001b[39m,\u001b[38;5;241m900\u001b[39m]\n",
      "\u001b[1;31mNameError\u001b[0m: name 'person1' is not defined"
     ]
    }
   ],
   "source": [
    "print(len(person))\n",
    "print(person + [\"Rice\",\"Poori\",\"Sweet\"])\n",
    "print(person * 3)\n",
    "print(person[2] * 3)\n",
    "print(25 in person)\n",
    "print(\"25\" in person)\n",
    "print(\"yogi\" not in person1)\n",
    "#print(max(person))"
   ]
  },
  {
   "cell_type": "code",
   "execution_count": 5,
   "id": "bccf2654-9ffa-4946-9aeb-b52ad7f57dee",
   "metadata": {},
   "outputs": [
    {
     "name": "stdout",
     "output_type": "stream",
     "text": [
      "900\n",
      "3\n",
      "True\n",
      "False\n",
      "True\n",
      "[12, 45, 3, 89, 900]\n",
      "[3, 12, 45, 89, 900]\n",
      "['P', 'y', 't', 'h', 'o', 'n', ' ', 'P', 'r', 'o', 'g', 'r', 'a', 'm', 'm', 'i', 'n', 'g']\n"
     ]
    }
   ],
   "source": [
    "l = [12,45,3,89,900]\n",
    "print(max(l))\n",
    "print(min(l))\n",
    "print(all(l)) #return true if all the elements are true\n",
    "print(all([1,4,9,2,0])) #returns false as it contains 0\n",
    "print(any([1,4,9,2,0])) #return true if any element is true\n",
    "l1 = sorted(l)\n",
    "print(l)\n",
    "print(l1)\n",
    "str_list = list(\"Python Programming\")\n",
    "print(str_list)"
   ]
  },
  {
   "cell_type": "markdown",
   "id": "399360c7",
   "metadata": {},
   "source": [
    "### List Methods"
   ]
  },
  {
   "cell_type": "code",
   "execution_count": 2,
   "id": "a845184e",
   "metadata": {},
   "outputs": [
    {
     "name": "stdout",
     "output_type": "stream",
     "text": [
      "[12, 45, 3, 89, 900, 100, 4, 3, 2, 6, 9, 7, 500]\n"
     ]
    }
   ],
   "source": [
    "l = [12,45,3,89,900,100,4,3,2,6,9,7]\n",
    "l.append(500)\n",
    "print(l)"
   ]
  },
  {
   "cell_type": "code",
   "execution_count": 3,
   "id": "c716d9e1",
   "metadata": {},
   "outputs": [
    {
     "name": "stdout",
     "output_type": "stream",
     "text": [
      "Enter number of elements to be added to the list: 3\n",
      "Enter the elements to be added to the list: \n",
      "Enter the element1\n",
      "Enter the element2\n",
      "Enter the element3\n",
      "[1, 2, 3]\n"
     ]
    }
   ],
   "source": [
    "new = []\n",
    "n = int(input(\"Enter number of elements to be added to the list: \"))\n",
    "print(\"Enter the elements to be added to the list: \")\n",
    "for i in range(n):\n",
    "    x = int(input(\"Enter the element\"))\n",
    "    new.append(x)\n",
    "print(new)"
   ]
  },
  {
   "cell_type": "code",
   "execution_count": 9,
   "id": "6c0ca138-121c-438b-9779-679ee17e3cba",
   "metadata": {},
   "outputs": [
    {
     "name": "stdin",
     "output_type": "stream",
     "text": [
      "Enter number of elements to be added to the list:  5\n"
     ]
    },
    {
     "name": "stdout",
     "output_type": "stream",
     "text": [
      "Enter the elements to be added to the list: \n"
     ]
    },
    {
     "name": "stdin",
     "output_type": "stream",
     "text": [
      "Enter the element 1\n",
      "Enter the element 3\n",
      "Enter the element 4\n",
      "Enter the element 6\n",
      "Enter the element 7\n"
     ]
    },
    {
     "name": "stdout",
     "output_type": "stream",
     "text": [
      "[4, 6]\n",
      "[1, 3, 7]\n"
     ]
    }
   ],
   "source": [
    "new_e = []\n",
    "new_o = []\n",
    "n = int(input(\"Enter number of elements to be added to the list: \"))\n",
    "print(\"Enter the elements to be added to the list: \")\n",
    "for i in range(n):\n",
    "    x = int(input(\"Enter the element\"))\n",
    "    if x % 2 == 0:\n",
    "        new_e.append(x)\n",
    "    else:\n",
    "        new_o.append(x)\n",
    "    \n",
    "print(new_e)\n",
    "print(new_o)"
   ]
  },
  {
   "cell_type": "code",
   "execution_count": 4,
   "id": "a0793c52",
   "metadata": {},
   "outputs": [
    {
     "name": "stdout",
     "output_type": "stream",
     "text": [
      "[12, 45, 3, 89, 900, 100, 4, 3, 2, 6, 9, 7, 500, 10, 20, 30]\n",
      "[12, 45, 3, 89, 900, 100, 4, 3, 2, 6, 9, 7, 500, 10, 20, 30, [30, 40, 50]]\n"
     ]
    }
   ],
   "source": [
    "new = [10,20,30]\n",
    "l.extend(new)\n",
    "print(l)\n",
    "new1 = [30,40,50]\n",
    "l.append(new1)\n",
    "print(l)"
   ]
  },
  {
   "cell_type": "code",
   "execution_count": 5,
   "id": "c8185e9e",
   "metadata": {},
   "outputs": [
    {
     "name": "stdout",
     "output_type": "stream",
     "text": [
      "[12, 45, 3, 89, 900, 100, 29, 4, 3, 2, 6, 9, 7, 500, 10, 20, 30, [30, 40, 50]]\n"
     ]
    }
   ],
   "source": [
    "#syntax - insert(index, object)\n",
    "l.insert(6,29) #20 will be inserted at the 6th index\n",
    "print(l)"
   ]
  },
  {
   "cell_type": "code",
   "execution_count": 9,
   "id": "08f00780",
   "metadata": {},
   "outputs": [
    {
     "name": "stdout",
     "output_type": "stream",
     "text": [
      "[12, 45, 89, 900, 100, 2, 6, 9, 7, 500]\n",
      "4\n"
     ]
    }
   ],
   "source": [
    "pop_e = l.pop(5) #element at 5 index will be poped\n",
    "print(l)\n",
    "print(pop_e)"
   ]
  },
  {
   "cell_type": "code",
   "execution_count": 6,
   "id": "1e52fb76",
   "metadata": {},
   "outputs": [
    {
     "name": "stdout",
     "output_type": "stream",
     "text": [
      "[45, 3, 89, 900, 100, 29, 4, 3, 2, 6, 9, 7, 500, 10, 20, 30, [30, 40, 50]]\n",
      "[45, 89, 900, 100, 29, 4, 3, 2, 6, 9, 7, 500, 10, 20, 30, [30, 40, 50]]\n"
     ]
    }
   ],
   "source": [
    "l.remove(12) #remove the ELEMENT 12 from the list\n",
    "print(l)\n",
    "l.remove(3) #element 3(first occurance) will be removed from list\n",
    "print(l)"
   ]
  },
  {
   "cell_type": "code",
   "execution_count": 9,
   "id": "c5e2e37e",
   "metadata": {},
   "outputs": [
    {
     "name": "stdout",
     "output_type": "stream",
     "text": [
      "[12, 45, 89, 900, 100, 4, 2, 6, 9, 7]\n"
     ]
    }
   ],
   "source": [
    "#to remove all the occurance of an element from the list\n",
    "ll = [12,45,3,89,900,100,4,3,2,6,9,7]\n",
    "for k in ll:\n",
    "    if k == 3:\n",
    "        ll.remove(k)\n",
    "print(ll)"
   ]
  },
  {
   "cell_type": "code",
   "execution_count": 8,
   "id": "5e1bdbfb",
   "metadata": {},
   "outputs": [
    {
     "name": "stdout",
     "output_type": "stream",
     "text": [
      "[12, 45, 89, 900, 100, 4, 2, 6, 9, 7]\n"
     ]
    }
   ],
   "source": [
    "## To remove all elements in the list\n",
    "ll = [12,45,3,89,900,100,4,3,2,6,9,7]\n",
    "for i in ll:\n",
    "    if 3 in ll:\n",
    "        ll.remove(3)\n",
    "print(ll)"
   ]
  },
  {
   "cell_type": "code",
   "execution_count": 10,
   "id": "6ae58b69",
   "metadata": {
    "scrolled": true
   },
   "outputs": [
    {
     "name": "stdout",
     "output_type": "stream",
     "text": [
      "[45, 3, 89, 900, 20, 4, 3, 2, 6, 9, 7, 500]\n",
      "[45, 3, 4, 3, 2, 6, 9, 7, 500]\n",
      "[]\n"
     ]
    },
    {
     "ename": "NameError",
     "evalue": "name 'll' is not defined",
     "output_type": "error",
     "traceback": [
      "\u001b[1;31m---------------------------------------------------------------------------\u001b[0m",
      "\u001b[1;31mNameError\u001b[0m                                 Traceback (most recent call last)",
      "\u001b[1;32m~\\AppData\\Local\\Temp/ipykernel_19004/542901844.py\u001b[0m in \u001b[0;36m<module>\u001b[1;34m\u001b[0m\n\u001b[0;32m      6\u001b[0m \u001b[0mprint\u001b[0m\u001b[1;33m(\u001b[0m\u001b[0mll\u001b[0m\u001b[1;33m)\u001b[0m\u001b[1;33m\u001b[0m\u001b[1;33m\u001b[0m\u001b[0m\n\u001b[0;32m      7\u001b[0m \u001b[1;32mdel\u001b[0m \u001b[0mll\u001b[0m\u001b[1;33m\u001b[0m\u001b[1;33m\u001b[0m\u001b[0m\n\u001b[1;32m----> 8\u001b[1;33m \u001b[0mprint\u001b[0m\u001b[1;33m(\u001b[0m\u001b[0mll\u001b[0m\u001b[1;33m)\u001b[0m\u001b[1;33m\u001b[0m\u001b[1;33m\u001b[0m\u001b[0m\n\u001b[0m",
      "\u001b[1;31mNameError\u001b[0m: name 'll' is not defined"
     ]
    }
   ],
   "source": [
    "ll = [45, 3, 89, 900, 20, 4, 3, 2, 6, 9, 7, 500]\n",
    "print(ll)\n",
    "del ll[2:5]\n",
    "print(ll)\n",
    "ll.clear()\n",
    "print(ll)\n",
    "del ll\n",
    "print(ll)"
   ]
  },
  {
   "cell_type": "code",
   "execution_count": 14,
   "id": "99dcc2e1",
   "metadata": {},
   "outputs": [
    {
     "name": "stdout",
     "output_type": "stream",
     "text": [
      "3\n"
     ]
    }
   ],
   "source": [
    "print(l.index(100))\n",
    "#print(l.index(106)) #generate error"
   ]
  },
  {
   "cell_type": "code",
   "execution_count": 17,
   "id": "3f177980",
   "metadata": {},
   "outputs": [
    {
     "name": "stdout",
     "output_type": "stream",
     "text": [
      "1\n",
      "1\n"
     ]
    }
   ],
   "source": [
    "l_n = [45, 3, 89, 900, 20, 4, 3, 2, 6, 9, 7, 500]\n",
    "for i in l_n:\n",
    "    if i == 3:\n",
    "        print(l_n.index(i))"
   ]
  },
  {
   "cell_type": "code",
   "execution_count": 101,
   "id": "485d3f99",
   "metadata": {
    "scrolled": true
   },
   "outputs": [
    {
     "name": "stdout",
     "output_type": "stream",
     "text": [
      "2\n"
     ]
    }
   ],
   "source": [
    "print(l.count(3))"
   ]
  },
  {
   "cell_type": "code",
   "execution_count": null,
   "id": "c222538b",
   "metadata": {},
   "outputs": [],
   "source": [
    "#concatenation of two list\n",
    "\n"
   ]
  },
  {
   "cell_type": "code",
   "execution_count": 19,
   "id": "49135f09",
   "metadata": {},
   "outputs": [
    {
     "name": "stdout",
     "output_type": "stream",
     "text": [
      "[45, 89, 900, 100, 29, 4, 3, 2, 6, 9, 7, 500, 10, 20, 30, [30, 40, 50]]\n",
      "[[30, 40, 50], 30, 20, 10, 500, 7, 9, 6, 2, 3, 4, 29, 100, 900, 89, 45]\n",
      "[[30, 40, 50], 30, 20, 10, 500, 7, 9, 6, 2, 3, 4, 29, 100, 900, 89, 45]\n"
     ]
    }
   ],
   "source": [
    "print(l)\n",
    "print(l[::-1])\n",
    "l.reverse()\n",
    "print(l)"
   ]
  },
  {
   "cell_type": "code",
   "execution_count": 29,
   "id": "0f938f7c",
   "metadata": {},
   "outputs": [
    {
     "name": "stdout",
     "output_type": "stream",
     "text": [
      "New list after sorted [2, 3, 3, 4, 6, 7, 9, 20, 45, 89, 500, 900]\n",
      "origignal [45, 3, 89, 900, 20, 4, 3, 2, 6, 9, 7, 500]\n",
      "[900, 500, 89, 45, 20, 9, 7, 6, 4, 3, 3, 2]\n",
      "['orange', 'apple', 'mango']\n",
      "['apple', 'mango', 'orange']\n"
     ]
    }
   ],
   "source": [
    "l = [45, 3, 89, 900, 20, 4, 3, 2, 6, 9, 7, 500]\n",
    "new_sort = sorted(l)\n",
    "print(\"New list after sorted\",new_sort)\n",
    "print(\"origignal\",l)\n",
    "l.sort(reverse=True)\n",
    "print(l)\n",
    "f = [\"orange\",\"apple\",\"mango\"]\n",
    "print(f)\n",
    "f.sort()\n",
    "print(f)"
   ]
  },
  {
   "cell_type": "code",
   "execution_count": 1,
   "id": "98c0f6a2",
   "metadata": {},
   "outputs": [
    {
     "name": "stdout",
     "output_type": "stream",
     "text": [
      "[8, 27, 64, 216, 343, 729, 8000]\n"
     ]
    }
   ],
   "source": [
    "li = [2, 3, 4, 6, 7, 9, 20]\n",
    "cube = [] #newlist\n",
    "for i in li: #for loop\n",
    "    k = i**3 #expression\n",
    "    cube.append(k) \n",
    "print(cube)"
   ]
  },
  {
   "cell_type": "markdown",
   "id": "76eca275",
   "metadata": {},
   "source": [
    "#### LIST Comprehension\n",
    "new_list = [expression for variable_name in sequence]\n",
    "\n",
    "Its contains three parts:<br>\n",
    "an expression<br>\n",
    "one or more **for loop**<br>\n",
    "one or more **if condition**<br>"
   ]
  },
  {
   "cell_type": "code",
   "execution_count": 2,
   "id": "8e9b567b",
   "metadata": {},
   "outputs": [
    {
     "name": "stdout",
     "output_type": "stream",
     "text": [
      "[8, 27, 64, 216, 343, 729, 8000]\n"
     ]
    }
   ],
   "source": [
    "li = [2, 3, 4, 6, 7, 9, 20]\n",
    "cube = [i**3 for i in li]\n",
    "print(cube)"
   ]
  },
  {
   "cell_type": "code",
   "execution_count": 3,
   "id": "3f80fed0",
   "metadata": {},
   "outputs": [
    {
     "name": "stdout",
     "output_type": "stream",
     "text": [
      "[2, 4, 6, 20]\n"
     ]
    }
   ],
   "source": [
    "li = [2, 3, 4, 6, 7, 9, 20]\n",
    "even = []\n",
    "for i in li:\n",
    "    if i%2 == 0:\n",
    "        even.append(i)\n",
    "print(even)"
   ]
  },
  {
   "cell_type": "code",
   "execution_count": 5,
   "id": "f8e6bc9a",
   "metadata": {},
   "outputs": [
    {
     "name": "stdout",
     "output_type": "stream",
     "text": [
      "[2, 4, 6, 20]\n"
     ]
    }
   ],
   "source": [
    "even = [i for i in li if i%2 == 0]\n",
    "print(even)"
   ]
  },
  {
   "cell_type": "code",
   "execution_count": 11,
   "id": "33819d6c",
   "metadata": {},
   "outputs": [
    {
     "name": "stdout",
     "output_type": "stream",
     "text": [
      "['udhya', 'keerthana']\n"
     ]
    }
   ],
   "source": [
    "names = [\"Sathish\",\"udhya\",\"shalini\",\"preethi\",\"keerthana\"]\n",
    "new_list= [i for i in names if \"i\" not in i]\n",
    "print(new_list)"
   ]
  },
  {
   "cell_type": "code",
   "execution_count": 3,
   "id": "1a5b7f53",
   "metadata": {},
   "outputs": [
    {
     "name": "stdout",
     "output_type": "stream",
     "text": [
      "[[1, 'maths'], [1, 'C'], [1, 'Python'], [2, 'maths'], [2, 'C'], [2, 'Python'], [3, 'maths'], [3, 'C'], [3, 'Python']]\n"
     ]
    }
   ],
   "source": [
    "dno = [1,2,3]\n",
    "course = [\"maths\",\"C\",\"Python\"]\n",
    "#[[1, 'maths'], [1, 'C'], [1, 'Python'], [2, 'maths'], [2, 'C'], [2, 'Python'], [3, 'maths'], [3, 'C'], [3, 'Python']]\n",
    "c=[]\n",
    "for i in dno:\n",
    "    for cc in course:\n",
    "        c.append([i,cc])\n",
    "print(c)"
   ]
  },
  {
   "cell_type": "code",
   "execution_count": null,
   "id": "832a1c7e",
   "metadata": {},
   "outputs": [],
   "source": [
    "#[[1, 5, 6, 7], [8, 9, 10], [11, 12]]\n",
    "#[1, 5, 6, 7, 8, 9, 10, 11, 12]"
   ]
  },
  {
   "cell_type": "code",
   "execution_count": 13,
   "id": "dd1925e6",
   "metadata": {},
   "outputs": [
    {
     "name": "stdout",
     "output_type": "stream",
     "text": [
      "[[1, 'maths'], [1, 'C'], [1, 'Python'], [2, 'maths'], [2, 'C'], [2, 'Python'], [3, 'maths'], [3, 'C'], [3, 'Python']]\n"
     ]
    }
   ],
   "source": [
    "c = [[i,j] for i in dno for j in course]\n",
    "print(c)"
   ]
  },
  {
   "cell_type": "code",
   "execution_count": 14,
   "id": "684ab8cd",
   "metadata": {},
   "outputs": [
    {
     "name": "stdout",
     "output_type": "stream",
     "text": [
      "['even', 'odd', 'even', 'even', 'odd', 'odd', 'even']\n"
     ]
    }
   ],
   "source": [
    "li = [2, 3, 4, 6, 7, 9, 20]\n",
    "k = [\"even\" if i%2 ==0 else \"odd\" for i in li]\n",
    "print(k)"
   ]
  },
  {
   "cell_type": "code",
   "execution_count": 4,
   "id": "7b7ae832",
   "metadata": {},
   "outputs": [
    {
     "name": "stdout",
     "output_type": "stream",
     "text": [
      "[20]\n"
     ]
    }
   ],
   "source": [
    "li = [2, 3, 4, 6, 7, 9, 20]\n",
    "k = [i for i in li if i%2 == 0 if i%5 == 0]\n",
    "print(k)"
   ]
  },
  {
   "cell_type": "code",
   "execution_count": 5,
   "id": "6f7b5c22-e9ee-46e6-8b00-de21b3f08605",
   "metadata": {},
   "outputs": [
    {
     "name": "stdin",
     "output_type": "stream",
     "text": [
      " 2\n",
      " 10\n",
      " 20\n",
      " 15\n",
      " 6\n"
     ]
    },
    {
     "name": "stdout",
     "output_type": "stream",
     "text": [
      "[10, 20]\n"
     ]
    }
   ],
   "source": [
    "li = []\n",
    "for i in range(5):\n",
    "    li.append(int(input()))\n",
    "k = [i for i in li if i%2 == 0 if i%5 == 0]\n",
    "print(k)"
   ]
  },
  {
   "cell_type": "code",
   "execution_count": 7,
   "id": "3900ec48-db9d-4b75-92ca-f52d6be4573c",
   "metadata": {},
   "outputs": [
    {
     "name": "stdin",
     "output_type": "stream",
     "text": [
      "Enter the number:  5\n",
      "Enter the number:  6\n",
      "Enter the number:  10\n",
      "Enter the number:  12\n",
      "Enter the number:  15\n"
     ]
    },
    {
     "name": "stdout",
     "output_type": "stream",
     "text": [
      "[10]\n"
     ]
    }
   ],
   "source": [
    "li = [int(input(\"Enter the number: \")) for i in range(5)]\n",
    "k = [i for i in li if i%2 == 0 if i%5 == 0]\n",
    "print(k)"
   ]
  },
  {
   "cell_type": "code",
   "execution_count": 91,
   "id": "8ff4ec69",
   "metadata": {},
   "outputs": [
    {
     "name": "stdout",
     "output_type": "stream",
     "text": [
      "56\n"
     ]
    }
   ],
   "source": [
    "li = [2, 3, 4, 6, 7, [9, 20,56]]\n",
    "print(li[5][2])"
   ]
  },
  {
   "cell_type": "markdown",
   "id": "1e88af5f",
   "metadata": {},
   "source": [
    "### filter ()\n",
    "The filter() function constructs a list from those elements of the list for which a function returns True. \n",
    "\n",
    "The **syntax** of the filter() function is given as, \n",
    "\n",
    "**filter(function, sequence)**\n",
    "\n",
    "As per the syntax, the filter() function returns a sequence that contains items from the sequence for which the function is True. If sequence is a string, Unicode, or a tuple, then the result will be of the same type;\n",
    "otherwise, it is always a list. "
   ]
  },
  {
   "cell_type": "code",
   "execution_count": 97,
   "id": "cfc58b55",
   "metadata": {},
   "outputs": [
    {
     "name": "stdout",
     "output_type": "stream",
     "text": [
      "[2, 3, 4, 6, 8, 9, 10, 12, 14, 15, 16, 18, 20, 21, 22, 24, 26, 27, 28]\n"
     ]
    }
   ],
   "source": [
    "def div(n):\n",
    "    if n%2 == 0 or n%3 == 0:\n",
    "        return True\n",
    "\n",
    "num = list(filter(div,range(1,30)))\n",
    "print(num)"
   ]
  },
  {
   "cell_type": "markdown",
   "id": "1671d072",
   "metadata": {},
   "source": [
    "### map ()\n",
    "The map() function applies a particular function to every element of a list. \n",
    "\n",
    "Its **syntax** is same as the filter function – **map(function,sequence)**\n",
    "\n",
    "After applying the specified function on the sequence, the map() function returns the modified list.\n",
    "\n",
    "The map() function calls function(item) for each item in the sequence and returns a list of the return values."
   ]
  },
  {
   "cell_type": "code",
   "execution_count": 98,
   "id": "04e53005",
   "metadata": {},
   "outputs": [
    {
     "name": "stdout",
     "output_type": "stream",
     "text": [
      "[10, 11, 12, 13, 14, 15, 16, 17, 18, 19, 20, 21, 22, 23, 24, 25, 26, 27, 28, 29]\n",
      "After adding 5 to all the elements: [15, 16, 17, 18, 19, 20, 21, 22, 23, 24, 25, 26, 27, 28, 29, 30, 31, 32, 33, 34]\n",
      "After squaring all the elements: [100, 121, 144, 169, 196, 225, 256, 289, 324, 361, 400, 441, 484, 529, 576, 625, 676, 729, 784, 841]\n"
     ]
    }
   ],
   "source": [
    "def count(n):\n",
    "    return n+5\n",
    "\n",
    "def square(n):\n",
    "    return n*n\n",
    "\n",
    "num = list(range(10,30))\n",
    "print(num)\n",
    "n = list(map(count,num))\n",
    "print(\"After adding 5 to all the elements:\",n)\n",
    "s_n = list(map(square,num))\n",
    "print(\"After squaring all the elements:\",s_n)"
   ]
  },
  {
   "cell_type": "markdown",
   "id": "22b2a5e9",
   "metadata": {},
   "source": [
    "### reduce()\n",
    "The reduce() function with syntax as given below returns a single value generated by calling the function on the first two items of the sequence, then on the result and the next item, and so on.\n",
    "\n",
    "**reduce(function,sequence)**\n"
   ]
  },
  {
   "cell_type": "code",
   "execution_count": 99,
   "id": "0a655788",
   "metadata": {},
   "outputs": [
    {
     "name": "stdout",
     "output_type": "stream",
     "text": [
      "[1, 2, 3, 4, 5]\n",
      "Products of all elements in the result:  120\n"
     ]
    }
   ],
   "source": [
    "import functools as f\n",
    "\n",
    "def pro(x,y):\n",
    "    return x*y\n",
    "\n",
    "num = list(range(1,6))\n",
    "print(num)\n",
    "\n",
    "product = f.reduce(pro,num)\n",
    "print(\"Products of all elements in the result: \",product)"
   ]
  },
  {
   "cell_type": "markdown",
   "id": "5a10af2c",
   "metadata": {},
   "source": [
    "## TUPLE"
   ]
  },
  {
   "cell_type": "code",
   "execution_count": 3,
   "id": "ebed7998",
   "metadata": {},
   "outputs": [
    {
     "name": "stdout",
     "output_type": "stream",
     "text": [
      "(101, 'Python', 3.9, 'Data Analytics', [1, 2], (3, 4))\n"
     ]
    }
   ],
   "source": [
    "pro = (101,\"Python\",3.9,\"Data Analytics\",[1,2],(3,4))\n",
    "print(pro)\n",
    "l = []\n",
    "l = list()\n",
    "tt = ()\n",
    "tt = tuple()"
   ]
  },
  {
   "cell_type": "code",
   "execution_count": 4,
   "id": "6a5b8593-d413-4a78-94d0-fceaf2c57ed5",
   "metadata": {},
   "outputs": [
    {
     "name": "stdout",
     "output_type": "stream",
     "text": [
      "(1, 2, 3, 'sdf')\n"
     ]
    }
   ],
   "source": [
    "def fun():\n",
    "    return 1,2,3,\"sdf\"\n",
    "print(fun())\n"
   ]
  },
  {
   "cell_type": "code",
   "execution_count": 4,
   "id": "0cb5bed9",
   "metadata": {},
   "outputs": [
    {
     "name": "stdout",
     "output_type": "stream",
     "text": [
      "18 2\n"
     ]
    }
   ],
   "source": [
    "rem, quo = divmod(56,3)\n",
    "print(rem,quo)"
   ]
  },
  {
   "cell_type": "code",
   "execution_count": 5,
   "id": "12acea41",
   "metadata": {},
   "outputs": [
    {
     "name": "stdout",
     "output_type": "stream",
     "text": [
      "10 20\n"
     ]
    }
   ],
   "source": [
    "a,b = (10,20) #unpacking of tuples\n",
    "print(a,b)"
   ]
  },
  {
   "cell_type": "code",
   "execution_count": 6,
   "id": "660972e0",
   "metadata": {},
   "outputs": [
    {
     "name": "stdout",
     "output_type": "stream",
     "text": [
      "0.14000000000000012 3.0\n"
     ]
    }
   ],
   "source": [
    "import math\n",
    "x = 3.14\n",
    "f, i = math.modf(x)\n",
    "print(f,i)"
   ]
  },
  {
   "cell_type": "code",
   "execution_count": 8,
   "id": "5d904781",
   "metadata": {},
   "outputs": [
    {
     "name": "stdout",
     "output_type": "stream",
     "text": [
      "Rice\n",
      "<class 'str'>\n",
      "<class 'list'>\n",
      "<class 'tuple'>\n"
     ]
    }
   ],
   "source": [
    "grocery = (\"Rice\")\n",
    "groceryl = [\"Rice\",]\n",
    "groceryt = tuple((\"Rice\"))\n",
    "print(grocery)\n",
    "print(type(grocery))\n",
    "print(type(groceryl))\n",
    "print(type(groceryt))"
   ]
  },
  {
   "cell_type": "code",
   "execution_count": 14,
   "id": "4bcdb8f2",
   "metadata": {},
   "outputs": [
    {
     "name": "stdout",
     "output_type": "stream",
     "text": [
      "('Rice',)\n",
      "<class 'tuple'>\n"
     ]
    }
   ],
   "source": [
    "grocery = (\"Rice\",)\n",
    "print(grocery)\n",
    "print(type(grocery))"
   ]
  },
  {
   "cell_type": "code",
   "execution_count": 30,
   "id": "d04bf587",
   "metadata": {},
   "outputs": [
    {
     "name": "stdout",
     "output_type": "stream",
     "text": [
      "Python\n",
      "3.9\n",
      "101\n"
     ]
    },
    {
     "ename": "IndexError",
     "evalue": "tuple index out of range",
     "output_type": "error",
     "traceback": [
      "\u001b[1;31m---------------------------------------------------------------------------\u001b[0m",
      "\u001b[1;31mIndexError\u001b[0m                                Traceback (most recent call last)",
      "\u001b[1;32m~\\AppData\\Local\\Temp/ipykernel_6272/1538878031.py\u001b[0m in \u001b[0;36m<module>\u001b[1;34m\u001b[0m\n\u001b[0;32m      3\u001b[0m \u001b[0mprint\u001b[0m\u001b[1;33m(\u001b[0m\u001b[0mpro\u001b[0m\u001b[1;33m[\u001b[0m\u001b[1;36m2\u001b[0m\u001b[1;33m]\u001b[0m\u001b[1;33m)\u001b[0m\u001b[1;33m\u001b[0m\u001b[1;33m\u001b[0m\u001b[0m\n\u001b[0;32m      4\u001b[0m \u001b[0mprint\u001b[0m\u001b[1;33m(\u001b[0m\u001b[0mpro\u001b[0m\u001b[1;33m[\u001b[0m\u001b[1;33m-\u001b[0m\u001b[1;36m4\u001b[0m\u001b[1;33m]\u001b[0m\u001b[1;33m)\u001b[0m\u001b[1;33m\u001b[0m\u001b[1;33m\u001b[0m\u001b[0m\n\u001b[1;32m----> 5\u001b[1;33m \u001b[0mprint\u001b[0m\u001b[1;33m(\u001b[0m\u001b[0mpro\u001b[0m\u001b[1;33m[\u001b[0m\u001b[1;36m6\u001b[0m\u001b[1;33m]\u001b[0m\u001b[1;33m)\u001b[0m\u001b[1;33m\u001b[0m\u001b[1;33m\u001b[0m\u001b[0m\n\u001b[0m",
      "\u001b[1;31mIndexError\u001b[0m: tuple index out of range"
     ]
    }
   ],
   "source": [
    "pro = (101,\"Python\",3.9,\"Data Analytics\")\n",
    "print(pro[1])\n",
    "print(pro[2])\n",
    "print(pro[-4])\n",
    "print(pro[6])"
   ]
  },
  {
   "cell_type": "code",
   "execution_count": 18,
   "id": "63614579",
   "metadata": {},
   "outputs": [
    {
     "name": "stdout",
     "output_type": "stream",
     "text": [
      "('Messi', 'Arg', 40, (50, 60, 40, 75), [12, 23, 34])\n",
      "23\n",
      "Possession Rate in 3rd match 75\n"
     ]
    }
   ],
   "source": [
    "foot_b = (\"Messi\",\"Arg\",40,(50,60,40,75),[12,23,34])\n",
    "print(foot_b)\n",
    "print(foot_b[4][1])\n",
    "print(\"Possession Rate in 3rd match\",foot_b[3][3])"
   ]
  },
  {
   "cell_type": "markdown",
   "id": "9f484d9c",
   "metadata": {},
   "source": [
    "### Updating Tuple"
   ]
  },
  {
   "cell_type": "code",
   "execution_count": 9,
   "id": "57b9a3c8",
   "metadata": {},
   "outputs": [
    {
     "name": "stdout",
     "output_type": "stream",
     "text": [
      "(45, 23, 56, 7, 23, 889)\n"
     ]
    },
    {
     "ename": "TypeError",
     "evalue": "'tuple' object does not support item assignment",
     "output_type": "error",
     "traceback": [
      "\u001b[1;31m---------------------------------------------------------------------------\u001b[0m",
      "\u001b[1;31mTypeError\u001b[0m                                 Traceback (most recent call last)",
      "Cell \u001b[1;32mIn[9], line 5\u001b[0m\n\u001b[0;32m      3\u001b[0m num \u001b[38;5;241m=\u001b[39m (\u001b[38;5;241m45\u001b[39m,\u001b[38;5;241m23\u001b[39m,\u001b[38;5;241m56\u001b[39m,\u001b[38;5;241m7\u001b[39m,\u001b[38;5;241m23\u001b[39m,\u001b[38;5;241m889\u001b[39m)\n\u001b[0;32m      4\u001b[0m \u001b[38;5;28mprint\u001b[39m(num)\n\u001b[1;32m----> 5\u001b[0m \u001b[43mnum\u001b[49m\u001b[43m[\u001b[49m\u001b[38;5;241;43m4\u001b[39;49m\u001b[43m]\u001b[49m \u001b[38;5;241m=\u001b[39m \u001b[38;5;241m88\u001b[39m\n\u001b[0;32m      6\u001b[0m num\u001b[38;5;241m.\u001b[39mappend(\u001b[38;5;241m67\u001b[39m)\n\u001b[0;32m      7\u001b[0m \u001b[38;5;28mprint\u001b[39m(num)\n",
      "\u001b[1;31mTypeError\u001b[0m: 'tuple' object does not support item assignment"
     ]
    }
   ],
   "source": [
    "# which is not possible\n",
    "\n",
    "num = (45,23,56,7,23,889)\n",
    "print(num)\n",
    "num[4] = 88\n",
    "num.append(67)\n",
    "print(num)"
   ]
  },
  {
   "cell_type": "code",
   "execution_count": 11,
   "id": "a5e357f6",
   "metadata": {},
   "outputs": [
    {
     "name": "stdout",
     "output_type": "stream",
     "text": [
      "(45, 23, 56, 7, 23, 88, [1, 23, 4])\n"
     ]
    }
   ],
   "source": [
    "num = (45,23,56,7,23,88,[1,23,4])\n",
    "print(num)"
   ]
  },
  {
   "cell_type": "code",
   "execution_count": 12,
   "id": "130aa992",
   "metadata": {},
   "outputs": [
    {
     "name": "stdout",
     "output_type": "stream",
     "text": [
      "23\n",
      "(45, 23, 56, 7, 23, 88, [1, 25, 4])\n"
     ]
    }
   ],
   "source": [
    "print(num[6][1])\n",
    "num[6][1] = 25\n",
    "print(num)"
   ]
  },
  {
   "cell_type": "code",
   "execution_count": 42,
   "id": "c1696a8e",
   "metadata": {},
   "outputs": [
    {
     "ename": "TypeError",
     "evalue": "'tuple' object does not support item assignment",
     "output_type": "error",
     "traceback": [
      "\u001b[1;31m---------------------------------------------------------------------------\u001b[0m",
      "\u001b[1;31mTypeError\u001b[0m                                 Traceback (most recent call last)",
      "\u001b[1;32m~\\AppData\\Local\\Temp/ipykernel_23900/2849089288.py\u001b[0m in \u001b[0;36m<module>\u001b[1;34m\u001b[0m\n\u001b[1;32m----> 1\u001b[1;33m \u001b[0mnum\u001b[0m\u001b[1;33m[\u001b[0m\u001b[1;36m6\u001b[0m\u001b[1;33m]\u001b[0m\u001b[1;33m=\u001b[0m\u001b[1;33m[\u001b[0m\u001b[1;36m1\u001b[0m\u001b[1;33m,\u001b[0m\u001b[1;36m23\u001b[0m\u001b[1;33m,\u001b[0m\u001b[1;36m4\u001b[0m\u001b[1;33m,\u001b[0m\u001b[1;36m9\u001b[0m\u001b[1;33m]\u001b[0m\u001b[1;33m\u001b[0m\u001b[1;33m\u001b[0m\u001b[0m\n\u001b[0m\u001b[0;32m      2\u001b[0m \u001b[0mprint\u001b[0m\u001b[1;33m(\u001b[0m\u001b[0mnum\u001b[0m\u001b[1;33m)\u001b[0m\u001b[1;33m\u001b[0m\u001b[1;33m\u001b[0m\u001b[0m\n",
      "\u001b[1;31mTypeError\u001b[0m: 'tuple' object does not support item assignment"
     ]
    }
   ],
   "source": [
    "num[6]=[1,23,4,9]\n",
    "print(num)"
   ]
  },
  {
   "cell_type": "code",
   "execution_count": 43,
   "id": "f7584a6b",
   "metadata": {},
   "outputs": [
    {
     "name": "stdout",
     "output_type": "stream",
     "text": [
      "(45, 23, 56, 7, 23, 88, [1, 25, 4, 9])\n",
      "(45, 23, 56, 7, 23, 88, [1, 25, 4])\n",
      "(45, 23, 56, 7, 23, 88, [1, 25])\n",
      "(45, 23, 56, 7, 23, 88, [1])\n"
     ]
    },
    {
     "ename": "TypeError",
     "evalue": "'tuple' object doesn't support item deletion",
     "output_type": "error",
     "traceback": [
      "\u001b[1;31m---------------------------------------------------------------------------\u001b[0m",
      "\u001b[1;31mTypeError\u001b[0m                                 Traceback (most recent call last)",
      "\u001b[1;32m~\\AppData\\Local\\Temp/ipykernel_23900/2750793301.py\u001b[0m in \u001b[0;36m<module>\u001b[1;34m\u001b[0m\n\u001b[0;32m      7\u001b[0m \u001b[1;32mdel\u001b[0m \u001b[0mnum\u001b[0m\u001b[1;33m[\u001b[0m\u001b[1;36m6\u001b[0m\u001b[1;33m]\u001b[0m\u001b[1;33m[\u001b[0m\u001b[1;36m1\u001b[0m\u001b[1;33m]\u001b[0m\u001b[1;33m\u001b[0m\u001b[1;33m\u001b[0m\u001b[0m\n\u001b[0;32m      8\u001b[0m \u001b[0mprint\u001b[0m\u001b[1;33m(\u001b[0m\u001b[0mnum\u001b[0m\u001b[1;33m)\u001b[0m\u001b[1;33m\u001b[0m\u001b[1;33m\u001b[0m\u001b[0m\n\u001b[1;32m----> 9\u001b[1;33m \u001b[1;32mdel\u001b[0m \u001b[0mnum\u001b[0m\u001b[1;33m[\u001b[0m\u001b[1;36m6\u001b[0m\u001b[1;33m]\u001b[0m\u001b[1;33m\u001b[0m\u001b[1;33m\u001b[0m\u001b[0m\n\u001b[0m\u001b[0;32m     10\u001b[0m \u001b[0mprint\u001b[0m\u001b[1;33m(\u001b[0m\u001b[0mnum\u001b[0m\u001b[1;33m)\u001b[0m\u001b[1;33m\u001b[0m\u001b[1;33m\u001b[0m\u001b[0m\n",
      "\u001b[1;31mTypeError\u001b[0m: 'tuple' object doesn't support item deletion"
     ]
    }
   ],
   "source": [
    "num[6].append(9)\n",
    "print(num)\n",
    "num[6].remove(9)\n",
    "print(num)\n",
    "num[6].pop() #remove the element at the last index\n",
    "print(num)\n",
    "del num[6][1]\n",
    "print(num)\n",
    "del num[6]\n",
    "print(num)"
   ]
  },
  {
   "cell_type": "code",
   "execution_count": 83,
   "id": "eef26ebd",
   "metadata": {},
   "outputs": [
    {
     "name": "stdout",
     "output_type": "stream",
     "text": [
      "('apple', 'mango', 1, 2, 3)\n",
      "('apple', 'apple', 'apple', 'apple', 'apple')\n",
      "('apple', 'orange', [100, 20], 'apple', 'orange', [100, 20], 'apple', 'orange', [100, 20], 'apple', 'orange', [100, 20], 'apple', 'orange', [100, 20])\n"
     ]
    }
   ],
   "source": [
    "# concatenating two different tuples\n",
    "print(('apple', 'mango') + (1, 2, 3))\n",
    "# repeat a tuple 5 times\n",
    "print((\"apple\",) * 5) \n",
    "print((\"apple\",\"orange\",[100,20]) * 5) "
   ]
  },
  {
   "cell_type": "markdown",
   "id": "3b8fd276",
   "metadata": {},
   "source": [
    "### Packing and Unpacking"
   ]
  },
  {
   "cell_type": "code",
   "execution_count": 73,
   "id": "ea9e291c",
   "metadata": {},
   "outputs": [
    {
     "name": "stdout",
     "output_type": "stream",
     "text": [
      "(1, 2, 'Hello')\n",
      "<class 'tuple'>\n"
     ]
    }
   ],
   "source": [
    "tuple1 = 1, 2, \"Hello\"\n",
    "print(tuple1)  \n",
    "print(type(tuple1))"
   ]
  },
  {
   "cell_type": "code",
   "execution_count": 84,
   "id": "cbfc6e21",
   "metadata": {},
   "outputs": [
    {
     "name": "stdout",
     "output_type": "stream",
     "text": [
      "1 2 Hello\n"
     ]
    },
    {
     "ename": "ValueError",
     "evalue": "too many values to unpack (expected 2)",
     "output_type": "error",
     "traceback": [
      "\u001b[1;31m---------------------------------------------------------------------------\u001b[0m",
      "\u001b[1;31mValueError\u001b[0m                                Traceback (most recent call last)",
      "\u001b[1;32m~\\AppData\\Local\\Temp/ipykernel_6272/809003952.py\u001b[0m in \u001b[0;36m<module>\u001b[1;34m\u001b[0m\n\u001b[0;32m      1\u001b[0m \u001b[0mi\u001b[0m\u001b[1;33m,\u001b[0m \u001b[0mj\u001b[0m\u001b[1;33m,\u001b[0m \u001b[0mk\u001b[0m \u001b[1;33m=\u001b[0m \u001b[0mtuple1\u001b[0m\u001b[1;33m\u001b[0m\u001b[1;33m\u001b[0m\u001b[0m\n\u001b[0;32m      2\u001b[0m \u001b[0mprint\u001b[0m\u001b[1;33m(\u001b[0m\u001b[0mi\u001b[0m\u001b[1;33m,\u001b[0m \u001b[0mj\u001b[0m\u001b[1;33m,\u001b[0m \u001b[0mk\u001b[0m\u001b[1;33m)\u001b[0m\u001b[1;33m\u001b[0m\u001b[1;33m\u001b[0m\u001b[0m\n\u001b[1;32m----> 3\u001b[1;33m \u001b[0mi\u001b[0m\u001b[1;33m,\u001b[0m \u001b[0mj\u001b[0m \u001b[1;33m=\u001b[0m \u001b[0mtuple1\u001b[0m\u001b[1;33m\u001b[0m\u001b[1;33m\u001b[0m\u001b[0m\n\u001b[0m\u001b[0;32m      4\u001b[0m \u001b[0mprint\u001b[0m\u001b[1;33m(\u001b[0m\u001b[0mi\u001b[0m\u001b[1;33m,\u001b[0m \u001b[0mj\u001b[0m\u001b[1;33m)\u001b[0m\u001b[1;33m\u001b[0m\u001b[1;33m\u001b[0m\u001b[0m\n",
      "\u001b[1;31mValueError\u001b[0m: too many values to unpack (expected 2)"
     ]
    }
   ],
   "source": [
    "#unpacking of tuples\n",
    "i, j, k = tuple1\n",
    "print(i, j, k)\n",
    "i, j = tuple1\n",
    "print(i, j)"
   ]
  },
  {
   "cell_type": "code",
   "execution_count": 44,
   "id": "014afc13",
   "metadata": {},
   "outputs": [
    {
     "name": "stdout",
     "output_type": "stream",
     "text": [
      "11\n",
      "30\n"
     ]
    }
   ],
   "source": [
    "def fun(a,b):\n",
    "    r1 = a+b\n",
    "    r2 = a*b\n",
    "    return r1,r2\n",
    "\n",
    "add,mul = fun(5,6) #after fun execution --> add,mul = (11,30)\n",
    "print(add)\n",
    "print(mul)"
   ]
  },
  {
   "cell_type": "markdown",
   "id": "d9ab7ddc",
   "metadata": {},
   "source": [
    "#### Deleting an element in a tuple"
   ]
  },
  {
   "cell_type": "code",
   "execution_count": 13,
   "id": "d74e38f9",
   "metadata": {},
   "outputs": [
    {
     "name": "stdout",
     "output_type": "stream",
     "text": [
      "9\n",
      "0\n",
      "27\n",
      "False\n",
      "True\n",
      "1\n",
      "2\n"
     ]
    }
   ],
   "source": [
    "num = (1, 2, 3, 4, 5,9,3,0)\n",
    "#num.pop() --> Error\n",
    "#del num[3] --> Error\n",
    "#print(num) \n",
    "#del num -->removes the entire tuple \n",
    "#print(num) \n",
    "print(max(num))\n",
    "print(min(num))\n",
    "print(sum(num))\n",
    "print(all(num))\n",
    "print(any(num))\n",
    "print(num.count(1))\n",
    "print(num.index(3))"
   ]
  },
  {
   "cell_type": "code",
   "execution_count": 101,
   "id": "268f41ce",
   "metadata": {},
   "outputs": [
    {
     "name": "stdout",
     "output_type": "stream",
     "text": [
      "After spliting:  ['I', 'use', 'to', 'walk', '2', 'kms', 'or', '1000', 'steps', 'per', 'day']\n",
      "Converted to tuple: ('I', 'use', 'to', 'walk', '2', 'kms', 'or', '1000', 'steps', 'per', 'day')\n",
      "['I', 'use', 'to', 'walk', '2', 'kms', 'or', '1000', 'steps', 'per', 'day']\n",
      "['I', 'use', 'to', 'walk', 2, 'kms', 'or', 1000, 'steps', 'per', 'day']\n",
      "('I', 'use', 'to', 'walk', 2, 'kms', 'or', 1000, 'steps', 'per', 'day')\n"
     ]
    }
   ],
   "source": [
    "sen = \"I use to walk 2 kms or 1000 steps per day\"\n",
    "print(\"After spliting: \",sen.split())\n",
    "tu = tuple(sen.split())\n",
    "print(\"Converted to tuple:\",tu)\n",
    "#tu[5] = int(tup[5])\n",
    "lis = list(tu)\n",
    "print(lis)\n",
    "lis[4],lis[7] = int(lis[4]),int(lis[7])\n",
    "print(lis)\n",
    "new_tu = tuple(lis)\n",
    "print(new_tu)"
   ]
  },
  {
   "cell_type": "code",
   "execution_count": 92,
   "id": "089971a3",
   "metadata": {},
   "outputs": [
    {
     "name": "stdout",
     "output_type": "stream",
     "text": [
      "1. ('I', 'use', 'to', 'walk', 2, 'kms', 'or', 1000, 'steps', 'per', 'day')\n",
      "2. ('I', 'use', 'to', 'walk', 2, 'kms')\n",
      "3. ('I', 'walk', 'or', 'per')\n",
      "4. ('use', 'walk')\n",
      "5. ('walk', 2, 'kms')\n",
      "6. ('day', 1000, 2, 'use')\n",
      "7. (2, 'or', 'steps')\n"
     ]
    }
   ],
   "source": [
    "print(\"1.\",new_tu[::])\n",
    "print(\"2.\",new_tu[0 : 6])\n",
    "print(\"3.\",new_tu[:: 3]) # jumping every third element from start to end\n",
    "print(\"4.\",new_tu[1:5:2])\n",
    "print(\"5.\",new_tu[-8:-5]) # 8th index to 5th index from end\n",
    "print(\"6.\",new_tu[::-3]) # jumping every 3rd element in reverse\n",
    "print(\"7.\",new_tu[-7:-1:2]) "
   ]
  },
  {
   "cell_type": "code",
   "execution_count": 72,
   "id": "f03d977c",
   "metadata": {
    "collapsed": true,
    "jupyter": {
     "outputs_hidden": true
    }
   },
   "outputs": [
    {
     "name": "stdout",
     "output_type": "stream",
     "text": [
      "('I', 'use', 'to', 'walk', 2, 'kms', 'or', 1000, 'steps', 'per', 'day')\n",
      "('I', 'use', 'to', 'walk', 2, 'kms', 'or', 1000, 'steps', 'per', 'day', 1, 2, 3)\n",
      "('I', 'use', 'to', 'walk', 2, 'kms', 'or', 1000, 'steps', 'per', 'day', 'I', 'use', 'to', 'walk', 2, 'kms', 'or', 1000, 'steps', 'per', 'day', 'I', 'use', 'to', 'walk', 2, 'kms', 'or', 1000, 'steps', 'per', 'day', 'I', 'use', 'to', 'walk', 2, 'kms', 'or', 1000, 'steps', 'per', 'day')\n",
      "kmskmskmskms\n",
      "11\n",
      "False\n",
      "I\n",
      "use\n",
      "to\n",
      "walk\n",
      "2\n",
      "kms\n",
      "or\n",
      "1000\n",
      "steps\n",
      "per\n",
      "day\n"
     ]
    }
   ],
   "source": [
    "print(new_tu)\n",
    "result = new_tu + (1, 2, 3)\n",
    "print(result)\n",
    "print(new_tu * 4)\n",
    "print(new_tu[5] * 4)\n",
    "print(len(new_tu))\n",
    "print(\"i\" in new_tu)\n",
    "for t in new_tu:\n",
    "    print(t)"
   ]
  },
  {
   "cell_type": "markdown",
   "id": "bd2be0f9",
   "metadata": {},
   "source": [
    "### zip() function\n",
    "\n",
    "The **zip()** is a built-in function that takes two or more sequences and **\"zips\"** them into a list of tuples. The tuple thus, formed has one element from each sequence. "
   ]
  },
  {
   "cell_type": "code",
   "execution_count": 14,
   "id": "61be77dd",
   "metadata": {},
   "outputs": [
    {
     "name": "stdout",
     "output_type": "stream",
     "text": [
      "<zip object at 0x00000182ACA5BC80>\n"
     ]
    }
   ],
   "source": [
    "dno = [1,2,3,4,5,6]\n",
    "course = [\"maths\",\"C\",\"Python\",\"DS\"]\n",
    "new_list = list(zip(dno,course))\n",
    "print(new_list)"
   ]
  },
  {
   "cell_type": "markdown",
   "id": "a283da9e",
   "metadata": {},
   "source": [
    "## SET"
   ]
  },
  {
   "cell_type": "code",
   "execution_count": 20,
   "id": "28e3ed4e",
   "metadata": {},
   "outputs": [
    {
     "name": "stdout",
     "output_type": "stream",
     "text": [
      "<class 'dict'>\n",
      "<class 'set'>\n",
      "{3, 70, 8, 9, 12}\n",
      "{1, 2, 5, 7}\n",
      "{1, 2, 3, 4}\n",
      "{1, 2, 3.0, (2+8j)}\n"
     ]
    }
   ],
   "source": [
    "setA = {3,70,8,12,9,3}\n",
    "s = {}\n",
    "s1 = set()\n",
    "print(type(s))\n",
    "print(type(s1))\n",
    "setB=set([5,1,2,5,7])\n",
    "setC=set((1,2,3,4))\n",
    "print(setA)\n",
    "print(setB)\n",
    "print(setC)\n",
    "#A = {1,3,\"Jack\",(1,2,3),{56,67}}\n",
    "B = {1,2,3.0,2+8j}\n",
    "#print(A)\n",
    "print(B)"
   ]
  },
  {
   "cell_type": "code",
   "execution_count": 113,
   "id": "96c71c49",
   "metadata": {
    "collapsed": true,
    "jupyter": {
     "outputs_hidden": true
    }
   },
   "outputs": [
    {
     "name": "stdout",
     "output_type": "stream",
     "text": [
      "{}\n",
      "<class 'dict'>\n",
      "set()\n",
      "<class 'set'>\n"
     ]
    }
   ],
   "source": [
    "A = {} #creates  an empty dict\n",
    "print(A)\n",
    "print(type(A))\n",
    "B =set() #create an empty set\n",
    "print(B)\n",
    "print(type(B))"
   ]
  },
  {
   "cell_type": "code",
   "execution_count": 21,
   "id": "87b34ec5",
   "metadata": {},
   "outputs": [
    {
     "name": "stdout",
     "output_type": "stream",
     "text": [
      "True\n",
      "False\n"
     ]
    }
   ],
   "source": [
    "#returns True if two sets don't have any common items between both sets\n",
    "setA = {3,70,8,12,9,3}\n",
    "setB=set([5,1,2,5,7])\n",
    "setC=set((1,2,3,4))\n",
    "print(setA.isdisjoint(setB))\n",
    "print(setA.isdisjoint(setC))"
   ]
  },
  {
   "cell_type": "code",
   "execution_count": 22,
   "id": "119eb53a",
   "metadata": {},
   "outputs": [
    {
     "name": "stdout",
     "output_type": "stream",
     "text": [
      "True\n",
      "False\n"
     ]
    }
   ],
   "source": [
    "#The issubset() method return True if set A is the subset of B\n",
    "A = {10,20,30}\n",
    "B = {10,40,60,30,20}\n",
    "print(A.issubset(B)) #all items of A are present in B\n",
    "print(B.issubset(A))"
   ]
  },
  {
   "cell_type": "code",
   "execution_count": 23,
   "id": "3a0b3d4a",
   "metadata": {},
   "outputs": [
    {
     "name": "stdout",
     "output_type": "stream",
     "text": [
      "1660753778208\n",
      "1660753779328\n",
      "True\n",
      "False\n",
      "False\n",
      "False\n"
     ]
    }
   ],
   "source": [
    "'''The issuperset() returns True if a set has every elements \n",
    "in another set(Passed as an argument)'''\n",
    "A = {10,20,30,40,50}\n",
    "B = {10,2,30}\n",
    "C = {10,20}\n",
    "print(id(A))\n",
    "print(id(C))\n",
    "print(A>=C)\n",
    "print(A.issuperset(B))\n",
    "print(B.issuperset(A))\n",
    "print(B.issuperset(C))"
   ]
  },
  {
   "cell_type": "code",
   "execution_count": 12,
   "id": "d7a55d5a",
   "metadata": {},
   "outputs": [
    {
     "name": "stdout",
     "output_type": "stream",
     "text": [
      "{50, 2, 20, 40, 10, 30}\n"
     ]
    }
   ],
   "source": [
    "A = {10,20,30,40,50}\n",
    "B = {10,2,30}\n",
    "c = A.union(B)\n",
    "d = A|B\n",
    "print(c)\n",
    "print(d)"
   ]
  },
  {
   "cell_type": "code",
   "execution_count": 24,
   "id": "a4d16854",
   "metadata": {},
   "outputs": [
    {
     "name": "stdout",
     "output_type": "stream",
     "text": [
      "{10, 30}\n",
      "{10, 30}\n"
     ]
    }
   ],
   "source": [
    "A = {10,20,30,40,50}\n",
    "B = {10,2,30}\n",
    "c = A.intersection(B)\n",
    "d = A&B\n",
    "print(c)\n",
    "print(d)"
   ]
  },
  {
   "cell_type": "code",
   "execution_count": 25,
   "id": "798398b5",
   "metadata": {},
   "outputs": [
    {
     "name": "stdout",
     "output_type": "stream",
     "text": [
      "{40, 50, 20}\n",
      "{40, 50, 20}\n"
     ]
    }
   ],
   "source": [
    "A = {10,20,30,40,50}\n",
    "B = {10,2,30}\n",
    "c = A.difference(B)\n",
    "d = A-B\n",
    "print(c)\n",
    "print(d)"
   ]
  },
  {
   "cell_type": "code",
   "execution_count": 16,
   "id": "d6cd5195",
   "metadata": {},
   "outputs": [
    {
     "name": "stdout",
     "output_type": "stream",
     "text": [
      "{2, 40, 50, 20}\n",
      "{2, 40, 50, 20}\n"
     ]
    }
   ],
   "source": [
    "A = {10,20,30,40,50}\n",
    "B = {10,2,30}\n",
    "c = A.symmetric_difference(B)\n",
    "d = A^B\n",
    "print(c)\n",
    "print(d)"
   ]
  },
  {
   "cell_type": "code",
   "execution_count": 28,
   "id": "4a69f284",
   "metadata": {},
   "outputs": [
    {
     "name": "stdout",
     "output_type": "stream",
     "text": [
      "{50, 20, ('Welcome', 4), 40, 10, 43, 44, 30}\n"
     ]
    }
   ],
   "source": [
    "A = {10,20,30,40,50}\n",
    "A.add(44)\n",
    "A.add(43)\n",
    "A.add((\"Welcome\",4))\n",
    "print(A)"
   ]
  },
  {
   "cell_type": "code",
   "execution_count": 22,
   "id": "384b75b9",
   "metadata": {},
   "outputs": [
    {
     "name": "stdout",
     "output_type": "stream",
     "text": [
      "{50, 20, 4, 40, 10, 'Welcome', 30}\n"
     ]
    }
   ],
   "source": [
    "A = {10,20,30,40,50}\n",
    "A.update((\"Welcome\",4))\n",
    "print(A)"
   ]
  },
  {
   "cell_type": "code",
   "execution_count": 23,
   "id": "36be9ee3",
   "metadata": {},
   "outputs": [
    {
     "name": "stdout",
     "output_type": "stream",
     "text": [
      "set()\n"
     ]
    }
   ],
   "source": [
    "A = {10,20,30,40,50}\n",
    "A.clear()\n",
    "print(A)"
   ]
  },
  {
   "cell_type": "code",
   "execution_count": 31,
   "id": "b97c8ad2",
   "metadata": {},
   "outputs": [
    {
     "name": "stdout",
     "output_type": "stream",
     "text": [
      "1660753777984\n",
      "1660753772608\n",
      "Set A {10, 2, 30, 'Hello'}\n",
      "Set A {10, 2, 30, 'Hello'}\n",
      "Set B {10, 2, 30, 'Hello'}\n"
     ]
    }
   ],
   "source": [
    "A = {\"jack\",1,3.4}\n",
    "print(id(A))\n",
    "A = B\n",
    "print(id(B))\n",
    "print(\"Set A\",A)\n",
    "B.add(\"Hello\")\n",
    "print(\"Set A\",A)\n",
    "print(\"Set B\",B)"
   ]
  },
  {
   "cell_type": "code",
   "execution_count": 32,
   "id": "e043c8a6",
   "metadata": {},
   "outputs": [
    {
     "name": "stdout",
     "output_type": "stream",
     "text": [
      "Set C before adding {2, 'Hello', '89.7', 10, 30}\n",
      "Set A (changes in set C not reflected in set A) {2, 'Hello', 10, '89.7', 30}\n",
      "Set C after changing  {2, 'Hello', '89.7', 1000, 10, 30}\n"
     ]
    }
   ],
   "source": [
    "C = A.copy()\n",
    "print(\"Set C before adding\",C)\n",
    "C.add(1000)\n",
    "print(\"Set A (changes in set C not reflected in set A)\",A)\n",
    "print(\"Set C after changing \",C)"
   ]
  },
  {
   "cell_type": "code",
   "execution_count": 25,
   "id": "3d813685",
   "metadata": {},
   "outputs": [
    {
     "name": "stdout",
     "output_type": "stream",
     "text": [
      "first:  {'g', 'e', 'k', 's'}\n",
      "second:  {'g', 's', 'f', 'e', 'k'}\n"
     ]
    }
   ],
   "source": [
    "first = {'g', 'e', 'e', 'k', 's'}\n",
    "second = first.copy()\n",
    "second.add('f')\n",
    "print ('first: ',first)\n",
    "print ('second: ', second)"
   ]
  },
  {
   "cell_type": "code",
   "execution_count": 18,
   "id": "95606b09",
   "metadata": {},
   "outputs": [
    {
     "name": "stdout",
     "output_type": "stream",
     "text": [
      "{50, 40, 10, 'Welcome', 30}\n"
     ]
    }
   ],
   "source": [
    "A.discard(20)\n",
    "A.discard(99)\n",
    "print(A)"
   ]
  },
  {
   "cell_type": "code",
   "execution_count": 19,
   "id": "308bfc19",
   "metadata": {},
   "outputs": [
    {
     "ename": "KeyError",
     "evalue": "99",
     "output_type": "error",
     "traceback": [
      "\u001b[1;31m---------------------------------------------------------------------------\u001b[0m",
      "\u001b[1;31mKeyError\u001b[0m                                  Traceback (most recent call last)",
      "\u001b[1;32m~\\AppData\\Local\\Temp/ipykernel_21772/1779002597.py\u001b[0m in \u001b[0;36m<module>\u001b[1;34m\u001b[0m\n\u001b[0;32m      1\u001b[0m \u001b[0mA\u001b[0m\u001b[1;33m.\u001b[0m\u001b[0mremove\u001b[0m\u001b[1;33m(\u001b[0m\u001b[1;36m30\u001b[0m\u001b[1;33m)\u001b[0m\u001b[1;33m\u001b[0m\u001b[1;33m\u001b[0m\u001b[0m\n\u001b[1;32m----> 2\u001b[1;33m \u001b[0mA\u001b[0m\u001b[1;33m.\u001b[0m\u001b[0mremove\u001b[0m\u001b[1;33m(\u001b[0m\u001b[1;36m99\u001b[0m\u001b[1;33m)\u001b[0m\u001b[1;33m\u001b[0m\u001b[1;33m\u001b[0m\u001b[0m\n\u001b[0m\u001b[0;32m      3\u001b[0m \u001b[0mprint\u001b[0m\u001b[1;33m(\u001b[0m\u001b[0mA\u001b[0m\u001b[1;33m)\u001b[0m\u001b[1;33m\u001b[0m\u001b[1;33m\u001b[0m\u001b[0m\n",
      "\u001b[1;31mKeyError\u001b[0m: 99"
     ]
    }
   ],
   "source": [
    "A.remove(30)\n",
    "A.remove(99)\n",
    "print(A)"
   ]
  },
  {
   "cell_type": "code",
   "execution_count": 34,
   "id": "ec9cb842",
   "metadata": {},
   "outputs": [
    {
     "name": "stdout",
     "output_type": "stream",
     "text": [
      "Enter the number : 12\n",
      "6\n"
     ]
    }
   ],
   "source": [
    "#Finding factor of a number\n",
    "c_factor = 0 \n",
    "n = int(input(\"Enter the number : \"))\n",
    "for i in range(2,n/2):\n",
    "    if n%i == 0:\n",
    "        c_factor += 1\n",
    "\n",
    "print(c_factor)"
   ]
  },
  {
   "cell_type": "code",
   "execution_count": 23,
   "id": "63531e41",
   "metadata": {
    "collapsed": true,
    "jupyter": {
     "outputs_hidden": true
    }
   },
   "outputs": [
    {
     "name": "stdout",
     "output_type": "stream",
     "text": [
      "{1, 2, 3, 4, 5, 6, 7, 8, 9, 10, 11, 12, 13, 14, 15, 16, 17, 18, 19, 20, 21, 22, 23, 24, 25, 26, 27, 28, 29}\n"
     ]
    },
    {
     "data": {
      "text/plain": [
       "'Write a program that generate a set of square of numbers in the\\nrange(1-30) and another list generate numbers that are divisible by 3 in\\nthe range(1-30). Generate a newset from square set, which should not\\ncontain the numbers that are divisble by 3'"
      ]
     },
     "execution_count": 23,
     "metadata": {},
     "output_type": "execute_result"
    }
   ],
   "source": [
    "'''Write a program that generate a set of number that are prime numbers (1-50)\n",
    "and another set of numbers divisible by 5 (1-50),then apply union,\n",
    "intersection, difference and symmetric difference on the resultant sets'''\n",
    "def isprime(n):\n",
    "    if n == 1:\n",
    "        return \n",
    "    else:\n",
    "        for i in range(2,n):\n",
    "            if(_____):\n",
    "                return True\n",
    "\n",
    "A = set()\n",
    "PRIME = set()\n",
    "for i in range(1,30):\n",
    "    if i%5 == 0:\n",
    "        A.add(i)\n",
    "print(A)\n",
    "for i in range(1,30):\n",
    "    if isprime(i):\n",
    "        PRIME.add(i)\n",
    "print(PRIME)"
   ]
  },
  {
   "cell_type": "markdown",
   "id": "bb500458",
   "metadata": {},
   "source": [
    "''''Write a program that generate a set of square of numbers in the\\nrange(1-30) and another list generate numbers that are divisible by 3 in\\nthe range(1-30). Generate a newset from square set, which should not\\ncontain the numbers that are divisble by 3'\n",
    "'''"
   ]
  },
  {
   "cell_type": "code",
   "execution_count": 3,
   "id": "0bd49262",
   "metadata": {},
   "outputs": [
    {
     "name": "stdout",
     "output_type": "stream",
     "text": [
      "10\n",
      "2840139802495117273\n"
     ]
    },
    {
     "ename": "TypeError",
     "evalue": "unhashable type: 'list'",
     "output_type": "error",
     "traceback": [
      "\u001b[1;31m---------------------------------------------------------------------------\u001b[0m",
      "\u001b[1;31mTypeError\u001b[0m                                 Traceback (most recent call last)",
      "\u001b[1;32m~\\AppData\\Local\\Temp/ipykernel_23900/4004274018.py\u001b[0m in \u001b[0;36m<module>\u001b[1;34m\u001b[0m\n\u001b[0;32m      4\u001b[0m \u001b[0mprint\u001b[0m\u001b[1;33m(\u001b[0m\u001b[0mhash\u001b[0m\u001b[1;33m(\u001b[0m\u001b[0mname\u001b[0m\u001b[1;33m)\u001b[0m\u001b[1;33m)\u001b[0m\u001b[1;33m\u001b[0m\u001b[1;33m\u001b[0m\u001b[0m\n\u001b[0;32m      5\u001b[0m \u001b[0ml\u001b[0m \u001b[1;33m=\u001b[0m \u001b[1;33m[\u001b[0m\u001b[1;36m1\u001b[0m\u001b[1;33m,\u001b[0m\u001b[1;36m2\u001b[0m\u001b[1;33m,\u001b[0m\u001b[1;36m3\u001b[0m\u001b[1;33m]\u001b[0m\u001b[1;33m\u001b[0m\u001b[1;33m\u001b[0m\u001b[0m\n\u001b[1;32m----> 6\u001b[1;33m \u001b[0mprint\u001b[0m\u001b[1;33m(\u001b[0m\u001b[0mhash\u001b[0m\u001b[1;33m(\u001b[0m\u001b[0ml\u001b[0m\u001b[1;33m)\u001b[0m\u001b[1;33m)\u001b[0m\u001b[1;33m\u001b[0m\u001b[1;33m\u001b[0m\u001b[0m\n\u001b[0m",
      "\u001b[1;31mTypeError\u001b[0m: unhashable type: 'list'"
     ]
    }
   ],
   "source": [
    "a = 10\n",
    "print(hash(a))\n",
    "name = \"Kiran\"\n",
    "print(hash(name))\n",
    "l = [1,2,3]\n",
    "print(hash(l))"
   ]
  }
 ],
 "metadata": {
  "kernelspec": {
   "display_name": "Python 3 (ipykernel)",
   "language": "python",
   "name": "python3"
  },
  "language_info": {
   "codemirror_mode": {
    "name": "ipython",
    "version": 3
   },
   "file_extension": ".py",
   "mimetype": "text/x-python",
   "name": "python",
   "nbconvert_exporter": "python",
   "pygments_lexer": "ipython3",
   "version": "3.12.5"
  }
 },
 "nbformat": 4,
 "nbformat_minor": 5
}
