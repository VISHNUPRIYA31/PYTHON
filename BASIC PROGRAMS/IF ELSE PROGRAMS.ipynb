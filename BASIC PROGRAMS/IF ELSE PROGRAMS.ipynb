{
 "cells": [
  {
   "cell_type": "markdown",
   "id": "a5c5a6ae",
   "metadata": {},
   "source": [
    "#### Accept a number from the user and check whether it's a positive number or not."
   ]
  },
  {
   "cell_type": "code",
   "execution_count": 5,
   "id": "e810d464",
   "metadata": {},
   "outputs": [
    {
     "name": "stdout",
     "output_type": "stream",
     "text": [
      "Enter the number: 56\n",
      "Positive number\n"
     ]
    }
   ],
   "source": [
    "num = int(input(\"Enter the number: \"))\n",
    "if(num>0):\n",
    "    print(\"Positive number\")\n",
    "elif(num<0):\n",
    "    print(\"Negative Number\")\n",
    "else:\n",
    "    print(\"Zero\")"
   ]
  },
  {
   "cell_type": "markdown",
   "id": "48bbf1f3",
   "metadata": {},
   "source": [
    "#### Accept three sides of the triangle and check whether the triangle is possible or not."
   ]
  },
  {
   "cell_type": "code",
   "execution_count": 7,
   "id": "1db6b1bf",
   "metadata": {},
   "outputs": [
    {
     "name": "stdout",
     "output_type": "stream",
     "text": [
      "Enter the number: 2\n",
      "Enter the number: 3\n",
      "Enter the number: 6\n",
      "Triangle not Possible\n"
     ]
    }
   ],
   "source": [
    "a =  int(input(\"Enter the number: \"))\n",
    "b =  int(input(\"Enter the number: \"))\n",
    "c =  int(input(\"Enter the number: \"))\n",
    "if((a+b>c) and (b+c>a) and (a+c>b)):\n",
    "    print(\"Triangle Possible\")\n",
    "else:\n",
    "    print(\"Triangle not Possible\")"
   ]
  },
  {
   "cell_type": "markdown",
   "id": "9767a151",
   "metadata": {},
   "source": [
    "#### Check if the nth power of a number is even or not (get the number and the power as an input)."
   ]
  },
  {
   "cell_type": "code",
   "execution_count": null,
   "id": "39d049b2",
   "metadata": {},
   "outputs": [],
   "source": []
  },
  {
   "cell_type": "markdown",
   "id": "8016981f",
   "metadata": {},
   "source": [
    "#### ABC OMIN BUS TICKET FARE\n",
    "ACB - Omni Bus Company, has decided to give a traveling fare concession for the Senior Citizen as 20%, the actual fare will be Rs 1020. The upper age limit for Senior Citizens is Above ‘60’. \n",
    "For verification, they will ask for the date of birth, and if satisfied, they will be given concession and will be displayed the final traveling charge, if not original fare will be displayed. "
   ]
  },
  {
   "cell_type": "code",
   "execution_count": null,
   "id": "3bf08375",
   "metadata": {},
   "outputs": [],
   "source": []
  },
  {
   "cell_type": "markdown",
   "id": "5f3f83cf",
   "metadata": {},
   "source": [
    "#### Pythogorean Triple\n",
    "Three numbers form a Pythogorean Triple, if the sum of squares of two numbers is equal to the square of the third.\n",
    "\n",
    "For example, 3,4 and 5 form a Pythagorean triple, since 3 * 3 + 4 * 4 = 5 * 5.\n",
    "\n",
    "Enter the Three numbers n1, n2, and n3 (It should be in increasing order). If they form a Pythoagorean triple, then print ‘1’ otherwise print ‘0’."
   ]
  },
  {
   "cell_type": "code",
   "execution_count": null,
   "id": "e428171e",
   "metadata": {},
   "outputs": [],
   "source": []
  }
 ],
 "metadata": {
  "kernelspec": {
   "display_name": "Python 3 (ipykernel)",
   "language": "python",
   "name": "python3"
  },
  "language_info": {
   "codemirror_mode": {
    "name": "ipython",
    "version": 3
   },
   "file_extension": ".py",
   "mimetype": "text/x-python",
   "name": "python",
   "nbconvert_exporter": "python",
   "pygments_lexer": "ipython3",
   "version": "3.9.7"
  }
 },
 "nbformat": 4,
 "nbformat_minor": 5
}
