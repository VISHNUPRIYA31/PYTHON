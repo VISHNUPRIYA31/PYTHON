{
 "cells": [
  {
   "cell_type": "code",
   "execution_count": 172,
   "id": "f9c3a269",
   "metadata": {},
   "outputs": [
    {
     "name": "stdout",
     "output_type": "stream",
     "text": [
      "Enter a value : 10\n",
      "Enter b value : 0\n",
      "add :  10\n"
     ]
    },
    {
     "ename": "ZeroDivisionError",
     "evalue": "division by zero",
     "output_type": "error",
     "traceback": [
      "\u001b[1;31m---------------------------------------------------------------------------\u001b[0m",
      "\u001b[1;31mZeroDivisionError\u001b[0m                         Traceback (most recent call last)",
      "\u001b[1;32m~\\AppData\\Local\\Temp/ipykernel_19464/3133959089.py\u001b[0m in \u001b[0;36m<module>\u001b[1;34m\u001b[0m\n\u001b[0;32m      2\u001b[0m \u001b[0mb\u001b[0m \u001b[1;33m=\u001b[0m \u001b[0mint\u001b[0m\u001b[1;33m(\u001b[0m\u001b[0minput\u001b[0m\u001b[1;33m(\u001b[0m\u001b[1;34m\"Enter b value : \"\u001b[0m\u001b[1;33m)\u001b[0m\u001b[1;33m)\u001b[0m\u001b[1;33m\u001b[0m\u001b[1;33m\u001b[0m\u001b[0m\n\u001b[0;32m      3\u001b[0m \u001b[0mprint\u001b[0m\u001b[1;33m(\u001b[0m\u001b[1;34m\"add : \"\u001b[0m\u001b[1;33m,\u001b[0m\u001b[0ma\u001b[0m\u001b[1;33m+\u001b[0m\u001b[0mb\u001b[0m\u001b[1;33m)\u001b[0m\u001b[1;33m\u001b[0m\u001b[1;33m\u001b[0m\u001b[0m\n\u001b[1;32m----> 4\u001b[1;33m \u001b[0mprint\u001b[0m\u001b[1;33m(\u001b[0m\u001b[1;34m\"Div : \"\u001b[0m\u001b[1;33m,\u001b[0m\u001b[0ma\u001b[0m\u001b[1;33m/\u001b[0m\u001b[0mb\u001b[0m\u001b[1;33m)\u001b[0m\u001b[1;33m\u001b[0m\u001b[1;33m\u001b[0m\u001b[0m\n\u001b[0m\u001b[0;32m      5\u001b[0m \u001b[0mprint\u001b[0m\u001b[1;33m(\u001b[0m\u001b[1;34m\"Sub : \"\u001b[0m\u001b[1;33m,\u001b[0m\u001b[0ma\u001b[0m\u001b[1;33m-\u001b[0m\u001b[0mb\u001b[0m\u001b[1;33m)\u001b[0m\u001b[1;33m\u001b[0m\u001b[1;33m\u001b[0m\u001b[0m\n\u001b[0;32m      6\u001b[0m \u001b[0mprint\u001b[0m\u001b[1;33m(\u001b[0m\u001b[1;34m\"Mul : \"\u001b[0m\u001b[1;33m,\u001b[0m\u001b[0ma\u001b[0m\u001b[1;33m*\u001b[0m\u001b[0mb\u001b[0m\u001b[1;33m)\u001b[0m\u001b[1;33m\u001b[0m\u001b[1;33m\u001b[0m\u001b[0m\n",
      "\u001b[1;31mZeroDivisionError\u001b[0m: division by zero"
     ]
    }
   ],
   "source": [
    "a = int(input(\"Enter a value : \"))\n",
    "b = int(input(\"Enter b value : \"))\n",
    "print(\"add : \",a+b)\n",
    "print(\"Div : \",a/b)\n",
    "print(\"Sub : \",a-b)\n",
    "print(\"Mul : \",a*b)"
   ]
  },
  {
   "cell_type": "code",
   "execution_count": 2,
   "id": "58f6aded",
   "metadata": {},
   "outputs": [
    {
     "name": "stdout",
     "output_type": "stream",
     "text": [
      "Enter a value : 15\n",
      "Enter b value : 2\n",
      "add :  17\n",
      "Div :  7.5\n",
      "Sub :  13\n",
      "Mul :  30\n"
     ]
    }
   ],
   "source": [
    "try:\n",
    "    a = int(input(\"Enter a value : \"))\n",
    "    b = int(input(\"Enter b value : \"))\n",
    "    print(\"add : \",a+b)\n",
    "    print(\"Div : \",a/b)\n",
    "except ValueError:\n",
    "    print(\"Invalid Input\")\n",
    "except ZeroDivisionError:\n",
    "    print(\"Divide with zero not possible\")    \n",
    "print(\"Sub : \",a-b)\n",
    "print(\"Mul : \",a*b)"
   ]
  },
  {
   "cell_type": "code",
   "execution_count": 66,
   "id": "b2d96b74",
   "metadata": {},
   "outputs": [
    {
     "name": "stdout",
     "output_type": "stream",
     "text": [
      "Enter a value : 5\n",
      "Enter b value : 0\n",
      "add :  5\n",
      "Cannot divide by zero.\n",
      "Sub :  5\n",
      "Mul :  0\n",
      "Exception Handling\n"
     ]
    }
   ],
   "source": [
    "# Handling an exception\n",
    "try:\n",
    "    a = int(input(\"Enter a value : \"))\n",
    "    b = int(input(\"Enter b value : \"))\n",
    "    print(\"add : \",a+b)\n",
    "    printresult = a/b\n",
    "except ValueError:\n",
    "    print(\"Enter only integers\")\n",
    "except ZeroDivisionError:\n",
    "    print(\"Cannot divide by zero.\")\n",
    "print(\"Sub : \",a-b)\n",
    "print(\"Mul : \",a*b)\n",
    "print(\"Exception Handling\")"
   ]
  },
  {
   "cell_type": "markdown",
   "id": "23920383",
   "metadata": {},
   "source": [
    "### try with else Clause"
   ]
  },
  {
   "cell_type": "code",
   "execution_count": 10,
   "id": "97b559f1",
   "metadata": {},
   "outputs": [
    {
     "name": "stdout",
     "output_type": "stream",
     "text": [
      "Enter a value : 10\n",
      "Enter b value : f\n",
      "Enter only integers / trying to use undefined variable\n",
      "Sub :  10\n",
      "Mul :  0\n"
     ]
    }
   ],
   "source": [
    "# Handling an exception\n",
    "try:\n",
    "    a = int(input(\"Enter a value : \"))\n",
    "    b = int(input(\"Enter b value : \"))\n",
    "    print(\"add : \",a+b)\n",
    "    result = a/b\n",
    "except (ValueError,NameError):\n",
    "    print(\"Enter only integers / trying to use undefined variable\")\n",
    "except ZeroDivisionError:\n",
    "    print(\"Cannot divide by zero.\")\n",
    "else:\n",
    "    print(\"Division : \",result)\n",
    "print(\"Sub : \",a-b)\n",
    "print(\"Mul : \",a*b)"
   ]
  },
  {
   "cell_type": "code",
   "execution_count": 18,
   "id": "e0a6a3e7",
   "metadata": {},
   "outputs": [
    {
     "name": "stdout",
     "output_type": "stream",
     "text": [
      "After replacement :  [5, 8, 21, 13]\n",
      "Index not available\n",
      "After replacement :  [5, 100, 21, 13]\n"
     ]
    }
   ],
   "source": [
    "x = [5,8,9,13]\n",
    "\n",
    "def replace(x,i,e):\n",
    "    try:\n",
    "        x[i] = e\n",
    "    except IndexError:\n",
    "        print(\"Index not available\")\n",
    "    else:\n",
    "        print(\"After replacement : \",x)\n",
    "\n",
    "#find(list_variable,index,element to be replaced) \n",
    "replace(x,2,21)\n",
    "replace(x,8,21)\n",
    "replace(x,1,100)"
   ]
  },
  {
   "cell_type": "markdown",
   "id": "2aa683c0",
   "metadata": {},
   "source": [
    "## finally Keyword"
   ]
  },
  {
   "cell_type": "code",
   "execution_count": 86,
   "id": "09a65ecd",
   "metadata": {},
   "outputs": [
    {
     "name": "stdout",
     "output_type": "stream",
     "text": [
      "Enter a value : 10\n",
      "Enter b value : 0\n",
      "add :  10\n",
      "Cannot divide by zero.\n",
      "Sub :  10\n",
      "Mul :  0\n"
     ]
    }
   ],
   "source": [
    "# Handling an exception\n",
    "try:\n",
    "    a = int(input(\"Enter a value : \"))\n",
    "    b = int(input(\"Enter b value : \"))\n",
    "    print(\"add : \",a+b)\n",
    "    result = a/b\n",
    "except ValueError:\n",
    "    print(\"Enter only integers\")\n",
    "except ZeroDivisionError:\n",
    "    print(\"Cannot divide by zero.\")\n",
    "else:\n",
    "    print(\"Division : \",a/b)\n",
    "finally:\n",
    "    print(\"Sub : \",a-b)\n",
    "    print(\"Mul : \",a*b)"
   ]
  },
  {
   "cell_type": "code",
   "execution_count": 57,
   "id": "780b47c4",
   "metadata": {},
   "outputs": [
    {
     "name": "stdout",
     "output_type": "stream",
     "text": [
      "['ArithmeticError', 'AssertionError', 'AttributeError', 'BaseException', 'BlockingIOError', 'BrokenPipeError', 'BufferError', 'BytesWarning', 'ChildProcessError', 'ConnectionAbortedError', 'ConnectionError', 'ConnectionRefusedError', 'ConnectionResetError', 'DeprecationWarning', 'EOFError', 'Ellipsis', 'EnvironmentError', 'Exception', 'False', 'FileExistsError', 'FileNotFoundError', 'FloatingPointError', 'FutureWarning', 'GeneratorExit', 'IOError', 'ImportError', 'ImportWarning', 'IndentationError', 'IndexError', 'InterruptedError', 'IsADirectoryError', 'KeyError', 'KeyboardInterrupt', 'LookupError', 'MemoryError', 'ModuleNotFoundError', 'NameError', 'None', 'NotADirectoryError', 'NotImplemented', 'NotImplementedError', 'OSError', 'OverflowError', 'PendingDeprecationWarning', 'PermissionError', 'ProcessLookupError', 'RecursionError', 'ReferenceError', 'ResourceWarning', 'RuntimeError', 'RuntimeWarning', 'StopAsyncIteration', 'StopIteration', 'SyntaxError', 'SyntaxWarning', 'SystemError', 'SystemExit', 'TabError', 'TimeoutError', 'True', 'TypeError', 'UnboundLocalError', 'UnicodeDecodeError', 'UnicodeEncodeError', 'UnicodeError', 'UnicodeTranslateError', 'UnicodeWarning', 'UserWarning', 'ValueError', 'Warning', 'WindowsError', 'ZeroDivisionError', '__IPYTHON__', '__build_class__', '__debug__', '__doc__', '__import__', '__loader__', '__name__', '__package__', '__spec__', 'abs', 'all', 'any', 'ascii', 'bin', 'bool', 'breakpoint', 'bytearray', 'bytes', 'callable', 'chr', 'classmethod', 'compile', 'complex', 'copyright', 'credits', 'delattr', 'dict', 'dir', 'display', 'divmod', 'enumerate', 'eval', 'exec', 'execfile', 'filter', 'float', 'format', 'frozenset', 'get_ipython', 'getattr', 'globals', 'hasattr', 'hash', 'help', 'hex', 'id', 'input', 'int', 'isinstance', 'issubclass', 'iter', 'len', 'license', 'list', 'locals', 'map', 'max', 'memoryview', 'min', 'next', 'object', 'oct', 'open', 'ord', 'pow', 'print', 'property', 'range', 'repr', 'reversed', 'round', 'runfile', 'set', 'setattr', 'slice', 'sorted', 'staticmethod', 'str', 'sum', 'super', 'tuple', 'type', 'vars', 'zip']\n"
     ]
    }
   ],
   "source": [
    "import builtins\n",
    "print(dir(builtins))\n"
   ]
  },
  {
   "cell_type": "markdown",
   "id": "2ee2b84b",
   "metadata": {},
   "source": [
    "## Raising Exceptions"
   ]
  },
  {
   "cell_type": "markdown",
   "id": "a6f9d96d",
   "metadata": {},
   "source": [
    "### Without Raising an Error\n",
    "\n",
    "Python Program which creates a phone directory, with name and contact number. \n",
    "\n",
    "Before adding to the directory, it check whether the phone number if valid add to directory, otherwise creates an empty directory"
   ]
  },
  {
   "cell_type": "code",
   "execution_count": 15,
   "id": "005c35d8",
   "metadata": {},
   "outputs": [],
   "source": [
    "def valid_pn1(n):  #valid phone number will exactly have 10 digits\n",
    "    c = 0\n",
    "    while n!=0:\n",
    "        c += 1\n",
    "        n //= 10\n",
    "    if c != 10:\n",
    "        return False\n",
    "    else:\n",
    "        return True"
   ]
  },
  {
   "cell_type": "code",
   "execution_count": 20,
   "id": "b83ada18",
   "metadata": {},
   "outputs": [
    {
     "name": "stdout",
     "output_type": "stream",
     "text": [
      "Enter Your name : vishnu\n",
      "Enter Your number: 9874563210\n",
      "{'vishnu': 9874563210}\n"
     ]
    }
   ],
   "source": [
    "name = input(\"Enter Your name : \")    \n",
    "phone_no = int(input(\"Enter Your number: \"))\n",
    "directory = {}\n",
    "if valid_pn1(phone_no): # by passing the phone number to valid_pn() function it checks whether it is valid or not\n",
    "    directory[name] = phone_no\n",
    "print(directory)"
   ]
  },
  {
   "cell_type": "markdown",
   "id": "a572cb89",
   "metadata": {},
   "source": [
    "### Same as Above - But It raise the Error\n",
    "\n",
    "Python Program which creates a phone directory, with name and contact number. \n",
    "\n",
    "Before adding to the directory, it check whether the phone number is valid or not, will be added to the directory once it is valid"
   ]
  },
  {
   "cell_type": "code",
   "execution_count": 161,
   "id": "e79b8bdf",
   "metadata": {},
   "outputs": [],
   "source": [
    "def valid_pn(n):  #valid phone number will exactly have 10 digits\n",
    "    c = 0\n",
    "    while n!=0:\n",
    "        c += 1\n",
    "        n //= 10\n",
    "    if c != 10:\n",
    "        raise ValueError(\"Invalid Phone Number\")\n",
    "    else:\n",
    "        return True            "
   ]
  },
  {
   "cell_type": "code",
   "execution_count": 163,
   "id": "2da90048",
   "metadata": {},
   "outputs": [
    {
     "name": "stdout",
     "output_type": "stream",
     "text": [
      "Enter Your name : vishnu\n",
      "Enter Your number: 98745632\n"
     ]
    },
    {
     "ename": "ValueError",
     "evalue": "Invalid Phone Number",
     "output_type": "error",
     "traceback": [
      "\u001b[1;31m---------------------------------------------------------------------------\u001b[0m",
      "\u001b[1;31mValueError\u001b[0m                                Traceback (most recent call last)",
      "\u001b[1;32m~\\AppData\\Local\\Temp/ipykernel_19464/3976067540.py\u001b[0m in \u001b[0;36m<module>\u001b[1;34m\u001b[0m\n\u001b[0;32m      3\u001b[0m \u001b[0mdirectory\u001b[0m \u001b[1;33m=\u001b[0m \u001b[1;33m{\u001b[0m\u001b[1;33m}\u001b[0m\u001b[1;33m\u001b[0m\u001b[1;33m\u001b[0m\u001b[0m\n\u001b[0;32m      4\u001b[0m \u001b[1;33m\u001b[0m\u001b[0m\n\u001b[1;32m----> 5\u001b[1;33m \u001b[1;32mif\u001b[0m \u001b[0mvalid_pn\u001b[0m\u001b[1;33m(\u001b[0m\u001b[0mphone_no\u001b[0m\u001b[1;33m)\u001b[0m\u001b[1;33m:\u001b[0m \u001b[1;31m# by passing the phone number to valid_pn() function it checks whether it is valid or not\u001b[0m\u001b[1;33m\u001b[0m\u001b[1;33m\u001b[0m\u001b[0m\n\u001b[0m\u001b[0;32m      6\u001b[0m     \u001b[0mdirectory\u001b[0m\u001b[1;33m[\u001b[0m\u001b[0mname\u001b[0m\u001b[1;33m]\u001b[0m \u001b[1;33m=\u001b[0m \u001b[0mphone_no\u001b[0m\u001b[1;33m\u001b[0m\u001b[1;33m\u001b[0m\u001b[0m\n\u001b[0;32m      7\u001b[0m \u001b[0mprint\u001b[0m\u001b[1;33m(\u001b[0m\u001b[0mdirectory\u001b[0m\u001b[1;33m)\u001b[0m\u001b[1;33m\u001b[0m\u001b[1;33m\u001b[0m\u001b[0m\n",
      "\u001b[1;32m~\\AppData\\Local\\Temp/ipykernel_19464/2837706922.py\u001b[0m in \u001b[0;36mvalid_pn\u001b[1;34m(n)\u001b[0m\n\u001b[0;32m      5\u001b[0m         \u001b[0mn\u001b[0m \u001b[1;33m//=\u001b[0m \u001b[1;36m10\u001b[0m\u001b[1;33m\u001b[0m\u001b[1;33m\u001b[0m\u001b[0m\n\u001b[0;32m      6\u001b[0m     \u001b[1;32mif\u001b[0m \u001b[0mc\u001b[0m \u001b[1;33m!=\u001b[0m \u001b[1;36m10\u001b[0m\u001b[1;33m:\u001b[0m\u001b[1;33m\u001b[0m\u001b[1;33m\u001b[0m\u001b[0m\n\u001b[1;32m----> 7\u001b[1;33m         \u001b[1;32mraise\u001b[0m \u001b[0mValueError\u001b[0m\u001b[1;33m(\u001b[0m\u001b[1;34m\"Invalid Phone Number\"\u001b[0m\u001b[1;33m)\u001b[0m\u001b[1;33m\u001b[0m\u001b[1;33m\u001b[0m\u001b[0m\n\u001b[0m\u001b[0;32m      8\u001b[0m     \u001b[1;32melse\u001b[0m\u001b[1;33m:\u001b[0m\u001b[1;33m\u001b[0m\u001b[1;33m\u001b[0m\u001b[0m\n\u001b[0;32m      9\u001b[0m         \u001b[1;32mreturn\u001b[0m \u001b[1;32mTrue\u001b[0m\u001b[1;33m\u001b[0m\u001b[1;33m\u001b[0m\u001b[0m\n",
      "\u001b[1;31mValueError\u001b[0m: Invalid Phone Number"
     ]
    }
   ],
   "source": [
    "name = input(\"Enter Your name : \")    \n",
    "phone_no = int(input(\"Enter Your number: \"))\n",
    "directory = {}\n",
    "\n",
    "if valid_pn(phone_no): # by passing the phone number to valid_pn() function it checks whether it is valid or not\n",
    "    directory[name] = phone_no\n",
    "print(directory)"
   ]
  },
  {
   "cell_type": "markdown",
   "id": "d9a8f6f3",
   "metadata": {},
   "source": [
    "### Now will handle the raised exception\n",
    "\n",
    "By including the code in Try and Except Block"
   ]
  },
  {
   "cell_type": "code",
   "execution_count": 166,
   "id": "59be6d35",
   "metadata": {},
   "outputs": [],
   "source": [
    "def valid_pn(n):  #valid phone number will exactly have 10 digits\n",
    "    c = 0\n",
    "    while n!=0:\n",
    "        c += 1\n",
    "        n //= 10\n",
    "    try:\n",
    "        if c != 10:\n",
    "            raise ValueError\n",
    "        else:\n",
    "            return True \n",
    "    except ValueError:\n",
    "        print (\"Invalid Phone Number from except\")"
   ]
  },
  {
   "cell_type": "code",
   "execution_count": 167,
   "id": "e3c77d6c",
   "metadata": {},
   "outputs": [
    {
     "name": "stdout",
     "output_type": "stream",
     "text": [
      "Enter Your name : vishnu\n",
      "Enter Your number: 987456\n",
      "Invalid Phone Number from except\n",
      "{}\n"
     ]
    }
   ],
   "source": [
    "name = input(\"Enter Your name : \")    \n",
    "phone_no = int(input(\"Enter Your number: \"))\n",
    "directory = {}\n",
    "\n",
    "if valid_pn(phone_no): # by passing the phone number to valid_pn() function it checks whether it is valid or not\n",
    "    directory[name] = phone_no\n",
    "\n",
    "print(directory)"
   ]
  },
  {
   "cell_type": "markdown",
   "id": "922defb3",
   "metadata": {},
   "source": [
    "### Creating user defined exception\n",
    "\n",
    "In the above code we have used built in Exception (ValueError)\n",
    "\n",
    "But now will try to create our own exception"
   ]
  },
  {
   "cell_type": "code",
   "execution_count": 168,
   "id": "218dd790",
   "metadata": {},
   "outputs": [],
   "source": [
    "class InvalidPhoneNumber(Exception): #creates a new exception class - InvalidPhoneNumber\n",
    "    pass"
   ]
  },
  {
   "cell_type": "code",
   "execution_count": 169,
   "id": "56fbcb6d",
   "metadata": {},
   "outputs": [],
   "source": [
    "def valid_pn(n):  #valid phone number will exactly have 10 digits\n",
    "    c = 0\n",
    "    while n!=0:\n",
    "        c += 1\n",
    "        n //= 10\n",
    "    try:\n",
    "        if c != 10:\n",
    "            raise InvalidPhoneNumber  \n",
    "        else:\n",
    "            return True \n",
    "    except InvalidPhoneNumber:\n",
    "        print (\"Invalid Phone Number\")"
   ]
  },
  {
   "cell_type": "code",
   "execution_count": 170,
   "id": "bf712fed",
   "metadata": {},
   "outputs": [
    {
     "name": "stdout",
     "output_type": "stream",
     "text": [
      "Enter Your name : vishnu\n",
      "Enter Your number: 9874563210\n",
      "{'vishnu': 9874563210}\n"
     ]
    }
   ],
   "source": [
    "name = input(\"Enter Your name : \")    \n",
    "phone_no = int(input(\"Enter Your number: \"))\n",
    "directory = {}\n",
    "name.isalpha()\n",
    "if valid_pn(phone_no): # by passing the phone number to valid_pn() function it checks whether it is valid or not\n",
    "     directory[name] = phone_no\n",
    "        \n",
    "print(directory)"
   ]
  },
  {
   "cell_type": "markdown",
   "id": "71284119",
   "metadata": {},
   "source": [
    "## Another Example"
   ]
  },
  {
   "cell_type": "markdown",
   "id": "f73aa7c5",
   "metadata": {},
   "source": [
    "#### WITHOUT AGE VALIDATION\n",
    "Get the name, age, mark from the user and generate the dictonary as below\n",
    "\n",
    "**Sample Output**\n",
    "{'NAME': 'Vishnu', 'AGE': 30, 'MARKS': [89, 86, 85, 84, 87, 88], 'TOTAL': 519, 'AVERAGE': 86.5}"
   ]
  },
  {
   "cell_type": "code",
   "execution_count": 155,
   "id": "24dee610",
   "metadata": {},
   "outputs": [
    {
     "name": "stdout",
     "output_type": "stream",
     "text": [
      "Enter your name: Vishnu\n",
      "Enter your age: 30\n",
      "Enter 6 subject marks: \n",
      "89\n",
      "86\n",
      "85\n",
      "84\n",
      "87\n",
      "88\n",
      "{'NAME': 'Vishnu', 'AGE': 30, 'MARKS': [89, 86, 85, 84, 87, 88], 'TOTAL': 519, 'AVERAGE': 86.5}\n"
     ]
    }
   ],
   "source": [
    "name = input(\"Enter your name: \")\n",
    "age = int(input(\"Enter your age: \"))\n",
    "marks = []\n",
    "total = 0\n",
    "print(\"Enter 6 subject marks: \")\n",
    "for i in range(6):\n",
    "    marks.append(int(input()))\n",
    "for i in marks:\n",
    "    total += i\n",
    "avg = round(total/6,3)\n",
    "detail = {}\n",
    "detail[\"NAME\"] = name\n",
    "detail[\"AGE\"] = age\n",
    "detail[\"MARKS\"] = marks\n",
    "detail[\"TOTAL\"] = total\n",
    "detail[\"AVERAGE\"] = avg\n",
    "print(detail)"
   ]
  },
  {
   "cell_type": "markdown",
   "id": "df8c92bd",
   "metadata": {},
   "source": [
    "#### WITH AGE VALIDATION - Just raise an error if Age is Negative Value\n",
    "\n",
    "Get the name, age, mark from the user and generate the dictonary as below. If the age is Negative value then it should raise an Error\n",
    "\n",
    "**Sample Output**\n",
    "{'NAME': 'Vishnu', 'AGE': 30, 'MARKS': [89, 86, 85, 84, 87, 88], 'TOTAL': 519, 'AVERAGE': 86.5}"
   ]
  },
  {
   "cell_type": "code",
   "execution_count": 48,
   "id": "edc24845",
   "metadata": {},
   "outputs": [
    {
     "name": "stdout",
     "output_type": "stream",
     "text": [
      "Enter your name: sdf\n",
      "Enter your age: -9\n",
      "Enter 6 subject marks: \n",
      "56\n",
      "56\n",
      "23\n",
      "56\n",
      "56\n",
      "56\n"
     ]
    },
    {
     "ename": "Exception",
     "evalue": "Invalid Input for Age- Negative or Zero",
     "output_type": "error",
     "traceback": [
      "\u001b[1;31m---------------------------------------------------------------------------\u001b[0m",
      "\u001b[1;31mException\u001b[0m                                 Traceback (most recent call last)",
      "\u001b[1;32m~\\AppData\\Local\\Temp/ipykernel_19464/925372629.py\u001b[0m in \u001b[0;36m<module>\u001b[1;34m\u001b[0m\n\u001b[0;32m     12\u001b[0m \u001b[0mdetail\u001b[0m\u001b[1;33m[\u001b[0m\u001b[1;34m\"NAME\"\u001b[0m\u001b[1;33m]\u001b[0m \u001b[1;33m=\u001b[0m \u001b[0mname\u001b[0m\u001b[1;33m\u001b[0m\u001b[1;33m\u001b[0m\u001b[0m\n\u001b[0;32m     13\u001b[0m \u001b[1;32mif\u001b[0m \u001b[0mage\u001b[0m \u001b[1;33m<=\u001b[0m \u001b[1;36m0\u001b[0m\u001b[1;33m:\u001b[0m\u001b[1;33m\u001b[0m\u001b[1;33m\u001b[0m\u001b[0m\n\u001b[1;32m---> 14\u001b[1;33m     \u001b[1;32mraise\u001b[0m \u001b[0mException\u001b[0m\u001b[1;33m(\u001b[0m\u001b[1;34m\"Invalid Input for Age- Negative or Zero\"\u001b[0m\u001b[1;33m)\u001b[0m\u001b[1;33m\u001b[0m\u001b[1;33m\u001b[0m\u001b[0m\n\u001b[0m\u001b[0;32m     15\u001b[0m \u001b[1;32melse\u001b[0m\u001b[1;33m:\u001b[0m\u001b[1;33m\u001b[0m\u001b[1;33m\u001b[0m\u001b[0m\n\u001b[0;32m     16\u001b[0m     \u001b[0mdetail\u001b[0m\u001b[1;33m[\u001b[0m\u001b[1;34m\"AGE\"\u001b[0m\u001b[1;33m]\u001b[0m \u001b[1;33m=\u001b[0m \u001b[0mage\u001b[0m\u001b[1;33m\u001b[0m\u001b[1;33m\u001b[0m\u001b[0m\n",
      "\u001b[1;31mException\u001b[0m: Invalid Input for Age- Negative or Zero"
     ]
    }
   ],
   "source": [
    "name = input(\"Enter your name: \")\n",
    "age = int(input(\"Enter your age: \"))\n",
    "marks = []\n",
    "total = 0\n",
    "print(\"Enter 6 subject marks: \")\n",
    "for i in range(6):\n",
    "    marks.append(int(input()))\n",
    "for i in marks:\n",
    "    total += i\n",
    "avg = round(total/6,3)\n",
    "detail = {}\n",
    "detail[\"NAME\"] = name\n",
    "if age <= 0:\n",
    "    raise Exception(\"Invalid Input for Age- Negative or Zero\")\n",
    "else:\n",
    "    detail[\"AGE\"] = age\n",
    "detail[\"MARKS\"] = marks\n",
    "detail[\"TOTAL\"] = total\n",
    "detail[\"AVERAGE\"] = avg\n",
    "print(detail)"
   ]
  },
  {
   "cell_type": "markdown",
   "id": "728a76b7",
   "metadata": {},
   "source": [
    "## Handling raised exception"
   ]
  },
  {
   "cell_type": "markdown",
   "id": "3d35178b",
   "metadata": {},
   "source": [
    "#### WITH AGE VALIDATION - Handles the raised error if Age is Negative Value\n",
    "\n",
    "Get the name, age, mark from the user and generate the dictonary as below. If the age is Negative value then it should raise an Error\n",
    "\n",
    "**Sample Output**\n",
    "{'NAME': 'Vishnu', 'AGE': 30, 'MARKS': [89, 86, 85, 84, 87, 88], 'TOTAL': 519, 'AVERAGE': 86.5}"
   ]
  },
  {
   "cell_type": "code",
   "execution_count": 45,
   "id": "45541773",
   "metadata": {},
   "outputs": [
    {
     "ename": "IndentationError",
     "evalue": "expected an indented block (Temp/ipykernel_19464/2229584251.py, line 16)",
     "output_type": "error",
     "traceback": [
      "\u001b[1;36m  File \u001b[1;32m\"C:\\Users\\bvish\\AppData\\Local\\Temp/ipykernel_19464/2229584251.py\"\u001b[1;36m, line \u001b[1;32m16\u001b[0m\n\u001b[1;33m    detail[\"NAME\"] = name\u001b[0m\n\u001b[1;37m    ^\u001b[0m\n\u001b[1;31mIndentationError\u001b[0m\u001b[1;31m:\u001b[0m expected an indented block\n"
     ]
    }
   ],
   "source": [
    "name = input(\"Enter your name: \")\n",
    "age = int(input(\"Enter your age: \"))\n",
    "marks = []\n",
    "total = 0\n",
    "print(\"Enter 6 subject marks: \")\n",
    "for i in range(6):\n",
    "    marks.append(int(input()))\n",
    "for i in marks:\n",
    "    total += i\n",
    "avg = round(total/6,3)\n",
    "detail = {}\n",
    "try:\n",
    "    if age <= 0:\n",
    "        raise ValueError\n",
    "except ValueError:\n",
    "    print(\"Invalid Input for Age- Negative or Zero\")\n",
    "else\n",
    "    detail[\"NAME\"] = name\n",
    "    detail[\"AGE\"] = age\n",
    "    detail[\"MARKS\"] = marks\n",
    "    detail[\"TOTAL\"] = total\n",
    "    detail[\"AVERAGE\"] = avg\n",
    "print(detail)"
   ]
  },
  {
   "cell_type": "code",
   "execution_count": 53,
   "id": "c32efe81",
   "metadata": {},
   "outputs": [
    {
     "name": "stdout",
     "output_type": "stream",
     "text": [
      "Enter ur age: 28\n",
      "Eligible to Vote\n"
     ]
    }
   ],
   "source": [
    "class User_Exception(Exception):\n",
    "    pass\n",
    "\n",
    "age = int(input(\"Enter ur age: \"))\n",
    "try:\n",
    "    if age < 0 or age < 18:\n",
    "        raise User_Exception\n",
    "except User_Exception:\n",
    "    print(\"Not Eligible to Vote\")\n",
    "else:\n",
    "        print(\"Eligible to Vote\")"
   ]
  },
  {
   "cell_type": "code",
   "execution_count": 61,
   "id": "dc2f35e1",
   "metadata": {},
   "outputs": [],
   "source": [
    "class GradeValueError(Exception):\n",
    "    pass\n",
    "\n",
    "def calculate_average_grade(grades):\n",
    "    total = 0\n",
    "    count = 0\n",
    "    for grade in grades:\n",
    "        if grade < 0 or grade > 100:\n",
    "            raise GradeValueError\n",
    "        total += grade\n",
    "        count += 1\n",
    "    return round(total / count, 2)"
   ]
  },
  {
   "cell_type": "code",
   "execution_count": 64,
   "id": "e305375e",
   "metadata": {},
   "outputs": [
    {
     "ename": "GradeValueError",
     "evalue": "",
     "output_type": "error",
     "traceback": [
      "\u001b[1;31m---------------------------------------------------------------------------\u001b[0m",
      "\u001b[1;31mGradeValueError\u001b[0m                           Traceback (most recent call last)",
      "\u001b[1;32m~\\AppData\\Local\\Temp/ipykernel_19464/293801056.py\u001b[0m in \u001b[0;36m<module>\u001b[1;34m\u001b[0m\n\u001b[0;32m      1\u001b[0m \u001b[0mcalculate_average_grade\u001b[0m\u001b[1;33m(\u001b[0m\u001b[1;33m[\u001b[0m\u001b[1;36m98\u001b[0m\u001b[1;33m,\u001b[0m \u001b[1;36m87\u001b[0m\u001b[1;33m,\u001b[0m \u001b[1;36m70\u001b[0m\u001b[1;33m]\u001b[0m\u001b[1;33m)\u001b[0m\u001b[1;33m\u001b[0m\u001b[1;33m\u001b[0m\u001b[0m\n\u001b[1;32m----> 2\u001b[1;33m \u001b[0mcalculate_average_grade\u001b[0m\u001b[1;33m(\u001b[0m\u001b[1;33m[\u001b[0m\u001b[1;36m98\u001b[0m\u001b[1;33m,\u001b[0m \u001b[1;36m87\u001b[0m\u001b[1;33m,\u001b[0m \u001b[1;36m170\u001b[0m\u001b[1;33m]\u001b[0m\u001b[1;33m)\u001b[0m\u001b[1;33m\u001b[0m\u001b[1;33m\u001b[0m\u001b[0m\n\u001b[0m",
      "\u001b[1;32m~\\AppData\\Local\\Temp/ipykernel_19464/3908973633.py\u001b[0m in \u001b[0;36mcalculate_average_grade\u001b[1;34m(grades)\u001b[0m\n\u001b[0;32m      7\u001b[0m     \u001b[1;32mfor\u001b[0m \u001b[0mgrade\u001b[0m \u001b[1;32min\u001b[0m \u001b[0mgrades\u001b[0m\u001b[1;33m:\u001b[0m\u001b[1;33m\u001b[0m\u001b[1;33m\u001b[0m\u001b[0m\n\u001b[0;32m      8\u001b[0m         \u001b[1;32mif\u001b[0m \u001b[0mgrade\u001b[0m \u001b[1;33m<\u001b[0m \u001b[1;36m0\u001b[0m \u001b[1;32mor\u001b[0m \u001b[0mgrade\u001b[0m \u001b[1;33m>\u001b[0m \u001b[1;36m100\u001b[0m\u001b[1;33m:\u001b[0m\u001b[1;33m\u001b[0m\u001b[1;33m\u001b[0m\u001b[0m\n\u001b[1;32m----> 9\u001b[1;33m             \u001b[1;32mraise\u001b[0m \u001b[0mGradeValueError\u001b[0m\u001b[1;33m\u001b[0m\u001b[1;33m\u001b[0m\u001b[0m\n\u001b[0m\u001b[0;32m     10\u001b[0m         \u001b[0mtotal\u001b[0m \u001b[1;33m+=\u001b[0m \u001b[0mgrade\u001b[0m\u001b[1;33m\u001b[0m\u001b[1;33m\u001b[0m\u001b[0m\n\u001b[0;32m     11\u001b[0m         \u001b[0mcount\u001b[0m \u001b[1;33m+=\u001b[0m \u001b[1;36m1\u001b[0m\u001b[1;33m\u001b[0m\u001b[1;33m\u001b[0m\u001b[0m\n",
      "\u001b[1;31mGradeValueError\u001b[0m: "
     ]
    }
   ],
   "source": [
    "calculate_average_grade([98, 87, 70])\n",
    "calculate_average_grade([98, 87, 170])"
   ]
  },
  {
   "cell_type": "code",
   "execution_count": 8,
   "id": "9d71a3b3",
   "metadata": {},
   "outputs": [
    {
     "name": "stdout",
     "output_type": "stream",
     "text": [
      "Enter number of elements in a list: 6\n",
      "12\n",
      "45\n",
      "18\n",
      "19\n",
      "15\n",
      "22\n",
      "Enter the index value: 7\n",
      "Index is not present, the last index value is  5\n"
     ]
    }
   ],
   "source": [
    "n = int(input(\"Enter number of elements in a list: \"))\n",
    "l = []\n",
    "for i in range(n):\n",
    "    l.append(int(input()))\n",
    "try:\n",
    "    ind = int(input(\"Enter the index value: \"))\n",
    "    print(l[ind])\n",
    "except IndexError:\n",
    "    print(\"Index is not present, the last index value is \",n-1)"
   ]
  },
  {
   "cell_type": "code",
   "execution_count": null,
   "id": "04d028c1",
   "metadata": {},
   "outputs": [],
   "source": []
  }
 ],
 "metadata": {
  "kernelspec": {
   "display_name": "Python 3 (ipykernel)",
   "language": "python",
   "name": "python3"
  },
  "language_info": {
   "codemirror_mode": {
    "name": "ipython",
    "version": 3
   },
   "file_extension": ".py",
   "mimetype": "text/x-python",
   "name": "python",
   "nbconvert_exporter": "python",
   "pygments_lexer": "ipython3",
   "version": "3.9.7"
  }
 },
 "nbformat": 4,
 "nbformat_minor": 5
}
