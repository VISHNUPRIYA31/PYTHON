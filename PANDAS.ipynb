{
 "cells": [
  {
   "cell_type": "code",
   "execution_count": 1,
   "id": "155b1ce3",
   "metadata": {},
   "outputs": [],
   "source": [
    "import pandas as pd"
   ]
  },
  {
   "cell_type": "code",
   "execution_count": 2,
   "id": "23df95b1",
   "metadata": {},
   "outputs": [
    {
     "name": "stdout",
     "output_type": "stream",
     "text": [
      "1.3.4\n"
     ]
    }
   ],
   "source": [
    "print(pd.__version__)"
   ]
  },
  {
   "cell_type": "code",
   "execution_count": 3,
   "id": "4541f5e8",
   "metadata": {},
   "outputs": [],
   "source": [
    "import numpy as np"
   ]
  },
  {
   "cell_type": "code",
   "execution_count": 4,
   "id": "c1c1d6a5",
   "metadata": {},
   "outputs": [
    {
     "name": "stdout",
     "output_type": "stream",
     "text": [
      "1.24.1\n"
     ]
    }
   ],
   "source": [
    "print(np.__version__)"
   ]
  },
  {
   "cell_type": "markdown",
   "id": "e7b5b832",
   "metadata": {},
   "source": [
    "### Creating a Series using Array"
   ]
  },
  {
   "cell_type": "code",
   "execution_count": 5,
   "id": "89f5dfec",
   "metadata": {},
   "outputs": [
    {
     "name": "stdout",
     "output_type": "stream",
     "text": [
      "[1 3 5 7 9]\n",
      "0    1\n",
      "1    3\n",
      "2    5\n",
      "3    7\n",
      "4    9\n",
      "dtype: int32\n",
      "1st    1\n",
      "2nd    3\n",
      "3rd    5\n",
      "4th    7\n",
      "5th    9\n",
      "dtype: int32\n"
     ]
    }
   ],
   "source": [
    "#create a series of odd number\n",
    "odd_arr = np.arange(1,10,2)\n",
    "print(odd_arr)\n",
    "odd_series = pd.Series(odd_arr)\n",
    "print(odd_series)\n",
    "\n",
    "i_odd_series = pd.Series(odd_arr,index = [\"1st\",\"2nd\",\"3rd\",\"4th\",\"5th\"])#with specific index = \n",
    "print(i_odd_series)\n"
   ]
  },
  {
   "cell_type": "code",
   "execution_count": 6,
   "id": "3891a69a",
   "metadata": {},
   "outputs": [
    {
     "name": "stdout",
     "output_type": "stream",
     "text": [
      "[  0   1   4   9  16  25  36  49  64  81 100 121 144 169 196 225 256 289\n",
      " 324 361]\n",
      "0       0\n",
      "1       1\n",
      "2       4\n",
      "3       9\n",
      "4      16\n",
      "5      25\n",
      "6      36\n",
      "7      49\n",
      "8      64\n",
      "9      81\n",
      "10    100\n",
      "11    121\n",
      "12    144\n",
      "13    169\n",
      "14    196\n",
      "15    225\n",
      "16    256\n",
      "17    289\n",
      "18    324\n",
      "19    361\n",
      "dtype: int32\n"
     ]
    }
   ],
   "source": [
    "num = np.arange(20)\n",
    "num = num**2 #Will perform square of all the numbers\n",
    "print(num) \n",
    "\n",
    "#will convert it to series\n",
    "num_series = pd.Series(num,index = range(20))\n",
    "print(num_series)\n"
   ]
  },
  {
   "cell_type": "code",
   "execution_count": 7,
   "id": "cebd6bc9",
   "metadata": {},
   "outputs": [
    {
     "name": "stdout",
     "output_type": "stream",
     "text": [
      "RangeIndex(start=0, stop=5, step=1)\n",
      "[  0   1   4   9  16  25  36  49  64  81 100 121 144 169 196 225 256 289\n",
      " 324 361] \n",
      "\n",
      "Index(['1st', '2nd', '3rd', '4th', '5th'], dtype='object')\n",
      "[1 3 5 7 9] \n",
      "\n",
      "RangeIndex(start=0, stop=20, step=1)\n",
      "[  0   1   4   9  16  25  36  49  64  81 100 121 144 169 196 225 256 289\n",
      " 324 361] \n",
      "\n"
     ]
    }
   ],
   "source": [
    "print(odd_series.index)\n",
    "print(num_series.values,\"\\n\") #Default Index\n",
    "print(i_odd_series.index)\n",
    "print(i_odd_series.values,\"\\n\")\n",
    "print(num_series.index)\n",
    "print(num_series.values,\"\\n\")"
   ]
  },
  {
   "cell_type": "code",
   "execution_count": 8,
   "id": "8c2ca3e3",
   "metadata": {},
   "outputs": [
    {
     "name": "stdout",
     "output_type": "stream",
     "text": [
      "0    1\n",
      "1    3\n",
      "2    5\n",
      "3    7\n",
      "4    9\n",
      "dtype: int32 \n",
      "\n",
      "1 \n",
      "\n",
      "0    1\n",
      "2    5\n",
      "dtype: int32 \n",
      "\n"
     ]
    }
   ],
   "source": [
    "print(odd_series,\"\\n\")\n",
    "print(odd_series[0],\"\\n\")\n",
    "print(odd_series[[0,2]],\"\\n\")"
   ]
  },
  {
   "cell_type": "markdown",
   "id": "fdddac5c",
   "metadata": {},
   "source": [
    "### Creating Series using Dictionary"
   ]
  },
  {
   "cell_type": "code",
   "execution_count": 9,
   "id": "83c10ad0",
   "metadata": {},
   "outputs": [
    {
     "name": "stdout",
     "output_type": "stream",
     "text": [
      "1      One\n",
      "2      Two\n",
      "3    Three\n",
      "4     Four\n",
      "5     Five\n",
      "6      Six\n",
      "7    Seven\n",
      "dtype: object\n",
      "2      Two\n",
      "1      One\n",
      "3    Three\n",
      "4     Four\n",
      "5     Five\n",
      "6      Six\n",
      "7    Seven\n",
      "dtype: object\n"
     ]
    }
   ],
   "source": [
    "Digit_word = { 1 : \"One\", 2 : \"Two\" , 3 : \"Three\" , 4 : \"Four\" , 5 : \"Five\",6 : \"Six\" , 7: \"Seven\"}\n",
    "word = pd.Series(Digit_word)\n",
    "print(word)\n",
    "word1 = pd.Series(Digit_word,index=[2,1,3,4,5,6,7])\n",
    "print(word1)"
   ]
  },
  {
   "cell_type": "code",
   "execution_count": 10,
   "id": "483ee2e6",
   "metadata": {},
   "outputs": [
    {
     "name": "stdout",
     "output_type": "stream",
     "text": [
      "1      One\n",
      "2      Two\n",
      "3    Three\n",
      "4     Four\n",
      "5     Five\n",
      "6      Six\n",
      "7    Seven\n",
      "dtype: object\n",
      "2      Two\n",
      "3    Three\n",
      "4     Four\n",
      "5     Five\n",
      "dtype: object\n",
      "1      One\n",
      "2      Two\n",
      "3    Three\n",
      "dtype: object\n",
      "3    Three\n",
      "4     Four\n",
      "5     Five\n",
      "6      Six\n",
      "7    Seven\n",
      "dtype: object\n",
      "1     One\n",
      "5    Five\n",
      "dtype: object\n"
     ]
    }
   ],
   "source": [
    "print(word)\n",
    "print (word[1:5])\n",
    "print(word[:3])\n",
    "print(word[-5:])\n",
    "print (word[[1,5]])"
   ]
  },
  {
   "cell_type": "code",
   "execution_count": 11,
   "id": "7019500d",
   "metadata": {},
   "outputs": [
    {
     "name": "stdout",
     "output_type": "stream",
     "text": [
      "b    1.0\n",
      "c    2.0\n",
      "d    NaN\n",
      "a    0.0\n",
      "dtype: float64\n",
      "a    0.0\n",
      "b    1.0\n",
      "dtype: float64\n"
     ]
    }
   ],
   "source": [
    "data = {'a' : 0., 'b' : 1., 'c' : 2.}\n",
    "s = pd.Series(data,index=['b','c','d','a'])\n",
    "print (s)\n",
    "print(s[[\"a\",\"b\"]])"
   ]
  },
  {
   "cell_type": "code",
   "execution_count": 12,
   "id": "9d85b32a",
   "metadata": {},
   "outputs": [
    {
     "name": "stdout",
     "output_type": "stream",
     "text": [
      "1        {I, One}\n",
      "2       {II, Two}\n",
      "3    {III, Three}\n",
      "4      {Four, IV}\n",
      "5       {V, Five}\n",
      "dtype: object\n"
     ]
    }
   ],
   "source": [
    "Digit_word = { 1 : {\"One\",\"I\"}, 2 : {\"Two\",\"II\"} , 3 : {\"Three\",\"III\"} , 4 : {\"Four\",\"IV\"} , 5 : {\"Five\",\"V\"}}\n",
    "word = pd.Series(Digit_word)\n",
    "print(word)"
   ]
  },
  {
   "cell_type": "markdown",
   "id": "1d24eea9",
   "metadata": {},
   "source": [
    "## Creating a Dataframe"
   ]
  },
  {
   "cell_type": "markdown",
   "id": "45655491",
   "metadata": {},
   "source": [
    "### Create a DataFrame from Lists"
   ]
  },
  {
   "cell_type": "code",
   "execution_count": 13,
   "id": "3f01baeb",
   "metadata": {},
   "outputs": [
    {
     "name": "stdout",
     "output_type": "stream",
     "text": [
      "     0  1\n",
      "0  CSE  4\n",
      "1  EEE  1\n",
      "2  ECE  2\n",
      "  Department  Section_Count\n",
      "0        CSE              4\n",
      "1        EEE              1\n",
      "2        ECE              2\n"
     ]
    }
   ],
   "source": [
    "data = [['CSE',4],['EEE',1],['ECE',2]]\n",
    "df = pd.DataFrame(data)\n",
    "print (df)\n",
    "\n",
    "df_c = pd.DataFrame(data,columns=[\"Department\",\"Section_Count\"])\n",
    "print (df_c)\n"
   ]
  },
  {
   "cell_type": "code",
   "execution_count": 14,
   "id": "39d4f297",
   "metadata": {
    "scrolled": true
   },
   "outputs": [
    {
     "name": "stdout",
     "output_type": "stream",
     "text": [
      "        0   1         2      3\n",
      "0     ABI  21  Software  26000\n",
      "1   Kiran  26        IT  32000\n",
      "2  Harish  30  Security  28000\n"
     ]
    }
   ],
   "source": [
    "emp_list = [[\"ABI\",21,\"Software\",26000],\n",
    "            [\"Kiran\",26,\"IT\",32000],\n",
    "            [\"Harish\",30,\"Security\",28000]]\n",
    "emp_df = pd.DataFrame(emp_list)\n",
    "print(emp_df)"
   ]
  },
  {
   "cell_type": "code",
   "execution_count": 15,
   "id": "88000c0f",
   "metadata": {},
   "outputs": [
    {
     "name": "stdout",
     "output_type": "stream",
     "text": [
      "        0   1         2      3\n",
      "0     ABI  21  Software  26000\n",
      "1   Kiran  26        IT  32000\n",
      "2  Harish  30  Security  28000\n"
     ]
    }
   ],
   "source": [
    "emp_list = [[\"ABI\",21,\"Software\",26000],\n",
    "            [\"Kiran\",26,\"IT\",32000],\n",
    "            [\"Harish\",30,\"Security\",28000]]\n",
    "emp_df = pd.DataFrame(emp_list)\n",
    "print(emp_df)"
   ]
  },
  {
   "cell_type": "code",
   "execution_count": 16,
   "id": "0be24e32",
   "metadata": {},
   "outputs": [
    {
     "name": "stdout",
     "output_type": "stream",
     "text": [
      "         Name  Age Department  Basic Pay\n",
      "S101      ABI   21   Software      26000\n",
      "IT120   Kiran   26         IT      32000\n",
      "SS110  Harish   30   Security      28000\n"
     ]
    }
   ],
   "source": [
    "emp_list = [[\"ABI\",21,\"Software\",26000],\n",
    "            [\"Kiran\",26,\"IT\",32000],\n",
    "            [\"Harish\",30,\"Security\",28000]]\n",
    "c_names = [\"Name\",\"Age\",\"Department\",\"Basic Pay\"]\n",
    "emp_df = pd.DataFrame(emp_list,columns=c_names,\n",
    "                     index = [\"S101\",\"IT120\",\"SS110\"])\n",
    "print(emp_df)"
   ]
  },
  {
   "cell_type": "code",
   "execution_count": 17,
   "id": "9ddc451e",
   "metadata": {},
   "outputs": [
    {
     "name": "stdout",
     "output_type": "stream",
     "text": [
      "     Name  Age Department  Basic Pay\n",
      "0     ABI   21   Software      26000\n",
      "1   Kiran   26         IT      32000\n",
      "2  Harish   30   Security      28000\n"
     ]
    },
    {
     "data": {
      "text/html": [
       "<div>\n",
       "<style scoped>\n",
       "    .dataframe tbody tr th:only-of-type {\n",
       "        vertical-align: middle;\n",
       "    }\n",
       "\n",
       "    .dataframe tbody tr th {\n",
       "        vertical-align: top;\n",
       "    }\n",
       "\n",
       "    .dataframe thead th {\n",
       "        text-align: right;\n",
       "    }\n",
       "</style>\n",
       "<table border=\"1\" class=\"dataframe\">\n",
       "  <thead>\n",
       "    <tr style=\"text-align: right;\">\n",
       "      <th></th>\n",
       "      <th>Name</th>\n",
       "      <th>Age</th>\n",
       "      <th>Department</th>\n",
       "      <th>Basic Pay</th>\n",
       "    </tr>\n",
       "  </thead>\n",
       "  <tbody>\n",
       "    <tr>\n",
       "      <th>0</th>\n",
       "      <td>ABI</td>\n",
       "      <td>21</td>\n",
       "      <td>Software</td>\n",
       "      <td>26000</td>\n",
       "    </tr>\n",
       "    <tr>\n",
       "      <th>1</th>\n",
       "      <td>Kiran</td>\n",
       "      <td>26</td>\n",
       "      <td>IT</td>\n",
       "      <td>32000</td>\n",
       "    </tr>\n",
       "    <tr>\n",
       "      <th>2</th>\n",
       "      <td>Harish</td>\n",
       "      <td>30</td>\n",
       "      <td>Security</td>\n",
       "      <td>28000</td>\n",
       "    </tr>\n",
       "  </tbody>\n",
       "</table>\n",
       "</div>"
      ],
      "text/plain": [
       "     Name  Age Department  Basic Pay\n",
       "0     ABI   21   Software      26000\n",
       "1   Kiran   26         IT      32000\n",
       "2  Harish   30   Security      28000"
      ]
     },
     "metadata": {},
     "output_type": "display_data"
    }
   ],
   "source": [
    "emp_list = [[\"ABI\",21,\"Software\",26000],\n",
    "            [\"Kiran\",26,\"IT\",32000],\n",
    "            [\"Harish\",30,\"Security\",28000]]\n",
    "emp_df = pd.DataFrame(emp_list,columns=[\"Name\",\"Age\",\"Department\",\"Basic Pay\"])\n",
    "print(emp_df)\n",
    "display(emp_df)"
   ]
  },
  {
   "cell_type": "code",
   "execution_count": 18,
   "id": "c983304a",
   "metadata": {},
   "outputs": [
    {
     "name": "stdout",
     "output_type": "stream",
     "text": [
      "Index(['Name', 'Age', 'Department', 'Basic Pay'], dtype='object')\n",
      "RangeIndex(start=0, stop=3, step=1)\n",
      "(3, 4)\n",
      "[RangeIndex(start=0, stop=3, step=1), Index(['Name', 'Age', 'Department', 'Basic Pay'], dtype='object')]\n",
      "False\n",
      "2\n",
      "12\n",
      "[['ABI' 21 'Software' 26000]\n",
      " ['Kiran' 26 'IT' 32000]\n",
      " ['Harish' 30 'Security' 28000]]\n",
      "<bound method NDFrame.head of      Name  Age Department  Basic Pay\n",
      "0     ABI   21   Software      26000\n",
      "1   Kiran   26         IT      32000\n",
      "2  Harish   30   Security      28000>\n",
      "    Name  Age Department  Basic Pay\n",
      "0    ABI   21   Software      26000\n",
      "1  Kiran   26         IT      32000\n",
      "<bound method NDFrame.tail of      Name  Age Department  Basic Pay\n",
      "0     ABI   21   Software      26000\n",
      "1   Kiran   26         IT      32000\n",
      "2  Harish   30   Security      28000>\n",
      "     Name  Age Department  Basic Pay\n",
      "1   Kiran   26         IT      32000\n",
      "2  Harish   30   Security      28000\n"
     ]
    }
   ],
   "source": [
    "print(emp_df.columns)\n",
    "print(emp_df.index)\n",
    "print(emp_df.shape)\n",
    "print(emp_df.axes)\n",
    "print(emp_df.empty)\n",
    "print(emp_df.ndim)\n",
    "print(emp_df.size)\n",
    "print(emp_df.values)\n",
    "print(emp_df.head)\n",
    "print(emp_df.head(2))\n",
    "print(emp_df.tail)\n",
    "print(emp_df.tail(2))"
   ]
  },
  {
   "cell_type": "markdown",
   "id": "4d99e91b",
   "metadata": {},
   "source": [
    "### Create a DataFrame from Dict of ndarrays / Lists"
   ]
  },
  {
   "cell_type": "markdown",
   "id": "ed66bbff",
   "metadata": {},
   "source": [
    "All the **ndarrays** must be of same length. \n",
    "\n",
    "If index is passed, then the length of the index should equal to the length of the arrays.\n",
    "\n",
    "\n",
    "If no index is passed, then by default, index will be range(n), where n is the array length."
   ]
  },
  {
   "cell_type": "code",
   "execution_count": 19,
   "id": "136c8ef4",
   "metadata": {},
   "outputs": [
    {
     "name": "stdout",
     "output_type": "stream",
     "text": [
      "  Department  SECTION\n",
      "0        CSE        4\n",
      "1        EEE        1\n",
      "2        ECE        2\n",
      "3         AD        2\n",
      "4       AIML        1\n"
     ]
    }
   ],
   "source": [
    "college = {\"Department\":[\"CSE\",\"EEE\",\"ECE\",\"AD\",\"AIML\"],\"SECTION\":[4,1,2,2,1]}\n",
    "df_clg = pd.DataFrame(college)\n",
    "print(df_clg)"
   ]
  },
  {
   "cell_type": "code",
   "execution_count": 20,
   "id": "48bda166",
   "metadata": {},
   "outputs": [
    {
     "ename": "TypeError",
     "evalue": "'set' type is unordered",
     "output_type": "error",
     "traceback": [
      "\u001b[1;31m---------------------------------------------------------------------------\u001b[0m",
      "\u001b[1;31mTypeError\u001b[0m                                 Traceback (most recent call last)",
      "\u001b[1;32m~\\AppData\\Local\\Temp/ipykernel_168/1533989875.py\u001b[0m in \u001b[0;36m<module>\u001b[1;34m\u001b[0m\n\u001b[0;32m      1\u001b[0m \u001b[1;31m#will create an error\u001b[0m\u001b[1;33m\u001b[0m\u001b[1;33m\u001b[0m\u001b[0m\n\u001b[0;32m      2\u001b[0m \u001b[0mcrk_data\u001b[0m \u001b[1;33m=\u001b[0m \u001b[1;33m{\u001b[0m\u001b[1;34m\"Bowler\"\u001b[0m\u001b[1;33m:\u001b[0m\u001b[1;33m{\u001b[0m\u001b[1;34m\"VinayKumar\"\u001b[0m\u001b[1;33m,\u001b[0m\u001b[1;34m\"Yuzvendra Chahal\"\u001b[0m\u001b[1;33m,\u001b[0m\u001b[1;34m\"Sandeep Sharma\"\u001b[0m\u001b[1;33m,\u001b[0m\u001b[1;34m\"Umesh Yadav\"\u001b[0m\u001b[1;33m}\u001b[0m\u001b[1;33m,\u001b[0m\u001b[1;34m\"Total Runs Conceded\"\u001b[0m\u001b[1;33m:\u001b[0m\u001b[1;33m[\u001b[0m\u001b[1;36m102\u001b[0m\u001b[1;33m,\u001b[0m\u001b[1;36m89\u001b[0m\u001b[1;33m,\u001b[0m\u001b[1;36m95\u001b[0m\u001b[1;33m,\u001b[0m\u001b[1;36m85\u001b[0m\u001b[1;33m]\u001b[0m\u001b[1;33m}\u001b[0m\u001b[1;33m\u001b[0m\u001b[1;33m\u001b[0m\u001b[0m\n\u001b[1;32m----> 3\u001b[1;33m \u001b[0mcr_df\u001b[0m \u001b[1;33m=\u001b[0m \u001b[0mpd\u001b[0m\u001b[1;33m.\u001b[0m\u001b[0mDataFrame\u001b[0m\u001b[1;33m(\u001b[0m\u001b[0mcrk_data\u001b[0m\u001b[1;33m)\u001b[0m\u001b[1;33m\u001b[0m\u001b[1;33m\u001b[0m\u001b[0m\n\u001b[0m\u001b[0;32m      4\u001b[0m \u001b[0mprint\u001b[0m\u001b[1;33m(\u001b[0m\u001b[0mcr_df\u001b[0m\u001b[1;33m)\u001b[0m\u001b[1;33m\u001b[0m\u001b[1;33m\u001b[0m\u001b[0m\n",
      "\u001b[1;32mE:\\Anaconda\\lib\\site-packages\\pandas\\core\\frame.py\u001b[0m in \u001b[0;36m__init__\u001b[1;34m(self, data, index, columns, dtype, copy)\u001b[0m\n\u001b[0;32m    612\u001b[0m         \u001b[1;32melif\u001b[0m \u001b[0misinstance\u001b[0m\u001b[1;33m(\u001b[0m\u001b[0mdata\u001b[0m\u001b[1;33m,\u001b[0m \u001b[0mdict\u001b[0m\u001b[1;33m)\u001b[0m\u001b[1;33m:\u001b[0m\u001b[1;33m\u001b[0m\u001b[1;33m\u001b[0m\u001b[0m\n\u001b[0;32m    613\u001b[0m             \u001b[1;31m# GH#38939 de facto copy defaults to False only in non-dict cases\u001b[0m\u001b[1;33m\u001b[0m\u001b[1;33m\u001b[0m\u001b[0m\n\u001b[1;32m--> 614\u001b[1;33m             \u001b[0mmgr\u001b[0m \u001b[1;33m=\u001b[0m \u001b[0mdict_to_mgr\u001b[0m\u001b[1;33m(\u001b[0m\u001b[0mdata\u001b[0m\u001b[1;33m,\u001b[0m \u001b[0mindex\u001b[0m\u001b[1;33m,\u001b[0m \u001b[0mcolumns\u001b[0m\u001b[1;33m,\u001b[0m \u001b[0mdtype\u001b[0m\u001b[1;33m=\u001b[0m\u001b[0mdtype\u001b[0m\u001b[1;33m,\u001b[0m \u001b[0mcopy\u001b[0m\u001b[1;33m=\u001b[0m\u001b[0mcopy\u001b[0m\u001b[1;33m,\u001b[0m \u001b[0mtyp\u001b[0m\u001b[1;33m=\u001b[0m\u001b[0mmanager\u001b[0m\u001b[1;33m)\u001b[0m\u001b[1;33m\u001b[0m\u001b[1;33m\u001b[0m\u001b[0m\n\u001b[0m\u001b[0;32m    615\u001b[0m         \u001b[1;32melif\u001b[0m \u001b[0misinstance\u001b[0m\u001b[1;33m(\u001b[0m\u001b[0mdata\u001b[0m\u001b[1;33m,\u001b[0m \u001b[0mma\u001b[0m\u001b[1;33m.\u001b[0m\u001b[0mMaskedArray\u001b[0m\u001b[1;33m)\u001b[0m\u001b[1;33m:\u001b[0m\u001b[1;33m\u001b[0m\u001b[1;33m\u001b[0m\u001b[0m\n\u001b[0;32m    616\u001b[0m             \u001b[1;32mimport\u001b[0m \u001b[0mnumpy\u001b[0m\u001b[1;33m.\u001b[0m\u001b[0mma\u001b[0m\u001b[1;33m.\u001b[0m\u001b[0mmrecords\u001b[0m \u001b[1;32mas\u001b[0m \u001b[0mmrecords\u001b[0m\u001b[1;33m\u001b[0m\u001b[1;33m\u001b[0m\u001b[0m\n",
      "\u001b[1;32mE:\\Anaconda\\lib\\site-packages\\pandas\\core\\internals\\construction.py\u001b[0m in \u001b[0;36mdict_to_mgr\u001b[1;34m(data, index, columns, dtype, typ, copy)\u001b[0m\n\u001b[0;32m    462\u001b[0m         \u001b[1;31m# TODO: can we get rid of the dt64tz special case above?\u001b[0m\u001b[1;33m\u001b[0m\u001b[1;33m\u001b[0m\u001b[0m\n\u001b[0;32m    463\u001b[0m \u001b[1;33m\u001b[0m\u001b[0m\n\u001b[1;32m--> 464\u001b[1;33m     return arrays_to_mgr(\n\u001b[0m\u001b[0;32m    465\u001b[0m         \u001b[0marrays\u001b[0m\u001b[1;33m,\u001b[0m \u001b[0mdata_names\u001b[0m\u001b[1;33m,\u001b[0m \u001b[0mindex\u001b[0m\u001b[1;33m,\u001b[0m \u001b[0mcolumns\u001b[0m\u001b[1;33m,\u001b[0m \u001b[0mdtype\u001b[0m\u001b[1;33m=\u001b[0m\u001b[0mdtype\u001b[0m\u001b[1;33m,\u001b[0m \u001b[0mtyp\u001b[0m\u001b[1;33m=\u001b[0m\u001b[0mtyp\u001b[0m\u001b[1;33m,\u001b[0m \u001b[0mconsolidate\u001b[0m\u001b[1;33m=\u001b[0m\u001b[0mcopy\u001b[0m\u001b[1;33m\u001b[0m\u001b[1;33m\u001b[0m\u001b[0m\n\u001b[0;32m    466\u001b[0m     )\n",
      "\u001b[1;32mE:\\Anaconda\\lib\\site-packages\\pandas\\core\\internals\\construction.py\u001b[0m in \u001b[0;36marrays_to_mgr\u001b[1;34m(arrays, arr_names, index, columns, dtype, verify_integrity, typ, consolidate)\u001b[0m\n\u001b[0;32m    122\u001b[0m \u001b[1;33m\u001b[0m\u001b[0m\n\u001b[0;32m    123\u001b[0m         \u001b[1;31m# don't force copy because getting jammed in an ndarray anyway\u001b[0m\u001b[1;33m\u001b[0m\u001b[1;33m\u001b[0m\u001b[0m\n\u001b[1;32m--> 124\u001b[1;33m         \u001b[0marrays\u001b[0m \u001b[1;33m=\u001b[0m \u001b[0m_homogenize\u001b[0m\u001b[1;33m(\u001b[0m\u001b[0marrays\u001b[0m\u001b[1;33m,\u001b[0m \u001b[0mindex\u001b[0m\u001b[1;33m,\u001b[0m \u001b[0mdtype\u001b[0m\u001b[1;33m)\u001b[0m\u001b[1;33m\u001b[0m\u001b[1;33m\u001b[0m\u001b[0m\n\u001b[0m\u001b[0;32m    125\u001b[0m \u001b[1;33m\u001b[0m\u001b[0m\n\u001b[0;32m    126\u001b[0m     \u001b[1;32melse\u001b[0m\u001b[1;33m:\u001b[0m\u001b[1;33m\u001b[0m\u001b[1;33m\u001b[0m\u001b[0m\n",
      "\u001b[1;32mE:\\Anaconda\\lib\\site-packages\\pandas\\core\\internals\\construction.py\u001b[0m in \u001b[0;36m_homogenize\u001b[1;34m(data, index, dtype)\u001b[0m\n\u001b[0;32m    587\u001b[0m                 \u001b[0mval\u001b[0m \u001b[1;33m=\u001b[0m \u001b[0mlib\u001b[0m\u001b[1;33m.\u001b[0m\u001b[0mfast_multiget\u001b[0m\u001b[1;33m(\u001b[0m\u001b[0mval\u001b[0m\u001b[1;33m,\u001b[0m \u001b[0moindex\u001b[0m\u001b[1;33m.\u001b[0m\u001b[0m_values\u001b[0m\u001b[1;33m,\u001b[0m \u001b[0mdefault\u001b[0m\u001b[1;33m=\u001b[0m\u001b[0mnp\u001b[0m\u001b[1;33m.\u001b[0m\u001b[0mnan\u001b[0m\u001b[1;33m)\u001b[0m\u001b[1;33m\u001b[0m\u001b[1;33m\u001b[0m\u001b[0m\n\u001b[0;32m    588\u001b[0m \u001b[1;33m\u001b[0m\u001b[0m\n\u001b[1;32m--> 589\u001b[1;33m             val = sanitize_array(\n\u001b[0m\u001b[0;32m    590\u001b[0m                 \u001b[0mval\u001b[0m\u001b[1;33m,\u001b[0m \u001b[0mindex\u001b[0m\u001b[1;33m,\u001b[0m \u001b[0mdtype\u001b[0m\u001b[1;33m=\u001b[0m\u001b[0mdtype\u001b[0m\u001b[1;33m,\u001b[0m \u001b[0mcopy\u001b[0m\u001b[1;33m=\u001b[0m\u001b[1;32mFalse\u001b[0m\u001b[1;33m,\u001b[0m \u001b[0mraise_cast_failure\u001b[0m\u001b[1;33m=\u001b[0m\u001b[1;32mFalse\u001b[0m\u001b[1;33m\u001b[0m\u001b[1;33m\u001b[0m\u001b[0m\n\u001b[0;32m    591\u001b[0m             )\n",
      "\u001b[1;32mE:\\Anaconda\\lib\\site-packages\\pandas\\core\\construction.py\u001b[0m in \u001b[0;36msanitize_array\u001b[1;34m(data, index, dtype, copy, raise_cast_failure, allow_2d)\u001b[0m\n\u001b[0;32m    557\u001b[0m         \u001b[1;32mif\u001b[0m \u001b[0misinstance\u001b[0m\u001b[1;33m(\u001b[0m\u001b[0mdata\u001b[0m\u001b[1;33m,\u001b[0m \u001b[1;33m(\u001b[0m\u001b[0mset\u001b[0m\u001b[1;33m,\u001b[0m \u001b[0mfrozenset\u001b[0m\u001b[1;33m)\u001b[0m\u001b[1;33m)\u001b[0m\u001b[1;33m:\u001b[0m\u001b[1;33m\u001b[0m\u001b[1;33m\u001b[0m\u001b[0m\n\u001b[0;32m    558\u001b[0m             \u001b[1;31m# Raise only for unordered sets, e.g., not for dict_keys\u001b[0m\u001b[1;33m\u001b[0m\u001b[1;33m\u001b[0m\u001b[0m\n\u001b[1;32m--> 559\u001b[1;33m             \u001b[1;32mraise\u001b[0m \u001b[0mTypeError\u001b[0m\u001b[1;33m(\u001b[0m\u001b[1;34mf\"'{type(data).__name__}' type is unordered\"\u001b[0m\u001b[1;33m)\u001b[0m\u001b[1;33m\u001b[0m\u001b[1;33m\u001b[0m\u001b[0m\n\u001b[0m\u001b[0;32m    560\u001b[0m \u001b[1;33m\u001b[0m\u001b[0m\n\u001b[0;32m    561\u001b[0m         \u001b[1;31m# materialize e.g. generators, convert e.g. tuples, abc.ValueView\u001b[0m\u001b[1;33m\u001b[0m\u001b[1;33m\u001b[0m\u001b[0m\n",
      "\u001b[1;31mTypeError\u001b[0m: 'set' type is unordered"
     ]
    }
   ],
   "source": [
    "#will create an error\n",
    "crk_data = {\"Bowler\":{\"VinayKumar\",\"Yuzvendra Chahal\",\"Sandeep Sharma\",\"Umesh Yadav\"},\"Total Runs Conceded\":[102,89,95,85]}\n",
    "cr_df = pd.DataFrame(crk_data)\n",
    "print(cr_df)"
   ]
  },
  {
   "cell_type": "code",
   "execution_count": null,
   "id": "083fc574",
   "metadata": {},
   "outputs": [],
   "source": [
    "crk_data = {\"Bowler\":[\"VinayKumar\",\"Yuzvendra Chahal\",\"Sandeep Sharma\",\"Umesh Yadav\"],\"Total Runs Conceded\":[102,89,95,85]}\n",
    "cr_df = pd.DataFrame(crk_data)\n",
    "print(cr_df)"
   ]
  },
  {
   "attachments": {
    "image.png": {
     "image/png": "[encoded data removed]"
    }
   },
   "cell_type": "markdown",
   "id": "755789ae",
   "metadata": {},
   "source": [
    "### How to convert the above dataframe as below\n",
    "\n",
    "![image.png](attachment:image.png)"
   ]
  },
  {
   "cell_type": "code",
   "execution_count": null,
   "id": "f26b42da",
   "metadata": {},
   "outputs": [],
   "source": [
    "crk_data = {\"Total Runs Conceded\":[102,89,95,85],\"Total Wickets Taken\":[5,10,8,6]}\n",
    "cr_df = pd.DataFrame(crk_data,index=[\"VinayKumar\",\"Yuzvendra Chahal\",\"Sandeep Sharma\",\"Umesh Yadav\"])\n",
    "print(cr_df)"
   ]
  },
  {
   "cell_type": "code",
   "execution_count": null,
   "id": "72c08a80",
   "metadata": {},
   "outputs": [],
   "source": [
    "groc = {\"Quantity\":[10,23,5,3,2],\"Price\":[110,100,50,45,23]}\n",
    "groc_df = pd.DataFrame(groc,index=[\"Rice\",\"Sugar\",\"Dates\",\"Cashew\",\"DryGrapes\"])\n",
    "print(groc_df)"
   ]
  },
  {
   "cell_type": "markdown",
   "id": "9afe98e4",
   "metadata": {},
   "source": [
    "### Create a DataFrame from List of Dicts​"
   ]
  },
  {
   "cell_type": "code",
   "execution_count": null,
   "id": "8c1a29e9",
   "metadata": {},
   "outputs": [],
   "source": [
    "data = [{\"CSE\":110,\"ECE\":89,\"EEE\":35,\"IT\":65},\n",
    "        {\"CSE\":50,\"ECE\":20,\"EEE\":12,\"IT\":11},\n",
    "        {\"CSE\":75,\"ECE\":52,\"EEE\":30,\"IT\":13},\n",
    "        {\"CSE\":50,\"ECE\":48,\"EEE\":42,\"IT\":46}]\n",
    "database = pd.DataFrame(data)\n",
    "print(database)"
   ]
  },
  {
   "cell_type": "code",
   "execution_count": null,
   "id": "78ce8d4d",
   "metadata": {},
   "outputs": [],
   "source": [
    "data = [{\"CSE\":110,\"ECE\":89,\"EEE\":35,\"IT\":65},\n",
    "        {\"CSE\":50,\"ECE\":20,\"EEE\":12,\"IT\":11},\n",
    "        {\"CSE\":75,\"ECE\":52,\"EEE\":30,\"IT\":13},\n",
    "        {\"CSE\":50,\"ECE\":48,\"EEE\":42,\"IT\":46}]\n",
    "database = pd.DataFrame(data,index=[\"Dayscholar\",\"Hostel\",\"Management Q\",\"Government Q\"])\n",
    "print(database)"
   ]
  },
  {
   "cell_type": "code",
   "execution_count": null,
   "id": "a4f8b281",
   "metadata": {},
   "outputs": [],
   "source": [
    "#if we give the column names and if there is no value all will be filled with NAN\n",
    "data = [{\"CSE\":110,\"ECE\":89,\"EEE\":35,\"IT\":65},\n",
    "        {\"CSE\":50,\"ECE\":20,\"EEE\":12,\"IT\":11},\n",
    "        {\"CSE\":75,\"ECE\":52,\"EEE\":30,\"IT\":13},\n",
    "        {\"CSE\":50,\"ECE\":48,\"EEE\":42,\"IT\":46}]\n",
    "database2 = pd.DataFrame(data,index=[\"Dayscholar\",\"Hostel\",\"Management Q\",\"Government Q\"],columns=[\"CSE\",\"ECE\",\"EEE\",\"IT\",\"MECH\",\"MI\"])\n",
    "print(database2)"
   ]
  },
  {
   "cell_type": "markdown",
   "id": "2f1a69ec",
   "metadata": {},
   "source": [
    "## Create a DataFrame from Dict of Series"
   ]
  },
  {
   "cell_type": "code",
   "execution_count": null,
   "id": "9b60b176",
   "metadata": {},
   "outputs": [],
   "source": [
    "series = {\"Mul of 3\":pd.Series(np.arange(0,20,3)),\n",
    "          \"Mul of 5\":pd.Series(np.arange(0,20,5))}\n",
    "df_ser = pd.DataFrame(series)\n",
    "print(df_ser)"
   ]
  },
  {
   "cell_type": "code",
   "execution_count": null,
   "id": "25d1d117",
   "metadata": {},
   "outputs": [],
   "source": [
    "s = pd.Series([1,2,3,4,5],index = ['a','b','c','d','e'])\n",
    "\n",
    "#retrieve a single element\n",
    "print (s['a'])"
   ]
  },
  {
   "cell_type": "markdown",
   "id": "742a37a2",
   "metadata": {},
   "source": [
    "### Column Selection"
   ]
  },
  {
   "cell_type": "code",
   "execution_count": null,
   "id": "51d9fb67",
   "metadata": {},
   "outputs": [],
   "source": [
    "print(database,\"\\n\")\n",
    "print(database[\"CSE\"])\n",
    "#print(database[\"MECH\"]) - KeyError\n",
    "print(database[[\"EEE\"]])"
   ]
  },
  {
   "cell_type": "markdown",
   "id": "e84865c2",
   "metadata": {},
   "source": [
    "### Adding new columns"
   ]
  },
  {
   "cell_type": "code",
   "execution_count": null,
   "id": "8d6edbe7",
   "metadata": {},
   "outputs": [],
   "source": [
    "new = [45,12,12,32]\n",
    "database[\"MECH\"] = new\n",
    "print(database)"
   ]
  },
  {
   "cell_type": "markdown",
   "id": "d9d2afe8",
   "metadata": {},
   "source": [
    "#### Using Dictionary\n",
    "#### Use an existing column as the key values and their respective values will be the values for a new column."
   ]
  },
  {
   "cell_type": "code",
   "execution_count": null,
   "id": "7daa711d",
   "metadata": {},
   "outputs": [],
   "source": [
    "#MI = {\"Dayscholar\":15,\"Hostel\":10,\"Management Q\":10,\"Government Q\":20}\n",
    "#MI = {15:\"Dayscholar\",10:\"Hostel\",10:\"Management Q\",20:\"Government Q\"}\n",
    "###\n",
    "MI = {15:110,11:50,10:75,23:50}\n",
    "database[\"MI\"] = MI\n",
    "print(database)"
   ]
  },
  {
   "cell_type": "code",
   "execution_count": null,
   "id": "07e198ca",
   "metadata": {},
   "outputs": [],
   "source": [
    "#The insert function takes three parameters that are \n",
    "#the index, the name of the column and the values. \n",
    "AIDS = [32,15,15,32]\n",
    "database.insert(2,\"AIDS\",AIDS)\n",
    "print(database)"
   ]
  },
  {
   "cell_type": "markdown",
   "id": "05576b89",
   "metadata": {},
   "source": [
    "### Renaming the column Names"
   ]
  },
  {
   "cell_type": "code",
   "execution_count": null,
   "id": "ef8876b5",
   "metadata": {},
   "outputs": [],
   "source": [
    "database.rename(columns={\"AIDS\":\"AI&DS\"},inplace=True) #inplace must be given so that it will change our dataframe.\n",
    "print(database)"
   ]
  },
  {
   "cell_type": "code",
   "execution_count": null,
   "id": "319a87cb",
   "metadata": {},
   "outputs": [],
   "source": [
    "database.rename(index = {\"Management Q\":\"Management QU\"},inplace=True)\n",
    "print(database)"
   ]
  },
  {
   "cell_type": "markdown",
   "id": "5eabb3c0",
   "metadata": {},
   "source": [
    "### Column Deletion"
   ]
  },
  {
   "cell_type": "code",
   "execution_count": null,
   "id": "9a424982",
   "metadata": {},
   "outputs": [],
   "source": [
    "print(database)\n",
    "del database['MECH'] #using del keyword\n",
    "print(database)"
   ]
  },
  {
   "cell_type": "code",
   "execution_count": null,
   "id": "59e8dc42",
   "metadata": {},
   "outputs": [],
   "source": [
    "#using pop() function\n",
    "database.pop(\"IT\")\n",
    "print(database)"
   ]
  },
  {
   "cell_type": "code",
   "execution_count": null,
   "id": "d9e5c6ab",
   "metadata": {},
   "outputs": [],
   "source": [
    "database.drop(columns=[\"EEE\"],inplace=True)\n",
    "print(database) "
   ]
  },
  {
   "cell_type": "markdown",
   "id": "70c80868",
   "metadata": {},
   "source": [
    "## How to access/update/delete the elements of dataframe using row index"
   ]
  },
  {
   "cell_type": "markdown",
   "id": "130a7c29",
   "metadata": {},
   "source": [
    "#### Selection by labels\n",
    "\n",
    "**DataFrame.iloc[] & DataFrame.loc[]** to select rows by integer Index and by row indices respectively. \n",
    "\n",
    "**iloc[]** operator can accept single index, multiple indexes from the list, indexes by a range, and many more. \n",
    "\n",
    "**loc[]** operator is explicitly used with labels that can accept single index labels, multiple index labels from the list, indexes by a range (between two indexes labels), and many more. \n",
    "\n",
    "When using .iloc[] or loc[] with an index that doesn’t exist it returns an error."
   ]
  },
  {
   "cell_type": "code",
   "execution_count": null,
   "id": "876c6a74",
   "metadata": {},
   "outputs": [],
   "source": [
    "print(database)"
   ]
  },
  {
   "cell_type": "code",
   "execution_count": null,
   "id": "50e28a60",
   "metadata": {},
   "outputs": [],
   "source": [
    "print(database.loc['Dayscholar']) #return the series with labels as column names of the DataFrame"
   ]
  },
  {
   "cell_type": "code",
   "execution_count": null,
   "id": "6de83007",
   "metadata": {},
   "outputs": [],
   "source": [
    "print(database.loc[['Dayscholar','Management QU']])"
   ]
  },
  {
   "cell_type": "markdown",
   "id": "2d791f23",
   "metadata": {},
   "source": [
    "#### Selection by integer location\n",
    "\n",
    "Rows can be selected by passing integer location to an **iloc** function.\n",
    "\n",
    "**iloc[]** operator can accept single index, multiple indexes from the list, indexes by a range, and many more"
   ]
  },
  {
   "cell_type": "code",
   "execution_count": null,
   "id": "a0b2ae30",
   "metadata": {},
   "outputs": [],
   "source": [
    "print(database.iloc[1]) #which will display total number of students in HOSTEL"
   ]
  },
  {
   "cell_type": "code",
   "execution_count": null,
   "id": "82a008ed",
   "metadata": {},
   "outputs": [],
   "source": [
    "print(database.iloc[0:2]) #Slicing - Will display the value at 0th and 1st index, "
   ]
  },
  {
   "cell_type": "code",
   "execution_count": null,
   "id": "a3b3792c",
   "metadata": {},
   "outputs": [],
   "source": [
    "database.index"
   ]
  },
  {
   "cell_type": "markdown",
   "id": "34d7690a",
   "metadata": {},
   "source": [
    "## Adding a rows"
   ]
  },
  {
   "cell_type": "code",
   "execution_count": null,
   "id": "1e3fb6d2",
   "metadata": {},
   "outputs": [],
   "source": [
    "## Adding the rows using loc()\n",
    "#example if we want to add number of Girls in a each department\n",
    "print(database)\n",
    "c_girls = {\"CSE\":65,\"ECE\":50,\"MI\":2}\n",
    "database.loc[\"Girls\"] = c_girls\n",
    "print(database)"
   ]
  },
  {
   "cell_type": "code",
   "execution_count": null,
   "id": "b3dfd596",
   "metadata": {},
   "outputs": [],
   "source": [
    "#get the number of rows using len(DataFrame.index) for determining the position at which we need to add the new row\n",
    "Hos_girls = {\"CSE\":30,\"ECE\":22,\"AI&DS\":3,\"MI\":0}\n",
    "database.loc[len(database.index)] = Hos_girls\n",
    "print(database)"
   ]
  },
  {
   "cell_type": "code",
   "execution_count": null,
   "id": "f0a95d09",
   "metadata": {},
   "outputs": [],
   "source": [
    "database['AI&DS'] = database[\"AI&DS\"].replace(np.nan,10)\n",
    "print(database)\n",
    "database['AI&DS'] = database['AI&DS'].astype(int)\n",
    "print(database)"
   ]
  },
  {
   "cell_type": "markdown",
   "id": "7f5cb8f2",
   "metadata": {},
   "source": [
    "### append() function\n",
    "\n",
    "By using append() function you can add or insert a row to existing pandas DataFrame from the dict. \n",
    "\n",
    "This method is required to take **ignore_index=True** in order to add a dict as a row to DataFrame, not using this will get you an error. \n",
    "\n",
    "**This method returns the new DataFrame with the newly added row.**\n",
    "\n",
    "when you used **ignore_index=True**, it ignores the existing index on the DataFrame and **set a new index.**"
   ]
  },
  {
   "cell_type": "code",
   "execution_count": null,
   "id": "5fc7a514",
   "metadata": {},
   "outputs": [],
   "source": [
    "#add a new row using the DataFrame.append() function\n",
    "\n",
    "c_boys = {\"CSE\":70,\"ECE\":55,\"AI&DS\":25,\"MI\":50}\n",
    "print(dd)\n",
    "dd=dd.append(c_boys,ignore_index=True)\n",
    "print(dd)"
   ]
  },
  {
   "cell_type": "markdown",
   "id": "9baf5fdd",
   "metadata": {},
   "source": [
    "#### we are creating a new DataFrame/Series and append this to another DataFrame."
   ]
  },
  {
   "cell_type": "code",
   "execution_count": null,
   "id": "cc67c2de",
   "metadata": {},
   "outputs": [],
   "source": [
    "c_boys = {\"CSE\":79,\"ECE\":55,\"AI&DS\":35,\"MI\":22}\n",
    "database = database.append(pd.DataFrame(c_boys,index=[\"Boys\"],columns=database.columns))\n",
    "print(database)"
   ]
  },
  {
   "cell_type": "markdown",
   "id": "f9c90b8c",
   "metadata": {},
   "source": [
    "add multiple rows using the **pandas.concat()** by creating a new dataframe of all the rows that we need to add and then appending this dataframe to the original dataframe."
   ]
  },
  {
   "cell_type": "code",
   "execution_count": null,
   "id": "349a9716",
   "metadata": {},
   "outputs": [],
   "source": [
    "dict = {'Name':['Arun', 'Vijay', 'San', 'Del'],\n",
    "        'Maths':[87, 91, 97, 95],\n",
    "        'Science':[83, 99, 84, 76]\n",
    "       }\n",
    "  \n",
    "df1 = pd.DataFrame(dict)\n",
    "display(df1)\n",
    "  \n",
    "dict = {'Name':['Jack', 'Emy'],\n",
    "        'Maths':[89, 90],\n",
    "        'Science':[93, 81]\n",
    "       }\n",
    "  \n",
    "df2 = pd.DataFrame(dict)\n",
    "display(df2)\n",
    "  \n",
    "df3 = pd.concat([df1, df2], ignore_index = True)\n",
    "print(df3)\n",
    "df3.reset_index()\n",
    "  \n",
    "display(df3)"
   ]
  },
  {
   "cell_type": "markdown",
   "id": "0a5c4316",
   "metadata": {},
   "source": [
    "**DataFrame.drop(labels=None, axis=0, index=None, columns=None, level=None, inplace=False, errors='raise')**\n",
    "\n",
    "labels – single label or list-like.\n",
    "\n",
    "axis – Use 1 to drop columns and 0 to drop rows from DataFrame.\n",
    "\n",
    "index – Column index to drop\n",
    "\n",
    "columns – single label or list-like.\n",
    "\n",
    "level – int or level name, optional, use for Multiindex.\n",
    "\n",
    "inplace – Default False and returns a copy of DataFrame. When used True, it drop’s column inplace and returns None.\n",
    "\n",
    "errors – {‘ignore’, ‘raise’}, default ‘raise’"
   ]
  },
  {
   "cell_type": "code",
   "execution_count": null,
   "id": "d5211300",
   "metadata": {},
   "outputs": [],
   "source": [
    "print(database)\n",
    "database=database.drop([\"Boys\"])\n",
    "print(database)"
   ]
  },
  {
   "cell_type": "markdown",
   "id": "60dd2737",
   "metadata": {},
   "source": [
    "## Reading Data from a file\n",
    "\n",
    "Use pandas read_csv() function to read CSV file (comma separated) into python pandas DataFrame and supports options to read any delimited file.\n",
    "\n",
    "**SYNTAX**\n",
    "\n",
    "pandas.read_csv(filepath_or_buffer, sep=NoDefault.no_default, delimiter=None, header='infer', names=NoDefault.no_default, index_col=None, usecols=None, squeeze=None, prefix=NoDefault.no_default, mangle_dupe_cols=True, dtype=None, engine=None, converters=None, true_values=None, false_values=None, skipinitialspace=False, skiprows=None, skipfooter=0, nrows=None, na_values=None, keep_default_na=True, na_filter=True, verbose=False, skip_blank_lines=True, parse_dates=None, infer_datetime_format=False, keep_date_col=False, date_parser=None, dayfirst=False, cache_dates=True, iterator=False, chunksize=None, compression='infer', thousands=None, decimal='.', lineterminator=None, quotechar='\"', quoting=0, doublequote=True, escapechar=None, comment=None, encoding=None, encoding_errors='strict', dialect=None, error_bad_lines=None, warn_bad_lines=None, on_bad_lines=None, delim_whitespace=False, low_memory=True, memory_map=False, float_precision=None, storage_options=None)\n"
   ]
  },
  {
   "cell_type": "code",
   "execution_count": null,
   "id": "1c449dc9",
   "metadata": {},
   "outputs": [],
   "source": [
    "st = pd.read_csv(\"student.csv\")\n",
    "display(st)"
   ]
  },
  {
   "cell_type": "code",
   "execution_count": null,
   "id": "1249544d",
   "metadata": {},
   "outputs": [],
   "source": [
    "st = pd.read_csv(\"student.csv\",names=[\"ROLLNO\",\"NAME\",\"CLASS\",\"MARK\",\"GENDER\"])\n",
    "display(st)"
   ]
  },
  {
   "cell_type": "code",
   "execution_count": null,
   "id": "fe74eb9d",
   "metadata": {},
   "outputs": [],
   "source": [
    "st_1 = pd.read_csv(\"student_1.csv\")\n",
    "display(st_1)"
   ]
  },
  {
   "cell_type": "code",
   "execution_count": null,
   "id": "00e148a8",
   "metadata": {},
   "outputs": [],
   "source": [
    "st_1 = pd.read_csv(\"student_1.csv\",sep = \"|\")\n",
    "display(st_1)"
   ]
  },
  {
   "cell_type": "code",
   "execution_count": null,
   "id": "f533c9c8",
   "metadata": {},
   "outputs": [],
   "source": [
    "st_1 = pd.read_csv(\"student_2c.csv\",comment=\"#\")\n",
    "display(st_1)"
   ]
  },
  {
   "cell_type": "code",
   "execution_count": null,
   "id": "42820d6e",
   "metadata": {},
   "outputs": [],
   "source": [
    "st_3 = pd.read_csv(\"student_3.csv\")\n",
    "display(st_3)"
   ]
  },
  {
   "cell_type": "code",
   "execution_count": null,
   "id": "46fbc569",
   "metadata": {},
   "outputs": [],
   "source": [
    "st_3 = pd.read_csv(\"student_3.csv\",skiprows=2)\n",
    "display(st_3)"
   ]
  },
  {
   "cell_type": "markdown",
   "id": "7f7ba0a6",
   "metadata": {},
   "source": [
    "### Selection Operation\n",
    "\n",
    "Accessing\n",
    "\n",
    "1. one or multiple column using []\n",
    "2. rows and columns by location using iloc\n",
    "3. rows and columns by location using loc\n",
    "4. rows and columns by conditions using iloc and loc"
   ]
  },
  {
   "cell_type": "code",
   "execution_count": null,
   "id": "5b7ab8b9",
   "metadata": {},
   "outputs": [],
   "source": [
    "video_game = pd.read_csv(\"vgsales.csv\")\n",
    "display(video_game)"
   ]
  },
  {
   "cell_type": "code",
   "execution_count": null,
   "id": "b87924e6",
   "metadata": {},
   "outputs": [],
   "source": [
    "video_game.shape"
   ]
  },
  {
   "cell_type": "code",
   "execution_count": null,
   "id": "cbdf8133",
   "metadata": {},
   "outputs": [],
   "source": [
    "video_game.columns"
   ]
  },
  {
   "cell_type": "code",
   "execution_count": null,
   "id": "8778aee4",
   "metadata": {},
   "outputs": [],
   "source": [
    "video_game.index"
   ]
  },
  {
   "cell_type": "code",
   "execution_count": null,
   "id": "8083f523",
   "metadata": {},
   "outputs": [],
   "source": [
    "year = video_game['Year']\n",
    "print(year)\n",
    "print(type(year))"
   ]
  },
  {
   "cell_type": "code",
   "execution_count": null,
   "id": "3142e4e1",
   "metadata": {},
   "outputs": [],
   "source": [
    "sales_japan = video_game['JP_Sales']\n",
    "print(sales_japan)"
   ]
  },
  {
   "cell_type": "code",
   "execution_count": null,
   "id": "c5ab0c7d",
   "metadata": {},
   "outputs": [],
   "source": [
    "sales_japan.mean()"
   ]
  },
  {
   "cell_type": "code",
   "execution_count": null,
   "id": "bac9e463",
   "metadata": {},
   "outputs": [],
   "source": [
    "sales_japan.max()"
   ]
  },
  {
   "cell_type": "code",
   "execution_count": null,
   "id": "607091be",
   "metadata": {},
   "outputs": [],
   "source": [
    "# to select multiple columns\n",
    "video_game['Name',\"Publisher\"]"
   ]
  },
  {
   "cell_type": "code",
   "execution_count": null,
   "id": "5022fa3c",
   "metadata": {},
   "outputs": [],
   "source": [
    "video_game.Global_Sales"
   ]
  },
  {
   "cell_type": "markdown",
   "id": "9d5213c0",
   "metadata": {},
   "source": [
    "### Selecting using loc and iloc"
   ]
  },
  {
   "cell_type": "code",
   "execution_count": null,
   "id": "277c8288",
   "metadata": {},
   "outputs": [],
   "source": [
    "## Select first row, second and seventh column \n",
    "print(video_game.iloc[0,[1,4]])  ## display the first row and second and fifth column\n",
    "print(video_game.iloc[[0,2],[1,4]])\n",
    "print(video_game.iloc[:5,:6]) # row 0 to 3 and column 0 to 6\n",
    "print(video_game.iloc[[0,-1],-3:])"
   ]
  },
  {
   "cell_type": "code",
   "execution_count": null,
   "id": "1b20fc03",
   "metadata": {},
   "outputs": [],
   "source": [
    "print(video_game.loc[0,[\"Name\",\"Global_Sales\"]])"
   ]
  },
  {
   "cell_type": "code",
   "execution_count": null,
   "id": "cf3aafaa",
   "metadata": {},
   "outputs": [],
   "source": [
    "print(video_game.loc[1:6,[\"Name\",\"Global_Sales\"]])"
   ]
  },
  {
   "cell_type": "code",
   "execution_count": null,
   "id": "f1b1e9f9",
   "metadata": {},
   "outputs": [],
   "source": [
    "#how to select all the publishers of \"Nintendo\"\n",
    "video_game.Publisher == \"Nintendo\""
   ]
  },
  {
   "cell_type": "code",
   "execution_count": null,
   "id": "28a25d60",
   "metadata": {},
   "outputs": [],
   "source": [
    "#now if we pass this to loc \n",
    "video_game.loc[video_game.Publisher == \"Nintendo\"]"
   ]
  },
  {
   "cell_type": "code",
   "execution_count": null,
   "id": "81d518c3",
   "metadata": {},
   "outputs": [],
   "source": [
    "video_game.loc[video_game.Publisher == \"Kemco\"]"
   ]
  },
  {
   "cell_type": "code",
   "execution_count": null,
   "id": "c3119813",
   "metadata": {},
   "outputs": [],
   "source": [
    "video_game.Rank > 100"
   ]
  },
  {
   "cell_type": "code",
   "execution_count": null,
   "id": "8b85517e",
   "metadata": {},
   "outputs": [],
   "source": [
    "video_game.loc[video_game.Rank > 100]"
   ]
  },
  {
   "cell_type": "code",
   "execution_count": null,
   "id": "808b672c",
   "metadata": {},
   "outputs": [],
   "source": [
    "# to display the publisher Nintendo whose rank is greater than 150\n",
    "video_game.loc[(video_game.Publisher == \"Nintendo\") & (video_game.Rank > 150)]"
   ]
  },
  {
   "cell_type": "markdown",
   "id": "d1b6ba2b",
   "metadata": {},
   "source": [
    "## Missing and Removing Duplicates\n",
    "\n",
    "1. Finiding Nan Values\n",
    "2. Removing rows or columns containing Missing Values\n",
    "3. Filling Missing Values\n",
    "4. Find and Remove Duplicates"
   ]
  },
  {
   "cell_type": "code",
   "execution_count": 145,
   "id": "3563054f",
   "metadata": {
    "collapsed": true
   },
   "outputs": [
    {
     "name": "stdout",
     "output_type": "stream",
     "text": [
      "          Date StartTime  DayOfWeek GoingTo  Distance  MaxSpeed  AvgSpeed  \\\n",
      "0     1/6/2012     16:37     Friday    Home     51.29     127.4      78.3   \n",
      "1     1/6/2012     08:20     Friday     GSK     51.63     130.3      81.8   \n",
      "2     1/4/2012     16:17  Wednesday    Home     51.27     127.4      82.0   \n",
      "3     1/4/2012     07:53  Wednesday     GSK     49.17     132.3      74.2   \n",
      "4     1/3/2012     18:57    Tuesday    Home     51.15     136.2      83.4   \n",
      "..         ...       ...        ...     ...       ...       ...       ...   \n",
      "200  7/18/2011     08:09     Monday     GSK     54.52     125.6      49.9   \n",
      "201  7/14/2011     08:03   Thursday     GSK     50.90     123.7      76.2   \n",
      "202  7/13/2011     17:08  Wednesday    Home     51.96     132.6      57.5   \n",
      "203  7/12/2011     17:51    Tuesday    Home     53.28     125.8      61.6   \n",
      "204  7/11/2011     16:56     Monday    Home     51.73     125.0      62.8   \n",
      "\n",
      "     AvgMovingSpeed FuelEconomy  TotalTime  MovingTime Take407All Comments  \n",
      "0              84.8         NaN       39.3        36.3         No      NaN  \n",
      "1              88.9         NaN       37.9        34.9         No      NaN  \n",
      "2              85.8         NaN       37.5        35.9         No      NaN  \n",
      "3              82.9         NaN       39.8        35.6         No      NaN  \n",
      "4              88.1         NaN       36.8        34.8         No      NaN  \n",
      "..              ...         ...        ...         ...        ...      ...  \n",
      "200            82.4        7.89       65.5        39.7         No      NaN  \n",
      "201            95.1        7.89       40.1        32.1        Yes      NaN  \n",
      "202            76.7         NaN       54.2        40.6        Yes      NaN  \n",
      "203            87.6         NaN       51.9        36.5        Yes      NaN  \n",
      "204            92.5         NaN       49.5        33.6        Yes      NaN  \n",
      "\n",
      "[205 rows x 13 columns]\n"
     ]
    }
   ],
   "source": [
    "cc = pd.read_csv(\"travel-times.csv\")\n",
    "print(cc)"
   ]
  },
  {
   "cell_type": "code",
   "execution_count": null,
   "id": "8688d7bf",
   "metadata": {},
   "outputs": [],
   "source": [
    "display(cc.head(5))"
   ]
  },
  {
   "cell_type": "code",
   "execution_count": null,
   "id": "b0817a2c",
   "metadata": {},
   "outputs": [],
   "source": [
    "display(cc.tail(5))"
   ]
  },
  {
   "cell_type": "code",
   "execution_count": null,
   "id": "53e37f9e",
   "metadata": {},
   "outputs": [],
   "source": [
    "display(cc.isna())"
   ]
  },
  {
   "cell_type": "code",
   "execution_count": 146,
   "id": "a37657d1",
   "metadata": {},
   "outputs": [
    {
     "name": "stdout",
     "output_type": "stream",
     "text": [
      "Date                0\n",
      "StartTime           0\n",
      "DayOfWeek           0\n",
      "GoingTo             0\n",
      "Distance            0\n",
      "MaxSpeed            0\n",
      "AvgSpeed            0\n",
      "AvgMovingSpeed      0\n",
      "FuelEconomy        17\n",
      "TotalTime           0\n",
      "MovingTime          0\n",
      "Take407All          0\n",
      "Comments          181\n",
      "dtype: int64\n"
     ]
    }
   ],
   "source": [
    "print(cc.isna().sum())"
   ]
  },
  {
   "cell_type": "code",
   "execution_count": null,
   "id": "46e5a2db",
   "metadata": {},
   "outputs": [],
   "source": [
    "cc.isna().any()"
   ]
  },
  {
   "cell_type": "code",
   "execution_count": null,
   "id": "acbcb431",
   "metadata": {},
   "outputs": [],
   "source": [
    "#will drop the rows that contain nan\n",
    "new_tt = cc.dropna()"
   ]
  },
  {
   "cell_type": "code",
   "execution_count": null,
   "id": "e4fe3ce7",
   "metadata": {},
   "outputs": [],
   "source": [
    "print(cc.isna().any())\n",
    "print(new_tt.isna().any())\n",
    "print(cc.shape)\n",
    "print(new_tt.shape)"
   ]
  },
  {
   "cell_type": "code",
   "execution_count": null,
   "id": "526f655a",
   "metadata": {},
   "outputs": [],
   "source": [
    "#will drop the column that contain NAN\n",
    "new_tt_1 = cc.dropna(axis=1)"
   ]
  },
  {
   "cell_type": "code",
   "execution_count": null,
   "id": "66ad23b7",
   "metadata": {},
   "outputs": [],
   "source": [
    "print(cc.isna().any())\n",
    "print(new_tt_1.isna().any())"
   ]
  },
  {
   "cell_type": "code",
   "execution_count": null,
   "id": "2083ba3f",
   "metadata": {},
   "outputs": [],
   "source": [
    "sel = cc.dropna(subset=['Comments'])"
   ]
  },
  {
   "cell_type": "code",
   "execution_count": null,
   "id": "4782a2be",
   "metadata": {},
   "outputs": [],
   "source": [
    "print(cc.isna().any())\n",
    "print(sel.isna().any())"
   ]
  },
  {
   "cell_type": "code",
   "execution_count": null,
   "id": "46c3ce4c",
   "metadata": {},
   "outputs": [],
   "source": [
    "cc.dropna(inplace=True)\n",
    "print(cc.shape)"
   ]
  },
  {
   "cell_type": "markdown",
   "id": "3af1b80e",
   "metadata": {},
   "source": [
    "I we use inplace parameter to True then it will reflect the original dataframe itself.\n",
    "\n",
    "But we will loose the data, which will significantly affect the whole data.\n",
    "\n",
    "**Therefore good strategy for dealing with missing calies is to replace them with another value**\n",
    "\n",
    "The missing value may be replaced with \n",
    "\n",
    "1. the average value of the column\n",
    "2. If it is a categorical data - replace the missing values with most frequent values of the column values\n",
    "3. Else we may fill the missing value with some random values\n"
   ]
  },
  {
   "cell_type": "code",
   "execution_count": 39,
   "id": "e9b73f4b",
   "metadata": {
    "collapsed": true
   },
   "outputs": [
    {
     "name": "stdout",
     "output_type": "stream",
     "text": [
      "     PassengerId  Survived  Pclass  \\\n",
      "0              1         0       3   \n",
      "1              2         1       1   \n",
      "2              3         1       3   \n",
      "3              4         1       1   \n",
      "4              5         0       3   \n",
      "..           ...       ...     ...   \n",
      "886          887         0       2   \n",
      "887          888         1       1   \n",
      "888          889         0       3   \n",
      "889          890         1       1   \n",
      "890          891         0       3   \n",
      "\n",
      "                                                  Name     Sex   Age  SibSp  \\\n",
      "0                              Braund, Mr. Owen Harris    male  22.0      1   \n",
      "1    Cumings, Mrs. John Bradley (Florence Briggs Th...  female  38.0      1   \n",
      "2                               Heikkinen, Miss. Laina  female  26.0      0   \n",
      "3         Futrelle, Mrs. Jacques Heath (Lily May Peel)  female  35.0      1   \n",
      "4                             Allen, Mr. William Henry    male  35.0      0   \n",
      "..                                                 ...     ...   ...    ...   \n",
      "886                              Montvila, Rev. Juozas    male  27.0      0   \n",
      "887                       Graham, Miss. Margaret Edith  female  19.0      0   \n",
      "888           Johnston, Miss. Catherine Helen \"Carrie\"  female   NaN      1   \n",
      "889                              Behr, Mr. Karl Howell    male  26.0      0   \n",
      "890                                Dooley, Mr. Patrick    male  32.0      0   \n",
      "\n",
      "     Parch            Ticket     Fare Cabin Embarked  \n",
      "0        0         A/5 21171   7.2500   NaN        S  \n",
      "1        0          PC 17599  71.2833   C85        C  \n",
      "2        0  STON/O2. 3101282   7.9250   NaN        S  \n",
      "3        0            113803  53.1000  C123        S  \n",
      "4        0            373450   8.0500   NaN        S  \n",
      "..     ...               ...      ...   ...      ...  \n",
      "886      0            211536  13.0000   NaN        S  \n",
      "887      0            112053  30.0000   B42        S  \n",
      "888      2        W./C. 6607  23.4500   NaN        S  \n",
      "889      0            111369  30.0000  C148        C  \n",
      "890      0            370376   7.7500   NaN        Q  \n",
      "\n",
      "[891 rows x 12 columns]\n"
     ]
    }
   ],
   "source": [
    "tt = pd.read_csv(\"train.csv\")\n",
    "print(tt)"
   ]
  },
  {
   "cell_type": "code",
   "execution_count": 25,
   "id": "811f58c1",
   "metadata": {
    "collapsed": true
   },
   "outputs": [
    {
     "data": {
      "text/html": [
       "<div>\n",
       "<style scoped>\n",
       "    .dataframe tbody tr th:only-of-type {\n",
       "        vertical-align: middle;\n",
       "    }\n",
       "\n",
       "    .dataframe tbody tr th {\n",
       "        vertical-align: top;\n",
       "    }\n",
       "\n",
       "    .dataframe thead th {\n",
       "        text-align: right;\n",
       "    }\n",
       "</style>\n",
       "<table border=\"1\" class=\"dataframe\">\n",
       "  <thead>\n",
       "    <tr style=\"text-align: right;\">\n",
       "      <th></th>\n",
       "      <th>PassengerId</th>\n",
       "      <th>Survived</th>\n",
       "      <th>Pclass</th>\n",
       "      <th>Name</th>\n",
       "      <th>Sex</th>\n",
       "      <th>Age</th>\n",
       "      <th>SibSp</th>\n",
       "      <th>Parch</th>\n",
       "      <th>Ticket</th>\n",
       "      <th>Fare</th>\n",
       "      <th>Cabin</th>\n",
       "      <th>Embarked</th>\n",
       "    </tr>\n",
       "  </thead>\n",
       "  <tbody>\n",
       "    <tr>\n",
       "      <th>0</th>\n",
       "      <td>False</td>\n",
       "      <td>False</td>\n",
       "      <td>False</td>\n",
       "      <td>False</td>\n",
       "      <td>False</td>\n",
       "      <td>False</td>\n",
       "      <td>False</td>\n",
       "      <td>False</td>\n",
       "      <td>False</td>\n",
       "      <td>False</td>\n",
       "      <td>True</td>\n",
       "      <td>False</td>\n",
       "    </tr>\n",
       "    <tr>\n",
       "      <th>1</th>\n",
       "      <td>False</td>\n",
       "      <td>False</td>\n",
       "      <td>False</td>\n",
       "      <td>False</td>\n",
       "      <td>False</td>\n",
       "      <td>False</td>\n",
       "      <td>False</td>\n",
       "      <td>False</td>\n",
       "      <td>False</td>\n",
       "      <td>False</td>\n",
       "      <td>False</td>\n",
       "      <td>False</td>\n",
       "    </tr>\n",
       "    <tr>\n",
       "      <th>2</th>\n",
       "      <td>False</td>\n",
       "      <td>False</td>\n",
       "      <td>False</td>\n",
       "      <td>False</td>\n",
       "      <td>False</td>\n",
       "      <td>False</td>\n",
       "      <td>False</td>\n",
       "      <td>False</td>\n",
       "      <td>False</td>\n",
       "      <td>False</td>\n",
       "      <td>True</td>\n",
       "      <td>False</td>\n",
       "    </tr>\n",
       "    <tr>\n",
       "      <th>3</th>\n",
       "      <td>False</td>\n",
       "      <td>False</td>\n",
       "      <td>False</td>\n",
       "      <td>False</td>\n",
       "      <td>False</td>\n",
       "      <td>False</td>\n",
       "      <td>False</td>\n",
       "      <td>False</td>\n",
       "      <td>False</td>\n",
       "      <td>False</td>\n",
       "      <td>False</td>\n",
       "      <td>False</td>\n",
       "    </tr>\n",
       "    <tr>\n",
       "      <th>4</th>\n",
       "      <td>False</td>\n",
       "      <td>False</td>\n",
       "      <td>False</td>\n",
       "      <td>False</td>\n",
       "      <td>False</td>\n",
       "      <td>False</td>\n",
       "      <td>False</td>\n",
       "      <td>False</td>\n",
       "      <td>False</td>\n",
       "      <td>False</td>\n",
       "      <td>True</td>\n",
       "      <td>False</td>\n",
       "    </tr>\n",
       "    <tr>\n",
       "      <th>...</th>\n",
       "      <td>...</td>\n",
       "      <td>...</td>\n",
       "      <td>...</td>\n",
       "      <td>...</td>\n",
       "      <td>...</td>\n",
       "      <td>...</td>\n",
       "      <td>...</td>\n",
       "      <td>...</td>\n",
       "      <td>...</td>\n",
       "      <td>...</td>\n",
       "      <td>...</td>\n",
       "      <td>...</td>\n",
       "    </tr>\n",
       "    <tr>\n",
       "      <th>886</th>\n",
       "      <td>False</td>\n",
       "      <td>False</td>\n",
       "      <td>False</td>\n",
       "      <td>False</td>\n",
       "      <td>False</td>\n",
       "      <td>False</td>\n",
       "      <td>False</td>\n",
       "      <td>False</td>\n",
       "      <td>False</td>\n",
       "      <td>False</td>\n",
       "      <td>True</td>\n",
       "      <td>False</td>\n",
       "    </tr>\n",
       "    <tr>\n",
       "      <th>887</th>\n",
       "      <td>False</td>\n",
       "      <td>False</td>\n",
       "      <td>False</td>\n",
       "      <td>False</td>\n",
       "      <td>False</td>\n",
       "      <td>False</td>\n",
       "      <td>False</td>\n",
       "      <td>False</td>\n",
       "      <td>False</td>\n",
       "      <td>False</td>\n",
       "      <td>False</td>\n",
       "      <td>False</td>\n",
       "    </tr>\n",
       "    <tr>\n",
       "      <th>888</th>\n",
       "      <td>False</td>\n",
       "      <td>False</td>\n",
       "      <td>False</td>\n",
       "      <td>False</td>\n",
       "      <td>False</td>\n",
       "      <td>True</td>\n",
       "      <td>False</td>\n",
       "      <td>False</td>\n",
       "      <td>False</td>\n",
       "      <td>False</td>\n",
       "      <td>True</td>\n",
       "      <td>False</td>\n",
       "    </tr>\n",
       "    <tr>\n",
       "      <th>889</th>\n",
       "      <td>False</td>\n",
       "      <td>False</td>\n",
       "      <td>False</td>\n",
       "      <td>False</td>\n",
       "      <td>False</td>\n",
       "      <td>False</td>\n",
       "      <td>False</td>\n",
       "      <td>False</td>\n",
       "      <td>False</td>\n",
       "      <td>False</td>\n",
       "      <td>False</td>\n",
       "      <td>False</td>\n",
       "    </tr>\n",
       "    <tr>\n",
       "      <th>890</th>\n",
       "      <td>False</td>\n",
       "      <td>False</td>\n",
       "      <td>False</td>\n",
       "      <td>False</td>\n",
       "      <td>False</td>\n",
       "      <td>False</td>\n",
       "      <td>False</td>\n",
       "      <td>False</td>\n",
       "      <td>False</td>\n",
       "      <td>False</td>\n",
       "      <td>True</td>\n",
       "      <td>False</td>\n",
       "    </tr>\n",
       "  </tbody>\n",
       "</table>\n",
       "<p>891 rows × 12 columns</p>\n",
       "</div>"
      ],
      "text/plain": [
       "     PassengerId  Survived  Pclass   Name    Sex    Age  SibSp  Parch  Ticket  \\\n",
       "0          False     False   False  False  False  False  False  False   False   \n",
       "1          False     False   False  False  False  False  False  False   False   \n",
       "2          False     False   False  False  False  False  False  False   False   \n",
       "3          False     False   False  False  False  False  False  False   False   \n",
       "4          False     False   False  False  False  False  False  False   False   \n",
       "..           ...       ...     ...    ...    ...    ...    ...    ...     ...   \n",
       "886        False     False   False  False  False  False  False  False   False   \n",
       "887        False     False   False  False  False  False  False  False   False   \n",
       "888        False     False   False  False  False   True  False  False   False   \n",
       "889        False     False   False  False  False  False  False  False   False   \n",
       "890        False     False   False  False  False  False  False  False   False   \n",
       "\n",
       "      Fare  Cabin  Embarked  \n",
       "0    False   True     False  \n",
       "1    False  False     False  \n",
       "2    False   True     False  \n",
       "3    False  False     False  \n",
       "4    False   True     False  \n",
       "..     ...    ...       ...  \n",
       "886  False   True     False  \n",
       "887  False  False     False  \n",
       "888  False   True     False  \n",
       "889  False  False     False  \n",
       "890  False   True     False  \n",
       "\n",
       "[891 rows x 12 columns]"
      ]
     },
     "metadata": {},
     "output_type": "display_data"
    }
   ],
   "source": [
    "display(tt.isna())"
   ]
  },
  {
   "cell_type": "code",
   "execution_count": 26,
   "id": "3f416676",
   "metadata": {},
   "outputs": [],
   "source": [
    "tt_df = tt.dropna()"
   ]
  },
  {
   "cell_type": "code",
   "execution_count": 27,
   "id": "94e14a1c",
   "metadata": {
    "collapsed": true
   },
   "outputs": [
    {
     "data": {
      "text/html": [
       "<div>\n",
       "<style scoped>\n",
       "    .dataframe tbody tr th:only-of-type {\n",
       "        vertical-align: middle;\n",
       "    }\n",
       "\n",
       "    .dataframe tbody tr th {\n",
       "        vertical-align: top;\n",
       "    }\n",
       "\n",
       "    .dataframe thead th {\n",
       "        text-align: right;\n",
       "    }\n",
       "</style>\n",
       "<table border=\"1\" class=\"dataframe\">\n",
       "  <thead>\n",
       "    <tr style=\"text-align: right;\">\n",
       "      <th></th>\n",
       "      <th>PassengerId</th>\n",
       "      <th>Survived</th>\n",
       "      <th>Pclass</th>\n",
       "      <th>Name</th>\n",
       "      <th>Sex</th>\n",
       "      <th>Age</th>\n",
       "      <th>SibSp</th>\n",
       "      <th>Parch</th>\n",
       "      <th>Ticket</th>\n",
       "      <th>Fare</th>\n",
       "      <th>Cabin</th>\n",
       "      <th>Embarked</th>\n",
       "    </tr>\n",
       "  </thead>\n",
       "  <tbody>\n",
       "    <tr>\n",
       "      <th>0</th>\n",
       "      <td>1</td>\n",
       "      <td>0</td>\n",
       "      <td>3</td>\n",
       "      <td>Braund, Mr. Owen Harris</td>\n",
       "      <td>male</td>\n",
       "      <td>22.0</td>\n",
       "      <td>1</td>\n",
       "      <td>0</td>\n",
       "      <td>A/5 21171</td>\n",
       "      <td>7.2500</td>\n",
       "      <td>NaN</td>\n",
       "      <td>S</td>\n",
       "    </tr>\n",
       "    <tr>\n",
       "      <th>1</th>\n",
       "      <td>2</td>\n",
       "      <td>1</td>\n",
       "      <td>1</td>\n",
       "      <td>Cumings, Mrs. John Bradley (Florence Briggs Th...</td>\n",
       "      <td>female</td>\n",
       "      <td>38.0</td>\n",
       "      <td>1</td>\n",
       "      <td>0</td>\n",
       "      <td>PC 17599</td>\n",
       "      <td>71.2833</td>\n",
       "      <td>C85</td>\n",
       "      <td>C</td>\n",
       "    </tr>\n",
       "    <tr>\n",
       "      <th>2</th>\n",
       "      <td>3</td>\n",
       "      <td>1</td>\n",
       "      <td>3</td>\n",
       "      <td>Heikkinen, Miss. Laina</td>\n",
       "      <td>female</td>\n",
       "      <td>26.0</td>\n",
       "      <td>0</td>\n",
       "      <td>0</td>\n",
       "      <td>STON/O2. 3101282</td>\n",
       "      <td>7.9250</td>\n",
       "      <td>NaN</td>\n",
       "      <td>S</td>\n",
       "    </tr>\n",
       "    <tr>\n",
       "      <th>3</th>\n",
       "      <td>4</td>\n",
       "      <td>1</td>\n",
       "      <td>1</td>\n",
       "      <td>Futrelle, Mrs. Jacques Heath (Lily May Peel)</td>\n",
       "      <td>female</td>\n",
       "      <td>35.0</td>\n",
       "      <td>1</td>\n",
       "      <td>0</td>\n",
       "      <td>113803</td>\n",
       "      <td>53.1000</td>\n",
       "      <td>C123</td>\n",
       "      <td>S</td>\n",
       "    </tr>\n",
       "    <tr>\n",
       "      <th>4</th>\n",
       "      <td>5</td>\n",
       "      <td>0</td>\n",
       "      <td>3</td>\n",
       "      <td>Allen, Mr. William Henry</td>\n",
       "      <td>male</td>\n",
       "      <td>35.0</td>\n",
       "      <td>0</td>\n",
       "      <td>0</td>\n",
       "      <td>373450</td>\n",
       "      <td>8.0500</td>\n",
       "      <td>NaN</td>\n",
       "      <td>S</td>\n",
       "    </tr>\n",
       "    <tr>\n",
       "      <th>...</th>\n",
       "      <td>...</td>\n",
       "      <td>...</td>\n",
       "      <td>...</td>\n",
       "      <td>...</td>\n",
       "      <td>...</td>\n",
       "      <td>...</td>\n",
       "      <td>...</td>\n",
       "      <td>...</td>\n",
       "      <td>...</td>\n",
       "      <td>...</td>\n",
       "      <td>...</td>\n",
       "      <td>...</td>\n",
       "    </tr>\n",
       "    <tr>\n",
       "      <th>886</th>\n",
       "      <td>887</td>\n",
       "      <td>0</td>\n",
       "      <td>2</td>\n",
       "      <td>Montvila, Rev. Juozas</td>\n",
       "      <td>male</td>\n",
       "      <td>27.0</td>\n",
       "      <td>0</td>\n",
       "      <td>0</td>\n",
       "      <td>211536</td>\n",
       "      <td>13.0000</td>\n",
       "      <td>NaN</td>\n",
       "      <td>S</td>\n",
       "    </tr>\n",
       "    <tr>\n",
       "      <th>887</th>\n",
       "      <td>888</td>\n",
       "      <td>1</td>\n",
       "      <td>1</td>\n",
       "      <td>Graham, Miss. Margaret Edith</td>\n",
       "      <td>female</td>\n",
       "      <td>19.0</td>\n",
       "      <td>0</td>\n",
       "      <td>0</td>\n",
       "      <td>112053</td>\n",
       "      <td>30.0000</td>\n",
       "      <td>B42</td>\n",
       "      <td>S</td>\n",
       "    </tr>\n",
       "    <tr>\n",
       "      <th>888</th>\n",
       "      <td>889</td>\n",
       "      <td>0</td>\n",
       "      <td>3</td>\n",
       "      <td>Johnston, Miss. Catherine Helen \"Carrie\"</td>\n",
       "      <td>female</td>\n",
       "      <td>NaN</td>\n",
       "      <td>1</td>\n",
       "      <td>2</td>\n",
       "      <td>W./C. 6607</td>\n",
       "      <td>23.4500</td>\n",
       "      <td>NaN</td>\n",
       "      <td>S</td>\n",
       "    </tr>\n",
       "    <tr>\n",
       "      <th>889</th>\n",
       "      <td>890</td>\n",
       "      <td>1</td>\n",
       "      <td>1</td>\n",
       "      <td>Behr, Mr. Karl Howell</td>\n",
       "      <td>male</td>\n",
       "      <td>26.0</td>\n",
       "      <td>0</td>\n",
       "      <td>0</td>\n",
       "      <td>111369</td>\n",
       "      <td>30.0000</td>\n",
       "      <td>C148</td>\n",
       "      <td>C</td>\n",
       "    </tr>\n",
       "    <tr>\n",
       "      <th>890</th>\n",
       "      <td>891</td>\n",
       "      <td>0</td>\n",
       "      <td>3</td>\n",
       "      <td>Dooley, Mr. Patrick</td>\n",
       "      <td>male</td>\n",
       "      <td>32.0</td>\n",
       "      <td>0</td>\n",
       "      <td>0</td>\n",
       "      <td>370376</td>\n",
       "      <td>7.7500</td>\n",
       "      <td>NaN</td>\n",
       "      <td>Q</td>\n",
       "    </tr>\n",
       "  </tbody>\n",
       "</table>\n",
       "<p>891 rows × 12 columns</p>\n",
       "</div>"
      ],
      "text/plain": [
       "     PassengerId  Survived  Pclass  \\\n",
       "0              1         0       3   \n",
       "1              2         1       1   \n",
       "2              3         1       3   \n",
       "3              4         1       1   \n",
       "4              5         0       3   \n",
       "..           ...       ...     ...   \n",
       "886          887         0       2   \n",
       "887          888         1       1   \n",
       "888          889         0       3   \n",
       "889          890         1       1   \n",
       "890          891         0       3   \n",
       "\n",
       "                                                  Name     Sex   Age  SibSp  \\\n",
       "0                              Braund, Mr. Owen Harris    male  22.0      1   \n",
       "1    Cumings, Mrs. John Bradley (Florence Briggs Th...  female  38.0      1   \n",
       "2                               Heikkinen, Miss. Laina  female  26.0      0   \n",
       "3         Futrelle, Mrs. Jacques Heath (Lily May Peel)  female  35.0      1   \n",
       "4                             Allen, Mr. William Henry    male  35.0      0   \n",
       "..                                                 ...     ...   ...    ...   \n",
       "886                              Montvila, Rev. Juozas    male  27.0      0   \n",
       "887                       Graham, Miss. Margaret Edith  female  19.0      0   \n",
       "888           Johnston, Miss. Catherine Helen \"Carrie\"  female   NaN      1   \n",
       "889                              Behr, Mr. Karl Howell    male  26.0      0   \n",
       "890                                Dooley, Mr. Patrick    male  32.0      0   \n",
       "\n",
       "     Parch            Ticket     Fare Cabin Embarked  \n",
       "0        0         A/5 21171   7.2500   NaN        S  \n",
       "1        0          PC 17599  71.2833   C85        C  \n",
       "2        0  STON/O2. 3101282   7.9250   NaN        S  \n",
       "3        0            113803  53.1000  C123        S  \n",
       "4        0            373450   8.0500   NaN        S  \n",
       "..     ...               ...      ...   ...      ...  \n",
       "886      0            211536  13.0000   NaN        S  \n",
       "887      0            112053  30.0000   B42        S  \n",
       "888      2        W./C. 6607  23.4500   NaN        S  \n",
       "889      0            111369  30.0000  C148        C  \n",
       "890      0            370376   7.7500   NaN        Q  \n",
       "\n",
       "[891 rows x 12 columns]"
      ]
     },
     "metadata": {},
     "output_type": "display_data"
    },
    {
     "data": {
      "text/html": [
       "<div>\n",
       "<style scoped>\n",
       "    .dataframe tbody tr th:only-of-type {\n",
       "        vertical-align: middle;\n",
       "    }\n",
       "\n",
       "    .dataframe tbody tr th {\n",
       "        vertical-align: top;\n",
       "    }\n",
       "\n",
       "    .dataframe thead th {\n",
       "        text-align: right;\n",
       "    }\n",
       "</style>\n",
       "<table border=\"1\" class=\"dataframe\">\n",
       "  <thead>\n",
       "    <tr style=\"text-align: right;\">\n",
       "      <th></th>\n",
       "      <th>PassengerId</th>\n",
       "      <th>Survived</th>\n",
       "      <th>Pclass</th>\n",
       "      <th>Name</th>\n",
       "      <th>Sex</th>\n",
       "      <th>Age</th>\n",
       "      <th>SibSp</th>\n",
       "      <th>Parch</th>\n",
       "      <th>Ticket</th>\n",
       "      <th>Fare</th>\n",
       "      <th>Cabin</th>\n",
       "      <th>Embarked</th>\n",
       "    </tr>\n",
       "  </thead>\n",
       "  <tbody>\n",
       "    <tr>\n",
       "      <th>1</th>\n",
       "      <td>2</td>\n",
       "      <td>1</td>\n",
       "      <td>1</td>\n",
       "      <td>Cumings, Mrs. John Bradley (Florence Briggs Th...</td>\n",
       "      <td>female</td>\n",
       "      <td>38.0</td>\n",
       "      <td>1</td>\n",
       "      <td>0</td>\n",
       "      <td>PC 17599</td>\n",
       "      <td>71.2833</td>\n",
       "      <td>C85</td>\n",
       "      <td>C</td>\n",
       "    </tr>\n",
       "    <tr>\n",
       "      <th>3</th>\n",
       "      <td>4</td>\n",
       "      <td>1</td>\n",
       "      <td>1</td>\n",
       "      <td>Futrelle, Mrs. Jacques Heath (Lily May Peel)</td>\n",
       "      <td>female</td>\n",
       "      <td>35.0</td>\n",
       "      <td>1</td>\n",
       "      <td>0</td>\n",
       "      <td>113803</td>\n",
       "      <td>53.1000</td>\n",
       "      <td>C123</td>\n",
       "      <td>S</td>\n",
       "    </tr>\n",
       "    <tr>\n",
       "      <th>6</th>\n",
       "      <td>7</td>\n",
       "      <td>0</td>\n",
       "      <td>1</td>\n",
       "      <td>McCarthy, Mr. Timothy J</td>\n",
       "      <td>male</td>\n",
       "      <td>54.0</td>\n",
       "      <td>0</td>\n",
       "      <td>0</td>\n",
       "      <td>17463</td>\n",
       "      <td>51.8625</td>\n",
       "      <td>E46</td>\n",
       "      <td>S</td>\n",
       "    </tr>\n",
       "    <tr>\n",
       "      <th>10</th>\n",
       "      <td>11</td>\n",
       "      <td>1</td>\n",
       "      <td>3</td>\n",
       "      <td>Sandstrom, Miss. Marguerite Rut</td>\n",
       "      <td>female</td>\n",
       "      <td>4.0</td>\n",
       "      <td>1</td>\n",
       "      <td>1</td>\n",
       "      <td>PP 9549</td>\n",
       "      <td>16.7000</td>\n",
       "      <td>G6</td>\n",
       "      <td>S</td>\n",
       "    </tr>\n",
       "    <tr>\n",
       "      <th>11</th>\n",
       "      <td>12</td>\n",
       "      <td>1</td>\n",
       "      <td>1</td>\n",
       "      <td>Bonnell, Miss. Elizabeth</td>\n",
       "      <td>female</td>\n",
       "      <td>58.0</td>\n",
       "      <td>0</td>\n",
       "      <td>0</td>\n",
       "      <td>113783</td>\n",
       "      <td>26.5500</td>\n",
       "      <td>C103</td>\n",
       "      <td>S</td>\n",
       "    </tr>\n",
       "    <tr>\n",
       "      <th>...</th>\n",
       "      <td>...</td>\n",
       "      <td>...</td>\n",
       "      <td>...</td>\n",
       "      <td>...</td>\n",
       "      <td>...</td>\n",
       "      <td>...</td>\n",
       "      <td>...</td>\n",
       "      <td>...</td>\n",
       "      <td>...</td>\n",
       "      <td>...</td>\n",
       "      <td>...</td>\n",
       "      <td>...</td>\n",
       "    </tr>\n",
       "    <tr>\n",
       "      <th>871</th>\n",
       "      <td>872</td>\n",
       "      <td>1</td>\n",
       "      <td>1</td>\n",
       "      <td>Beckwith, Mrs. Richard Leonard (Sallie Monypeny)</td>\n",
       "      <td>female</td>\n",
       "      <td>47.0</td>\n",
       "      <td>1</td>\n",
       "      <td>1</td>\n",
       "      <td>11751</td>\n",
       "      <td>52.5542</td>\n",
       "      <td>D35</td>\n",
       "      <td>S</td>\n",
       "    </tr>\n",
       "    <tr>\n",
       "      <th>872</th>\n",
       "      <td>873</td>\n",
       "      <td>0</td>\n",
       "      <td>1</td>\n",
       "      <td>Carlsson, Mr. Frans Olof</td>\n",
       "      <td>male</td>\n",
       "      <td>33.0</td>\n",
       "      <td>0</td>\n",
       "      <td>0</td>\n",
       "      <td>695</td>\n",
       "      <td>5.0000</td>\n",
       "      <td>B51 B53 B55</td>\n",
       "      <td>S</td>\n",
       "    </tr>\n",
       "    <tr>\n",
       "      <th>879</th>\n",
       "      <td>880</td>\n",
       "      <td>1</td>\n",
       "      <td>1</td>\n",
       "      <td>Potter, Mrs. Thomas Jr (Lily Alexenia Wilson)</td>\n",
       "      <td>female</td>\n",
       "      <td>56.0</td>\n",
       "      <td>0</td>\n",
       "      <td>1</td>\n",
       "      <td>11767</td>\n",
       "      <td>83.1583</td>\n",
       "      <td>C50</td>\n",
       "      <td>C</td>\n",
       "    </tr>\n",
       "    <tr>\n",
       "      <th>887</th>\n",
       "      <td>888</td>\n",
       "      <td>1</td>\n",
       "      <td>1</td>\n",
       "      <td>Graham, Miss. Margaret Edith</td>\n",
       "      <td>female</td>\n",
       "      <td>19.0</td>\n",
       "      <td>0</td>\n",
       "      <td>0</td>\n",
       "      <td>112053</td>\n",
       "      <td>30.0000</td>\n",
       "      <td>B42</td>\n",
       "      <td>S</td>\n",
       "    </tr>\n",
       "    <tr>\n",
       "      <th>889</th>\n",
       "      <td>890</td>\n",
       "      <td>1</td>\n",
       "      <td>1</td>\n",
       "      <td>Behr, Mr. Karl Howell</td>\n",
       "      <td>male</td>\n",
       "      <td>26.0</td>\n",
       "      <td>0</td>\n",
       "      <td>0</td>\n",
       "      <td>111369</td>\n",
       "      <td>30.0000</td>\n",
       "      <td>C148</td>\n",
       "      <td>C</td>\n",
       "    </tr>\n",
       "  </tbody>\n",
       "</table>\n",
       "<p>183 rows × 12 columns</p>\n",
       "</div>"
      ],
      "text/plain": [
       "     PassengerId  Survived  Pclass  \\\n",
       "1              2         1       1   \n",
       "3              4         1       1   \n",
       "6              7         0       1   \n",
       "10            11         1       3   \n",
       "11            12         1       1   \n",
       "..           ...       ...     ...   \n",
       "871          872         1       1   \n",
       "872          873         0       1   \n",
       "879          880         1       1   \n",
       "887          888         1       1   \n",
       "889          890         1       1   \n",
       "\n",
       "                                                  Name     Sex   Age  SibSp  \\\n",
       "1    Cumings, Mrs. John Bradley (Florence Briggs Th...  female  38.0      1   \n",
       "3         Futrelle, Mrs. Jacques Heath (Lily May Peel)  female  35.0      1   \n",
       "6                              McCarthy, Mr. Timothy J    male  54.0      0   \n",
       "10                     Sandstrom, Miss. Marguerite Rut  female   4.0      1   \n",
       "11                            Bonnell, Miss. Elizabeth  female  58.0      0   \n",
       "..                                                 ...     ...   ...    ...   \n",
       "871   Beckwith, Mrs. Richard Leonard (Sallie Monypeny)  female  47.0      1   \n",
       "872                           Carlsson, Mr. Frans Olof    male  33.0      0   \n",
       "879      Potter, Mrs. Thomas Jr (Lily Alexenia Wilson)  female  56.0      0   \n",
       "887                       Graham, Miss. Margaret Edith  female  19.0      0   \n",
       "889                              Behr, Mr. Karl Howell    male  26.0      0   \n",
       "\n",
       "     Parch    Ticket     Fare        Cabin Embarked  \n",
       "1        0  PC 17599  71.2833          C85        C  \n",
       "3        0    113803  53.1000         C123        S  \n",
       "6        0     17463  51.8625          E46        S  \n",
       "10       1   PP 9549  16.7000           G6        S  \n",
       "11       0    113783  26.5500         C103        S  \n",
       "..     ...       ...      ...          ...      ...  \n",
       "871      1     11751  52.5542          D35        S  \n",
       "872      0       695   5.0000  B51 B53 B55        S  \n",
       "879      1     11767  83.1583          C50        C  \n",
       "887      0    112053  30.0000          B42        S  \n",
       "889      0    111369  30.0000         C148        C  \n",
       "\n",
       "[183 rows x 12 columns]"
      ]
     },
     "metadata": {},
     "output_type": "display_data"
    }
   ],
   "source": [
    "display(tt)\n",
    "display(tt_df)"
   ]
  },
  {
   "cell_type": "code",
   "execution_count": 28,
   "id": "91d978cb",
   "metadata": {
    "collapsed": true
   },
   "outputs": [
    {
     "name": "stdout",
     "output_type": "stream",
     "text": [
      "PassengerId    False\n",
      "Survived       False\n",
      "Pclass         False\n",
      "Name           False\n",
      "Sex            False\n",
      "Age             True\n",
      "SibSp          False\n",
      "Parch          False\n",
      "Ticket         False\n",
      "Fare           False\n",
      "Cabin           True\n",
      "Embarked        True\n",
      "dtype: bool\n",
      "PassengerId    False\n",
      "Survived       False\n",
      "Pclass         False\n",
      "Name           False\n",
      "Sex            False\n",
      "Age            False\n",
      "SibSp          False\n",
      "Parch          False\n",
      "Ticket         False\n",
      "Fare           False\n",
      "Cabin          False\n",
      "Embarked       False\n",
      "dtype: bool\n",
      "(891, 12)\n",
      "(183, 12)\n"
     ]
    }
   ],
   "source": [
    "print(tt.isna().any())\n",
    "print(tt_df.isna().any())\n",
    "print(tt.shape)\n",
    "print(tt_df.shape)"
   ]
  },
  {
   "cell_type": "code",
   "execution_count": 29,
   "id": "c6458488",
   "metadata": {},
   "outputs": [],
   "source": [
    "#will drop the column that contain NAN\n",
    "df_tt_c = cc.dropna(axis=1)"
   ]
  },
  {
   "cell_type": "code",
   "execution_count": 35,
   "id": "6a042c09",
   "metadata": {
    "collapsed": true
   },
   "outputs": [
    {
     "name": "stdout",
     "output_type": "stream",
     "text": [
      "PassengerId    False\n",
      "Survived       False\n",
      "Pclass         False\n",
      "Name           False\n",
      "Sex            False\n",
      "Age             True\n",
      "SibSp          False\n",
      "Parch          False\n",
      "Ticket         False\n",
      "Fare           False\n",
      "Cabin           True\n",
      "Embarked        True\n",
      "dtype: bool\n",
      "Date              False\n",
      "StartTime         False\n",
      "DayOfWeek         False\n",
      "GoingTo           False\n",
      "Distance          False\n",
      "MaxSpeed          False\n",
      "AvgSpeed          False\n",
      "AvgMovingSpeed    False\n",
      "TotalTime         False\n",
      "MovingTime        False\n",
      "Take407All        False\n",
      "dtype: bool\n"
     ]
    }
   ],
   "source": [
    "print(tt.isna().any())\n",
    "print(df_tt_c.isna().any())"
   ]
  },
  {
   "cell_type": "code",
   "execution_count": 31,
   "id": "f1ad5670",
   "metadata": {},
   "outputs": [],
   "source": [
    "#will drop the row that contain NAN\n",
    "df_tt_r = cc.dropna(axis=0)"
   ]
  },
  {
   "cell_type": "code",
   "execution_count": 33,
   "id": "b39a6da9",
   "metadata": {
    "collapsed": true
   },
   "outputs": [
    {
     "name": "stdout",
     "output_type": "stream",
     "text": [
      "PassengerId    False\n",
      "Survived       False\n",
      "Pclass         False\n",
      "Name           False\n",
      "Sex            False\n",
      "Age             True\n",
      "SibSp          False\n",
      "Parch          False\n",
      "Ticket         False\n",
      "Fare           False\n",
      "Cabin           True\n",
      "Embarked        True\n",
      "dtype: bool\n",
      "Date              False\n",
      "StartTime         False\n",
      "DayOfWeek         False\n",
      "GoingTo           False\n",
      "Distance          False\n",
      "MaxSpeed          False\n",
      "AvgSpeed          False\n",
      "AvgMovingSpeed    False\n",
      "FuelEconomy       False\n",
      "TotalTime         False\n",
      "MovingTime        False\n",
      "Take407All        False\n",
      "Comments          False\n",
      "dtype: bool\n",
      "(891, 12)\n",
      "(23, 13)\n"
     ]
    }
   ],
   "source": [
    "print(tt.isna().any())\n",
    "print(df_tt_r.isna().any())\n",
    "print(tt.shape)\n",
    "print(df_tt_r.shape)"
   ]
  },
  {
   "cell_type": "code",
   "execution_count": 36,
   "id": "a4d24e09",
   "metadata": {},
   "outputs": [
    {
     "data": {
      "text/plain": [
       "(891, 12)"
      ]
     },
     "execution_count": 36,
     "metadata": {},
     "output_type": "execute_result"
    }
   ],
   "source": [
    "tt.shape"
   ]
  },
  {
   "cell_type": "code",
   "execution_count": 37,
   "id": "769a6e0d",
   "metadata": {},
   "outputs": [],
   "source": [
    "tt.dropna(inplace=True) ### this drop the Nan Values and update the original dataframe"
   ]
  },
  {
   "cell_type": "code",
   "execution_count": 47,
   "id": "74062ff4",
   "metadata": {},
   "outputs": [
    {
     "data": {
      "text/plain": [
       "(891, 12)"
      ]
     },
     "execution_count": 47,
     "metadata": {},
     "output_type": "execute_result"
    }
   ],
   "source": [
    "tt.shape"
   ]
  },
  {
   "cell_type": "code",
   "execution_count": 48,
   "id": "e2d23efd",
   "metadata": {},
   "outputs": [],
   "source": [
    "zero_tt = tt.fillna(0)"
   ]
  },
  {
   "cell_type": "code",
   "execution_count": 49,
   "id": "e2cad069",
   "metadata": {
    "collapsed": true
   },
   "outputs": [
    {
     "name": "stdout",
     "output_type": "stream",
     "text": [
      "     PassengerId  Survived  Pclass  \\\n",
      "0              1         0       3   \n",
      "1              2         1       1   \n",
      "2              3         1       3   \n",
      "3              4         1       1   \n",
      "4              5         0       3   \n",
      "..           ...       ...     ...   \n",
      "886          887         0       2   \n",
      "887          888         1       1   \n",
      "888          889         0       3   \n",
      "889          890         1       1   \n",
      "890          891         0       3   \n",
      "\n",
      "                                                  Name     Sex   Age  SibSp  \\\n",
      "0                              Braund, Mr. Owen Harris    male  22.0      1   \n",
      "1    Cumings, Mrs. John Bradley (Florence Briggs Th...  female  38.0      1   \n",
      "2                               Heikkinen, Miss. Laina  female  26.0      0   \n",
      "3         Futrelle, Mrs. Jacques Heath (Lily May Peel)  female  35.0      1   \n",
      "4                             Allen, Mr. William Henry    male  35.0      0   \n",
      "..                                                 ...     ...   ...    ...   \n",
      "886                              Montvila, Rev. Juozas    male  27.0      0   \n",
      "887                       Graham, Miss. Margaret Edith  female  19.0      0   \n",
      "888           Johnston, Miss. Catherine Helen \"Carrie\"  female   0.0      1   \n",
      "889                              Behr, Mr. Karl Howell    male  26.0      0   \n",
      "890                                Dooley, Mr. Patrick    male  32.0      0   \n",
      "\n",
      "     Parch            Ticket     Fare Cabin Embarked  \n",
      "0        0         A/5 21171   7.2500     0        S  \n",
      "1        0          PC 17599  71.2833   C85        C  \n",
      "2        0  STON/O2. 3101282   7.9250     0        S  \n",
      "3        0            113803  53.1000  C123        S  \n",
      "4        0            373450   8.0500     0        S  \n",
      "..     ...               ...      ...   ...      ...  \n",
      "886      0            211536  13.0000     0        S  \n",
      "887      0            112053  30.0000   B42        S  \n",
      "888      2        W./C. 6607  23.4500     0        S  \n",
      "889      0            111369  30.0000  C148        C  \n",
      "890      0            370376   7.7500     0        Q  \n",
      "\n",
      "[891 rows x 12 columns]\n",
      "PassengerId    False\n",
      "Survived       False\n",
      "Pclass         False\n",
      "Name           False\n",
      "Sex            False\n",
      "Age             True\n",
      "SibSp          False\n",
      "Parch          False\n",
      "Ticket         False\n",
      "Fare           False\n",
      "Cabin           True\n",
      "Embarked        True\n",
      "dtype: bool\n",
      "PassengerId    False\n",
      "Survived       False\n",
      "Pclass         False\n",
      "Name           False\n",
      "Sex            False\n",
      "Age            False\n",
      "SibSp          False\n",
      "Parch          False\n",
      "Ticket         False\n",
      "Fare           False\n",
      "Cabin          False\n",
      "Embarked       False\n",
      "dtype: bool\n"
     ]
    }
   ],
   "source": [
    "print(zero_tt)\n",
    "print(tt.isna().any())\n",
    "print(zero_tt.isna().any())"
   ]
  },
  {
   "cell_type": "code",
   "execution_count": 53,
   "id": "eb201a7f",
   "metadata": {
    "collapsed": true
   },
   "outputs": [
    {
     "name": "stdout",
     "output_type": "stream",
     "text": [
      "     PassengerId  Survived  Pclass  \\\n",
      "0              1         0       3   \n",
      "1              2         1       1   \n",
      "2              3         1       3   \n",
      "3              4         1       1   \n",
      "4              5         0       3   \n",
      "..           ...       ...     ...   \n",
      "886          887         0       2   \n",
      "887          888         1       1   \n",
      "888          889         0       3   \n",
      "889          890         1       1   \n",
      "890          891         0       3   \n",
      "\n",
      "                                                  Name     Sex        Age  \\\n",
      "0                              Braund, Mr. Owen Harris    male  22.000000   \n",
      "1    Cumings, Mrs. John Bradley (Florence Briggs Th...  female  38.000000   \n",
      "2                               Heikkinen, Miss. Laina  female  26.000000   \n",
      "3         Futrelle, Mrs. Jacques Heath (Lily May Peel)  female  35.000000   \n",
      "4                             Allen, Mr. William Henry    male  35.000000   \n",
      "..                                                 ...     ...        ...   \n",
      "886                              Montvila, Rev. Juozas    male  27.000000   \n",
      "887                       Graham, Miss. Margaret Edith  female  19.000000   \n",
      "888           Johnston, Miss. Catherine Helen \"Carrie\"  female  29.699118   \n",
      "889                              Behr, Mr. Karl Howell    male  26.000000   \n",
      "890                                Dooley, Mr. Patrick    male  32.000000   \n",
      "\n",
      "     SibSp  Parch            Ticket     Fare Cabin Embarked  \n",
      "0        1      0         A/5 21171   7.2500   NaN        S  \n",
      "1        1      0          PC 17599  71.2833   C85        C  \n",
      "2        0      0  STON/O2. 3101282   7.9250   NaN        S  \n",
      "3        1      0            113803  53.1000  C123        S  \n",
      "4        0      0            373450   8.0500   NaN        S  \n",
      "..     ...    ...               ...      ...   ...      ...  \n",
      "886      0      0            211536  13.0000   NaN        S  \n",
      "887      0      0            112053  30.0000   B42        S  \n",
      "888      1      2        W./C. 6607  23.4500   NaN        S  \n",
      "889      0      0            111369  30.0000  C148        C  \n",
      "890      0      0            370376   7.7500   NaN        Q  \n",
      "\n",
      "[891 rows x 12 columns]\n",
      "PassengerId    False\n",
      "Survived       False\n",
      "Pclass         False\n",
      "Name           False\n",
      "Sex            False\n",
      "Age            False\n",
      "SibSp          False\n",
      "Parch          False\n",
      "Ticket         False\n",
      "Fare           False\n",
      "Cabin           True\n",
      "Embarked        True\n",
      "dtype: bool\n"
     ]
    }
   ],
   "source": [
    "tt2 = tt.fillna(tt.mean(numeric_only=True))\n",
    "print(tt2)\n",
    "print(tt2.isna().any())"
   ]
  },
  {
   "cell_type": "code",
   "execution_count": 60,
   "id": "b2957607",
   "metadata": {
    "collapsed": true
   },
   "outputs": [
    {
     "name": "stdout",
     "output_type": "stream",
     "text": [
      "     PassengerId  Survived  Pclass                                   Name  \\\n",
      "0              1       0.0     3.0                    Abbing, Mr. Anthony   \n",
      "1              2       NaN     NaN            Abbott, Mr. Rossmore Edward   \n",
      "2              3       NaN     NaN       Abbott, Mrs. Stanton (Rosa Hunt)   \n",
      "3              4       NaN     NaN                    Abelson, Mr. Samuel   \n",
      "4              5       NaN     NaN  Abelson, Mrs. Samuel (Hannah Wizosky)   \n",
      "..           ...       ...     ...                                    ...   \n",
      "886          887       NaN     NaN                de Mulder, Mr. Theodore   \n",
      "887          888       NaN     NaN              de Pelsmaeker, Mr. Alfons   \n",
      "888          889       NaN     NaN              del Carlo, Mr. Sebastiano   \n",
      "889          890       NaN     NaN        van Billiard, Mr. Austin Blyler   \n",
      "890          891       NaN     NaN            van Melkebeke, Mr. Philemon   \n",
      "\n",
      "      Sex   Age  SibSp  Parch    Ticket  Fare        Cabin Embarked  \n",
      "0    male  24.0    0.0    0.0      1601  8.05      B96 B98        S  \n",
      "1     NaN   NaN    NaN    NaN    347082   NaN  C23 C25 C27      NaN  \n",
      "2     NaN   NaN    NaN    NaN  CA. 2343   NaN           G6      NaN  \n",
      "3     NaN   NaN    NaN    NaN       NaN   NaN          NaN      NaN  \n",
      "4     NaN   NaN    NaN    NaN       NaN   NaN          NaN      NaN  \n",
      "..    ...   ...    ...    ...       ...   ...          ...      ...  \n",
      "886   NaN   NaN    NaN    NaN       NaN   NaN          NaN      NaN  \n",
      "887   NaN   NaN    NaN    NaN       NaN   NaN          NaN      NaN  \n",
      "888   NaN   NaN    NaN    NaN       NaN   NaN          NaN      NaN  \n",
      "889   NaN   NaN    NaN    NaN       NaN   NaN          NaN      NaN  \n",
      "890   NaN   NaN    NaN    NaN       NaN   NaN          NaN      NaN  \n",
      "\n",
      "[891 rows x 12 columns]\n",
      "PassengerId                      1\n",
      "Survived                       0.0\n",
      "Pclass                         3.0\n",
      "Name           Abbing, Mr. Anthony\n",
      "Sex                           male\n",
      "Age                           24.0\n",
      "SibSp                          0.0\n",
      "Parch                          0.0\n",
      "Ticket                        1601\n",
      "Fare                          8.05\n",
      "Cabin                      B96 B98\n",
      "Embarked                         S\n",
      "Name: 0, dtype: object\n"
     ]
    }
   ],
   "source": [
    "print(tt.mode())\n",
    "print(tt.mode().iloc[0])\n",
    "tt_mode = tt.fillna(tt.mode().iloc[0])"
   ]
  },
  {
   "cell_type": "code",
   "execution_count": 59,
   "id": "badc9c43",
   "metadata": {
    "collapsed": true
   },
   "outputs": [
    {
     "data": {
      "text/html": [
       "<div>\n",
       "<style scoped>\n",
       "    .dataframe tbody tr th:only-of-type {\n",
       "        vertical-align: middle;\n",
       "    }\n",
       "\n",
       "    .dataframe tbody tr th {\n",
       "        vertical-align: top;\n",
       "    }\n",
       "\n",
       "    .dataframe thead th {\n",
       "        text-align: right;\n",
       "    }\n",
       "</style>\n",
       "<table border=\"1\" class=\"dataframe\">\n",
       "  <thead>\n",
       "    <tr style=\"text-align: right;\">\n",
       "      <th></th>\n",
       "      <th>PassengerId</th>\n",
       "      <th>Survived</th>\n",
       "      <th>Pclass</th>\n",
       "      <th>Name</th>\n",
       "      <th>Sex</th>\n",
       "      <th>Age</th>\n",
       "      <th>SibSp</th>\n",
       "      <th>Parch</th>\n",
       "      <th>Ticket</th>\n",
       "      <th>Fare</th>\n",
       "      <th>Cabin</th>\n",
       "      <th>Embarked</th>\n",
       "    </tr>\n",
       "  </thead>\n",
       "  <tbody>\n",
       "    <tr>\n",
       "      <th>0</th>\n",
       "      <td>1</td>\n",
       "      <td>0</td>\n",
       "      <td>3</td>\n",
       "      <td>Braund, Mr. Owen Harris</td>\n",
       "      <td>male</td>\n",
       "      <td>22.0</td>\n",
       "      <td>1</td>\n",
       "      <td>0</td>\n",
       "      <td>A/5 21171</td>\n",
       "      <td>7.2500</td>\n",
       "      <td>B96 B98</td>\n",
       "      <td>S</td>\n",
       "    </tr>\n",
       "    <tr>\n",
       "      <th>1</th>\n",
       "      <td>2</td>\n",
       "      <td>1</td>\n",
       "      <td>1</td>\n",
       "      <td>Cumings, Mrs. John Bradley (Florence Briggs Th...</td>\n",
       "      <td>female</td>\n",
       "      <td>38.0</td>\n",
       "      <td>1</td>\n",
       "      <td>0</td>\n",
       "      <td>PC 17599</td>\n",
       "      <td>71.2833</td>\n",
       "      <td>C85</td>\n",
       "      <td>C</td>\n",
       "    </tr>\n",
       "    <tr>\n",
       "      <th>2</th>\n",
       "      <td>3</td>\n",
       "      <td>1</td>\n",
       "      <td>3</td>\n",
       "      <td>Heikkinen, Miss. Laina</td>\n",
       "      <td>female</td>\n",
       "      <td>26.0</td>\n",
       "      <td>0</td>\n",
       "      <td>0</td>\n",
       "      <td>STON/O2. 3101282</td>\n",
       "      <td>7.9250</td>\n",
       "      <td>B96 B98</td>\n",
       "      <td>S</td>\n",
       "    </tr>\n",
       "    <tr>\n",
       "      <th>3</th>\n",
       "      <td>4</td>\n",
       "      <td>1</td>\n",
       "      <td>1</td>\n",
       "      <td>Futrelle, Mrs. Jacques Heath (Lily May Peel)</td>\n",
       "      <td>female</td>\n",
       "      <td>35.0</td>\n",
       "      <td>1</td>\n",
       "      <td>0</td>\n",
       "      <td>113803</td>\n",
       "      <td>53.1000</td>\n",
       "      <td>C123</td>\n",
       "      <td>S</td>\n",
       "    </tr>\n",
       "    <tr>\n",
       "      <th>4</th>\n",
       "      <td>5</td>\n",
       "      <td>0</td>\n",
       "      <td>3</td>\n",
       "      <td>Allen, Mr. William Henry</td>\n",
       "      <td>male</td>\n",
       "      <td>35.0</td>\n",
       "      <td>0</td>\n",
       "      <td>0</td>\n",
       "      <td>373450</td>\n",
       "      <td>8.0500</td>\n",
       "      <td>B96 B98</td>\n",
       "      <td>S</td>\n",
       "    </tr>\n",
       "    <tr>\n",
       "      <th>...</th>\n",
       "      <td>...</td>\n",
       "      <td>...</td>\n",
       "      <td>...</td>\n",
       "      <td>...</td>\n",
       "      <td>...</td>\n",
       "      <td>...</td>\n",
       "      <td>...</td>\n",
       "      <td>...</td>\n",
       "      <td>...</td>\n",
       "      <td>...</td>\n",
       "      <td>...</td>\n",
       "      <td>...</td>\n",
       "    </tr>\n",
       "    <tr>\n",
       "      <th>886</th>\n",
       "      <td>887</td>\n",
       "      <td>0</td>\n",
       "      <td>2</td>\n",
       "      <td>Montvila, Rev. Juozas</td>\n",
       "      <td>male</td>\n",
       "      <td>27.0</td>\n",
       "      <td>0</td>\n",
       "      <td>0</td>\n",
       "      <td>211536</td>\n",
       "      <td>13.0000</td>\n",
       "      <td>B96 B98</td>\n",
       "      <td>S</td>\n",
       "    </tr>\n",
       "    <tr>\n",
       "      <th>887</th>\n",
       "      <td>888</td>\n",
       "      <td>1</td>\n",
       "      <td>1</td>\n",
       "      <td>Graham, Miss. Margaret Edith</td>\n",
       "      <td>female</td>\n",
       "      <td>19.0</td>\n",
       "      <td>0</td>\n",
       "      <td>0</td>\n",
       "      <td>112053</td>\n",
       "      <td>30.0000</td>\n",
       "      <td>B42</td>\n",
       "      <td>S</td>\n",
       "    </tr>\n",
       "    <tr>\n",
       "      <th>888</th>\n",
       "      <td>889</td>\n",
       "      <td>0</td>\n",
       "      <td>3</td>\n",
       "      <td>Johnston, Miss. Catherine Helen \"Carrie\"</td>\n",
       "      <td>female</td>\n",
       "      <td>24.0</td>\n",
       "      <td>1</td>\n",
       "      <td>2</td>\n",
       "      <td>W./C. 6607</td>\n",
       "      <td>23.4500</td>\n",
       "      <td>B96 B98</td>\n",
       "      <td>S</td>\n",
       "    </tr>\n",
       "    <tr>\n",
       "      <th>889</th>\n",
       "      <td>890</td>\n",
       "      <td>1</td>\n",
       "      <td>1</td>\n",
       "      <td>Behr, Mr. Karl Howell</td>\n",
       "      <td>male</td>\n",
       "      <td>26.0</td>\n",
       "      <td>0</td>\n",
       "      <td>0</td>\n",
       "      <td>111369</td>\n",
       "      <td>30.0000</td>\n",
       "      <td>C148</td>\n",
       "      <td>C</td>\n",
       "    </tr>\n",
       "    <tr>\n",
       "      <th>890</th>\n",
       "      <td>891</td>\n",
       "      <td>0</td>\n",
       "      <td>3</td>\n",
       "      <td>Dooley, Mr. Patrick</td>\n",
       "      <td>male</td>\n",
       "      <td>32.0</td>\n",
       "      <td>0</td>\n",
       "      <td>0</td>\n",
       "      <td>370376</td>\n",
       "      <td>7.7500</td>\n",
       "      <td>B96 B98</td>\n",
       "      <td>Q</td>\n",
       "    </tr>\n",
       "  </tbody>\n",
       "</table>\n",
       "<p>891 rows × 12 columns</p>\n",
       "</div>"
      ],
      "text/plain": [
       "     PassengerId  Survived  Pclass  \\\n",
       "0              1         0       3   \n",
       "1              2         1       1   \n",
       "2              3         1       3   \n",
       "3              4         1       1   \n",
       "4              5         0       3   \n",
       "..           ...       ...     ...   \n",
       "886          887         0       2   \n",
       "887          888         1       1   \n",
       "888          889         0       3   \n",
       "889          890         1       1   \n",
       "890          891         0       3   \n",
       "\n",
       "                                                  Name     Sex   Age  SibSp  \\\n",
       "0                              Braund, Mr. Owen Harris    male  22.0      1   \n",
       "1    Cumings, Mrs. John Bradley (Florence Briggs Th...  female  38.0      1   \n",
       "2                               Heikkinen, Miss. Laina  female  26.0      0   \n",
       "3         Futrelle, Mrs. Jacques Heath (Lily May Peel)  female  35.0      1   \n",
       "4                             Allen, Mr. William Henry    male  35.0      0   \n",
       "..                                                 ...     ...   ...    ...   \n",
       "886                              Montvila, Rev. Juozas    male  27.0      0   \n",
       "887                       Graham, Miss. Margaret Edith  female  19.0      0   \n",
       "888           Johnston, Miss. Catherine Helen \"Carrie\"  female  24.0      1   \n",
       "889                              Behr, Mr. Karl Howell    male  26.0      0   \n",
       "890                                Dooley, Mr. Patrick    male  32.0      0   \n",
       "\n",
       "     Parch            Ticket     Fare    Cabin Embarked  \n",
       "0        0         A/5 21171   7.2500  B96 B98        S  \n",
       "1        0          PC 17599  71.2833      C85        C  \n",
       "2        0  STON/O2. 3101282   7.9250  B96 B98        S  \n",
       "3        0            113803  53.1000     C123        S  \n",
       "4        0            373450   8.0500  B96 B98        S  \n",
       "..     ...               ...      ...      ...      ...  \n",
       "886      0            211536  13.0000  B96 B98        S  \n",
       "887      0            112053  30.0000      B42        S  \n",
       "888      2        W./C. 6607  23.4500  B96 B98        S  \n",
       "889      0            111369  30.0000     C148        C  \n",
       "890      0            370376   7.7500  B96 B98        Q  \n",
       "\n",
       "[891 rows x 12 columns]"
      ]
     },
     "metadata": {},
     "output_type": "display_data"
    }
   ],
   "source": [
    "display(tt_mode)"
   ]
  },
  {
   "cell_type": "code",
   "execution_count": 61,
   "id": "ebd4a970",
   "metadata": {
    "collapsed": true
   },
   "outputs": [
    {
     "name": "stdout",
     "output_type": "stream",
     "text": [
      "PassengerId    False\n",
      "Survived       False\n",
      "Pclass         False\n",
      "Name           False\n",
      "Sex            False\n",
      "Age            False\n",
      "SibSp          False\n",
      "Parch          False\n",
      "Ticket         False\n",
      "Fare           False\n",
      "Cabin          False\n",
      "Embarked       False\n",
      "dtype: bool\n"
     ]
    }
   ],
   "source": [
    "print(tt_mode.isna().any())"
   ]
  },
  {
   "cell_type": "markdown",
   "id": "b8fd59b8",
   "metadata": {},
   "source": [
    "In Pandas, the **duplicated()** function is used to identify duplicated rows in a DataFrame. It returns a Boolean Series that indicates whether each row is a duplicate or not."
   ]
  },
  {
   "cell_type": "code",
   "execution_count": 67,
   "id": "51c0c890",
   "metadata": {
    "collapsed": true
   },
   "outputs": [
    {
     "data": {
      "text/plain": [
       "0      False\n",
       "1      False\n",
       "2      False\n",
       "3      False\n",
       "4      False\n",
       "       ...  \n",
       "886    False\n",
       "887    False\n",
       "888    False\n",
       "889    False\n",
       "890    False\n",
       "Length: 891, dtype: bool"
      ]
     },
     "execution_count": 67,
     "metadata": {},
     "output_type": "execute_result"
    }
   ],
   "source": [
    "tt.duplicated()"
   ]
  },
  {
   "cell_type": "code",
   "execution_count": 68,
   "id": "8ba1a76b",
   "metadata": {},
   "outputs": [
    {
     "data": {
      "text/plain": [
       "False"
      ]
     },
     "execution_count": 68,
     "metadata": {},
     "output_type": "execute_result"
    }
   ],
   "source": [
    "tt.duplicated().any()"
   ]
  },
  {
   "cell_type": "markdown",
   "id": "70380ccc",
   "metadata": {},
   "source": [
    "## Another Example"
   ]
  },
  {
   "cell_type": "code",
   "execution_count": 130,
   "id": "d800eb21",
   "metadata": {},
   "outputs": [
    {
     "name": "stdout",
     "output_type": "stream",
     "text": [
      "          Date StartTime  DayOfWeek GoingTo  Distance  MaxSpeed  AvgSpeed  \\\n",
      "0     1/6/2012     16:37     Friday    Home     51.29     127.4      78.3   \n",
      "1     1/6/2012     08:20     Friday     GSK     51.63     130.3      81.8   \n",
      "2     1/4/2012     16:17  Wednesday    Home     51.27     127.4      82.0   \n",
      "3     1/4/2012     07:53  Wednesday     GSK     49.17     132.3      74.2   \n",
      "4     1/3/2012     18:57    Tuesday    Home     51.15     136.2      83.4   \n",
      "..         ...       ...        ...     ...       ...       ...       ...   \n",
      "200  7/18/2011     08:09     Monday     GSK     54.52     125.6      49.9   \n",
      "201  7/14/2011     08:03   Thursday     GSK     50.90     123.7      76.2   \n",
      "202  7/13/2011     17:08  Wednesday    Home     51.96     132.6      57.5   \n",
      "203  7/12/2011     17:51    Tuesday    Home     53.28     125.8      61.6   \n",
      "204  7/11/2011     16:56     Monday    Home     51.73     125.0      62.8   \n",
      "\n",
      "     AvgMovingSpeed FuelEconomy  TotalTime  MovingTime Take407All Comments  \n",
      "0              84.8         NaN       39.3        36.3         No      NaN  \n",
      "1              88.9         NaN       37.9        34.9         No      NaN  \n",
      "2              85.8         NaN       37.5        35.9         No      NaN  \n",
      "3              82.9         NaN       39.8        35.6         No      NaN  \n",
      "4              88.1         NaN       36.8        34.8         No      NaN  \n",
      "..              ...         ...        ...         ...        ...      ...  \n",
      "200            82.4        7.89       65.5        39.7         No      NaN  \n",
      "201            95.1        7.89       40.1        32.1        Yes      NaN  \n",
      "202            76.7         NaN       54.2        40.6        Yes      NaN  \n",
      "203            87.6         NaN       51.9        36.5        Yes      NaN  \n",
      "204            92.5         NaN       49.5        33.6        Yes      NaN  \n",
      "\n",
      "[205 rows x 13 columns]\n"
     ]
    }
   ],
   "source": [
    "cc = pd.read_csv(\"travel-times.csv\")\n",
    "print(cc)"
   ]
  },
  {
   "cell_type": "code",
   "execution_count": 84,
   "id": "878391ba",
   "metadata": {},
   "outputs": [],
   "source": [
    "#fill all the NAN or missing values with \"0\"\n",
    "new_cc = cc.fillna(0)"
   ]
  },
  {
   "cell_type": "code",
   "execution_count": 85,
   "id": "dfcd6980",
   "metadata": {
    "collapsed": true
   },
   "outputs": [
    {
     "name": "stdout",
     "output_type": "stream",
     "text": [
      "          Date StartTime  DayOfWeek GoingTo  Distance  MaxSpeed  AvgSpeed  \\\n",
      "0     1/6/2012     16:37     Friday    Home     51.29     127.4      78.3   \n",
      "1     1/6/2012     08:20     Friday     GSK     51.63     130.3      81.8   \n",
      "2     1/4/2012     16:17  Wednesday    Home     51.27     127.4      82.0   \n",
      "3     1/4/2012     07:53  Wednesday     GSK     49.17     132.3      74.2   \n",
      "4     1/3/2012     18:57    Tuesday    Home     51.15     136.2      83.4   \n",
      "..         ...       ...        ...     ...       ...       ...       ...   \n",
      "200  7/18/2011     08:09     Monday     GSK     54.52     125.6      49.9   \n",
      "201  7/14/2011     08:03   Thursday     GSK     50.90     123.7      76.2   \n",
      "202  7/13/2011     17:08  Wednesday    Home     51.96     132.6      57.5   \n",
      "203  7/12/2011     17:51    Tuesday    Home     53.28     125.8      61.6   \n",
      "204  7/11/2011     16:56     Monday    Home     51.73     125.0      62.8   \n",
      "\n",
      "     AvgMovingSpeed FuelEconomy  TotalTime  MovingTime Take407All Comments  \n",
      "0              84.8           0       39.3        36.3         No        0  \n",
      "1              88.9           0       37.9        34.9         No        0  \n",
      "2              85.8           0       37.5        35.9         No        0  \n",
      "3              82.9           0       39.8        35.6         No        0  \n",
      "4              88.1           0       36.8        34.8         No        0  \n",
      "..              ...         ...        ...         ...        ...      ...  \n",
      "200            82.4        7.89       65.5        39.7         No        0  \n",
      "201            95.1        7.89       40.1        32.1        Yes        0  \n",
      "202            76.7           0       54.2        40.6        Yes        0  \n",
      "203            87.6           0       51.9        36.5        Yes        0  \n",
      "204            92.5           0       49.5        33.6        Yes        0  \n",
      "\n",
      "[205 rows x 13 columns]\n",
      "Date              False\n",
      "StartTime         False\n",
      "DayOfWeek         False\n",
      "GoingTo           False\n",
      "Distance          False\n",
      "MaxSpeed          False\n",
      "AvgSpeed          False\n",
      "AvgMovingSpeed    False\n",
      "FuelEconomy        True\n",
      "TotalTime         False\n",
      "MovingTime        False\n",
      "Take407All        False\n",
      "Comments           True\n",
      "dtype: bool\n",
      "Date              False\n",
      "StartTime         False\n",
      "DayOfWeek         False\n",
      "GoingTo           False\n",
      "Distance          False\n",
      "MaxSpeed          False\n",
      "AvgSpeed          False\n",
      "AvgMovingSpeed    False\n",
      "FuelEconomy       False\n",
      "TotalTime         False\n",
      "MovingTime        False\n",
      "Take407All        False\n",
      "Comments          False\n",
      "dtype: bool\n"
     ]
    }
   ],
   "source": [
    "print(new_cc)\n",
    "print(cc.isna().any())\n",
    "print(new_cc.isna().any())"
   ]
  },
  {
   "cell_type": "code",
   "execution_count": 98,
   "id": "ccfa0520",
   "metadata": {
    "collapsed": true
   },
   "outputs": [
    {
     "name": "stdout",
     "output_type": "stream",
     "text": [
      "          Date StartTime  DayOfWeek GoingTo  Distance  MaxSpeed  AvgSpeed  \\\n",
      "0     1/6/2012     16:37     Friday    Home     51.29     127.4      78.3   \n",
      "1     1/6/2012     08:20     Friday     GSK     51.63     130.3      81.8   \n",
      "2     1/4/2012     16:17  Wednesday    Home     51.27     127.4      82.0   \n",
      "3     1/4/2012     07:53  Wednesday     GSK     49.17     132.3      74.2   \n",
      "4     1/3/2012     18:57    Tuesday    Home     51.15     136.2      83.4   \n",
      "..         ...       ...        ...     ...       ...       ...       ...   \n",
      "200  7/18/2011     08:09     Monday     GSK     54.52     125.6      49.9   \n",
      "201  7/14/2011     08:03   Thursday     GSK     50.90     123.7      76.2   \n",
      "202  7/13/2011     17:08  Wednesday    Home     51.96     132.6      57.5   \n",
      "203  7/12/2011     17:51    Tuesday    Home     53.28     125.8      61.6   \n",
      "204  7/11/2011     16:56     Monday    Home     51.73     125.0      62.8   \n",
      "\n",
      "     AvgMovingSpeed  FuelEconomy  TotalTime  MovingTime Take407All Comments  \n",
      "0              84.8     8.690591       39.3        36.3         No      NaN  \n",
      "1              88.9     8.690591       37.9        34.9         No      NaN  \n",
      "2              85.8     8.690591       37.5        35.9         No      NaN  \n",
      "3              82.9     8.690591       39.8        35.6         No      NaN  \n",
      "4              88.1     8.690591       36.8        34.8         No      NaN  \n",
      "..              ...          ...        ...         ...        ...      ...  \n",
      "200            82.4     7.890000       65.5        39.7         No      NaN  \n",
      "201            95.1     7.890000       40.1        32.1        Yes      NaN  \n",
      "202            76.7     8.690591       54.2        40.6        Yes      NaN  \n",
      "203            87.6     8.690591       51.9        36.5        Yes      NaN  \n",
      "204            92.5     8.690591       49.5        33.6        Yes      NaN  \n",
      "\n",
      "[205 rows x 13 columns]\n",
      "          Date StartTime  DayOfWeek GoingTo  Distance  MaxSpeed  AvgSpeed  \\\n",
      "0     1/6/2012     16:37     Friday    Home     51.29     127.4      78.3   \n",
      "1     1/6/2012     08:20     Friday     GSK     51.63     130.3      81.8   \n",
      "2     1/4/2012     16:17  Wednesday    Home     51.27     127.4      82.0   \n",
      "3     1/4/2012     07:53  Wednesday     GSK     49.17     132.3      74.2   \n",
      "4     1/3/2012     18:57    Tuesday    Home     51.15     136.2      83.4   \n",
      "..         ...       ...        ...     ...       ...       ...       ...   \n",
      "200  7/18/2011     08:09     Monday     GSK     54.52     125.6      49.9   \n",
      "201  7/14/2011     08:03   Thursday     GSK     50.90     123.7      76.2   \n",
      "202  7/13/2011     17:08  Wednesday    Home     51.96     132.6      57.5   \n",
      "203  7/12/2011     17:51    Tuesday    Home     53.28     125.8      61.6   \n",
      "204  7/11/2011     16:56     Monday    Home     51.73     125.0      62.8   \n",
      "\n",
      "     AvgMovingSpeed  FuelEconomy  TotalTime  MovingTime Take407All Comments  \n",
      "0              84.8          NaN       39.3        36.3         No      NaN  \n",
      "1              88.9          NaN       37.9        34.9         No      NaN  \n",
      "2              85.8          NaN       37.5        35.9         No      NaN  \n",
      "3              82.9          NaN       39.8        35.6         No      NaN  \n",
      "4              88.1          NaN       36.8        34.8         No      NaN  \n",
      "..              ...          ...        ...         ...        ...      ...  \n",
      "200            82.4         7.89       65.5        39.7         No      NaN  \n",
      "201            95.1         7.89       40.1        32.1        Yes      NaN  \n",
      "202            76.7          NaN       54.2        40.6        Yes      NaN  \n",
      "203            87.6          NaN       51.9        36.5        Yes      NaN  \n",
      "204            92.5          NaN       49.5        33.6        Yes      NaN  \n",
      "\n",
      "[205 rows x 13 columns]\n"
     ]
    }
   ],
   "source": [
    "#fill all the NAN or missing values with \"mean\"\n",
    "new = cc.fillna(cc.mean(numeric_only=True))\n",
    "print(new)\n",
    "print(cc)"
   ]
  },
  {
   "cell_type": "markdown",
   "id": "af760d1e",
   "metadata": {},
   "source": [
    "The **errors=\"coerce\"** parameter in the pd.to_numeric() function is used to handle the conversion of values that cannot be parsed as numeric.\n",
    "\n",
    "When you set errors=\"coerce\", it means that if any values in the column cannot be converted to numeric format, they will be replaced with NaN (Not a Number) values."
   ]
  },
  {
   "cell_type": "code",
   "execution_count": 110,
   "id": "d6822cf6",
   "metadata": {
    "collapsed": true
   },
   "outputs": [
    {
     "name": "stdout",
     "output_type": "stream",
     "text": [
      "          Date StartTime  DayOfWeek GoingTo  Distance  MaxSpeed  AvgSpeed  \\\n",
      "0     1/6/2012     16:37     Friday    Home     51.29     127.4      78.3   \n",
      "1     1/6/2012     08:20     Friday     GSK     51.63     130.3      81.8   \n",
      "2     1/4/2012     16:17  Wednesday    Home     51.27     127.4      82.0   \n",
      "3     1/4/2012     07:53  Wednesday     GSK     49.17     132.3      74.2   \n",
      "4     1/3/2012     18:57    Tuesday    Home     51.15     136.2      83.4   \n",
      "..         ...       ...        ...     ...       ...       ...       ...   \n",
      "200  7/18/2011     08:09     Monday     GSK     54.52     125.6      49.9   \n",
      "201  7/14/2011     08:03   Thursday     GSK     50.90     123.7      76.2   \n",
      "202  7/13/2011     17:08  Wednesday    Home     51.96     132.6      57.5   \n",
      "203  7/12/2011     17:51    Tuesday    Home     53.28     125.8      61.6   \n",
      "204  7/11/2011     16:56     Monday    Home     51.73     125.0      62.8   \n",
      "\n",
      "     AvgMovingSpeed FuelEconomy  TotalTime  MovingTime Take407All Comments  \n",
      "0              84.8         NaN       39.3        36.3         No      NaN  \n",
      "1              88.9         NaN       37.9        34.9         No      NaN  \n",
      "2              85.8         NaN       37.5        35.9         No      NaN  \n",
      "3              82.9         NaN       39.8        35.6         No      NaN  \n",
      "4              88.1         NaN       36.8        34.8         No      NaN  \n",
      "..              ...         ...        ...         ...        ...      ...  \n",
      "200            82.4        7.89       65.5        39.7         No      NaN  \n",
      "201            95.1        7.89       40.1        32.1        Yes      NaN  \n",
      "202            76.7         NaN       54.2        40.6        Yes      NaN  \n",
      "203            87.6         NaN       51.9        36.5        Yes      NaN  \n",
      "204            92.5         NaN       49.5        33.6        Yes      NaN  \n",
      "\n",
      "[205 rows x 13 columns]\n",
      "8.69059139784946\n",
      "          Date StartTime  DayOfWeek GoingTo  Distance  MaxSpeed  AvgSpeed  \\\n",
      "0     1/6/2012     16:37     Friday    Home     51.29     127.4      78.3   \n",
      "1     1/6/2012     08:20     Friday     GSK     51.63     130.3      81.8   \n",
      "2     1/4/2012     16:17  Wednesday    Home     51.27     127.4      82.0   \n",
      "3     1/4/2012     07:53  Wednesday     GSK     49.17     132.3      74.2   \n",
      "4     1/3/2012     18:57    Tuesday    Home     51.15     136.2      83.4   \n",
      "..         ...       ...        ...     ...       ...       ...       ...   \n",
      "200  7/18/2011     08:09     Monday     GSK     54.52     125.6      49.9   \n",
      "201  7/14/2011     08:03   Thursday     GSK     50.90     123.7      76.2   \n",
      "202  7/13/2011     17:08  Wednesday    Home     51.96     132.6      57.5   \n",
      "203  7/12/2011     17:51    Tuesday    Home     53.28     125.8      61.6   \n",
      "204  7/11/2011     16:56     Monday    Home     51.73     125.0      62.8   \n",
      "\n",
      "     AvgMovingSpeed  FuelEconomy  TotalTime  MovingTime Take407All Comments  \n",
      "0              84.8     8.690591       39.3        36.3         No      NaN  \n",
      "1              88.9     8.690591       37.9        34.9         No      NaN  \n",
      "2              85.8     8.690591       37.5        35.9         No      NaN  \n",
      "3              82.9     8.690591       39.8        35.6         No      NaN  \n",
      "4              88.1     8.690591       36.8        34.8         No      NaN  \n",
      "..              ...          ...        ...         ...        ...      ...  \n",
      "200            82.4     7.890000       65.5        39.7         No      NaN  \n",
      "201            95.1     7.890000       40.1        32.1        Yes      NaN  \n",
      "202            76.7     8.690591       54.2        40.6        Yes      NaN  \n",
      "203            87.6     8.690591       51.9        36.5        Yes      NaN  \n",
      "204            92.5     8.690591       49.5        33.6        Yes      NaN  \n",
      "\n",
      "[205 rows x 13 columns]\n",
      "          Date StartTime  DayOfWeek GoingTo  Distance  MaxSpeed  AvgSpeed  \\\n",
      "0     1/6/2012     16:37     Friday    Home     51.29     127.4      78.3   \n",
      "1     1/6/2012     08:20     Friday     GSK     51.63     130.3      81.8   \n",
      "2     1/4/2012     16:17  Wednesday    Home     51.27     127.4      82.0   \n",
      "3     1/4/2012     07:53  Wednesday     GSK     49.17     132.3      74.2   \n",
      "4     1/3/2012     18:57    Tuesday    Home     51.15     136.2      83.4   \n",
      "..         ...       ...        ...     ...       ...       ...       ...   \n",
      "200  7/18/2011     08:09     Monday     GSK     54.52     125.6      49.9   \n",
      "201  7/14/2011     08:03   Thursday     GSK     50.90     123.7      76.2   \n",
      "202  7/13/2011     17:08  Wednesday    Home     51.96     132.6      57.5   \n",
      "203  7/12/2011     17:51    Tuesday    Home     53.28     125.8      61.6   \n",
      "204  7/11/2011     16:56     Monday    Home     51.73     125.0      62.8   \n",
      "\n",
      "     AvgMovingSpeed FuelEconomy  TotalTime  MovingTime Take407All Comments  \n",
      "0              84.8         NaN       39.3        36.3         No      NaN  \n",
      "1              88.9         NaN       37.9        34.9         No      NaN  \n",
      "2              85.8         NaN       37.5        35.9         No      NaN  \n",
      "3              82.9         NaN       39.8        35.6         No      NaN  \n",
      "4              88.1         NaN       36.8        34.8         No      NaN  \n",
      "..              ...         ...        ...         ...        ...      ...  \n",
      "200            82.4        7.89       65.5        39.7         No      NaN  \n",
      "201            95.1        7.89       40.1        32.1        Yes      NaN  \n",
      "202            76.7         NaN       54.2        40.6        Yes      NaN  \n",
      "203            87.6         NaN       51.9        36.5        Yes      NaN  \n",
      "204            92.5         NaN       49.5        33.6        Yes      NaN  \n",
      "\n",
      "[205 rows x 13 columns]\n"
     ]
    }
   ],
   "source": [
    "cc_2 = cc.copy()\n",
    "print(cc_2)"
   ]
  },
  {
   "cell_type": "code",
   "execution_count": 117,
   "id": "0a7369a9",
   "metadata": {
    "collapsed": true
   },
   "outputs": [
    {
     "name": "stdout",
     "output_type": "stream",
     "text": [
      "8.690591397849458\n",
      "          Date StartTime  DayOfWeek GoingTo  Distance  MaxSpeed  AvgSpeed  \\\n",
      "0     1/6/2012     16:37     Friday    Home     51.29     127.4      78.3   \n",
      "1     1/6/2012     08:20     Friday     GSK     51.63     130.3      81.8   \n",
      "2     1/4/2012     16:17  Wednesday    Home     51.27     127.4      82.0   \n",
      "3     1/4/2012     07:53  Wednesday     GSK     49.17     132.3      74.2   \n",
      "4     1/3/2012     18:57    Tuesday    Home     51.15     136.2      83.4   \n",
      "..         ...       ...        ...     ...       ...       ...       ...   \n",
      "200  7/18/2011     08:09     Monday     GSK     54.52     125.6      49.9   \n",
      "201  7/14/2011     08:03   Thursday     GSK     50.90     123.7      76.2   \n",
      "202  7/13/2011     17:08  Wednesday    Home     51.96     132.6      57.5   \n",
      "203  7/12/2011     17:51    Tuesday    Home     53.28     125.8      61.6   \n",
      "204  7/11/2011     16:56     Monday    Home     51.73     125.0      62.8   \n",
      "\n",
      "     AvgMovingSpeed  FuelEconomy  TotalTime  MovingTime Take407All Comments  \n",
      "0              84.8     8.690591       39.3        36.3         No      NaN  \n",
      "1              88.9     8.690591       37.9        34.9         No      NaN  \n",
      "2              85.8     8.690591       37.5        35.9         No      NaN  \n",
      "3              82.9     8.690591       39.8        35.6         No      NaN  \n",
      "4              88.1     8.690591       36.8        34.8         No      NaN  \n",
      "..              ...          ...        ...         ...        ...      ...  \n",
      "200            82.4     7.890000       65.5        39.7         No      NaN  \n",
      "201            95.1     7.890000       40.1        32.1        Yes      NaN  \n",
      "202            76.7     8.690591       54.2        40.6        Yes      NaN  \n",
      "203            87.6     8.690591       51.9        36.5        Yes      NaN  \n",
      "204            92.5     8.690591       49.5        33.6        Yes      NaN  \n",
      "\n",
      "[205 rows x 13 columns]\n",
      "          Date StartTime  DayOfWeek GoingTo  Distance  MaxSpeed  AvgSpeed  \\\n",
      "0     1/6/2012     16:37     Friday    Home     51.29     127.4      78.3   \n",
      "1     1/6/2012     08:20     Friday     GSK     51.63     130.3      81.8   \n",
      "2     1/4/2012     16:17  Wednesday    Home     51.27     127.4      82.0   \n",
      "3     1/4/2012     07:53  Wednesday     GSK     49.17     132.3      74.2   \n",
      "4     1/3/2012     18:57    Tuesday    Home     51.15     136.2      83.4   \n",
      "..         ...       ...        ...     ...       ...       ...       ...   \n",
      "200  7/18/2011     08:09     Monday     GSK     54.52     125.6      49.9   \n",
      "201  7/14/2011     08:03   Thursday     GSK     50.90     123.7      76.2   \n",
      "202  7/13/2011     17:08  Wednesday    Home     51.96     132.6      57.5   \n",
      "203  7/12/2011     17:51    Tuesday    Home     53.28     125.8      61.6   \n",
      "204  7/11/2011     16:56     Monday    Home     51.73     125.0      62.8   \n",
      "\n",
      "     AvgMovingSpeed FuelEconomy  TotalTime  MovingTime Take407All Comments  \n",
      "0              84.8         NaN       39.3        36.3         No      NaN  \n",
      "1              88.9         NaN       37.9        34.9         No      NaN  \n",
      "2              85.8         NaN       37.5        35.9         No      NaN  \n",
      "3              82.9         NaN       39.8        35.6         No      NaN  \n",
      "4              88.1         NaN       36.8        34.8         No      NaN  \n",
      "..              ...         ...        ...         ...        ...      ...  \n",
      "200            82.4        7.89       65.5        39.7         No      NaN  \n",
      "201            95.1        7.89       40.1        32.1        Yes      NaN  \n",
      "202            76.7         NaN       54.2        40.6        Yes      NaN  \n",
      "203            87.6         NaN       51.9        36.5        Yes      NaN  \n",
      "204            92.5         NaN       49.5        33.6        Yes      NaN  \n",
      "\n",
      "[205 rows x 13 columns]\n"
     ]
    }
   ],
   "source": [
    "cc_2[\"FuelEconomy\"] = pd.to_numeric(cc_2[\"FuelEconomy\"], errors=\"coerce\")\n",
    "mean_value = cc_2[\"FuelEconomy\"].mean()\n",
    "print(mean_value)\n",
    "cc_2[\"FuelEconomy\"] = cc_2[\"FuelEconomy\"].fillna(mean_value)\n",
    "print(cc_2)\n",
    "print(cc)"
   ]
  },
  {
   "cell_type": "code",
   "execution_count": 123,
   "id": "4a86fc29",
   "metadata": {},
   "outputs": [
    {
     "name": "stdout",
     "output_type": "stream",
     "text": [
      "          Date StartTime DayOfWeek GoingTo  Distance  MaxSpeed  AvgSpeed  \\\n",
      "0     1/2/2012     08:11   Tuesday     GSK     51.06     127.4      71.5   \n",
      "1     1/3/2012     08:22       NaN     NaN       NaN     128.4       NaN   \n",
      "2     1/4/2012     16:15       NaN     NaN       NaN       NaN       NaN   \n",
      "3     1/6/2012     17:17       NaN     NaN       NaN       NaN       NaN   \n",
      "4   10/11/2011     17:24       NaN     NaN       NaN       NaN       NaN   \n",
      "..         ...       ...       ...     ...       ...       ...       ...   \n",
      "89   9/28/2011       NaN       NaN     NaN       NaN       NaN       NaN   \n",
      "90   9/29/2011       NaN       NaN     NaN       NaN       NaN       NaN   \n",
      "91    9/6/2011       NaN       NaN     NaN       NaN       NaN       NaN   \n",
      "92    9/7/2011       NaN       NaN     NaN       NaN       NaN       NaN   \n",
      "93    9/8/2011       NaN       NaN     NaN       NaN       NaN       NaN   \n",
      "\n",
      "    AvgMovingSpeed FuelEconomy  TotalTime  MovingTime Take407All  \\\n",
      "0             77.7         8.5       39.3        37.3         No   \n",
      "1             78.8        8.54        NaN         NaN        NaN   \n",
      "2             79.5         NaN        NaN         NaN        NaN   \n",
      "3             82.9         NaN        NaN         NaN        NaN   \n",
      "4             85.2         NaN        NaN         NaN        NaN   \n",
      "..             ...         ...        ...         ...        ...   \n",
      "89             NaN         NaN        NaN         NaN        NaN   \n",
      "90             NaN         NaN        NaN         NaN        NaN   \n",
      "91             NaN         NaN        NaN         NaN        NaN   \n",
      "92             NaN         NaN        NaN         NaN        NaN   \n",
      "93             NaN         NaN        NaN         NaN        NaN   \n",
      "\n",
      "               Comments  \n",
      "0   Backed up at Bronte  \n",
      "1      Rain, rain, rain  \n",
      "2                   NaN  \n",
      "3                   NaN  \n",
      "4                   NaN  \n",
      "..                  ...  \n",
      "89                  NaN  \n",
      "90                  NaN  \n",
      "91                  NaN  \n",
      "92                  NaN  \n",
      "93                  NaN  \n",
      "\n",
      "[94 rows x 13 columns]\n",
      "Date                         1/2/2012\n",
      "StartTime                       08:11\n",
      "DayOfWeek                     Tuesday\n",
      "GoingTo                           GSK\n",
      "Distance                        51.06\n",
      "MaxSpeed                        127.4\n",
      "AvgSpeed                         71.5\n",
      "AvgMovingSpeed                   77.7\n",
      "FuelEconomy                       8.5\n",
      "TotalTime                        39.3\n",
      "MovingTime                       37.3\n",
      "Take407All                         No\n",
      "Comments          Backed up at Bronte\n",
      "Name: 0, dtype: object\n"
     ]
    }
   ],
   "source": [
    "print(cc.mode())\n",
    "print(cc.mode().iloc[0])"
   ]
  },
  {
   "cell_type": "code",
   "execution_count": 124,
   "id": "93a86446",
   "metadata": {},
   "outputs": [],
   "source": [
    "cc_mode = cc.fillna(cc.mode().iloc[0])"
   ]
  },
  {
   "cell_type": "code",
   "execution_count": 125,
   "id": "ba8ed086",
   "metadata": {
    "collapsed": true
   },
   "outputs": [
    {
     "data": {
      "text/html": [
       "<div>\n",
       "<style scoped>\n",
       "    .dataframe tbody tr th:only-of-type {\n",
       "        vertical-align: middle;\n",
       "    }\n",
       "\n",
       "    .dataframe tbody tr th {\n",
       "        vertical-align: top;\n",
       "    }\n",
       "\n",
       "    .dataframe thead th {\n",
       "        text-align: right;\n",
       "    }\n",
       "</style>\n",
       "<table border=\"1\" class=\"dataframe\">\n",
       "  <thead>\n",
       "    <tr style=\"text-align: right;\">\n",
       "      <th></th>\n",
       "      <th>Date</th>\n",
       "      <th>StartTime</th>\n",
       "      <th>DayOfWeek</th>\n",
       "      <th>GoingTo</th>\n",
       "      <th>Distance</th>\n",
       "      <th>MaxSpeed</th>\n",
       "      <th>AvgSpeed</th>\n",
       "      <th>AvgMovingSpeed</th>\n",
       "      <th>FuelEconomy</th>\n",
       "      <th>TotalTime</th>\n",
       "      <th>MovingTime</th>\n",
       "      <th>Take407All</th>\n",
       "      <th>Comments</th>\n",
       "    </tr>\n",
       "  </thead>\n",
       "  <tbody>\n",
       "    <tr>\n",
       "      <th>0</th>\n",
       "      <td>1/6/2012</td>\n",
       "      <td>16:37</td>\n",
       "      <td>Friday</td>\n",
       "      <td>Home</td>\n",
       "      <td>51.29</td>\n",
       "      <td>127.4</td>\n",
       "      <td>78.3</td>\n",
       "      <td>84.8</td>\n",
       "      <td>NaN</td>\n",
       "      <td>39.3</td>\n",
       "      <td>36.3</td>\n",
       "      <td>No</td>\n",
       "      <td>NaN</td>\n",
       "    </tr>\n",
       "    <tr>\n",
       "      <th>1</th>\n",
       "      <td>1/6/2012</td>\n",
       "      <td>08:20</td>\n",
       "      <td>Friday</td>\n",
       "      <td>GSK</td>\n",
       "      <td>51.63</td>\n",
       "      <td>130.3</td>\n",
       "      <td>81.8</td>\n",
       "      <td>88.9</td>\n",
       "      <td>NaN</td>\n",
       "      <td>37.9</td>\n",
       "      <td>34.9</td>\n",
       "      <td>No</td>\n",
       "      <td>NaN</td>\n",
       "    </tr>\n",
       "    <tr>\n",
       "      <th>2</th>\n",
       "      <td>1/4/2012</td>\n",
       "      <td>16:17</td>\n",
       "      <td>Wednesday</td>\n",
       "      <td>Home</td>\n",
       "      <td>51.27</td>\n",
       "      <td>127.4</td>\n",
       "      <td>82.0</td>\n",
       "      <td>85.8</td>\n",
       "      <td>NaN</td>\n",
       "      <td>37.5</td>\n",
       "      <td>35.9</td>\n",
       "      <td>No</td>\n",
       "      <td>NaN</td>\n",
       "    </tr>\n",
       "    <tr>\n",
       "      <th>3</th>\n",
       "      <td>1/4/2012</td>\n",
       "      <td>07:53</td>\n",
       "      <td>Wednesday</td>\n",
       "      <td>GSK</td>\n",
       "      <td>49.17</td>\n",
       "      <td>132.3</td>\n",
       "      <td>74.2</td>\n",
       "      <td>82.9</td>\n",
       "      <td>NaN</td>\n",
       "      <td>39.8</td>\n",
       "      <td>35.6</td>\n",
       "      <td>No</td>\n",
       "      <td>NaN</td>\n",
       "    </tr>\n",
       "    <tr>\n",
       "      <th>4</th>\n",
       "      <td>1/3/2012</td>\n",
       "      <td>18:57</td>\n",
       "      <td>Tuesday</td>\n",
       "      <td>Home</td>\n",
       "      <td>51.15</td>\n",
       "      <td>136.2</td>\n",
       "      <td>83.4</td>\n",
       "      <td>88.1</td>\n",
       "      <td>NaN</td>\n",
       "      <td>36.8</td>\n",
       "      <td>34.8</td>\n",
       "      <td>No</td>\n",
       "      <td>NaN</td>\n",
       "    </tr>\n",
       "    <tr>\n",
       "      <th>...</th>\n",
       "      <td>...</td>\n",
       "      <td>...</td>\n",
       "      <td>...</td>\n",
       "      <td>...</td>\n",
       "      <td>...</td>\n",
       "      <td>...</td>\n",
       "      <td>...</td>\n",
       "      <td>...</td>\n",
       "      <td>...</td>\n",
       "      <td>...</td>\n",
       "      <td>...</td>\n",
       "      <td>...</td>\n",
       "      <td>...</td>\n",
       "    </tr>\n",
       "    <tr>\n",
       "      <th>200</th>\n",
       "      <td>7/18/2011</td>\n",
       "      <td>08:09</td>\n",
       "      <td>Monday</td>\n",
       "      <td>GSK</td>\n",
       "      <td>54.52</td>\n",
       "      <td>125.6</td>\n",
       "      <td>49.9</td>\n",
       "      <td>82.4</td>\n",
       "      <td>7.89</td>\n",
       "      <td>65.5</td>\n",
       "      <td>39.7</td>\n",
       "      <td>No</td>\n",
       "      <td>NaN</td>\n",
       "    </tr>\n",
       "    <tr>\n",
       "      <th>201</th>\n",
       "      <td>7/14/2011</td>\n",
       "      <td>08:03</td>\n",
       "      <td>Thursday</td>\n",
       "      <td>GSK</td>\n",
       "      <td>50.90</td>\n",
       "      <td>123.7</td>\n",
       "      <td>76.2</td>\n",
       "      <td>95.1</td>\n",
       "      <td>7.89</td>\n",
       "      <td>40.1</td>\n",
       "      <td>32.1</td>\n",
       "      <td>Yes</td>\n",
       "      <td>NaN</td>\n",
       "    </tr>\n",
       "    <tr>\n",
       "      <th>202</th>\n",
       "      <td>7/13/2011</td>\n",
       "      <td>17:08</td>\n",
       "      <td>Wednesday</td>\n",
       "      <td>Home</td>\n",
       "      <td>51.96</td>\n",
       "      <td>132.6</td>\n",
       "      <td>57.5</td>\n",
       "      <td>76.7</td>\n",
       "      <td>NaN</td>\n",
       "      <td>54.2</td>\n",
       "      <td>40.6</td>\n",
       "      <td>Yes</td>\n",
       "      <td>NaN</td>\n",
       "    </tr>\n",
       "    <tr>\n",
       "      <th>203</th>\n",
       "      <td>7/12/2011</td>\n",
       "      <td>17:51</td>\n",
       "      <td>Tuesday</td>\n",
       "      <td>Home</td>\n",
       "      <td>53.28</td>\n",
       "      <td>125.8</td>\n",
       "      <td>61.6</td>\n",
       "      <td>87.6</td>\n",
       "      <td>NaN</td>\n",
       "      <td>51.9</td>\n",
       "      <td>36.5</td>\n",
       "      <td>Yes</td>\n",
       "      <td>NaN</td>\n",
       "    </tr>\n",
       "    <tr>\n",
       "      <th>204</th>\n",
       "      <td>7/11/2011</td>\n",
       "      <td>16:56</td>\n",
       "      <td>Monday</td>\n",
       "      <td>Home</td>\n",
       "      <td>51.73</td>\n",
       "      <td>125.0</td>\n",
       "      <td>62.8</td>\n",
       "      <td>92.5</td>\n",
       "      <td>NaN</td>\n",
       "      <td>49.5</td>\n",
       "      <td>33.6</td>\n",
       "      <td>Yes</td>\n",
       "      <td>NaN</td>\n",
       "    </tr>\n",
       "  </tbody>\n",
       "</table>\n",
       "<p>205 rows × 13 columns</p>\n",
       "</div>"
      ],
      "text/plain": [
       "          Date StartTime  DayOfWeek GoingTo  Distance  MaxSpeed  AvgSpeed  \\\n",
       "0     1/6/2012     16:37     Friday    Home     51.29     127.4      78.3   \n",
       "1     1/6/2012     08:20     Friday     GSK     51.63     130.3      81.8   \n",
       "2     1/4/2012     16:17  Wednesday    Home     51.27     127.4      82.0   \n",
       "3     1/4/2012     07:53  Wednesday     GSK     49.17     132.3      74.2   \n",
       "4     1/3/2012     18:57    Tuesday    Home     51.15     136.2      83.4   \n",
       "..         ...       ...        ...     ...       ...       ...       ...   \n",
       "200  7/18/2011     08:09     Monday     GSK     54.52     125.6      49.9   \n",
       "201  7/14/2011     08:03   Thursday     GSK     50.90     123.7      76.2   \n",
       "202  7/13/2011     17:08  Wednesday    Home     51.96     132.6      57.5   \n",
       "203  7/12/2011     17:51    Tuesday    Home     53.28     125.8      61.6   \n",
       "204  7/11/2011     16:56     Monday    Home     51.73     125.0      62.8   \n",
       "\n",
       "     AvgMovingSpeed FuelEconomy  TotalTime  MovingTime Take407All Comments  \n",
       "0              84.8         NaN       39.3        36.3         No      NaN  \n",
       "1              88.9         NaN       37.9        34.9         No      NaN  \n",
       "2              85.8         NaN       37.5        35.9         No      NaN  \n",
       "3              82.9         NaN       39.8        35.6         No      NaN  \n",
       "4              88.1         NaN       36.8        34.8         No      NaN  \n",
       "..              ...         ...        ...         ...        ...      ...  \n",
       "200            82.4        7.89       65.5        39.7         No      NaN  \n",
       "201            95.1        7.89       40.1        32.1        Yes      NaN  \n",
       "202            76.7         NaN       54.2        40.6        Yes      NaN  \n",
       "203            87.6         NaN       51.9        36.5        Yes      NaN  \n",
       "204            92.5         NaN       49.5        33.6        Yes      NaN  \n",
       "\n",
       "[205 rows x 13 columns]"
      ]
     },
     "metadata": {},
     "output_type": "display_data"
    },
    {
     "data": {
      "text/html": [
       "<div>\n",
       "<style scoped>\n",
       "    .dataframe tbody tr th:only-of-type {\n",
       "        vertical-align: middle;\n",
       "    }\n",
       "\n",
       "    .dataframe tbody tr th {\n",
       "        vertical-align: top;\n",
       "    }\n",
       "\n",
       "    .dataframe thead th {\n",
       "        text-align: right;\n",
       "    }\n",
       "</style>\n",
       "<table border=\"1\" class=\"dataframe\">\n",
       "  <thead>\n",
       "    <tr style=\"text-align: right;\">\n",
       "      <th></th>\n",
       "      <th>Date</th>\n",
       "      <th>StartTime</th>\n",
       "      <th>DayOfWeek</th>\n",
       "      <th>GoingTo</th>\n",
       "      <th>Distance</th>\n",
       "      <th>MaxSpeed</th>\n",
       "      <th>AvgSpeed</th>\n",
       "      <th>AvgMovingSpeed</th>\n",
       "      <th>FuelEconomy</th>\n",
       "      <th>TotalTime</th>\n",
       "      <th>MovingTime</th>\n",
       "      <th>Take407All</th>\n",
       "      <th>Comments</th>\n",
       "    </tr>\n",
       "  </thead>\n",
       "  <tbody>\n",
       "    <tr>\n",
       "      <th>0</th>\n",
       "      <td>1/6/2012</td>\n",
       "      <td>16:37</td>\n",
       "      <td>Friday</td>\n",
       "      <td>Home</td>\n",
       "      <td>51.29</td>\n",
       "      <td>127.4</td>\n",
       "      <td>78.3</td>\n",
       "      <td>84.8</td>\n",
       "      <td>8.5</td>\n",
       "      <td>39.3</td>\n",
       "      <td>36.3</td>\n",
       "      <td>No</td>\n",
       "      <td>Backed up at Bronte</td>\n",
       "    </tr>\n",
       "    <tr>\n",
       "      <th>1</th>\n",
       "      <td>1/6/2012</td>\n",
       "      <td>08:20</td>\n",
       "      <td>Friday</td>\n",
       "      <td>GSK</td>\n",
       "      <td>51.63</td>\n",
       "      <td>130.3</td>\n",
       "      <td>81.8</td>\n",
       "      <td>88.9</td>\n",
       "      <td>8.5</td>\n",
       "      <td>37.9</td>\n",
       "      <td>34.9</td>\n",
       "      <td>No</td>\n",
       "      <td>Backed up at Bronte</td>\n",
       "    </tr>\n",
       "    <tr>\n",
       "      <th>2</th>\n",
       "      <td>1/4/2012</td>\n",
       "      <td>16:17</td>\n",
       "      <td>Wednesday</td>\n",
       "      <td>Home</td>\n",
       "      <td>51.27</td>\n",
       "      <td>127.4</td>\n",
       "      <td>82.0</td>\n",
       "      <td>85.8</td>\n",
       "      <td>8.5</td>\n",
       "      <td>37.5</td>\n",
       "      <td>35.9</td>\n",
       "      <td>No</td>\n",
       "      <td>Backed up at Bronte</td>\n",
       "    </tr>\n",
       "    <tr>\n",
       "      <th>3</th>\n",
       "      <td>1/4/2012</td>\n",
       "      <td>07:53</td>\n",
       "      <td>Wednesday</td>\n",
       "      <td>GSK</td>\n",
       "      <td>49.17</td>\n",
       "      <td>132.3</td>\n",
       "      <td>74.2</td>\n",
       "      <td>82.9</td>\n",
       "      <td>8.5</td>\n",
       "      <td>39.8</td>\n",
       "      <td>35.6</td>\n",
       "      <td>No</td>\n",
       "      <td>Backed up at Bronte</td>\n",
       "    </tr>\n",
       "    <tr>\n",
       "      <th>4</th>\n",
       "      <td>1/3/2012</td>\n",
       "      <td>18:57</td>\n",
       "      <td>Tuesday</td>\n",
       "      <td>Home</td>\n",
       "      <td>51.15</td>\n",
       "      <td>136.2</td>\n",
       "      <td>83.4</td>\n",
       "      <td>88.1</td>\n",
       "      <td>8.5</td>\n",
       "      <td>36.8</td>\n",
       "      <td>34.8</td>\n",
       "      <td>No</td>\n",
       "      <td>Backed up at Bronte</td>\n",
       "    </tr>\n",
       "    <tr>\n",
       "      <th>...</th>\n",
       "      <td>...</td>\n",
       "      <td>...</td>\n",
       "      <td>...</td>\n",
       "      <td>...</td>\n",
       "      <td>...</td>\n",
       "      <td>...</td>\n",
       "      <td>...</td>\n",
       "      <td>...</td>\n",
       "      <td>...</td>\n",
       "      <td>...</td>\n",
       "      <td>...</td>\n",
       "      <td>...</td>\n",
       "      <td>...</td>\n",
       "    </tr>\n",
       "    <tr>\n",
       "      <th>200</th>\n",
       "      <td>7/18/2011</td>\n",
       "      <td>08:09</td>\n",
       "      <td>Monday</td>\n",
       "      <td>GSK</td>\n",
       "      <td>54.52</td>\n",
       "      <td>125.6</td>\n",
       "      <td>49.9</td>\n",
       "      <td>82.4</td>\n",
       "      <td>7.89</td>\n",
       "      <td>65.5</td>\n",
       "      <td>39.7</td>\n",
       "      <td>No</td>\n",
       "      <td>Backed up at Bronte</td>\n",
       "    </tr>\n",
       "    <tr>\n",
       "      <th>201</th>\n",
       "      <td>7/14/2011</td>\n",
       "      <td>08:03</td>\n",
       "      <td>Thursday</td>\n",
       "      <td>GSK</td>\n",
       "      <td>50.90</td>\n",
       "      <td>123.7</td>\n",
       "      <td>76.2</td>\n",
       "      <td>95.1</td>\n",
       "      <td>7.89</td>\n",
       "      <td>40.1</td>\n",
       "      <td>32.1</td>\n",
       "      <td>Yes</td>\n",
       "      <td>Backed up at Bronte</td>\n",
       "    </tr>\n",
       "    <tr>\n",
       "      <th>202</th>\n",
       "      <td>7/13/2011</td>\n",
       "      <td>17:08</td>\n",
       "      <td>Wednesday</td>\n",
       "      <td>Home</td>\n",
       "      <td>51.96</td>\n",
       "      <td>132.6</td>\n",
       "      <td>57.5</td>\n",
       "      <td>76.7</td>\n",
       "      <td>8.5</td>\n",
       "      <td>54.2</td>\n",
       "      <td>40.6</td>\n",
       "      <td>Yes</td>\n",
       "      <td>Backed up at Bronte</td>\n",
       "    </tr>\n",
       "    <tr>\n",
       "      <th>203</th>\n",
       "      <td>7/12/2011</td>\n",
       "      <td>17:51</td>\n",
       "      <td>Tuesday</td>\n",
       "      <td>Home</td>\n",
       "      <td>53.28</td>\n",
       "      <td>125.8</td>\n",
       "      <td>61.6</td>\n",
       "      <td>87.6</td>\n",
       "      <td>8.5</td>\n",
       "      <td>51.9</td>\n",
       "      <td>36.5</td>\n",
       "      <td>Yes</td>\n",
       "      <td>Backed up at Bronte</td>\n",
       "    </tr>\n",
       "    <tr>\n",
       "      <th>204</th>\n",
       "      <td>7/11/2011</td>\n",
       "      <td>16:56</td>\n",
       "      <td>Monday</td>\n",
       "      <td>Home</td>\n",
       "      <td>51.73</td>\n",
       "      <td>125.0</td>\n",
       "      <td>62.8</td>\n",
       "      <td>92.5</td>\n",
       "      <td>8.5</td>\n",
       "      <td>49.5</td>\n",
       "      <td>33.6</td>\n",
       "      <td>Yes</td>\n",
       "      <td>Backed up at Bronte</td>\n",
       "    </tr>\n",
       "  </tbody>\n",
       "</table>\n",
       "<p>205 rows × 13 columns</p>\n",
       "</div>"
      ],
      "text/plain": [
       "          Date StartTime  DayOfWeek GoingTo  Distance  MaxSpeed  AvgSpeed  \\\n",
       "0     1/6/2012     16:37     Friday    Home     51.29     127.4      78.3   \n",
       "1     1/6/2012     08:20     Friday     GSK     51.63     130.3      81.8   \n",
       "2     1/4/2012     16:17  Wednesday    Home     51.27     127.4      82.0   \n",
       "3     1/4/2012     07:53  Wednesday     GSK     49.17     132.3      74.2   \n",
       "4     1/3/2012     18:57    Tuesday    Home     51.15     136.2      83.4   \n",
       "..         ...       ...        ...     ...       ...       ...       ...   \n",
       "200  7/18/2011     08:09     Monday     GSK     54.52     125.6      49.9   \n",
       "201  7/14/2011     08:03   Thursday     GSK     50.90     123.7      76.2   \n",
       "202  7/13/2011     17:08  Wednesday    Home     51.96     132.6      57.5   \n",
       "203  7/12/2011     17:51    Tuesday    Home     53.28     125.8      61.6   \n",
       "204  7/11/2011     16:56     Monday    Home     51.73     125.0      62.8   \n",
       "\n",
       "     AvgMovingSpeed FuelEconomy  TotalTime  MovingTime Take407All  \\\n",
       "0              84.8         8.5       39.3        36.3         No   \n",
       "1              88.9         8.5       37.9        34.9         No   \n",
       "2              85.8         8.5       37.5        35.9         No   \n",
       "3              82.9         8.5       39.8        35.6         No   \n",
       "4              88.1         8.5       36.8        34.8         No   \n",
       "..              ...         ...        ...         ...        ...   \n",
       "200            82.4        7.89       65.5        39.7         No   \n",
       "201            95.1        7.89       40.1        32.1        Yes   \n",
       "202            76.7         8.5       54.2        40.6        Yes   \n",
       "203            87.6         8.5       51.9        36.5        Yes   \n",
       "204            92.5         8.5       49.5        33.6        Yes   \n",
       "\n",
       "                Comments  \n",
       "0    Backed up at Bronte  \n",
       "1    Backed up at Bronte  \n",
       "2    Backed up at Bronte  \n",
       "3    Backed up at Bronte  \n",
       "4    Backed up at Bronte  \n",
       "..                   ...  \n",
       "200  Backed up at Bronte  \n",
       "201  Backed up at Bronte  \n",
       "202  Backed up at Bronte  \n",
       "203  Backed up at Bronte  \n",
       "204  Backed up at Bronte  \n",
       "\n",
       "[205 rows x 13 columns]"
      ]
     },
     "metadata": {},
     "output_type": "display_data"
    }
   ],
   "source": [
    "display(cc)\n",
    "display(cc_mode)"
   ]
  },
  {
   "cell_type": "code",
   "execution_count": null,
   "id": "3b23edae",
   "metadata": {},
   "outputs": [],
   "source": []
  },
  {
   "cell_type": "code",
   "execution_count": 113,
   "id": "0255152c",
   "metadata": {},
   "outputs": [
    {
     "data": {
      "text/html": [
       "<div>\n",
       "<style scoped>\n",
       "    .dataframe tbody tr th:only-of-type {\n",
       "        vertical-align: middle;\n",
       "    }\n",
       "\n",
       "    .dataframe tbody tr th {\n",
       "        vertical-align: top;\n",
       "    }\n",
       "\n",
       "    .dataframe thead th {\n",
       "        text-align: right;\n",
       "    }\n",
       "</style>\n",
       "<table border=\"1\" class=\"dataframe\">\n",
       "  <thead>\n",
       "    <tr style=\"text-align: right;\">\n",
       "      <th></th>\n",
       "      <th>Date</th>\n",
       "      <th>StartTime</th>\n",
       "      <th>DayOfWeek</th>\n",
       "      <th>GoingTo</th>\n",
       "      <th>Distance</th>\n",
       "      <th>MaxSpeed</th>\n",
       "      <th>AvgSpeed</th>\n",
       "      <th>AvgMovingSpeed</th>\n",
       "      <th>FuelEconomy</th>\n",
       "      <th>TotalTime</th>\n",
       "      <th>MovingTime</th>\n",
       "      <th>Take407All</th>\n",
       "      <th>Comments</th>\n",
       "    </tr>\n",
       "  </thead>\n",
       "  <tbody>\n",
       "    <tr>\n",
       "      <th>0</th>\n",
       "      <td>1/6/2012</td>\n",
       "      <td>16:37</td>\n",
       "      <td>Friday</td>\n",
       "      <td>Home</td>\n",
       "      <td>51.29</td>\n",
       "      <td>127.4</td>\n",
       "      <td>78.3</td>\n",
       "      <td>84.8</td>\n",
       "      <td>NaN</td>\n",
       "      <td>39.3</td>\n",
       "      <td>36.3</td>\n",
       "      <td>No</td>\n",
       "      <td>NaN</td>\n",
       "    </tr>\n",
       "    <tr>\n",
       "      <th>1</th>\n",
       "      <td>1/6/2012</td>\n",
       "      <td>08:20</td>\n",
       "      <td>Friday</td>\n",
       "      <td>GSK</td>\n",
       "      <td>51.63</td>\n",
       "      <td>130.3</td>\n",
       "      <td>81.8</td>\n",
       "      <td>88.9</td>\n",
       "      <td>NaN</td>\n",
       "      <td>37.9</td>\n",
       "      <td>34.9</td>\n",
       "      <td>No</td>\n",
       "      <td>NaN</td>\n",
       "    </tr>\n",
       "    <tr>\n",
       "      <th>2</th>\n",
       "      <td>1/4/2012</td>\n",
       "      <td>16:17</td>\n",
       "      <td>Wednesday</td>\n",
       "      <td>Home</td>\n",
       "      <td>51.27</td>\n",
       "      <td>127.4</td>\n",
       "      <td>82.0</td>\n",
       "      <td>85.8</td>\n",
       "      <td>NaN</td>\n",
       "      <td>37.5</td>\n",
       "      <td>35.9</td>\n",
       "      <td>No</td>\n",
       "      <td>NaN</td>\n",
       "    </tr>\n",
       "    <tr>\n",
       "      <th>3</th>\n",
       "      <td>1/4/2012</td>\n",
       "      <td>07:53</td>\n",
       "      <td>Wednesday</td>\n",
       "      <td>GSK</td>\n",
       "      <td>49.17</td>\n",
       "      <td>132.3</td>\n",
       "      <td>74.2</td>\n",
       "      <td>82.9</td>\n",
       "      <td>NaN</td>\n",
       "      <td>39.8</td>\n",
       "      <td>35.6</td>\n",
       "      <td>No</td>\n",
       "      <td>NaN</td>\n",
       "    </tr>\n",
       "    <tr>\n",
       "      <th>4</th>\n",
       "      <td>1/3/2012</td>\n",
       "      <td>18:57</td>\n",
       "      <td>Tuesday</td>\n",
       "      <td>Home</td>\n",
       "      <td>51.15</td>\n",
       "      <td>136.2</td>\n",
       "      <td>83.4</td>\n",
       "      <td>88.1</td>\n",
       "      <td>NaN</td>\n",
       "      <td>36.8</td>\n",
       "      <td>34.8</td>\n",
       "      <td>No</td>\n",
       "      <td>NaN</td>\n",
       "    </tr>\n",
       "    <tr>\n",
       "      <th>...</th>\n",
       "      <td>...</td>\n",
       "      <td>...</td>\n",
       "      <td>...</td>\n",
       "      <td>...</td>\n",
       "      <td>...</td>\n",
       "      <td>...</td>\n",
       "      <td>...</td>\n",
       "      <td>...</td>\n",
       "      <td>...</td>\n",
       "      <td>...</td>\n",
       "      <td>...</td>\n",
       "      <td>...</td>\n",
       "      <td>...</td>\n",
       "    </tr>\n",
       "    <tr>\n",
       "      <th>200</th>\n",
       "      <td>7/18/2011</td>\n",
       "      <td>08:09</td>\n",
       "      <td>Monday</td>\n",
       "      <td>GSK</td>\n",
       "      <td>54.52</td>\n",
       "      <td>125.6</td>\n",
       "      <td>49.9</td>\n",
       "      <td>82.4</td>\n",
       "      <td>7.89</td>\n",
       "      <td>65.5</td>\n",
       "      <td>39.7</td>\n",
       "      <td>No</td>\n",
       "      <td>NaN</td>\n",
       "    </tr>\n",
       "    <tr>\n",
       "      <th>201</th>\n",
       "      <td>7/14/2011</td>\n",
       "      <td>08:03</td>\n",
       "      <td>Thursday</td>\n",
       "      <td>GSK</td>\n",
       "      <td>50.90</td>\n",
       "      <td>123.7</td>\n",
       "      <td>76.2</td>\n",
       "      <td>95.1</td>\n",
       "      <td>7.89</td>\n",
       "      <td>40.1</td>\n",
       "      <td>32.1</td>\n",
       "      <td>Yes</td>\n",
       "      <td>NaN</td>\n",
       "    </tr>\n",
       "    <tr>\n",
       "      <th>202</th>\n",
       "      <td>7/13/2011</td>\n",
       "      <td>17:08</td>\n",
       "      <td>Wednesday</td>\n",
       "      <td>Home</td>\n",
       "      <td>51.96</td>\n",
       "      <td>132.6</td>\n",
       "      <td>57.5</td>\n",
       "      <td>76.7</td>\n",
       "      <td>NaN</td>\n",
       "      <td>54.2</td>\n",
       "      <td>40.6</td>\n",
       "      <td>Yes</td>\n",
       "      <td>NaN</td>\n",
       "    </tr>\n",
       "    <tr>\n",
       "      <th>203</th>\n",
       "      <td>7/12/2011</td>\n",
       "      <td>17:51</td>\n",
       "      <td>Tuesday</td>\n",
       "      <td>Home</td>\n",
       "      <td>53.28</td>\n",
       "      <td>125.8</td>\n",
       "      <td>61.6</td>\n",
       "      <td>87.6</td>\n",
       "      <td>NaN</td>\n",
       "      <td>51.9</td>\n",
       "      <td>36.5</td>\n",
       "      <td>Yes</td>\n",
       "      <td>NaN</td>\n",
       "    </tr>\n",
       "    <tr>\n",
       "      <th>204</th>\n",
       "      <td>7/11/2011</td>\n",
       "      <td>16:56</td>\n",
       "      <td>Monday</td>\n",
       "      <td>Home</td>\n",
       "      <td>51.73</td>\n",
       "      <td>125.0</td>\n",
       "      <td>62.8</td>\n",
       "      <td>92.5</td>\n",
       "      <td>NaN</td>\n",
       "      <td>49.5</td>\n",
       "      <td>33.6</td>\n",
       "      <td>Yes</td>\n",
       "      <td>NaN</td>\n",
       "    </tr>\n",
       "  </tbody>\n",
       "</table>\n",
       "<p>205 rows × 13 columns</p>\n",
       "</div>"
      ],
      "text/plain": [
       "          Date StartTime  DayOfWeek GoingTo  Distance  MaxSpeed  AvgSpeed  \\\n",
       "0     1/6/2012     16:37     Friday    Home     51.29     127.4      78.3   \n",
       "1     1/6/2012     08:20     Friday     GSK     51.63     130.3      81.8   \n",
       "2     1/4/2012     16:17  Wednesday    Home     51.27     127.4      82.0   \n",
       "3     1/4/2012     07:53  Wednesday     GSK     49.17     132.3      74.2   \n",
       "4     1/3/2012     18:57    Tuesday    Home     51.15     136.2      83.4   \n",
       "..         ...       ...        ...     ...       ...       ...       ...   \n",
       "200  7/18/2011     08:09     Monday     GSK     54.52     125.6      49.9   \n",
       "201  7/14/2011     08:03   Thursday     GSK     50.90     123.7      76.2   \n",
       "202  7/13/2011     17:08  Wednesday    Home     51.96     132.6      57.5   \n",
       "203  7/12/2011     17:51    Tuesday    Home     53.28     125.8      61.6   \n",
       "204  7/11/2011     16:56     Monday    Home     51.73     125.0      62.8   \n",
       "\n",
       "     AvgMovingSpeed FuelEconomy  TotalTime  MovingTime Take407All Comments  \n",
       "0              84.8         NaN       39.3        36.3         No      NaN  \n",
       "1              88.9         NaN       37.9        34.9         No      NaN  \n",
       "2              85.8         NaN       37.5        35.9         No      NaN  \n",
       "3              82.9         NaN       39.8        35.6         No      NaN  \n",
       "4              88.1         NaN       36.8        34.8         No      NaN  \n",
       "..              ...         ...        ...         ...        ...      ...  \n",
       "200            82.4        7.89       65.5        39.7         No      NaN  \n",
       "201            95.1        7.89       40.1        32.1        Yes      NaN  \n",
       "202            76.7         NaN       54.2        40.6        Yes      NaN  \n",
       "203            87.6         NaN       51.9        36.5        Yes      NaN  \n",
       "204            92.5         NaN       49.5        33.6        Yes      NaN  \n",
       "\n",
       "[205 rows x 13 columns]"
      ]
     },
     "metadata": {},
     "output_type": "display_data"
    }
   ],
   "source": [
    "display(cc)"
   ]
  },
  {
   "cell_type": "code",
   "execution_count": 131,
   "id": "feaec6d4",
   "metadata": {},
   "outputs": [
    {
     "data": {
      "text/plain": [
       "Index(['Date', 'StartTime', 'DayOfWeek', 'GoingTo', 'Distance', 'MaxSpeed',\n",
       "       'AvgSpeed', 'AvgMovingSpeed', 'FuelEconomy', 'TotalTime', 'MovingTime',\n",
       "       'Take407All', 'Comments'],\n",
       "      dtype='object')"
      ]
     },
     "execution_count": 131,
     "metadata": {},
     "output_type": "execute_result"
    }
   ],
   "source": [
    "cc.columns"
   ]
  },
  {
   "cell_type": "code",
   "execution_count": 133,
   "id": "e0cac47f",
   "metadata": {},
   "outputs": [
    {
     "name": "stdout",
     "output_type": "stream",
     "text": [
      "Index(['Date', 'StartTime', 'DayOfWeek', 'GoingTo', 'Distance', 'MaxSpeed',\n",
      "       'AvgSpeed', 'AvgMovingSpeed', 'FuelEconomy', 'TotalTime', 'MovingTime',\n",
      "       '407_toll_highway', 'Comments'],\n",
      "      dtype='object')\n"
     ]
    }
   ],
   "source": [
    "cc.rename({\"Take407All\":\"407_toll_highway\"},axis = 1,inplace=True)\n",
    "print(cc.columns)"
   ]
  },
  {
   "cell_type": "code",
   "execution_count": 135,
   "id": "8039bb65",
   "metadata": {},
   "outputs": [
    {
     "data": {
      "text/html": [
       "<div>\n",
       "<style scoped>\n",
       "    .dataframe tbody tr th:only-of-type {\n",
       "        vertical-align: middle;\n",
       "    }\n",
       "\n",
       "    .dataframe tbody tr th {\n",
       "        vertical-align: top;\n",
       "    }\n",
       "\n",
       "    .dataframe thead th {\n",
       "        text-align: right;\n",
       "    }\n",
       "</style>\n",
       "<table border=\"1\" class=\"dataframe\">\n",
       "  <thead>\n",
       "    <tr style=\"text-align: right;\">\n",
       "      <th></th>\n",
       "      <th>Date</th>\n",
       "      <th>StartTime</th>\n",
       "      <th>DayOfWeek</th>\n",
       "      <th>GoingTo</th>\n",
       "      <th>Distance</th>\n",
       "      <th>MaxSpeed</th>\n",
       "      <th>AvgSpeed</th>\n",
       "      <th>AvgMovingSpeed</th>\n",
       "      <th>FuelEconomy</th>\n",
       "      <th>TotalTime</th>\n",
       "      <th>MovingTime</th>\n",
       "      <th>407_toll_highway</th>\n",
       "      <th>Comments</th>\n",
       "    </tr>\n",
       "  </thead>\n",
       "  <tbody>\n",
       "    <tr>\n",
       "      <th>0</th>\n",
       "      <td>1/6/2012</td>\n",
       "      <td>16:37</td>\n",
       "      <td>Friday</td>\n",
       "      <td>Home</td>\n",
       "      <td>51.29</td>\n",
       "      <td>127.4</td>\n",
       "      <td>78.3</td>\n",
       "      <td>84.8</td>\n",
       "      <td>NaN</td>\n",
       "      <td>39.0</td>\n",
       "      <td>36.3</td>\n",
       "      <td>No</td>\n",
       "      <td>NaN</td>\n",
       "    </tr>\n",
       "    <tr>\n",
       "      <th>1</th>\n",
       "      <td>1/6/2012</td>\n",
       "      <td>08:20</td>\n",
       "      <td>Friday</td>\n",
       "      <td>GSK</td>\n",
       "      <td>51.63</td>\n",
       "      <td>130.3</td>\n",
       "      <td>81.8</td>\n",
       "      <td>88.9</td>\n",
       "      <td>NaN</td>\n",
       "      <td>38.0</td>\n",
       "      <td>34.9</td>\n",
       "      <td>No</td>\n",
       "      <td>NaN</td>\n",
       "    </tr>\n",
       "    <tr>\n",
       "      <th>2</th>\n",
       "      <td>1/4/2012</td>\n",
       "      <td>16:17</td>\n",
       "      <td>Wednesday</td>\n",
       "      <td>Home</td>\n",
       "      <td>51.27</td>\n",
       "      <td>127.4</td>\n",
       "      <td>82.0</td>\n",
       "      <td>85.8</td>\n",
       "      <td>NaN</td>\n",
       "      <td>38.0</td>\n",
       "      <td>35.9</td>\n",
       "      <td>No</td>\n",
       "      <td>NaN</td>\n",
       "    </tr>\n",
       "    <tr>\n",
       "      <th>3</th>\n",
       "      <td>1/4/2012</td>\n",
       "      <td>07:53</td>\n",
       "      <td>Wednesday</td>\n",
       "      <td>GSK</td>\n",
       "      <td>49.17</td>\n",
       "      <td>132.3</td>\n",
       "      <td>74.2</td>\n",
       "      <td>82.9</td>\n",
       "      <td>NaN</td>\n",
       "      <td>40.0</td>\n",
       "      <td>35.6</td>\n",
       "      <td>No</td>\n",
       "      <td>NaN</td>\n",
       "    </tr>\n",
       "    <tr>\n",
       "      <th>4</th>\n",
       "      <td>1/3/2012</td>\n",
       "      <td>18:57</td>\n",
       "      <td>Tuesday</td>\n",
       "      <td>Home</td>\n",
       "      <td>51.15</td>\n",
       "      <td>136.2</td>\n",
       "      <td>83.4</td>\n",
       "      <td>88.1</td>\n",
       "      <td>NaN</td>\n",
       "      <td>37.0</td>\n",
       "      <td>34.8</td>\n",
       "      <td>No</td>\n",
       "      <td>NaN</td>\n",
       "    </tr>\n",
       "    <tr>\n",
       "      <th>5</th>\n",
       "      <td>1/3/2012</td>\n",
       "      <td>07:57</td>\n",
       "      <td>Tuesday</td>\n",
       "      <td>GSK</td>\n",
       "      <td>51.80</td>\n",
       "      <td>135.8</td>\n",
       "      <td>84.5</td>\n",
       "      <td>88.8</td>\n",
       "      <td>NaN</td>\n",
       "      <td>37.0</td>\n",
       "      <td>35.0</td>\n",
       "      <td>No</td>\n",
       "      <td>NaN</td>\n",
       "    </tr>\n",
       "  </tbody>\n",
       "</table>\n",
       "</div>"
      ],
      "text/plain": [
       "       Date StartTime  DayOfWeek GoingTo  Distance  MaxSpeed  AvgSpeed  \\\n",
       "0  1/6/2012     16:37     Friday    Home     51.29     127.4      78.3   \n",
       "1  1/6/2012     08:20     Friday     GSK     51.63     130.3      81.8   \n",
       "2  1/4/2012     16:17  Wednesday    Home     51.27     127.4      82.0   \n",
       "3  1/4/2012     07:53  Wednesday     GSK     49.17     132.3      74.2   \n",
       "4  1/3/2012     18:57    Tuesday    Home     51.15     136.2      83.4   \n",
       "5  1/3/2012     07:57    Tuesday     GSK     51.80     135.8      84.5   \n",
       "\n",
       "   AvgMovingSpeed FuelEconomy  TotalTime  MovingTime 407_toll_highway Comments  \n",
       "0            84.8         NaN       39.0        36.3               No      NaN  \n",
       "1            88.9         NaN       38.0        34.9               No      NaN  \n",
       "2            85.8         NaN       38.0        35.9               No      NaN  \n",
       "3            82.9         NaN       40.0        35.6               No      NaN  \n",
       "4            88.1         NaN       37.0        34.8               No      NaN  \n",
       "5            88.8         NaN       37.0        35.0               No      NaN  "
      ]
     },
     "metadata": {},
     "output_type": "display_data"
    }
   ],
   "source": [
    "#TotalTime whose data type is float and will try to round off\n",
    "\n",
    "cc[\"TotalTime\"] = cc.TotalTime.round()\n",
    "display(cc.head(6))"
   ]
  },
  {
   "cell_type": "code",
   "execution_count": 139,
   "id": "0e8c1697",
   "metadata": {},
   "outputs": [
    {
     "data": {
      "text/html": [
       "<div>\n",
       "<style scoped>\n",
       "    .dataframe tbody tr th:only-of-type {\n",
       "        vertical-align: middle;\n",
       "    }\n",
       "\n",
       "    .dataframe tbody tr th {\n",
       "        vertical-align: top;\n",
       "    }\n",
       "\n",
       "    .dataframe thead th {\n",
       "        text-align: right;\n",
       "    }\n",
       "</style>\n",
       "<table border=\"1\" class=\"dataframe\">\n",
       "  <thead>\n",
       "    <tr style=\"text-align: right;\">\n",
       "      <th></th>\n",
       "      <th>Date</th>\n",
       "      <th>StartTime</th>\n",
       "      <th>DayOfWeek</th>\n",
       "      <th>GoingTo</th>\n",
       "      <th>Distance</th>\n",
       "      <th>MaxSpeed</th>\n",
       "      <th>AvgSpeed</th>\n",
       "      <th>AvgMovingSpeed</th>\n",
       "      <th>FuelEconomy</th>\n",
       "      <th>TotalTime</th>\n",
       "      <th>MovingTime</th>\n",
       "      <th>407_toll_highway</th>\n",
       "      <th>Comments</th>\n",
       "      <th>Rating</th>\n",
       "    </tr>\n",
       "  </thead>\n",
       "  <tbody>\n",
       "    <tr>\n",
       "      <th>0</th>\n",
       "      <td>1/6/2012</td>\n",
       "      <td>16:37</td>\n",
       "      <td>Friday</td>\n",
       "      <td>Home</td>\n",
       "      <td>51.29</td>\n",
       "      <td>127.4</td>\n",
       "      <td>78.3</td>\n",
       "      <td>84.8</td>\n",
       "      <td>NaN</td>\n",
       "      <td>39.0</td>\n",
       "      <td>36.3</td>\n",
       "      <td>No</td>\n",
       "      <td>NaN</td>\n",
       "      <td>0</td>\n",
       "    </tr>\n",
       "    <tr>\n",
       "      <th>1</th>\n",
       "      <td>1/6/2012</td>\n",
       "      <td>08:20</td>\n",
       "      <td>Friday</td>\n",
       "      <td>GSK</td>\n",
       "      <td>51.63</td>\n",
       "      <td>130.3</td>\n",
       "      <td>81.8</td>\n",
       "      <td>88.9</td>\n",
       "      <td>NaN</td>\n",
       "      <td>38.0</td>\n",
       "      <td>34.9</td>\n",
       "      <td>No</td>\n",
       "      <td>NaN</td>\n",
       "      <td>3</td>\n",
       "    </tr>\n",
       "    <tr>\n",
       "      <th>2</th>\n",
       "      <td>1/4/2012</td>\n",
       "      <td>16:17</td>\n",
       "      <td>Wednesday</td>\n",
       "      <td>Home</td>\n",
       "      <td>51.27</td>\n",
       "      <td>127.4</td>\n",
       "      <td>82.0</td>\n",
       "      <td>85.8</td>\n",
       "      <td>NaN</td>\n",
       "      <td>38.0</td>\n",
       "      <td>35.9</td>\n",
       "      <td>No</td>\n",
       "      <td>NaN</td>\n",
       "      <td>4</td>\n",
       "    </tr>\n",
       "    <tr>\n",
       "      <th>3</th>\n",
       "      <td>1/4/2012</td>\n",
       "      <td>07:53</td>\n",
       "      <td>Wednesday</td>\n",
       "      <td>GSK</td>\n",
       "      <td>49.17</td>\n",
       "      <td>132.3</td>\n",
       "      <td>74.2</td>\n",
       "      <td>82.9</td>\n",
       "      <td>NaN</td>\n",
       "      <td>40.0</td>\n",
       "      <td>35.6</td>\n",
       "      <td>No</td>\n",
       "      <td>NaN</td>\n",
       "      <td>1</td>\n",
       "    </tr>\n",
       "    <tr>\n",
       "      <th>4</th>\n",
       "      <td>1/3/2012</td>\n",
       "      <td>18:57</td>\n",
       "      <td>Tuesday</td>\n",
       "      <td>Home</td>\n",
       "      <td>51.15</td>\n",
       "      <td>136.2</td>\n",
       "      <td>83.4</td>\n",
       "      <td>88.1</td>\n",
       "      <td>NaN</td>\n",
       "      <td>37.0</td>\n",
       "      <td>34.8</td>\n",
       "      <td>No</td>\n",
       "      <td>NaN</td>\n",
       "      <td>3</td>\n",
       "    </tr>\n",
       "  </tbody>\n",
       "</table>\n",
       "</div>"
      ],
      "text/plain": [
       "       Date StartTime  DayOfWeek GoingTo  Distance  MaxSpeed  AvgSpeed  \\\n",
       "0  1/6/2012     16:37     Friday    Home     51.29     127.4      78.3   \n",
       "1  1/6/2012     08:20     Friday     GSK     51.63     130.3      81.8   \n",
       "2  1/4/2012     16:17  Wednesday    Home     51.27     127.4      82.0   \n",
       "3  1/4/2012     07:53  Wednesday     GSK     49.17     132.3      74.2   \n",
       "4  1/3/2012     18:57    Tuesday    Home     51.15     136.2      83.4   \n",
       "\n",
       "   AvgMovingSpeed FuelEconomy  TotalTime  MovingTime 407_toll_highway  \\\n",
       "0            84.8         NaN       39.0        36.3               No   \n",
       "1            88.9         NaN       38.0        34.9               No   \n",
       "2            85.8         NaN       38.0        35.9               No   \n",
       "3            82.9         NaN       40.0        35.6               No   \n",
       "4            88.1         NaN       37.0        34.8               No   \n",
       "\n",
       "  Comments  Rating  \n",
       "0      NaN       0  \n",
       "1      NaN       3  \n",
       "2      NaN       4  \n",
       "3      NaN       1  \n",
       "4      NaN       3  "
      ]
     },
     "metadata": {},
     "output_type": "display_data"
    },
    {
     "data": {
      "text/html": [
       "<div>\n",
       "<style scoped>\n",
       "    .dataframe tbody tr th:only-of-type {\n",
       "        vertical-align: middle;\n",
       "    }\n",
       "\n",
       "    .dataframe tbody tr th {\n",
       "        vertical-align: top;\n",
       "    }\n",
       "\n",
       "    .dataframe thead th {\n",
       "        text-align: right;\n",
       "    }\n",
       "</style>\n",
       "<table border=\"1\" class=\"dataframe\">\n",
       "  <thead>\n",
       "    <tr style=\"text-align: right;\">\n",
       "      <th></th>\n",
       "      <th>Date</th>\n",
       "      <th>StartTime</th>\n",
       "      <th>DayOfWeek</th>\n",
       "      <th>GoingTo</th>\n",
       "      <th>Distance</th>\n",
       "      <th>MaxSpeed</th>\n",
       "      <th>AvgSpeed</th>\n",
       "      <th>AvgMovingSpeed</th>\n",
       "      <th>FuelEconomy</th>\n",
       "      <th>TotalTime</th>\n",
       "      <th>MovingTime</th>\n",
       "      <th>407_toll_highway</th>\n",
       "      <th>Comments</th>\n",
       "      <th>Rating</th>\n",
       "    </tr>\n",
       "  </thead>\n",
       "  <tbody>\n",
       "    <tr>\n",
       "      <th>200</th>\n",
       "      <td>7/18/2011</td>\n",
       "      <td>08:09</td>\n",
       "      <td>Monday</td>\n",
       "      <td>GSK</td>\n",
       "      <td>54.52</td>\n",
       "      <td>125.6</td>\n",
       "      <td>49.9</td>\n",
       "      <td>82.4</td>\n",
       "      <td>7.89</td>\n",
       "      <td>66.0</td>\n",
       "      <td>39.7</td>\n",
       "      <td>No</td>\n",
       "      <td>NaN</td>\n",
       "      <td>1</td>\n",
       "    </tr>\n",
       "    <tr>\n",
       "      <th>201</th>\n",
       "      <td>7/14/2011</td>\n",
       "      <td>08:03</td>\n",
       "      <td>Thursday</td>\n",
       "      <td>GSK</td>\n",
       "      <td>50.90</td>\n",
       "      <td>123.7</td>\n",
       "      <td>76.2</td>\n",
       "      <td>95.1</td>\n",
       "      <td>7.89</td>\n",
       "      <td>40.0</td>\n",
       "      <td>32.1</td>\n",
       "      <td>Yes</td>\n",
       "      <td>NaN</td>\n",
       "      <td>3</td>\n",
       "    </tr>\n",
       "    <tr>\n",
       "      <th>202</th>\n",
       "      <td>7/13/2011</td>\n",
       "      <td>17:08</td>\n",
       "      <td>Wednesday</td>\n",
       "      <td>Home</td>\n",
       "      <td>51.96</td>\n",
       "      <td>132.6</td>\n",
       "      <td>57.5</td>\n",
       "      <td>76.7</td>\n",
       "      <td>NaN</td>\n",
       "      <td>54.0</td>\n",
       "      <td>40.6</td>\n",
       "      <td>Yes</td>\n",
       "      <td>NaN</td>\n",
       "      <td>1</td>\n",
       "    </tr>\n",
       "    <tr>\n",
       "      <th>203</th>\n",
       "      <td>7/12/2011</td>\n",
       "      <td>17:51</td>\n",
       "      <td>Tuesday</td>\n",
       "      <td>Home</td>\n",
       "      <td>53.28</td>\n",
       "      <td>125.8</td>\n",
       "      <td>61.6</td>\n",
       "      <td>87.6</td>\n",
       "      <td>NaN</td>\n",
       "      <td>52.0</td>\n",
       "      <td>36.5</td>\n",
       "      <td>Yes</td>\n",
       "      <td>NaN</td>\n",
       "      <td>2</td>\n",
       "    </tr>\n",
       "    <tr>\n",
       "      <th>204</th>\n",
       "      <td>7/11/2011</td>\n",
       "      <td>16:56</td>\n",
       "      <td>Monday</td>\n",
       "      <td>Home</td>\n",
       "      <td>51.73</td>\n",
       "      <td>125.0</td>\n",
       "      <td>62.8</td>\n",
       "      <td>92.5</td>\n",
       "      <td>NaN</td>\n",
       "      <td>50.0</td>\n",
       "      <td>33.6</td>\n",
       "      <td>Yes</td>\n",
       "      <td>NaN</td>\n",
       "      <td>4</td>\n",
       "    </tr>\n",
       "  </tbody>\n",
       "</table>\n",
       "</div>"
      ],
      "text/plain": [
       "          Date StartTime  DayOfWeek GoingTo  Distance  MaxSpeed  AvgSpeed  \\\n",
       "200  7/18/2011     08:09     Monday     GSK     54.52     125.6      49.9   \n",
       "201  7/14/2011     08:03   Thursday     GSK     50.90     123.7      76.2   \n",
       "202  7/13/2011     17:08  Wednesday    Home     51.96     132.6      57.5   \n",
       "203  7/12/2011     17:51    Tuesday    Home     53.28     125.8      61.6   \n",
       "204  7/11/2011     16:56     Monday    Home     51.73     125.0      62.8   \n",
       "\n",
       "     AvgMovingSpeed FuelEconomy  TotalTime  MovingTime 407_toll_highway  \\\n",
       "200            82.4        7.89       66.0        39.7               No   \n",
       "201            95.1        7.89       40.0        32.1              Yes   \n",
       "202            76.7         NaN       54.0        40.6              Yes   \n",
       "203            87.6         NaN       52.0        36.5              Yes   \n",
       "204            92.5         NaN       50.0        33.6              Yes   \n",
       "\n",
       "    Comments  Rating  \n",
       "200      NaN       1  \n",
       "201      NaN       3  \n",
       "202      NaN       1  \n",
       "203      NaN       2  \n",
       "204      NaN       4  "
      ]
     },
     "metadata": {},
     "output_type": "display_data"
    }
   ],
   "source": [
    "#now we will add one column name \"rating\" to the dataframe, initially will be filled with some random number \n",
    "import numpy as np\n",
    "ran = np.random.randint(0,5,205)\n",
    "ss = pd.Series(ran)\n",
    "cc[\"Rating\"] = ss\n",
    "display(cc.head(5))\n",
    "display(cc.tail(5))"
   ]
  },
  {
   "cell_type": "code",
   "execution_count": 142,
   "id": "dbac3857",
   "metadata": {
    "collapsed": true
   },
   "outputs": [
    {
     "ename": "KeyError",
     "evalue": "\"['Comments'] not found in axis\"",
     "output_type": "error",
     "traceback": [
      "\u001b[1;31m---------------------------------------------------------------------------\u001b[0m",
      "\u001b[1;31mKeyError\u001b[0m                                  Traceback (most recent call last)",
      "\u001b[1;32m~\\AppData\\Local\\Temp/ipykernel_168/1618449484.py\u001b[0m in \u001b[0;36m<module>\u001b[1;34m\u001b[0m\n\u001b[1;32m----> 1\u001b[1;33m \u001b[0mcc\u001b[0m\u001b[1;33m.\u001b[0m\u001b[0mdrop\u001b[0m\u001b[1;33m(\u001b[0m\u001b[1;33m[\u001b[0m\u001b[1;34m'Comments'\u001b[0m\u001b[1;33m]\u001b[0m\u001b[1;33m,\u001b[0m\u001b[0maxis\u001b[0m \u001b[1;33m=\u001b[0m \u001b[1;36m1\u001b[0m\u001b[1;33m)\u001b[0m\u001b[1;33m\u001b[0m\u001b[1;33m\u001b[0m\u001b[0m\n\u001b[0m\u001b[0;32m      2\u001b[0m \u001b[0mdisplay\u001b[0m\u001b[1;33m(\u001b[0m\u001b[0mcc\u001b[0m\u001b[1;33m.\u001b[0m\u001b[0mhead\u001b[0m\u001b[1;33m(\u001b[0m\u001b[1;36m5\u001b[0m\u001b[1;33m)\u001b[0m\u001b[1;33m)\u001b[0m\u001b[1;33m\u001b[0m\u001b[1;33m\u001b[0m\u001b[0m\n",
      "\u001b[1;32mE:\\Anaconda\\lib\\site-packages\\pandas\\util\\_decorators.py\u001b[0m in \u001b[0;36mwrapper\u001b[1;34m(*args, **kwargs)\u001b[0m\n\u001b[0;32m    309\u001b[0m                     \u001b[0mstacklevel\u001b[0m\u001b[1;33m=\u001b[0m\u001b[0mstacklevel\u001b[0m\u001b[1;33m,\u001b[0m\u001b[1;33m\u001b[0m\u001b[1;33m\u001b[0m\u001b[0m\n\u001b[0;32m    310\u001b[0m                 )\n\u001b[1;32m--> 311\u001b[1;33m             \u001b[1;32mreturn\u001b[0m \u001b[0mfunc\u001b[0m\u001b[1;33m(\u001b[0m\u001b[1;33m*\u001b[0m\u001b[0margs\u001b[0m\u001b[1;33m,\u001b[0m \u001b[1;33m**\u001b[0m\u001b[0mkwargs\u001b[0m\u001b[1;33m)\u001b[0m\u001b[1;33m\u001b[0m\u001b[1;33m\u001b[0m\u001b[0m\n\u001b[0m\u001b[0;32m    312\u001b[0m \u001b[1;33m\u001b[0m\u001b[0m\n\u001b[0;32m    313\u001b[0m         \u001b[1;32mreturn\u001b[0m \u001b[0mwrapper\u001b[0m\u001b[1;33m\u001b[0m\u001b[1;33m\u001b[0m\u001b[0m\n",
      "\u001b[1;32mE:\\Anaconda\\lib\\site-packages\\pandas\\core\\frame.py\u001b[0m in \u001b[0;36mdrop\u001b[1;34m(self, labels, axis, index, columns, level, inplace, errors)\u001b[0m\n\u001b[0;32m   4904\u001b[0m                 \u001b[0mweight\u001b[0m  \u001b[1;36m1.0\u001b[0m     \u001b[1;36m0.8\u001b[0m\u001b[1;33m\u001b[0m\u001b[1;33m\u001b[0m\u001b[0m\n\u001b[0;32m   4905\u001b[0m         \"\"\"\n\u001b[1;32m-> 4906\u001b[1;33m         return super().drop(\n\u001b[0m\u001b[0;32m   4907\u001b[0m             \u001b[0mlabels\u001b[0m\u001b[1;33m=\u001b[0m\u001b[0mlabels\u001b[0m\u001b[1;33m,\u001b[0m\u001b[1;33m\u001b[0m\u001b[1;33m\u001b[0m\u001b[0m\n\u001b[0;32m   4908\u001b[0m             \u001b[0maxis\u001b[0m\u001b[1;33m=\u001b[0m\u001b[0maxis\u001b[0m\u001b[1;33m,\u001b[0m\u001b[1;33m\u001b[0m\u001b[1;33m\u001b[0m\u001b[0m\n",
      "\u001b[1;32mE:\\Anaconda\\lib\\site-packages\\pandas\\core\\generic.py\u001b[0m in \u001b[0;36mdrop\u001b[1;34m(self, labels, axis, index, columns, level, inplace, errors)\u001b[0m\n\u001b[0;32m   4148\u001b[0m         \u001b[1;32mfor\u001b[0m \u001b[0maxis\u001b[0m\u001b[1;33m,\u001b[0m \u001b[0mlabels\u001b[0m \u001b[1;32min\u001b[0m \u001b[0maxes\u001b[0m\u001b[1;33m.\u001b[0m\u001b[0mitems\u001b[0m\u001b[1;33m(\u001b[0m\u001b[1;33m)\u001b[0m\u001b[1;33m:\u001b[0m\u001b[1;33m\u001b[0m\u001b[1;33m\u001b[0m\u001b[0m\n\u001b[0;32m   4149\u001b[0m             \u001b[1;32mif\u001b[0m \u001b[0mlabels\u001b[0m \u001b[1;32mis\u001b[0m \u001b[1;32mnot\u001b[0m \u001b[1;32mNone\u001b[0m\u001b[1;33m:\u001b[0m\u001b[1;33m\u001b[0m\u001b[1;33m\u001b[0m\u001b[0m\n\u001b[1;32m-> 4150\u001b[1;33m                 \u001b[0mobj\u001b[0m \u001b[1;33m=\u001b[0m \u001b[0mobj\u001b[0m\u001b[1;33m.\u001b[0m\u001b[0m_drop_axis\u001b[0m\u001b[1;33m(\u001b[0m\u001b[0mlabels\u001b[0m\u001b[1;33m,\u001b[0m \u001b[0maxis\u001b[0m\u001b[1;33m,\u001b[0m \u001b[0mlevel\u001b[0m\u001b[1;33m=\u001b[0m\u001b[0mlevel\u001b[0m\u001b[1;33m,\u001b[0m \u001b[0merrors\u001b[0m\u001b[1;33m=\u001b[0m\u001b[0merrors\u001b[0m\u001b[1;33m)\u001b[0m\u001b[1;33m\u001b[0m\u001b[1;33m\u001b[0m\u001b[0m\n\u001b[0m\u001b[0;32m   4151\u001b[0m \u001b[1;33m\u001b[0m\u001b[0m\n\u001b[0;32m   4152\u001b[0m         \u001b[1;32mif\u001b[0m \u001b[0minplace\u001b[0m\u001b[1;33m:\u001b[0m\u001b[1;33m\u001b[0m\u001b[1;33m\u001b[0m\u001b[0m\n",
      "\u001b[1;32mE:\\Anaconda\\lib\\site-packages\\pandas\\core\\generic.py\u001b[0m in \u001b[0;36m_drop_axis\u001b[1;34m(self, labels, axis, level, errors)\u001b[0m\n\u001b[0;32m   4183\u001b[0m                 \u001b[0mnew_axis\u001b[0m \u001b[1;33m=\u001b[0m \u001b[0maxis\u001b[0m\u001b[1;33m.\u001b[0m\u001b[0mdrop\u001b[0m\u001b[1;33m(\u001b[0m\u001b[0mlabels\u001b[0m\u001b[1;33m,\u001b[0m \u001b[0mlevel\u001b[0m\u001b[1;33m=\u001b[0m\u001b[0mlevel\u001b[0m\u001b[1;33m,\u001b[0m \u001b[0merrors\u001b[0m\u001b[1;33m=\u001b[0m\u001b[0merrors\u001b[0m\u001b[1;33m)\u001b[0m\u001b[1;33m\u001b[0m\u001b[1;33m\u001b[0m\u001b[0m\n\u001b[0;32m   4184\u001b[0m             \u001b[1;32melse\u001b[0m\u001b[1;33m:\u001b[0m\u001b[1;33m\u001b[0m\u001b[1;33m\u001b[0m\u001b[0m\n\u001b[1;32m-> 4185\u001b[1;33m                 \u001b[0mnew_axis\u001b[0m \u001b[1;33m=\u001b[0m \u001b[0maxis\u001b[0m\u001b[1;33m.\u001b[0m\u001b[0mdrop\u001b[0m\u001b[1;33m(\u001b[0m\u001b[0mlabels\u001b[0m\u001b[1;33m,\u001b[0m \u001b[0merrors\u001b[0m\u001b[1;33m=\u001b[0m\u001b[0merrors\u001b[0m\u001b[1;33m)\u001b[0m\u001b[1;33m\u001b[0m\u001b[1;33m\u001b[0m\u001b[0m\n\u001b[0m\u001b[0;32m   4186\u001b[0m             \u001b[0mresult\u001b[0m \u001b[1;33m=\u001b[0m \u001b[0mself\u001b[0m\u001b[1;33m.\u001b[0m\u001b[0mreindex\u001b[0m\u001b[1;33m(\u001b[0m\u001b[1;33m**\u001b[0m\u001b[1;33m{\u001b[0m\u001b[0maxis_name\u001b[0m\u001b[1;33m:\u001b[0m \u001b[0mnew_axis\u001b[0m\u001b[1;33m}\u001b[0m\u001b[1;33m)\u001b[0m\u001b[1;33m\u001b[0m\u001b[1;33m\u001b[0m\u001b[0m\n\u001b[0;32m   4187\u001b[0m \u001b[1;33m\u001b[0m\u001b[0m\n",
      "\u001b[1;32mE:\\Anaconda\\lib\\site-packages\\pandas\\core\\indexes\\base.py\u001b[0m in \u001b[0;36mdrop\u001b[1;34m(self, labels, errors)\u001b[0m\n\u001b[0;32m   6015\u001b[0m         \u001b[1;32mif\u001b[0m \u001b[0mmask\u001b[0m\u001b[1;33m.\u001b[0m\u001b[0many\u001b[0m\u001b[1;33m(\u001b[0m\u001b[1;33m)\u001b[0m\u001b[1;33m:\u001b[0m\u001b[1;33m\u001b[0m\u001b[1;33m\u001b[0m\u001b[0m\n\u001b[0;32m   6016\u001b[0m             \u001b[1;32mif\u001b[0m \u001b[0merrors\u001b[0m \u001b[1;33m!=\u001b[0m \u001b[1;34m\"ignore\"\u001b[0m\u001b[1;33m:\u001b[0m\u001b[1;33m\u001b[0m\u001b[1;33m\u001b[0m\u001b[0m\n\u001b[1;32m-> 6017\u001b[1;33m                 \u001b[1;32mraise\u001b[0m \u001b[0mKeyError\u001b[0m\u001b[1;33m(\u001b[0m\u001b[1;34mf\"{labels[mask]} not found in axis\"\u001b[0m\u001b[1;33m)\u001b[0m\u001b[1;33m\u001b[0m\u001b[1;33m\u001b[0m\u001b[0m\n\u001b[0m\u001b[0;32m   6018\u001b[0m             \u001b[0mindexer\u001b[0m \u001b[1;33m=\u001b[0m \u001b[0mindexer\u001b[0m\u001b[1;33m[\u001b[0m\u001b[1;33m~\u001b[0m\u001b[0mmask\u001b[0m\u001b[1;33m]\u001b[0m\u001b[1;33m\u001b[0m\u001b[1;33m\u001b[0m\u001b[0m\n\u001b[0;32m   6019\u001b[0m         \u001b[1;32mreturn\u001b[0m \u001b[0mself\u001b[0m\u001b[1;33m.\u001b[0m\u001b[0mdelete\u001b[0m\u001b[1;33m(\u001b[0m\u001b[0mindexer\u001b[0m\u001b[1;33m)\u001b[0m\u001b[1;33m\u001b[0m\u001b[1;33m\u001b[0m\u001b[0m\n",
      "\u001b[1;31mKeyError\u001b[0m: \"['Comments'] not found in axis\""
     ]
    }
   ],
   "source": [
    "cc.drop(['Comments'],axis = 1)\n",
    "display(cc.head(5))"
   ]
  },
  {
   "cell_type": "code",
   "execution_count": 144,
   "id": "bc6407bf",
   "metadata": {},
   "outputs": [
    {
     "data": {
      "text/html": [
       "<div>\n",
       "<style scoped>\n",
       "    .dataframe tbody tr th:only-of-type {\n",
       "        vertical-align: middle;\n",
       "    }\n",
       "\n",
       "    .dataframe tbody tr th {\n",
       "        vertical-align: top;\n",
       "    }\n",
       "\n",
       "    .dataframe thead th {\n",
       "        text-align: right;\n",
       "    }\n",
       "</style>\n",
       "<table border=\"1\" class=\"dataframe\">\n",
       "  <thead>\n",
       "    <tr style=\"text-align: right;\">\n",
       "      <th></th>\n",
       "      <th>Date</th>\n",
       "      <th>StartTime</th>\n",
       "      <th>DayOfWeek</th>\n",
       "      <th>GoingTo</th>\n",
       "      <th>Distance</th>\n",
       "      <th>MaxSpeed</th>\n",
       "      <th>AvgSpeed</th>\n",
       "      <th>AvgMovingSpeed</th>\n",
       "      <th>FuelEconomy</th>\n",
       "      <th>TotalTime</th>\n",
       "      <th>MovingTime</th>\n",
       "      <th>407_toll_highway</th>\n",
       "      <th>Rating</th>\n",
       "    </tr>\n",
       "  </thead>\n",
       "  <tbody>\n",
       "    <tr>\n",
       "      <th>5</th>\n",
       "      <td>1/3/2012</td>\n",
       "      <td>07:57</td>\n",
       "      <td>Tuesday</td>\n",
       "      <td>GSK</td>\n",
       "      <td>51.80</td>\n",
       "      <td>135.8</td>\n",
       "      <td>84.5</td>\n",
       "      <td>88.8</td>\n",
       "      <td>NaN</td>\n",
       "      <td>37.0</td>\n",
       "      <td>35.0</td>\n",
       "      <td>No</td>\n",
       "      <td>4</td>\n",
       "    </tr>\n",
       "    <tr>\n",
       "      <th>6</th>\n",
       "      <td>1/2/2012</td>\n",
       "      <td>17:31</td>\n",
       "      <td>Monday</td>\n",
       "      <td>Home</td>\n",
       "      <td>51.37</td>\n",
       "      <td>123.2</td>\n",
       "      <td>82.9</td>\n",
       "      <td>87.3</td>\n",
       "      <td>-</td>\n",
       "      <td>37.0</td>\n",
       "      <td>35.3</td>\n",
       "      <td>No</td>\n",
       "      <td>0</td>\n",
       "    </tr>\n",
       "    <tr>\n",
       "      <th>7</th>\n",
       "      <td>1/2/2012</td>\n",
       "      <td>07:34</td>\n",
       "      <td>Monday</td>\n",
       "      <td>GSK</td>\n",
       "      <td>49.01</td>\n",
       "      <td>128.3</td>\n",
       "      <td>77.5</td>\n",
       "      <td>85.9</td>\n",
       "      <td>-</td>\n",
       "      <td>38.0</td>\n",
       "      <td>34.3</td>\n",
       "      <td>No</td>\n",
       "      <td>2</td>\n",
       "    </tr>\n",
       "    <tr>\n",
       "      <th>8</th>\n",
       "      <td>12/23/2011</td>\n",
       "      <td>08:01</td>\n",
       "      <td>Friday</td>\n",
       "      <td>GSK</td>\n",
       "      <td>52.91</td>\n",
       "      <td>130.3</td>\n",
       "      <td>80.9</td>\n",
       "      <td>88.3</td>\n",
       "      <td>8.89</td>\n",
       "      <td>39.0</td>\n",
       "      <td>36.0</td>\n",
       "      <td>No</td>\n",
       "      <td>1</td>\n",
       "    </tr>\n",
       "    <tr>\n",
       "      <th>9</th>\n",
       "      <td>12/22/2011</td>\n",
       "      <td>17:19</td>\n",
       "      <td>Thursday</td>\n",
       "      <td>Home</td>\n",
       "      <td>51.17</td>\n",
       "      <td>122.3</td>\n",
       "      <td>70.6</td>\n",
       "      <td>78.1</td>\n",
       "      <td>8.89</td>\n",
       "      <td>44.0</td>\n",
       "      <td>39.3</td>\n",
       "      <td>No</td>\n",
       "      <td>2</td>\n",
       "    </tr>\n",
       "  </tbody>\n",
       "</table>\n",
       "</div>"
      ],
      "text/plain": [
       "         Date StartTime DayOfWeek GoingTo  Distance  MaxSpeed  AvgSpeed  \\\n",
       "5    1/3/2012     07:57   Tuesday     GSK     51.80     135.8      84.5   \n",
       "6    1/2/2012     17:31    Monday    Home     51.37     123.2      82.9   \n",
       "7    1/2/2012     07:34    Monday     GSK     49.01     128.3      77.5   \n",
       "8  12/23/2011     08:01    Friday     GSK     52.91     130.3      80.9   \n",
       "9  12/22/2011     17:19  Thursday    Home     51.17     122.3      70.6   \n",
       "\n",
       "   AvgMovingSpeed FuelEconomy  TotalTime  MovingTime 407_toll_highway  Rating  \n",
       "5            88.8         NaN       37.0        35.0               No       4  \n",
       "6            87.3           -       37.0        35.3               No       0  \n",
       "7            85.9           -       38.0        34.3               No       2  \n",
       "8            88.3        8.89       39.0        36.0               No       1  \n",
       "9            78.1        8.89       44.0        39.3               No       2  "
      ]
     },
     "metadata": {},
     "output_type": "display_data"
    }
   ],
   "source": [
    "cc.drop(range(5),axis = 0, inplace=True)\n",
    "display(cc.head(5))"
   ]
  },
  {
   "cell_type": "code",
   "execution_count": 152,
   "id": "db42f8d4",
   "metadata": {},
   "outputs": [
    {
     "name": "stdout",
     "output_type": "stream",
     "text": [
      "['Friday', 'Friday', 'Wednesday', 'Wednesday', 'Tuesday', ..., 'Monday', 'Thursday', 'Wednesday', 'Tuesday', 'Monday']\n",
      "Length: 205\n",
      "Categories (5, object): ['Friday', 'Monday', 'Thursday', 'Tuesday', 'Wednesday']\n"
     ]
    }
   ],
   "source": [
    "print(pd.Categorical(cc.DayOfWeek))\n",
    "cc['DayOfWeek'] = pd.Categorical(cc.DayOfWeek)"
   ]
  },
  {
   "cell_type": "code",
   "execution_count": 150,
   "id": "138d6bb5",
   "metadata": {},
   "outputs": [
    {
     "name": "stdout",
     "output_type": "stream",
     "text": [
      "<class 'pandas.core.series.Series'>\n"
     ]
    }
   ],
   "source": [
    "print(type(cc['DayOfWeek']))"
   ]
  },
  {
   "cell_type": "code",
   "execution_count": 151,
   "id": "1c8804ba",
   "metadata": {},
   "outputs": [
    {
     "data": {
      "text/plain": [
       "Tuesday      48\n",
       "Wednesday    47\n",
       "Thursday     44\n",
       "Monday       39\n",
       "Friday       27\n",
       "Name: DayOfWeek, dtype: int64"
      ]
     },
     "execution_count": 151,
     "metadata": {},
     "output_type": "execute_result"
    }
   ],
   "source": [
    "cc.DayOfWeek.value_counts()"
   ]
  },
  {
   "cell_type": "code",
   "execution_count": 153,
   "id": "0769207d",
   "metadata": {},
   "outputs": [
    {
     "data": {
      "text/plain": [
       "Index              128\n",
       "Date              1640\n",
       "StartTime         1640\n",
       "DayOfWeek          417\n",
       "GoingTo           1640\n",
       "Distance          1640\n",
       "MaxSpeed          1640\n",
       "AvgSpeed          1640\n",
       "AvgMovingSpeed    1640\n",
       "FuelEconomy       1640\n",
       "TotalTime         1640\n",
       "MovingTime        1640\n",
       "Take407All        1640\n",
       "Comments          1640\n",
       "dtype: int64"
      ]
     },
     "execution_count": 153,
     "metadata": {},
     "output_type": "execute_result"
    }
   ],
   "source": [
    "cc.memory_usage()"
   ]
  },
  {
   "cell_type": "code",
   "execution_count": 154,
   "id": "bc912b21",
   "metadata": {},
   "outputs": [
    {
     "data": {
      "text/plain": [
       "145"
      ]
     },
     "execution_count": 154,
     "metadata": {},
     "output_type": "execute_result"
    }
   ],
   "source": [
    "sum(cc.MaxSpeed>125)"
   ]
  },
  {
   "cell_type": "code",
   "execution_count": 155,
   "id": "51095ba6",
   "metadata": {},
   "outputs": [
    {
     "data": {
      "text/plain": [
       "112.2"
      ]
     },
     "execution_count": 155,
     "metadata": {},
     "output_type": "execute_result"
    }
   ],
   "source": [
    "cc.MaxSpeed.min()"
   ]
  },
  {
   "cell_type": "code",
   "execution_count": 156,
   "id": "b4458af5",
   "metadata": {},
   "outputs": [
    {
     "data": {
      "text/plain": [
       "140.9"
      ]
     },
     "execution_count": 156,
     "metadata": {},
     "output_type": "execute_result"
    }
   ],
   "source": [
    "cc.MaxSpeed.max()"
   ]
  },
  {
   "cell_type": "code",
   "execution_count": 157,
   "id": "6feb2260",
   "metadata": {},
   "outputs": [
    {
     "data": {
      "text/plain": [
       "38.1"
      ]
     },
     "execution_count": 157,
     "metadata": {},
     "output_type": "execute_result"
    }
   ],
   "source": [
    "cc.AvgSpeed.min()"
   ]
  },
  {
   "cell_type": "code",
   "execution_count": 158,
   "id": "cdefc27f",
   "metadata": {},
   "outputs": [
    {
     "data": {
      "text/plain": [
       "107.7"
      ]
     },
     "execution_count": 158,
     "metadata": {},
     "output_type": "execute_result"
    }
   ],
   "source": [
    "cc.AvgSpeed.max()"
   ]
  },
  {
   "cell_type": "code",
   "execution_count": 162,
   "id": "13322709",
   "metadata": {},
   "outputs": [
    {
     "data": {
      "text/plain": [
       "0      Maximum Speed\n",
       "1      Maximum Speed\n",
       "2      Maximum Speed\n",
       "3      Average Speed\n",
       "4      Maximum Speed\n",
       "           ...      \n",
       "200    Minimum Speed\n",
       "201    Maximum Speed\n",
       "202    Average Speed\n",
       "203    Average Speed\n",
       "204    Average Speed\n",
       "Name: AvgSpeed, Length: 205, dtype: category\n",
       "Categories (3, object): ['Minimum Speed' < 'Average Speed' < 'Maximum Speed']"
      ]
     },
     "execution_count": 162,
     "metadata": {},
     "output_type": "execute_result"
    }
   ],
   "source": [
    "pd.cut(cc.AvgSpeed,bins=[40,55,75,100],labels=[\"Minimum Speed\",\"Average Speed\",\"Maximum Speed\"])"
   ]
  },
  {
   "cell_type": "code",
   "execution_count": 165,
   "id": "cdaa5b89",
   "metadata": {},
   "outputs": [
    {
     "data": {
      "text/html": [
       "<div>\n",
       "<style scoped>\n",
       "    .dataframe tbody tr th:only-of-type {\n",
       "        vertical-align: middle;\n",
       "    }\n",
       "\n",
       "    .dataframe tbody tr th {\n",
       "        vertical-align: top;\n",
       "    }\n",
       "\n",
       "    .dataframe thead th {\n",
       "        text-align: right;\n",
       "    }\n",
       "</style>\n",
       "<table border=\"1\" class=\"dataframe\">\n",
       "  <thead>\n",
       "    <tr style=\"text-align: right;\">\n",
       "      <th></th>\n",
       "      <th>Distance</th>\n",
       "      <th>MaxSpeed</th>\n",
       "      <th>AvgSpeed</th>\n",
       "      <th>AvgMovingSpeed</th>\n",
       "      <th>TotalTime</th>\n",
       "      <th>MovingTime</th>\n",
       "    </tr>\n",
       "  </thead>\n",
       "  <tbody>\n",
       "    <tr>\n",
       "      <th>count</th>\n",
       "      <td>205.000000</td>\n",
       "      <td>205.000000</td>\n",
       "      <td>205.000000</td>\n",
       "      <td>205.000000</td>\n",
       "      <td>205.000000</td>\n",
       "      <td>205.000000</td>\n",
       "    </tr>\n",
       "    <tr>\n",
       "      <th>mean</th>\n",
       "      <td>50.981512</td>\n",
       "      <td>127.591707</td>\n",
       "      <td>74.477561</td>\n",
       "      <td>81.975610</td>\n",
       "      <td>41.904390</td>\n",
       "      <td>37.871707</td>\n",
       "    </tr>\n",
       "    <tr>\n",
       "      <th>std</th>\n",
       "      <td>1.321205</td>\n",
       "      <td>4.128450</td>\n",
       "      <td>11.409816</td>\n",
       "      <td>10.111544</td>\n",
       "      <td>6.849476</td>\n",
       "      <td>4.835072</td>\n",
       "    </tr>\n",
       "    <tr>\n",
       "      <th>min</th>\n",
       "      <td>48.320000</td>\n",
       "      <td>112.200000</td>\n",
       "      <td>38.100000</td>\n",
       "      <td>50.300000</td>\n",
       "      <td>28.200000</td>\n",
       "      <td>27.100000</td>\n",
       "    </tr>\n",
       "    <tr>\n",
       "      <th>25%</th>\n",
       "      <td>50.650000</td>\n",
       "      <td>124.900000</td>\n",
       "      <td>68.900000</td>\n",
       "      <td>76.600000</td>\n",
       "      <td>38.400000</td>\n",
       "      <td>35.700000</td>\n",
       "    </tr>\n",
       "    <tr>\n",
       "      <th>50%</th>\n",
       "      <td>51.140000</td>\n",
       "      <td>127.400000</td>\n",
       "      <td>73.600000</td>\n",
       "      <td>81.400000</td>\n",
       "      <td>41.300000</td>\n",
       "      <td>37.600000</td>\n",
       "    </tr>\n",
       "    <tr>\n",
       "      <th>75%</th>\n",
       "      <td>51.630000</td>\n",
       "      <td>129.800000</td>\n",
       "      <td>79.900000</td>\n",
       "      <td>86.000000</td>\n",
       "      <td>44.400000</td>\n",
       "      <td>39.900000</td>\n",
       "    </tr>\n",
       "    <tr>\n",
       "      <th>max</th>\n",
       "      <td>60.320000</td>\n",
       "      <td>140.900000</td>\n",
       "      <td>107.700000</td>\n",
       "      <td>112.100000</td>\n",
       "      <td>82.300000</td>\n",
       "      <td>62.400000</td>\n",
       "    </tr>\n",
       "  </tbody>\n",
       "</table>\n",
       "</div>"
      ],
      "text/plain": [
       "         Distance    MaxSpeed    AvgSpeed  AvgMovingSpeed   TotalTime  \\\n",
       "count  205.000000  205.000000  205.000000      205.000000  205.000000   \n",
       "mean    50.981512  127.591707   74.477561       81.975610   41.904390   \n",
       "std      1.321205    4.128450   11.409816       10.111544    6.849476   \n",
       "min     48.320000  112.200000   38.100000       50.300000   28.200000   \n",
       "25%     50.650000  124.900000   68.900000       76.600000   38.400000   \n",
       "50%     51.140000  127.400000   73.600000       81.400000   41.300000   \n",
       "75%     51.630000  129.800000   79.900000       86.000000   44.400000   \n",
       "max     60.320000  140.900000  107.700000      112.100000   82.300000   \n",
       "\n",
       "       MovingTime  \n",
       "count  205.000000  \n",
       "mean    37.871707  \n",
       "std      4.835072  \n",
       "min     27.100000  \n",
       "25%     35.700000  \n",
       "50%     37.600000  \n",
       "75%     39.900000  \n",
       "max     62.400000  "
      ]
     },
     "execution_count": 165,
     "metadata": {},
     "output_type": "execute_result"
    }
   ],
   "source": [
    "cc.describe()"
   ]
  }
 ],
 "metadata": {
  "kernelspec": {
   "display_name": "Python 3 (ipykernel)",
   "language": "python",
   "name": "python3"
  },
  "language_info": {
   "codemirror_mode": {
    "name": "ipython",
    "version": 3
   },
   "file_extension": ".py",
   "mimetype": "text/x-python",
   "name": "python",
   "nbconvert_exporter": "python",
   "pygments_lexer": "ipython3",
   "version": "3.9.7"
  }
 },
 "nbformat": 4,
 "nbformat_minor": 5
}
