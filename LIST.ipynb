{
 "cells": [
  {
   "cell_type": "markdown",
   "id": "0e65203d",
   "metadata": {},
   "source": [
    "## LIST"
   ]
  },
  {
   "cell_type": "markdown",
   "id": "a0997236",
   "metadata": {},
   "source": [
    "### Properties of a list.\n",
    "\n",
    "1. Mutable: The elements of the list can be modified. We can add or remove items to the list after it has been created.<br>\n",
    "\n",
    "2. Ordered: The items in the lists are ordered. Each item has a unique index value. The new items will be added to the end of the list.<br>\n",
    "\n",
    "3. Heterogenous: The list can contain different kinds of elements i.e; they can contain elements of string, integer, boolean, or any type.<br>\n",
    "\n",
    "4. Duplicates: The list can contain duplicates i.e., lists can have two items with the same values.<br>\n"
   ]
  },
  {
   "cell_type": "markdown",
   "id": "9dc72cf6",
   "metadata": {},
   "source": [
    "List can be created in Two ways as below using square brackets **[ ]** and **list()** constructor"
   ]
  },
  {
   "cell_type": "code",
   "execution_count": 2,
   "id": "a9371a6a",
   "metadata": {},
   "outputs": [
    {
     "name": "stdout",
     "output_type": "stream",
     "text": [
      "[101, 'priya', 'cse', 153.3]\n"
     ]
    }
   ],
   "source": [
    "det = [101,\"priya\",\"cse\",153.3]\n",
    "print(det)"
   ]
  },
  {
   "cell_type": "code",
   "execution_count": 5,
   "id": "14d2f85b",
   "metadata": {},
   "outputs": [
    {
     "name": "stdout",
     "output_type": "stream",
     "text": [
      "[105, 'priya', 'cse', 153.3]\n"
     ]
    }
   ],
   "source": [
    "det1 = list((105,\"priya\",\"cse\",153.3))\n",
    "print(det1)"
   ]
  },
  {
   "cell_type": "markdown",
   "id": "003651d0",
   "metadata": {},
   "source": [
    "The below code will create an empty list."
   ]
  },
  {
   "cell_type": "code",
   "execution_count": 7,
   "id": "1f67dba6",
   "metadata": {},
   "outputs": [
    {
     "name": "stdout",
     "output_type": "stream",
     "text": [
      "[]\n",
      "[]\n"
     ]
    }
   ],
   "source": [
    "k = []\n",
    "l = list()\n",
    "print(k)\n",
    "print(l)"
   ]
  },
  {
   "cell_type": "code",
   "execution_count": 8,
   "id": "c3208dc4",
   "metadata": {},
   "outputs": [
    {
     "name": "stdout",
     "output_type": "stream",
     "text": [
      "4\n"
     ]
    }
   ],
   "source": [
    "print(len(det))"
   ]
  },
  {
   "cell_type": "markdown",
   "id": "8ca06ca0",
   "metadata": {},
   "source": [
    "### Accessing items of a List\n",
    "\n",
    "The items in a list can be accessed through indexing and slicing. This section will guide you by accessing the list using the following two ways\n",
    "\n",
    "1. Using indexing, we can access any item from a list using its index number\n",
    "2. Using slicing, we can access a range of items from a list"
   ]
  },
  {
   "attachments": {
    "image-2.png": {
     "image/png": "[encoded data removed]"
    }
   },
   "cell_type": "markdown",
   "id": "a55242c8",
   "metadata": {},
   "source": [
    "### Indexing\n",
    "\n",
    "The list elements can be accessed using the “indexing” technique. Lists are ordered collections with unique indexes for each item. We can access the items in the list using this index number.\n",
    "\n",
    "![image-2.png](attachment:image-2.png)"
   ]
  },
  {
   "cell_type": "code",
   "execution_count": 2,
   "id": "8f13a949",
   "metadata": {},
   "outputs": [
    {
     "name": "stdout",
     "output_type": "stream",
     "text": [
      "['Hari', 25, 'M', 75.6, 153.2, [2000, 1886, 4555]]\n"
     ]
    }
   ],
   "source": [
    "pr = [\"Hari\",25,\"M\",75.6,153.2,[2000,1886,4555]]\n",
    "print(pr)"
   ]
  },
  {
   "cell_type": "code",
   "execution_count": 3,
   "id": "d08113ac",
   "metadata": {},
   "outputs": [
    {
     "name": "stdout",
     "output_type": "stream",
     "text": [
      "M\n",
      "25\n",
      "153.2\n"
     ]
    },
    {
     "ename": "IndexError",
     "evalue": "list index out of range",
     "output_type": "error",
     "traceback": [
      "\u001b[1;31m---------------------------------------------------------------------------\u001b[0m",
      "\u001b[1;31mIndexError\u001b[0m                                Traceback (most recent call last)",
      "\u001b[1;32m~\\AppData\\Local\\Temp/ipykernel_296/4250770501.py\u001b[0m in \u001b[0;36m<module>\u001b[1;34m\u001b[0m\n\u001b[0;32m      2\u001b[0m \u001b[0mprint\u001b[0m\u001b[1;33m(\u001b[0m\u001b[0mpr\u001b[0m\u001b[1;33m[\u001b[0m\u001b[1;33m-\u001b[0m\u001b[1;36m5\u001b[0m\u001b[1;33m]\u001b[0m\u001b[1;33m)\u001b[0m\u001b[1;33m\u001b[0m\u001b[1;33m\u001b[0m\u001b[0m\n\u001b[0;32m      3\u001b[0m \u001b[0mprint\u001b[0m\u001b[1;33m(\u001b[0m\u001b[0mpr\u001b[0m\u001b[1;33m[\u001b[0m\u001b[0mlen\u001b[0m\u001b[1;33m(\u001b[0m\u001b[0mpr\u001b[0m\u001b[1;33m)\u001b[0m\u001b[1;33m-\u001b[0m\u001b[1;36m2\u001b[0m\u001b[1;33m]\u001b[0m\u001b[1;33m)\u001b[0m\u001b[1;33m\u001b[0m\u001b[1;33m\u001b[0m\u001b[0m\n\u001b[1;32m----> 4\u001b[1;33m \u001b[0mprint\u001b[0m\u001b[1;33m(\u001b[0m\u001b[0mpr\u001b[0m\u001b[1;33m[\u001b[0m\u001b[1;36m6\u001b[0m\u001b[1;33m]\u001b[0m\u001b[1;33m)\u001b[0m\u001b[1;33m\u001b[0m\u001b[1;33m\u001b[0m\u001b[0m\n\u001b[0m",
      "\u001b[1;31mIndexError\u001b[0m: list index out of range"
     ]
    }
   ],
   "source": [
    "print(pr[2])\n",
    "print(pr[-5])\n",
    "print(pr[len(pr)-2])\n",
    "print(pr[6])"
   ]
  },
  {
   "cell_type": "markdown",
   "id": "ca3876c0",
   "metadata": {},
   "source": [
    "### Traversing the list using loop"
   ]
  },
  {
   "cell_type": "code",
   "execution_count": 2,
   "id": "4d3bf001",
   "metadata": {},
   "outputs": [
    {
     "name": "stdout",
     "output_type": "stream",
     "text": [
      "10,20,30,40,50,\b\n"
     ]
    }
   ],
   "source": [
    "lst = [10,20,30,40,50]\n",
    "for x in lst:\n",
    "    print(x,end = \",\")\n",
    "\n",
    "print(\"\\b\")"
   ]
  },
  {
   "cell_type": "code",
   "execution_count": 14,
   "id": "24deb611",
   "metadata": {},
   "outputs": [
    {
     "name": "stdout",
     "output_type": "stream",
     "text": [
      "10,20,30,40,50,\b\n"
     ]
    }
   ],
   "source": [
    "lst = [10,20,30,40,50]\n",
    "for x in range(len(lst)):\n",
    "    print(lst[x],end = \",\")\n",
    "\n",
    "print(\"\\b\")"
   ]
  },
  {
   "cell_type": "markdown",
   "id": "ebff6a11",
   "metadata": {},
   "source": [
    "### LIST SLICING\n",
    "\n",
    "syntax for list slicing.\n",
    "\n",
    "**listname[start_index : end_index : step]**\n",
    "\n",
    "The **start_index** denotes the index position from where the slicing should begin and the **end_index** parameter denotes the index positions till which the slicing should be done.\n",
    "\n",
    "The step allows you to take each nth-element within a **start_index:end_index** range."
   ]
  },
  {
   "cell_type": "code",
   "execution_count": 19,
   "id": "00b4dbf5",
   "metadata": {},
   "outputs": [
    {
     "name": "stdout",
     "output_type": "stream",
     "text": [
      "['yogi', 23, 153.26, 82, [1000, 4000, 3000, 500, 1500], 32.5, 'm', 'CBE']\n",
      "['CBE', 'm', 32.5, [1000, 4000, 3000, 500, 1500], 82, 153.26, 23, 'yogi']\n",
      "[]\n",
      "[23]\n",
      "['yogi', 23, 153.26, 82]\n",
      "1965014413184\n",
      "['yogi', 22, 154, 79.5, [1000, 4000, 3000, 500, 1500], 37.6, 'M', 'SALEM']\n",
      "1965014413184\n",
      "['yogi', 22, 79.5, [1000, 4000, 3000, 500, 1500], 37.6, 'M', 'SALEM']\n",
      "['yogi', 22, 79.5, [1000, 4000, 3000, 500, 1500], 37.6, 'M', 'SALEM']\n",
      "['yogi', 22, 79.5, [1000, 4000, 3000, 500, 1500], 37.6, 'M', 'SALEM']\n",
      "1965014413184\n",
      "1965014413184\n",
      "1964997035456\n",
      "after modifying with var person1 ['yogi', 25, 79.5, [1000, 4000, 3000, 500, 1500], 37.6, 'M', 'SALEM']\n",
      "person= ['yogi', 25, 79.5, [1000, 4000, 3000, 500, 1500], 37.6, 'M', 'SALEM']\n",
      "person2 =  ['yogi', 22, 79.5, 153.98, 37.6, 'M', 'SALEM']\n",
      "[1, 10, 20, 30, 5, 6, 7]\n",
      "[1, 11, 22, 33, 30, 5, 6, 7]\n"
     ]
    }
   ],
   "source": [
    "person = [\"yogi\",23,153.26,82,[1000,4000,3000,500,1500],32.5,\"m\",\"CBE\"]\n",
    "print(person)\n",
    "print(person[::-1])\n",
    "print(person[3:3])\n",
    "print(person[1:2:2])\n",
    "print(person[0:4])\n",
    "print(id(person))\n",
    "person[3] = [78,80,81,80,81]\n",
    "person[1:4] = [22,154,79.5]\n",
    "person[5:] = [37.6,\"M\",\"SALEM\"]\n",
    "print(person)\n",
    "print(id(person))\n",
    "del person[2]\n",
    "print(person)\n",
    "person1 = person #copying a list to another list\n",
    "person2 = person.copy() #copying a list to another list using copy() function\n",
    "print(person2)\n",
    "print(person1)\n",
    "print(id(person))\n",
    "print(id(person1))\n",
    "print(id(person2))\n",
    "person1[1] = 25\n",
    "print(\"after modifying with var person1\",person)\n",
    "person2[3] = 153.98\n",
    "print(\"person=\",person)\n",
    "print(\"person2 = \",person2)\n",
    "l = [1,2,3,4,5,6,7]\n",
    "l[1:4] = [10,20,30]\n",
    "print(l)\n",
    "l[1:3] = [11,22,33]\n",
    "print(l)"
   ]
  },
  {
   "cell_type": "markdown",
   "id": "bd2ea500",
   "metadata": {},
   "source": [
    "##### Using the copy() method\n",
    "The copy method can be used to create a copy of a list. This will create a new list and any changes made in the original list will not reflect in the new list. This is **shallow copying.**"
   ]
  },
  {
   "cell_type": "markdown",
   "id": "58ce9c45",
   "metadata": {},
   "source": [
    "### Basic List operations"
   ]
  },
  {
   "cell_type": "code",
   "execution_count": 12,
   "id": "2251ac0c",
   "metadata": {},
   "outputs": [
    {
     "name": "stdout",
     "output_type": "stream",
     "text": [
      "7\n",
      "['yogi', 25, 79.5, [1000, 4000, 3000, 500, 1500], 37.6, 'M', 'SALEM', 'Rice', 'Poori', 'Sweet']\n",
      "['yogi', 25, 79.5, [1000, 4000, 3000, 500, 1500], 37.6, 'M', 'SALEM', 'yogi', 25, 79.5, [1000, 4000, 3000, 500, 1500], 37.6, 'M', 'SALEM', 'yogi', 25, 79.5, [1000, 4000, 3000, 500, 1500], 37.6, 'M', 'SALEM']\n",
      "238.5\n",
      "True\n",
      "False\n",
      "False\n",
      "900\n",
      "3\n",
      "True\n",
      "False\n",
      "True\n",
      "[12, 45, 3, 89, 900]\n",
      "[3, 12, 45, 89, 900]\n",
      "['P', 'y', 't', 'h', 'o', 'n', ' ', 'P', 'r', 'o', 'g', 'r', 'a', 'm', 'm', 'i', 'n', 'g']\n"
     ]
    }
   ],
   "source": [
    "print(len(person))\n",
    "print(person + [\"Rice\",\"Poori\",\"Sweet\"])\n",
    "print(person * 3)\n",
    "print(person[2] * 3)\n",
    "print(25 in person)\n",
    "print(\"25\" in person)\n",
    "print(\"yogi\" not in person1)\n",
    "#print(max(person))\n",
    "l = [12,45,3,89,900]\n",
    "print(max(l))\n",
    "print(min(l))\n",
    "print(all(l)) #return true if all the elements are true\n",
    "print(all([1,4,9,2,0])) #returns false as it contains 0\n",
    "print(any([1,4,9,2,0])) #return true if any element is true\n",
    "l1 = sorted(l)\n",
    "print(l)\n",
    "print(l1)\n",
    "str_list = list(\"Python Programming\")\n",
    "print(str_list)"
   ]
  },
  {
   "cell_type": "markdown",
   "id": "399360c7",
   "metadata": {},
   "source": [
    "#### List Methods"
   ]
  },
  {
   "cell_type": "code",
   "execution_count": 10,
   "id": "a845184e",
   "metadata": {},
   "outputs": [
    {
     "name": "stdout",
     "output_type": "stream",
     "text": [
      "[12, 45, 3, 89, 900, 100, 4, 3, 2, 6, 9, 7, 500]\n"
     ]
    }
   ],
   "source": [
    "l = [12,45,3,89,900,100,4,3,2,6,9,7]\n",
    "l.append(500)\n",
    "print(l)"
   ]
  },
  {
   "cell_type": "code",
   "execution_count": 16,
   "id": "c716d9e1",
   "metadata": {},
   "outputs": [
    {
     "name": "stdout",
     "output_type": "stream",
     "text": [
      "Enter number of elements to be added to the list: 5\n",
      "Enter the elements to be added to the list: \n",
      "Enter the element1\n",
      "Enter the element2\n",
      "Enter the element3\n",
      "Enter the element4\n",
      "Enter the element5\n",
      "[1, 2, 3, 4, 5]\n"
     ]
    }
   ],
   "source": [
    "new = []\n",
    "n = int(input(\"Enter number of elements to be added to the list: \"))\n",
    "print(\"Enter the elements to be added to the list: \")\n",
    "for i in range(n):\n",
    "    x = input(\"Enter the element\")\n",
    "    new.append(int(x))\n",
    "print(new)"
   ]
  },
  {
   "cell_type": "code",
   "execution_count": 17,
   "id": "a0793c52",
   "metadata": {},
   "outputs": [
    {
     "name": "stdout",
     "output_type": "stream",
     "text": [
      "[12, 45, 3, 89, 900, 10, 20, 30]\n",
      "[12, 45, 3, 89, 900, 10, 20, 30, [30, 40, 50]]\n"
     ]
    }
   ],
   "source": [
    "new = [10,20,30]\n",
    "l.extend(new)\n",
    "print(l)\n",
    "new1 = [30,40,50]\n",
    "l.append(new1)\n",
    "print(l)"
   ]
  },
  {
   "cell_type": "code",
   "execution_count": 103,
   "id": "c8185e9e",
   "metadata": {},
   "outputs": [
    {
     "name": "stdout",
     "output_type": "stream",
     "text": [
      "[12, 45, 3, 89, 900, 100, 20, 4, 3, 2, 6, 9, 7, 500]\n"
     ]
    }
   ],
   "source": [
    "#syntax - insert(index, object)\n",
    "l.insert(6,20) #20 will be inserted at the 6th index\n",
    "print(l)"
   ]
  },
  {
   "cell_type": "code",
   "execution_count": 9,
   "id": "08f00780",
   "metadata": {},
   "outputs": [
    {
     "name": "stdout",
     "output_type": "stream",
     "text": [
      "[12, 45, 89, 900, 100, 2, 6, 9, 7, 500]\n",
      "4\n"
     ]
    }
   ],
   "source": [
    "pop_e = l.pop(5) #element at 5 index will be poped\n",
    "print(l)\n",
    "print(pop_e)"
   ]
  },
  {
   "cell_type": "code",
   "execution_count": 105,
   "id": "1e52fb76",
   "metadata": {},
   "outputs": [
    {
     "name": "stdout",
     "output_type": "stream",
     "text": [
      "[45, 3, 89, 900, 20, 4, 3, 2, 6, 9, 7, 500]\n",
      "[45, 89, 900, 20, 4, 3, 2, 6, 9, 7, 500]\n"
     ]
    }
   ],
   "source": [
    "l.remove(12) #remove the ELEMENT 12 from the list\n",
    "print(l)\n",
    "l.remove(3) #element 3(first occurance) will be removed from list\n",
    "print(l)"
   ]
  },
  {
   "cell_type": "code",
   "execution_count": 14,
   "id": "5e1bdbfb",
   "metadata": {},
   "outputs": [
    {
     "name": "stdout",
     "output_type": "stream",
     "text": [
      "[12, 45, 3, 89, 900, 100, 4, 3, 2, 6, 9, 7]\n",
      "[12, 45, 89, 900, 100, 4, 2, 6, 9, 7]\n"
     ]
    }
   ],
   "source": [
    "## To remove all elements in the list\n",
    "ll = [12,45,3,89,900,100,4,3,2,6,9,7]\n",
    "print(ll)\n",
    "for i in ll:\n",
    "    if 3 in ll:\n",
    "        ll.remove(3)\n",
    "print(ll)"
   ]
  },
  {
   "cell_type": "code",
   "execution_count": 15,
   "id": "6ae58b69",
   "metadata": {},
   "outputs": [
    {
     "name": "stdout",
     "output_type": "stream",
     "text": [
      "[45, 3, 89, 900, 20, 4, 3, 2, 6, 9, 7, 500]\n",
      "[45, 3, 4, 3, 2, 6, 9, 7, 500]\n",
      "[]\n"
     ]
    },
    {
     "ename": "NameError",
     "evalue": "name 'll' is not defined",
     "output_type": "error",
     "traceback": [
      "\u001b[1;31m---------------------------------------------------------------------------\u001b[0m",
      "\u001b[1;31mNameError\u001b[0m                                 Traceback (most recent call last)",
      "\u001b[1;32m~\\AppData\\Local\\Temp/ipykernel_17264/542901844.py\u001b[0m in \u001b[0;36m<module>\u001b[1;34m\u001b[0m\n\u001b[0;32m      6\u001b[0m \u001b[0mprint\u001b[0m\u001b[1;33m(\u001b[0m\u001b[0mll\u001b[0m\u001b[1;33m)\u001b[0m\u001b[1;33m\u001b[0m\u001b[1;33m\u001b[0m\u001b[0m\n\u001b[0;32m      7\u001b[0m \u001b[1;32mdel\u001b[0m \u001b[0mll\u001b[0m\u001b[1;33m\u001b[0m\u001b[1;33m\u001b[0m\u001b[0m\n\u001b[1;32m----> 8\u001b[1;33m \u001b[0mprint\u001b[0m\u001b[1;33m(\u001b[0m\u001b[0mll\u001b[0m\u001b[1;33m)\u001b[0m\u001b[1;33m\u001b[0m\u001b[1;33m\u001b[0m\u001b[0m\n\u001b[0m",
      "\u001b[1;31mNameError\u001b[0m: name 'll' is not defined"
     ]
    }
   ],
   "source": [
    "ll = [45, 3, 89, 900, 20, 4, 3, 2, 6, 9, 7, 500]\n",
    "print(ll)\n",
    "del ll[2:5]\n",
    "print(ll)\n",
    "ll.clear()\n",
    "print(ll)\n",
    "del ll\n",
    "print(ll)"
   ]
  },
  {
   "cell_type": "code",
   "execution_count": 16,
   "id": "99dcc2e1",
   "metadata": {},
   "outputs": [
    {
     "name": "stdout",
     "output_type": "stream",
     "text": [
      "5\n"
     ]
    }
   ],
   "source": [
    "print(l.index(100))"
   ]
  },
  {
   "cell_type": "code",
   "execution_count": 101,
   "id": "485d3f99",
   "metadata": {
    "scrolled": true
   },
   "outputs": [
    {
     "name": "stdout",
     "output_type": "stream",
     "text": [
      "2\n"
     ]
    }
   ],
   "source": [
    "print(l.count(3))"
   ]
  },
  {
   "cell_type": "code",
   "execution_count": null,
   "id": "c222538b",
   "metadata": {},
   "outputs": [],
   "source": [
    "#concatenation of two list\n",
    "\n"
   ]
  },
  {
   "cell_type": "code",
   "execution_count": 17,
   "id": "49135f09",
   "metadata": {},
   "outputs": [
    {
     "name": "stdout",
     "output_type": "stream",
     "text": [
      "[12, 45, 3, 89, 900, 100, 4, 3, 2, 6, 9, 7, 500]\n",
      "[500, 7, 9, 6, 2, 3, 4, 100, 900, 89, 3, 45, 12]\n",
      "[500, 7, 9, 6, 2, 3, 4, 100, 900, 89, 3, 45, 12]\n"
     ]
    }
   ],
   "source": [
    "print(l)\n",
    "print(l[::-1])\n",
    "l.reverse()\n",
    "print(l)"
   ]
  },
  {
   "cell_type": "code",
   "execution_count": 107,
   "id": "0f938f7c",
   "metadata": {},
   "outputs": [
    {
     "name": "stdout",
     "output_type": "stream",
     "text": [
      "[2, 3, 4, 6, 7, 9, 20, 45, 89, 500, 900]\n"
     ]
    }
   ],
   "source": [
    "l.sort()\n",
    "print(l)"
   ]
  },
  {
   "cell_type": "code",
   "execution_count": 108,
   "id": "98c0f6a2",
   "metadata": {},
   "outputs": [
    {
     "name": "stdout",
     "output_type": "stream",
     "text": [
      "[2, 3, 4, 6, 7, 9, 20, 45, 89, 500, 900]\n"
     ]
    }
   ],
   "source": [
    "print(l)"
   ]
  }
 ],
 "metadata": {
  "kernelspec": {
   "display_name": "Python 3 (ipykernel)",
   "language": "python",
   "name": "python3"
  },
  "language_info": {
   "codemirror_mode": {
    "name": "ipython",
    "version": 3
   },
   "file_extension": ".py",
   "mimetype": "text/x-python",
   "name": "python",
   "nbconvert_exporter": "python",
   "pygments_lexer": "ipython3",
   "version": "3.9.7"
  }
 },
 "nbformat": 4,
 "nbformat_minor": 5
}
