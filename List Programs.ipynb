{
 "cells": [
  {
   "cell_type": "markdown",
   "id": "a33a3263",
   "metadata": {},
   "source": [
    "#### Write a python program which reads “n” number of integers from the user and generates a separate list containing even and odd numbers."
   ]
  },
  {
   "cell_type": "code",
   "execution_count": 1,
   "id": "b6bcaec3",
   "metadata": {},
   "outputs": [
    {
     "name": "stdout",
     "output_type": "stream",
     "text": [
      "enter number of elements in the list: 5\n",
      "8\n",
      "4\n",
      "5\n",
      "9\n",
      "10\n",
      "the given list is  [8, 4, 5, 9, 10]\n",
      "odd numbers  [8, 4, 10]\n",
      "even numbers  [5, 9]\n"
     ]
    }
   ],
   "source": [
    "n=int(input(\"enter number of elements in the list: \"))\n",
    "a=[int(input()) for i in range(n)]\n",
    "print(\"the given list is \",a)\n",
    "od=[]\n",
    "eve=[]\n",
    "od=[j for j in a if (j%2==0)]\n",
    "eve=[k for k in a if (k%2!=0)]\n",
    "print(\"odd numbers \",od)\n",
    "print(\"even numbers \",eve)"
   ]
  },
  {
   "cell_type": "markdown",
   "id": "7d43a502",
   "metadata": {},
   "source": [
    "#### The python program should read the list of 5 numbers, and generate the new list which contains the factorial of each number in the given list. \n",
    "\n",
    "Sample Input\n",
    "\n",
    "[2, 4, 8, 7, 5]\n",
    "\n",
    "Sample Output\n",
    "\n",
    "[2, 24, 40320, 5040, 120]\n"
   ]
  },
  {
   "cell_type": "code",
   "execution_count": 2,
   "id": "6e82db08",
   "metadata": {},
   "outputs": [
    {
     "name": "stdout",
     "output_type": "stream",
     "text": [
      "enter 5 integers\n",
      "5\n",
      "2\n",
      "3\n",
      "4\n",
      "5\n",
      "the given list is  [5, 2, 3, 4, 5]\n",
      "factorial of the list is  [120, 2, 6, 24, 120]\n"
     ]
    }
   ],
   "source": [
    "def factorial(i):\n",
    "    fact=1\n",
    "    for j in range(1,i+1):\n",
    "        fact*=j\n",
    "    return fact\n",
    "print(\"enter 5 integers\")\n",
    "a=[int(input()) for i in range(5)]\n",
    "f=[factorial(i) for i in a]\n",
    "print(\"the given list is \",a)\n",
    "print(\"factorial of the list is \",f)"
   ]
  },
  {
   "cell_type": "markdown",
   "id": "75a00f56",
   "metadata": {},
   "source": [
    "#### Write a python program which reads “n” number of integers from the user and generates a separate list containing even and odd numbers.\n",
    "\n",
    "Write a python program that reads integers from the user and stores them in a list. Your program should continue reading values until the user enters 0. Then it should display all of the values entered by the user (except for the 0) in ascending order (The list itself to be sorted)."
   ]
  },
  {
   "cell_type": "code",
   "execution_count": 4,
   "id": "720ebc62",
   "metadata": {},
   "outputs": [
    {
     "name": "stdout",
     "output_type": "stream",
     "text": [
      "enter the values of the list\n",
      "56\n",
      "7\n",
      "8\n",
      "21\n",
      "55\n",
      "96\n",
      "2\n",
      "4\n",
      "8\n",
      "0\n",
      "the sorted list is  [2, 4, 7, 8, 8, 21, 55, 56, 96]\n"
     ]
    }
   ],
   "source": [
    "li=[]\n",
    "print(\"enter the values of the list\")\n",
    "while True:\n",
    "    l=int(input())\n",
    "    if l==0:\n",
    "        break\n",
    "    li.append(l)\n",
    "    li.sort()\n",
    "print(\"the sorted list is \",li)"
   ]
  },
  {
   "cell_type": "markdown",
   "id": "2234d270",
   "metadata": {},
   "source": [
    "#### Write a python program that reads the string, encode each character in a string using ascii values and store the ascii value in the list. The program reads the strings from the user, and stores the individual characters ascii value to the list\n",
    "\n",
    "Sample Input\n",
    "\n",
    "Enter the string : Science\n",
    "\n",
    "Sample Output\n",
    "\n",
    "Encode the List - [83, 99, 105, 101, 110, 99, 101]\n",
    "\n",
    "Note: Use ord() function\n"
   ]
  },
  {
   "cell_type": "code",
   "execution_count": 5,
   "id": "6d329995",
   "metadata": {},
   "outputs": [
    {
     "name": "stdout",
     "output_type": "stream",
     "text": [
      "enter a string: Life is very short\n",
      "ascii value of the given string is  [76, 105, 102, 101, 32, 105, 115, 32, 118, 101, 114, 121, 32, 115, 104, 111, 114, 116]\n"
     ]
    }
   ],
   "source": [
    "a=input(\"enter a string: \")\n",
    "en=[]\n",
    "for i in a:\n",
    "    encode=ord(i)\n",
    "    en.append(encode)\n",
    "print(\"ascii value of the given string is \",en)"
   ]
  },
  {
   "cell_type": "markdown",
   "id": "81d65617",
   "metadata": {},
   "source": [
    "#### Write a python program which reads “n” words from the user, store it in the list and display the length of each word and display the longest word in the list."
   ]
  },
  {
   "cell_type": "code",
   "execution_count": 10,
   "id": "6370d7a6",
   "metadata": {},
   "outputs": [
    {
     "name": "stdout",
     "output_type": "stream",
     "text": [
      "Enter the number of words: 5\n",
      "Enter the word: Tiger\n",
      "Enter the word: Lion\n",
      "Enter the word: Elephant\n",
      "Enter the word: Cuckoo\n",
      "Enter the word: Deer\n",
      "Length of Each word in the list :  [5, 4, 8, 6, 4]\n",
      "The longest Words in the list is :  Elephant\n"
     ]
    }
   ],
   "source": [
    "n = int(input(\"Enter the number of words: \"))\n",
    "words = []\n",
    "words_len = []\n",
    "for i in range(n):\n",
    "    words.append(input(\"Enter the word: \"))\n",
    "long = words[0]\n",
    "for i in words:\n",
    "    words_len.append(len(i))\n",
    "    if len(i) > len(long):\n",
    "        long = i\n",
    "print(\"Length of Each word in the list : \",words_len)\n",
    "print(\"The longest Words in the list is : \",long)       "
   ]
  },
  {
   "cell_type": "markdown",
   "id": "43116534",
   "metadata": {},
   "source": [
    "#### A program should read “n” positive integers from the user and append it to the list, and if the list contains prime numbers return “True” and number of prime numbers, else “False”."
   ]
  },
  {
   "cell_type": "code",
   "execution_count": 21,
   "id": "c23107fb",
   "metadata": {},
   "outputs": [
    {
     "name": "stdout",
     "output_type": "stream",
     "text": [
      "Enter number of integers in the list: 5\n",
      "Enter the integers \n",
      "11\n",
      "15\n",
      "13\n",
      "18\n",
      "17\n",
      "TRUE\n",
      "Number of prime numbers in the given list is  3\n"
     ]
    }
   ],
   "source": [
    "def prime(n):\n",
    "    count=0\n",
    "    for j in range(2,n+1):\n",
    "        if (n%j==0):\n",
    "            count+=1\n",
    "    if count >= 2:\n",
    "        return False\n",
    "    else:\n",
    "        return True\n",
    "li=[]\n",
    "n=int(input(\"Enter number of integers in the list: \"))\n",
    "print(\"Enter the integers \")\n",
    "li=[int(input()) for i in range(n)]\n",
    "pri=[i for i in li if (prime(i))]\n",
    "if(len(pri)!=0):\n",
    "    print(\"TRUE\")\n",
    "    print(\"Number of prime numbers in the given list is \",len(pri))\n",
    "else:\n",
    "    print(\"FALSE\")"
   ]
  },
  {
   "cell_type": "markdown",
   "id": "b05da938",
   "metadata": {},
   "source": [
    "#### Write a python program that removes duplicates from the given list and generate the new list without duplicates."
   ]
  },
  {
   "cell_type": "code",
   "execution_count": 23,
   "id": "bf9a0d21",
   "metadata": {},
   "outputs": [
    {
     "name": "stdout",
     "output_type": "stream",
     "text": [
      "the list after removing duplicates:  [2, 3, 4, 6, 5, 9, 10, 15, 16, 17]\n"
     ]
    }
   ],
   "source": [
    "a=[2,3,4,3,6,5,3,2,9,10,15,16,9,17]\n",
    "li=[]\n",
    "for i in a:\n",
    "    if i not in li:\n",
    "        li.append(i)\n",
    "print(\"the list after removing duplicates: \",li)"
   ]
  },
  {
   "cell_type": "markdown",
   "id": "c1cfbeab",
   "metadata": {},
   "source": [
    "#### Write a python program to remove even numbers from the given list"
   ]
  },
  {
   "cell_type": "code",
   "execution_count": 25,
   "id": "48028949",
   "metadata": {},
   "outputs": [
    {
     "name": "stdout",
     "output_type": "stream",
     "text": [
      "the list after removing even numbers:  [3, 7, 65]\n"
     ]
    }
   ],
   "source": [
    "## Should not create a new list the modification to be done in the original list itself. \n",
    "a=[2,3,6,8,34,56,7,65]\n",
    "\n",
    "for i in a[::-1]:\n",
    "    if i%2 == 0:\n",
    "        a.remove(i)\n",
    "print(\"the list after removing even numbers: \",a)"
   ]
  },
  {
   "cell_type": "markdown",
   "id": "6c818a08",
   "metadata": {},
   "source": [
    "#### Consider the following list which contains the month with year  \n",
    "\n",
    "years = [\"January 2023\", “February 2024”, March 2023”, \"May 2025\", \"April 2023\", \"August 2024\", \"September 2025\", \"December 2023\"]\n",
    "\n",
    "If you have noticed, for some months, the year was wrongly mentioned instead of 2023. Write a Python program to change the month to 2023.\n"
   ]
  },
  {
   "cell_type": "code",
   "execution_count": 27,
   "id": "45b5b447",
   "metadata": {},
   "outputs": [
    {
     "name": "stdout",
     "output_type": "stream",
     "text": [
      "The list after correcting :  ['January 2023', 'February 2023', 'March 2023', 'May 2023', 'April 2023', 'August 2023', 'September 2023', 'December 2023']\n"
     ]
    }
   ],
   "source": [
    "years = [\"January 2023\",\"February 2024\",\"March 2023\",\"May 2025\",\"April 2023\",\"August 2024\",\"September 2025\",\"December 2023\"]\n",
    "year1=[]\n",
    "delimeter=\" \"\n",
    "year2=[]\n",
    "for i in years:\n",
    "    a=i.split()\n",
    "    year1.append(a)\n",
    "for j in year1:\n",
    "    if j[1]!=\"2023\":\n",
    "        j[1]=\"2023\"\n",
    "    j=delimeter.join(j)\n",
    "    year2.append(j)\n",
    "print(\"The list after correcting : \",year2)"
   ]
  },
  {
   "cell_type": "code",
   "execution_count": 37,
   "id": "b358c6a9",
   "metadata": {},
   "outputs": [
    {
     "name": "stdout",
     "output_type": "stream",
     "text": [
      "List After Correcting\n",
      "['January 2023', 'February 2023', 'March 2023', 'May 2023', 'April 2023', 'August 2023', 'September 2023', 'December 2023']\n"
     ]
    }
   ],
   "source": [
    "years = [\"January 2023\",\"February 2024\",\"March 2023\",\"May 2025\",\"April 2023\",\"August 2024\",\"September 2025\",\"December 2023\"]\n",
    "for i in range(len(years)):\n",
    "    st = years[i].split()\n",
    "    if st[1] != \"2023\":\n",
    "        st[1] = \"2023\"\n",
    "    years[i] = \" \".join(st)\n",
    "\n",
    "print(\"List After Correcting\")\n",
    "print(years)"
   ]
  }
 ],
 "metadata": {
  "kernelspec": {
   "display_name": "Python 3 (ipykernel)",
   "language": "python",
   "name": "python3"
  },
  "language_info": {
   "codemirror_mode": {
    "name": "ipython",
    "version": 3
   },
   "file_extension": ".py",
   "mimetype": "text/x-python",
   "name": "python",
   "nbconvert_exporter": "python",
   "pygments_lexer": "ipython3",
   "version": "3.9.7"
  }
 },
 "nbformat": 4,
 "nbformat_minor": 5
}
