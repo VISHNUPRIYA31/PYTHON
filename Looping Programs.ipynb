{
 "cells": [
  {
   "cell_type": "markdown",
   "id": "bbc98b39",
   "metadata": {},
   "source": [
    "#### Write a program to display the **count of even and odd numbers in a given range.**\n",
    "\n",
    "Sample Input \n",
    "\n",
    "Start: 20 <br>\n",
    "End : 50\n",
    "(inclusive of 20 and 50)\n",
    "\n",
    "Sample Output:\n",
    "\n",
    "Even : 16<br>\n",
    "Odd : 15"
   ]
  },
  {
   "cell_type": "code",
   "execution_count": 3,
   "id": "50eca46e",
   "metadata": {},
   "outputs": [
    {
     "name": "stdout",
     "output_type": "stream",
     "text": [
      "Enter the starting number of the range: 20\n",
      "Enter the ending number of the range: 50\n",
      "Even Numbers =  16\n",
      "Odd Numbers =  15\n"
     ]
    }
   ],
   "source": [
    "start = int(input(\"Enter the starting number of the range: \"))\n",
    "end = int(input(\"Enter the ending number of the range: \"))\n",
    "even_c = odd_c = 0\n",
    "for x in range(start,end+1):\n",
    "    if x%2 == 0:\n",
    "        even_c = even_c + 1\n",
    "    else:\n",
    "        odd_c = odd_c + 1\n",
    "\n",
    "print(\"Even Numbers = \",even_c)\n",
    "print(\"Odd Numbers = \",odd_c)"
   ]
  },
  {
   "cell_type": "markdown",
   "id": "28447aad",
   "metadata": {},
   "source": [
    "#### Program Explanation\n",
    "\n",
    "1. getting the starting and ending range as integers\n",
    "2. As we need two variables to count even and odd numbers, initialized even_c and odd_c to **'0'**.\n",
    "3. Since start and ending range are known here we use for loop\n",
    "4. range function (start = 20 and end = 51), it will generate a list as [20,21,22,.....,50]\n",
    "5. x is a loop variable which will traversing through all the elements one by one\n",
    "6. each number is checked, whether divisible by 2 or not, if divisible will increment the even_c, else the number will be odd will increment odd_c\n",
    "7. Finally display the even_c and odd_c"
   ]
  },
  {
   "cell_type": "markdown",
   "id": "5b8e34fc",
   "metadata": {},
   "source": [
    "#### Write a program to display the **factors of a given number.** \n",
    "\n",
    "Sample Input\n",
    "\n",
    "56\n",
    "\n",
    "Sample output\n",
    "\n",
    "1, 2, 4, 7, 8, 14, 28, 56"
   ]
  },
  {
   "cell_type": "code",
   "execution_count": 7,
   "id": "dc10f255",
   "metadata": {},
   "outputs": [
    {
     "name": "stdout",
     "output_type": "stream",
     "text": [
      "Enter the number: 56\n",
      "The factors of  56 are -  1, 2, 4, 7, 8, 14, 28, 56, "
     ]
    }
   ],
   "source": [
    "n = int(input(\"Enter the number: \"))\n",
    "print(\"The factors of \",n,\"are - \",end = \" \")\n",
    "for x in range(1,n+1):     ### --> factor of a number is that divides the number evenly or exactly. here it check the divisiblity from 1 to the given number\n",
    "    if n%x == 0:   ## x will traverse from 1 to n, now will check whether n is divisble by number starting from 1 and proceed one by one\n",
    "        print(x,end = \", \") ## if the number is exactly divided then reminder will be \"zero\", then will display the x"
   ]
  },
  {
   "cell_type": "markdown",
   "id": "a8225378",
   "metadata": {},
   "source": [
    "### Prime Number \n",
    "\n",
    "Prime number which is divisble by 1 and the number itself. \n",
    "\n",
    "Therefore the factors of prime number will always be **\"2\"**.\n",
    "\n",
    "So to find the prime number, first will find the factor of a number if the factor count is 2 or less that 2 then it is a prime number."
   ]
  },
  {
   "cell_type": "code",
   "execution_count": 10,
   "id": "40790c5f",
   "metadata": {},
   "outputs": [
    {
     "name": "stdout",
     "output_type": "stream",
     "text": [
      "Enter the number: 5\n",
      "It is a Prime Number\n"
     ]
    }
   ],
   "source": [
    "n = int(input(\"Enter the number: \"))\n",
    "factor_count = 0\n",
    "#copy the above code to find the factor of a number, changing only the print statment to count statement\n",
    "for x in range(1,n+1):\n",
    "    if n%x == 0:\n",
    "        factor_count = factor_count + 1\n",
    "\n",
    "#now check whether the factor_count is less than or equal to 2, then it is a prime number\n",
    "\n",
    "if factor_count <= 2:\n",
    "    print(\"It is a Prime Number\")\n",
    "else:\n",
    "    print(\"Not a prime Number\")"
   ]
  },
  {
   "cell_type": "markdown",
   "id": "9f5b5e78",
   "metadata": {},
   "source": [
    "#### Display Prime Number in a specifed range\n",
    "The above code find for one specific number, now have to check for all the numbers in the given range.\n",
    "Copy the above code first.\n",
    "\n",
    "Now add one outer loop that is used to traverse the numbers from starting to end.\n"
   ]
  },
  {
   "cell_type": "code",
   "execution_count": 10,
   "id": "889bb974",
   "metadata": {
    "scrolled": true
   },
   "outputs": [
    {
     "name": "stdout",
     "output_type": "stream",
     "text": [
      "Enter the first number: 1\n",
      "Enter the second number: 20\n",
      "2\n",
      "3\n",
      "5\n",
      "7\n",
      "11\n",
      "13\n",
      "17\n",
      "19\n"
     ]
    }
   ],
   "source": [
    "start = int(input(\"Enter the first number: \"))\n",
    "end = int(input(\"Enter the second number: \"))\n",
    "\n",
    "for i in range(start,end+1): ##--> this loop used to traverse from starting to ending\n",
    "    factor_count = 0\n",
    "    if i == 1:\n",
    "        continue\n",
    "    for x in range(2,i+1): ## for example if i = 5, we need to check for factors from 1 to 5, i = 10, need to check from 1 to 10\n",
    "        if i%x == 0:\n",
    "            factor_count = factor_count + 1\n",
    "\n",
    "#now check whether the factor_count is less than or equal to 2, then it is a prime number\n",
    "\n",
    "    if factor_count < 2:\n",
    "        print(i) ## display the i value which contain "
   ]
  },
  {
   "cell_type": "markdown",
   "id": "309e17bb",
   "metadata": {},
   "source": [
    "#### Prime Number printing Method 2"
   ]
  },
  {
   "cell_type": "code",
   "execution_count": 18,
   "id": "f02f6602",
   "metadata": {},
   "outputs": [
    {
     "name": "stdout",
     "output_type": "stream",
     "text": [
      "Enter the first number: 10\n",
      "Enter the second number: 30\n",
      "11\n",
      "13\n",
      "17\n",
      "19\n",
      "23\n",
      "29\n"
     ]
    }
   ],
   "source": [
    "start = int(input(\"Enter the first number: \"))\n",
    "end = int(input(\"Enter the second number: \"))\n",
    "\n",
    "for i in range(start,end+1): ##--> this loop used to traverse from starting to ending\n",
    "    factor_count = 0\n",
    "    if i == 1:\n",
    "        continue\n",
    "    for x in range(2,(i//2)+1): ## for example if i = 5, we need to check for factors from 1 to 5, i = 10, need to check from 1 to 10\n",
    "        if i%x == 0:\n",
    "            factor_count = factor_count + 1\n",
    "\n",
    "#now check whether the factor_count is less than or equal to 2, then it is a prime number\n",
    "\n",
    "    if factor_count < 1:\n",
    "        print(i) ## display the i value which contain "
   ]
  },
  {
   "cell_type": "markdown",
   "id": "a285072d",
   "metadata": {},
   "source": [
    "#### Write a program to display the multiplication table as below \n",
    "\n",
    "Sample Input \n",
    "\n",
    "5\n",
    "\n",
    "Sample Output\n",
    "\n",
    "5 * 1 = 5<br>\n",
    "5 * 2 = 10<br>\n",
    ".<br>\n",
    ".<br>\n",
    "5 * 10 = 50\n"
   ]
  },
  {
   "cell_type": "code",
   "execution_count": 20,
   "id": "e438c864",
   "metadata": {},
   "outputs": [
    {
     "name": "stdout",
     "output_type": "stream",
     "text": [
      "5 * 1 = 5\n",
      "5 * 2 = 10\n",
      "5 * 3 = 15\n",
      "5 * 4 = 20\n",
      "5 * 5 = 25\n",
      "5 * 6 = 30\n",
      "5 * 7 = 35\n",
      "5 * 8 = 40\n",
      "5 * 9 = 45\n",
      "5 * 10 = 50\n"
     ]
    }
   ],
   "source": [
    "for i in range(1,11):\n",
    "    print(\"5 * {} = {}\".format(i,5*i))"
   ]
  },
  {
   "cell_type": "markdown",
   "id": "6ddf90fd",
   "metadata": {},
   "source": [
    "#### Write a program to display the multiplication table as below with a given range\n",
    "\n",
    "Sample Input\n",
    "\n",
    "Start Table : 5<br>\n",
    "End Table: 8<br>\n",
    "\n",
    "Sample Output\n",
    "\n",
    "5 * 1 = 5 &emsp; 6 * 1 = 6 &emsp; 7 * 1 = 7 &emsp; 8 * 1 = 8 <br>\n",
    "5 * 2 = 10 &emsp; 6 * 2 = 12 &emsp; 7 * 2 = 14 &emsp; 8 * 2 = 16<br>\n",
    ".<br>\n",
    ".<br>\n",
    "5 * 10 = 50\t\t\n"
   ]
  },
  {
   "cell_type": "code",
   "execution_count": 22,
   "id": "f199cd26",
   "metadata": {},
   "outputs": [
    {
     "name": "stdout",
     "output_type": "stream",
     "text": [
      "Starting: 2\n",
      "ending: 3\n",
      "2 * 1 = 2\n",
      "2 * 2 = 4\n",
      "2 * 3 = 6\n",
      "2 * 4 = 8\n",
      "2 * 5 = 10\n",
      "2 * 6 = 12\n",
      "2 * 7 = 14\n",
      "2 * 8 = 16\n",
      "2 * 9 = 18\n",
      "2 * 10 = 20\n",
      "3 * 1 = 3\n",
      "3 * 2 = 6\n",
      "3 * 3 = 9\n",
      "3 * 4 = 12\n",
      "3 * 5 = 15\n",
      "3 * 6 = 18\n",
      "3 * 7 = 21\n",
      "3 * 8 = 24\n",
      "3 * 9 = 27\n",
      "3 * 10 = 30\n"
     ]
    }
   ],
   "source": [
    "start = int(input(\"Starting: \"))\n",
    "end = int(input(\"ending: \"))\n",
    "\n",
    "for r in range(start,end+1):\n",
    "    for i in range(1,11):\n",
    "        print(\"{} * {} = {}\".format(r,i,r*i))"
   ]
  },
  {
   "cell_type": "code",
   "execution_count": 26,
   "id": "79eb738f",
   "metadata": {},
   "outputs": [
    {
     "name": "stdout",
     "output_type": "stream",
     "text": [
      "Starting: 2\n",
      "ending: 6\n",
      "2 * 1 = 2\t3 * 1 = 3\t4 * 1 = 4\t5 * 1 = 5\t6 * 1 = 6\t\n",
      "2 * 2 = 4\t3 * 2 = 6\t4 * 2 = 8\t5 * 2 = 10\t6 * 2 = 12\t\n",
      "2 * 3 = 6\t3 * 3 = 9\t4 * 3 = 12\t5 * 3 = 15\t6 * 3 = 18\t\n",
      "2 * 4 = 8\t3 * 4 = 12\t4 * 4 = 16\t5 * 4 = 20\t6 * 4 = 24\t\n",
      "2 * 5 = 10\t3 * 5 = 15\t4 * 5 = 20\t5 * 5 = 25\t6 * 5 = 30\t\n",
      "2 * 6 = 12\t3 * 6 = 18\t4 * 6 = 24\t5 * 6 = 30\t6 * 6 = 36\t\n",
      "2 * 7 = 14\t3 * 7 = 21\t4 * 7 = 28\t5 * 7 = 35\t6 * 7 = 42\t\n",
      "2 * 8 = 16\t3 * 8 = 24\t4 * 8 = 32\t5 * 8 = 40\t6 * 8 = 48\t\n",
      "2 * 9 = 18\t3 * 9 = 27\t4 * 9 = 36\t5 * 9 = 45\t6 * 9 = 54\t\n",
      "2 * 10 = 20\t3 * 10 = 30\t4 * 10 = 40\t5 * 10 = 50\t6 * 10 = 60\t\n"
     ]
    }
   ],
   "source": [
    "start = int(input(\"Starting: \"))\n",
    "end = int(input(\"ending: \"))\n",
    "\n",
    "for i in range(1,11):\n",
    "    for r in range(start,end+1):\n",
    "        print(\"{} * {} = {}\".format(r,i,r*i),end = \"\\t\")\n",
    "    print()"
   ]
  },
  {
   "cell_type": "markdown",
   "id": "ef1234f7",
   "metadata": {},
   "source": [
    "#### Write a program to display the multiplication table as below with a given range\n",
    "\n",
    "Sample Input<br>\n",
    "Start Table : 5<br>\n",
    "End Table: 8<br>\n",
    "\n",
    "Sample Output:<br>\n",
    "5 * 1 = 5<br>\n",
    ".<br>\n",
    ".<br>\n",
    "5 * 5 = 25<br>\n",
    "6 * 1 = 6<br>\n",
    ".<br>\n",
    ".<br>\n",
    ".<br>\n",
    "6 * 6=36<br>\n",
    "7 * 1=7<br>\n",
    ".<br>\n",
    ".<br>\n",
    ".<br>\n",
    "7 * 7=49<br>\n",
    "8 * 1=8<br>\n",
    ".<br>\n",
    ".<br>\n",
    "8 * 8=64<br>\n"
   ]
  },
  {
   "cell_type": "code",
   "execution_count": 1,
   "id": "2e9fffcb",
   "metadata": {},
   "outputs": [
    {
     "name": "stdout",
     "output_type": "stream",
     "text": [
      "Starting: 2\n",
      "ending: 5\n",
      "2 * 1 = 2\n",
      "2 * 2 = 4\n",
      "3 * 1 = 3\n",
      "3 * 2 = 6\n",
      "3 * 3 = 9\n",
      "4 * 1 = 4\n",
      "4 * 2 = 8\n",
      "4 * 3 = 12\n",
      "4 * 4 = 16\n",
      "5 * 1 = 5\n",
      "5 * 2 = 10\n",
      "5 * 3 = 15\n",
      "5 * 4 = 20\n",
      "5 * 5 = 25\n"
     ]
    }
   ],
   "source": [
    "start = int(input(\"Starting: \"))\n",
    "end = int(input(\"ending: \"))\n",
    "\n",
    "for r in range(start,end+1):\n",
    "    for i in range(1,11):\n",
    "        if i > r:\n",
    "            break\n",
    "        print(\"{} * {} = {}\".format(r,i,r*i))"
   ]
  },
  {
   "cell_type": "code",
   "execution_count": 39,
   "id": "2057cbb4",
   "metadata": {},
   "outputs": [
    {
     "name": "stdout",
     "output_type": "stream",
     "text": [
      "Starting: 2\n",
      "ending: 8\n",
      "2 * 1 = 2\t3 * 1 = 3\t4 * 1 = 4\t5 * 1 = 5\t6 * 1 = 6\t7 * 1 = 7\t8 * 1 = 8\t\n",
      "\t\t3 * 2 = 6\t4 * 2 = 8\t5 * 2 = 10\t6 * 2 = 12\t7 * 2 = 14\t8 * 2 = 16\t\n",
      "2 * 3 = 6\t\t\t4 * 3 = 12\t5 * 3 = 15\t6 * 3 = 18\t7 * 3 = 21\t8 * 3 = 24\t\n",
      "2 * 4 = 8\t3 * 4 = 12\t\t\t5 * 4 = 20\t6 * 4 = 24\t7 * 4 = 28\t8 * 4 = 32\t\n",
      "2 * 5 = 10\t3 * 5 = 15\t4 * 5 = 20\t\t\t6 * 5 = 30\t7 * 5 = 35\t8 * 5 = 40\t\n",
      "2 * 6 = 12\t3 * 6 = 18\t4 * 6 = 24\t5 * 6 = 30\t\t\t7 * 6 = 42\t8 * 6 = 48\t\n",
      "2 * 7 = 14\t3 * 7 = 21\t4 * 7 = 28\t5 * 7 = 35\t6 * 7 = 42\t\t\t8 * 7 = 56\t\n",
      "2 * 8 = 16\t3 * 8 = 24\t4 * 8 = 32\t5 * 8 = 40\t6 * 8 = 48\t7 * 8 = 56\t\t\t\n",
      "2 * 9 = 18\t3 * 9 = 27\t4 * 9 = 36\t5 * 9 = 45\t6 * 9 = 54\t7 * 9 = 63\t8 * 9 = 72\t\n",
      "2 * 10 = 20\t3 * 10 = 30\t4 * 10 = 40\t5 * 10 = 50\t6 * 10 = 60\t7 * 10 = 70\t8 * 10 = 80\t\n"
     ]
    }
   ],
   "source": [
    "start = int(input(\"Starting: \"))\n",
    "end = int(input(\"ending: \"))\n",
    "\n",
    "for i in range(1,11):\n",
    "    for r in range(start,end+1):\n",
    "        if i == r:\n",
    "            print(end = \"\\t\\t\")\n",
    "            continue\n",
    "        print(\"{} * {} = {}\".format(r,i,r*i),end = \"\\t\")\n",
    "    print()"
   ]
  },
  {
   "cell_type": "markdown",
   "id": "c673ae4c",
   "metadata": {},
   "source": [
    "#### Write a program that displays a temperature conversion table  for degrees Celsius and degrees Fahrenheit. \n",
    "\n",
    "The table should include rows for all temperatures between 0 and 100 degrees Celsius that are multiples of 10 degrees Celsius. Include appropriate headings on your columns. The formula for converting between degrees Celsius and degrees Fahrenheit\n",
    "\n",
    "**F = C×(9/5)+32**\n",
    "\n",
    "Sample Output \n",
    "\n",
    "Celsius &ensp; Fahrenheit <br>\n",
    "    0 &emsp; 32.0 <br>\n",
    "    10 &emsp; 50.0 <br>\n",
    "    20 &emsp; 68.0 <br>\n",
    "    30 &emsp; 86.0 <br>\n",
    "    40 &emsp; 104.0 <br>\n",
    "    50 &emsp; 122.0 <br>\n",
    "    60 &emsp; 140.0 <br>\n",
    "    70 &emsp; 158.0 <br>\n",
    "    50 &emsp; 176.0 <br>\n",
    "    90 &emsp; 194.0 <br>\n",
    "    100 &emsp; 212.0\n"
   ]
  },
  {
   "cell_type": "code",
   "execution_count": 41,
   "id": "8b2d49a8",
   "metadata": {},
   "outputs": [
    {
     "name": "stdout",
     "output_type": "stream",
     "text": [
      "Celsius\tFahrenheit\n",
      "0 \t 32.0\n",
      "10 \t 50.0\n",
      "20 \t 68.0\n",
      "30 \t 86.0\n",
      "40 \t 104.0\n",
      "50 \t 122.0\n",
      "60 \t 140.0\n",
      "70 \t 158.0\n",
      "80 \t 176.0\n",
      "90 \t 194.0\n",
      "100 \t 212.0\n"
     ]
    }
   ],
   "source": [
    "print(\"Celsius\\tFahrenheit\")\n",
    "for c in range(0,101,10):\n",
    "    f = c * (9/5) + 32\n",
    "    print(\"{} \\t {}\".format(c,f))"
   ]
  },
  {
   "cell_type": "markdown",
   "id": "c7a1f4b6",
   "metadata": {},
   "source": [
    "#### Write a program to display the Amstrong numbers in the given range\n",
    "\n",
    "Enter lower range: 100<br>\n",
    "Enter upper range: 1000<br>\n",
    "\n",
    "The armstrong numbers are: <br>\n",
    "153<br>\n",
    "370<br>\n",
    "371<br>\n",
    "407<br>\n",
    "\n",
    "**Armstrong number is a number that is equal to the sum of cubes of its digits**\n"
   ]
  },
  {
   "cell_type": "code",
   "execution_count": 45,
   "id": "7271c214",
   "metadata": {},
   "outputs": [
    {
     "name": "stdout",
     "output_type": "stream",
     "text": [
      "Enter Lower range: 100\n",
      "Enter Upper range: 2000\n",
      "153\n",
      "370\n",
      "371\n",
      "407\n",
      "1634\n"
     ]
    }
   ],
   "source": [
    "l = int(input(\"Enter Lower range: \"))\n",
    "u = int(input(\"Enter Upper range: \"))\n",
    "for num in range(l, u + 1):\n",
    "    sum = 0\n",
    "    number_of_digit = 0\n",
    "    t1 = temp = num\n",
    "    \n",
    "    '''for all the numbers we have to find the number of digits, \n",
    "    because Armstrong number is a number that is equal to the sum of cubes of its digits\n",
    "    example 1 : 153 --> number of digit = 3 --> 1^3 + 5^3 + 3^3 = 153\n",
    "    example 2 : 1634 --> number of digit = 4 --> 1^4 + 6^4 + 3^4 + 4^4 = 1634'''\n",
    "    while t1 > 0: \n",
    "        t1 //= 10 \n",
    "        number_of_digit += 1\n",
    "        \n",
    "    while temp > 0:\n",
    "        digit = temp % 10\n",
    "        sum += digit ** number_of_digit\n",
    "        temp //= 10\n",
    "    if num == sum:\n",
    "        print(num)"
   ]
  },
  {
   "cell_type": "markdown",
   "id": "5120c390",
   "metadata": {},
   "source": [
    "#### Write a program to accept the numbers continuously; when we enter\"-1” it should stop accepting the input and at the same time display the number of even numbers and odd numbers that were entered.\n",
    "\n",
    "Sample Input\n",
    "\n",
    "Enter the number = 56 <br>\n",
    "Enter the number = 5 <br>\n",
    "Enter the number = 26 <br>\n",
    "Enter the number = 45 <br>\n",
    "Enter the number = 13 <br>\n",
    "Enter the number = 11 <br>\n",
    "Enter the number = 16 <br>\n",
    "Enter the number = 19 <br>\n",
    "Enter the number = 48 <br>\n",
    "Enter the number = -1 <br>\n",
    "\n",
    "Sample Output\n",
    "\n",
    "Number of Even Numbers Entered = 4 <br>\n",
    "Number of Odd Numbers Entered = 5 <br>\n"
   ]
  },
  {
   "cell_type": "code",
   "execution_count": 46,
   "id": "ba62b1b4",
   "metadata": {},
   "outputs": [
    {
     "name": "stdout",
     "output_type": "stream",
     "text": [
      "Enter the number = 5\n",
      "Enter the number = 56\n",
      "Enter the number = 26\n",
      "Enter the number = 45\n",
      "Enter the number = 13\n",
      "Enter the number = 11\n",
      "Enter the number = 16\n",
      "Enter the number = 19\n",
      "Enter the number = 48\n",
      "Enter the number = -1\n",
      "Number of Even Numbers Entered =  4\n",
      "Number of Odd Numbers Entered =  5\n"
     ]
    }
   ],
   "source": [
    "e_c = o_c = 0\n",
    "while(True):\n",
    "    n = int(input(\"Enter the number = \"))\n",
    "    if n == -1:\n",
    "        break\n",
    "    if n%2 == 0:\n",
    "        e_c += 1\n",
    "    else:\n",
    "        o_c += 1\n",
    "print(\"Number of Even Numbers Entered = \",e_c)\n",
    "print(\"Number of Odd Numbers Entered = \",o_c)"
   ]
  },
  {
   "cell_type": "markdown",
   "id": "f2216d7e",
   "metadata": {},
   "source": [
    "#### Program should accept input untill we press \"q\", if we press \"q\" it should stop and print number of character of entered and number of integers entered."
   ]
  },
  {
   "cell_type": "code",
   "execution_count": 51,
   "id": "fd791f0e",
   "metadata": {},
   "outputs": [
    {
     "name": "stdout",
     "output_type": "stream",
     "text": [
      "Your Input : g\n",
      "Your Input : 5\n",
      "Your Input : 12\n",
      "Your Input : 89\n",
      "Your Input : t\n",
      "Your Input : d\n",
      "Your Input : 5\n",
      "Your Input : q\n",
      "Number of Characters entered =  3\n",
      "Number of Integers entered =  4\n"
     ]
    }
   ],
   "source": [
    "c = n = 0\n",
    "while(True):\n",
    "    i = input(\"Your Input : \")\n",
    "    if i == 'q' or i == \"Q\":\n",
    "        break\n",
    "    if i>='a' and i<='z' or i>='A' and i<='Z':\n",
    "        c += 1\n",
    "    else:\n",
    "        n += 1\n",
    "print(\"Number of Characters entered = \",c)\n",
    "print(\"Number of Integers entered = \",n)       "
   ]
  }
 ],
 "metadata": {
  "kernelspec": {
   "display_name": "Python 3 (ipykernel)",
   "language": "python",
   "name": "python3"
  },
  "language_info": {
   "codemirror_mode": {
    "name": "ipython",
    "version": 3
   },
   "file_extension": ".py",
   "mimetype": "text/x-python",
   "name": "python",
   "nbconvert_exporter": "python",
   "pygments_lexer": "ipython3",
   "version": "3.9.7"
  }
 },
 "nbformat": 4,
 "nbformat_minor": 5
}
