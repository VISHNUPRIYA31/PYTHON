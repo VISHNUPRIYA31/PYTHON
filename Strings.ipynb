{
 "cells": [
  {
   "cell_type": "markdown",
   "id": "ffb49838",
   "metadata": {},
   "source": [
    "## Strings\n",
    "\n",
    "A string is a sequence of characters\n",
    "\n",
    "In python we have **str** datatypes.\n",
    "\n",
    "String can be defined by inside **single ' ' or double \" \" quotes** "
   ]
  },
  {
   "cell_type": "code",
   "execution_count": 1,
   "id": "59b0edb9",
   "metadata": {},
   "outputs": [
    {
     "name": "stdout",
     "output_type": "stream",
     "text": [
      "Engineering College\n",
      "Chennai is capital of tamilnadu\n"
     ]
    }
   ],
   "source": [
    "sent = \"Engineering College\"\n",
    "sent1 = 'Chennai is capital of tamilnadu'\n",
    "print(sent)\n",
    "print(sent1)"
   ]
  },
  {
   "cell_type": "markdown",
   "id": "63ef21dd",
   "metadata": {},
   "source": [
    "Multi-line string can be defined using **triple ''' ''' quotes**"
   ]
  },
  {
   "cell_type": "code",
   "execution_count": 2,
   "id": "b779d409",
   "metadata": {},
   "outputs": [
    {
     "name": "stdout",
     "output_type": "stream",
     "text": [
      "Face is index of Mind\n",
      "haste makes waste\n"
     ]
    }
   ],
   "source": [
    "prov = '''Face is index of Mind\n",
    "haste makes waste'''\n",
    "print(prov)"
   ]
  },
  {
   "attachments": {
    "image.png": {
     "image/png": "[encoded data removed]"
    }
   },
   "cell_type": "markdown",
   "id": "049c9771",
   "metadata": {},
   "source": [
    "## Indexing\n",
    "![image.png](attachment:image.png)"
   ]
  },
  {
   "cell_type": "code",
   "execution_count": 62,
   "id": "054c6393",
   "metadata": {},
   "outputs": [
    {
     "name": "stdout",
     "output_type": "stream",
     "text": [
      "Calculate\n",
      "l\n",
      "u\n",
      "C\n",
      "a\n",
      "l\n",
      "c\n",
      "u\n",
      "l\n",
      "a\n",
      "t\n",
      "e\n"
     ]
    }
   ],
   "source": [
    "s_string = \"Calculate\"\n",
    "print(s_string) #--> prints the entire string\n",
    "print(s_string[5]) ## --> prints the value at the 5th index\n",
    "print(s_string[-5])\n",
    "\n",
    "#using for loop\n",
    "\n",
    "for c in s_string:\n",
    "    print(c)"
   ]
  },
  {
   "cell_type": "markdown",
   "id": "f2811d25",
   "metadata": {},
   "source": [
    "## Slicing "
   ]
  },
  {
   "cell_type": "code",
   "execution_count": 64,
   "id": "cda91fb0",
   "metadata": {},
   "outputs": [
    {
     "name": "stdout",
     "output_type": "stream",
     "text": [
      "Calculate\n",
      "Calcula\n",
      "lat\n",
      "etaluclaC\n",
      "lcula\n",
      "late\n",
      "Calc\n"
     ]
    }
   ],
   "source": [
    "### SLICE OPERATOR --> [beg:end:step] --> similar to range function \n",
    "### For Example if we give str[3:7] --> print the character from 3rd index till 6th index (end - 1)\n",
    "print(s_string[0:]) ## --> as we have given only the start index and end index is not given it will print the entire string\n",
    "print(s_string[0:7]) ## --> print the character from 0th index to 6th index (end-1)\n",
    "print(s_string[5:8])  ## --> print the character  from 5th index to 7th index\n",
    "### print(s_string[10])  ## --> It will give ERROR, since we dont have value at the 10th index\n",
    "\n",
    "print(s_string[::-1])  ## --> print the string in reverse order\n",
    "print(s_string[-7:-2])\n",
    "\n",
    "\n",
    "'''if you provide a negative index as the starting value and omit the ending index, \n",
    "the slice will start from the character at the negative index and go towards the beginning of the string \n",
    "until it reaches the first character.'''\n",
    "\n",
    "print(s_string[-4:]) ## as we have mentioned the start index as -2 it will print from -4 to last character\n",
    "\n",
    "'''If you omit the start value in a slice operator, it defaults to the beginning of the string. \n",
    "Therefore, if you provide a negative index as the ending value, \n",
    "the slice will start from the beginning of the string and go up to (but not including) the character at the negative index.'''\n",
    "\n",
    "print(s_string[:-5])"
   ]
  },
  {
   "cell_type": "markdown",
   "id": "1897ef80",
   "metadata": {},
   "source": [
    "## Immutability"
   ]
  },
  {
   "cell_type": "code",
   "execution_count": 65,
   "id": "7e1a2fe3",
   "metadata": {},
   "outputs": [
    {
     "ename": "TypeError",
     "evalue": "'str' object does not support item assignment",
     "output_type": "error",
     "traceback": [
      "\u001b[1;31m---------------------------------------------------------------------------\u001b[0m",
      "\u001b[1;31mTypeError\u001b[0m                                 Traceback (most recent call last)",
      "\u001b[1;32m~\\AppData\\Local\\Temp/ipykernel_29736/2063399565.py\u001b[0m in \u001b[0;36m<module>\u001b[1;34m\u001b[0m\n\u001b[1;32m----> 1\u001b[1;33m \u001b[0ms_string\u001b[0m \u001b[1;33m[\u001b[0m\u001b[1;36m7\u001b[0m\u001b[1;33m]\u001b[0m \u001b[1;33m=\u001b[0m \u001b[1;34m'a'\u001b[0m\u001b[1;33m\u001b[0m\u001b[1;33m\u001b[0m\u001b[0m\n\u001b[0m\u001b[0;32m      2\u001b[0m \u001b[0mprint\u001b[0m\u001b[1;33m(\u001b[0m\u001b[0ms_string\u001b[0m\u001b[1;33m)\u001b[0m  \u001b[1;31m## --> will generate an error because strings are immutable\u001b[0m\u001b[1;33m\u001b[0m\u001b[1;33m\u001b[0m\u001b[0m\n\u001b[0;32m      3\u001b[0m \u001b[1;33m\u001b[0m\u001b[0m\n\u001b[0;32m      4\u001b[0m \u001b[0ms_string1\u001b[0m \u001b[1;33m=\u001b[0m \u001b[1;34m\"Jack\"\u001b[0m\u001b[1;33m\u001b[0m\u001b[1;33m\u001b[0m\u001b[0m\n\u001b[0;32m      5\u001b[0m \u001b[0mprint\u001b[0m\u001b[1;33m(\u001b[0m\u001b[0ms_string1\u001b[0m\u001b[1;33m)\u001b[0m\u001b[1;33m\u001b[0m\u001b[1;33m\u001b[0m\u001b[0m\n",
      "\u001b[1;31mTypeError\u001b[0m: 'str' object does not support item assignment"
     ]
    }
   ],
   "source": [
    "s_string [7] = 'a'\n",
    "print(s_string)  ## --> will generate an error because strings are immutable\n",
    "\n",
    "s_string1 = \"Jack\"\n",
    "print(s_string1)\n",
    "del s_string1\n",
    "print(s_string1)"
   ]
  },
  {
   "cell_type": "markdown",
   "id": "0b6101c8",
   "metadata": {},
   "source": [
    "## String Operations"
   ]
  },
  {
   "cell_type": "code",
   "execution_count": 66,
   "id": "3280e595",
   "metadata": {},
   "outputs": [],
   "source": [
    "s_string1 = \"Future\"\n",
    "s_string2 = \"Present\""
   ]
  },
  {
   "cell_type": "code",
   "execution_count": 67,
   "id": "4d10a2b6",
   "metadata": {},
   "outputs": [
    {
     "data": {
      "text/plain": [
       "'FutureFutureFuture'"
      ]
     },
     "execution_count": 67,
     "metadata": {},
     "output_type": "execute_result"
    }
   ],
   "source": [
    "s_string1 * 3"
   ]
  },
  {
   "cell_type": "code",
   "execution_count": 68,
   "id": "d19150d8",
   "metadata": {},
   "outputs": [
    {
     "data": {
      "text/plain": [
       "'Future Present'"
      ]
     },
     "execution_count": 68,
     "metadata": {},
     "output_type": "execute_result"
    }
   ],
   "source": [
    "s_string1 + \" \" + s_string2"
   ]
  },
  {
   "cell_type": "code",
   "execution_count": 14,
   "id": "90845663",
   "metadata": {},
   "outputs": [
    {
     "data": {
      "text/plain": [
       "'PresentFuture'"
      ]
     },
     "execution_count": 14,
     "metadata": {},
     "output_type": "execute_result"
    }
   ],
   "source": [
    "s_string2 + s_string1"
   ]
  },
  {
   "cell_type": "code",
   "execution_count": 69,
   "id": "00de8adc",
   "metadata": {},
   "outputs": [
    {
     "name": "stdout",
     "output_type": "stream",
     "text": [
      "True\n"
     ]
    }
   ],
   "source": [
    "print('e' in s_string1)"
   ]
  },
  {
   "cell_type": "code",
   "execution_count": 20,
   "id": "a255fcce",
   "metadata": {},
   "outputs": [
    {
     "name": "stdout",
     "output_type": "stream",
     "text": [
      "False\n"
     ]
    }
   ],
   "source": [
    "print('l' in s_string2)"
   ]
  },
  {
   "cell_type": "code",
   "execution_count": 7,
   "id": "cb127191",
   "metadata": {},
   "outputs": [
    {
     "name": "stdout",
     "output_type": "stream",
     "text": [
      "True\n"
     ]
    }
   ],
   "source": [
    "print('sent' in s_string2)"
   ]
  },
  {
   "cell_type": "code",
   "execution_count": 26,
   "id": "b54c16d3",
   "metadata": {},
   "outputs": [
    {
     "name": "stdout",
     "output_type": "stream",
     "text": [
      "C:/Python/recent\n"
     ]
    }
   ],
   "source": [
    "print(r\"C:/Python/recent\")"
   ]
  },
  {
   "cell_type": "markdown",
   "id": "02ca1aed",
   "metadata": {},
   "source": [
    "## String Formatting"
   ]
  },
  {
   "cell_type": "code",
   "execution_count": 27,
   "id": "0cef7791",
   "metadata": {},
   "outputs": [
    {
     "name": "stdout",
     "output_type": "stream",
     "text": [
      "March and May have 31 days\n"
     ]
    }
   ],
   "source": [
    "print(\"{} and {} have 31 days\".format(\"March\",\"May\"))"
   ]
  },
  {
   "cell_type": "code",
   "execution_count": 28,
   "id": "e132da77",
   "metadata": {},
   "outputs": [
    {
     "name": "stdout",
     "output_type": "stream",
     "text": [
      "March and May have 31 days\n",
      "May and March have 31 days\n"
     ]
    }
   ],
   "source": [
    "print(\"{0} and {1} have 31 days\".format(\"March\",\"May\"))\n",
    "print(\"{1} and {0} have 31 days\".format(\"March\",\"May\"))"
   ]
  },
  {
   "cell_type": "code",
   "execution_count": 29,
   "id": "e2e7c637",
   "metadata": {},
   "outputs": [
    {
     "name": "stdout",
     "output_type": "stream",
     "text": [
      "March and May have 31 days\n"
     ]
    }
   ],
   "source": [
    "print(\"{mar} and {ma} have 31 days\".format(mar = \"March\",ma = \"May\"))"
   ]
  },
  {
   "cell_type": "code",
   "execution_count": 30,
   "id": "0efd282c",
   "metadata": {},
   "outputs": [
    {
     "name": "stdout",
     "output_type": "stream",
     "text": [
      "March and May have 31 days\n"
     ]
    }
   ],
   "source": [
    "print(\"%s and %s have %d days\"%(\"March\",\"May\",31))"
   ]
  },
  {
   "cell_type": "markdown",
   "id": "499b2b4f",
   "metadata": {},
   "source": [
    "## String Functions"
   ]
  },
  {
   "cell_type": "code",
   "execution_count": 71,
   "id": "554b80c3",
   "metadata": {},
   "outputs": [
    {
     "name": "stdout",
     "output_type": "stream",
     "text": [
      "Length of a string :  17\n",
      "Future is mystery\n",
      "future is mystery\n"
     ]
    }
   ],
   "source": [
    "s_string1 = \"future is MYSTERY\"\n",
    "s_string2 = \"present\"\n",
    "\n",
    "print(\"Length of a string : \",len(s_string1))\n",
    "new_str = s_string1.capitalize()\n",
    "print(new_str)\n",
    "new_str = s_string1.casefold()\n",
    "print(new_str)"
   ]
  },
  {
   "cell_type": "code",
   "execution_count": 72,
   "id": "d30e673e",
   "metadata": {},
   "outputs": [
    {
     "name": "stdout",
     "output_type": "stream",
     "text": [
      "FUTURE IS MYSTERY\n",
      "future is mystery\n"
     ]
    }
   ],
   "source": [
    "new_str = s_string1.upper()\n",
    "print(new_str)\n",
    "new_str = s_string1.lower()\n",
    "print(new_str)"
   ]
  },
  {
   "cell_type": "code",
   "execution_count": 73,
   "id": "cc1c1658",
   "metadata": {},
   "outputs": [
    {
     "name": "stdout",
     "output_type": "stream",
     "text": [
      "Future Is Mystery\n"
     ]
    }
   ],
   "source": [
    "new_str = s_string1.title()\n",
    "print(new_str)"
   ]
  },
  {
   "cell_type": "code",
   "execution_count": 75,
   "id": "201a4355",
   "metadata": {},
   "outputs": [
    {
     "name": "stdout",
     "output_type": "stream",
     "text": [
      "future is MYSTERY\n",
      "Occurance of a charater is  1\n",
      "Occurance of a substring is  0\n",
      "0\n"
     ]
    }
   ],
   "source": [
    "print(s_string1)\n",
    "o = s_string1.count('r')\n",
    "print(\"Occurance of a charater is \",o)\n",
    "occu = s_string1.count('are')\n",
    "print(\"Occurance of a substring is \",occu)\n",
    "o = new_str.count('r',5,15) #--> count(string,start,end) - \"Future Is Mystery\"\n",
    "print(o)"
   ]
  },
  {
   "cell_type": "code",
   "execution_count": 15,
   "id": "20d32d80",
   "metadata": {},
   "outputs": [
    {
     "name": "stdout",
     "output_type": "stream",
     "text": [
      "future is MYSTERY\n",
      "True\n",
      "False\n",
      "5\n",
      "7\n",
      "-1\n",
      "1\n",
      "3\n"
     ]
    },
    {
     "ename": "ValueError",
     "evalue": "substring not found",
     "output_type": "error",
     "traceback": [
      "\u001b[1;31m---------------------------------------------------------------------------\u001b[0m",
      "\u001b[1;31mValueError\u001b[0m                                Traceback (most recent call last)",
      "\u001b[1;32m~\\AppData\\Local\\Temp/ipykernel_29736/1447396949.py\u001b[0m in \u001b[0;36m<module>\u001b[1;34m\u001b[0m\n\u001b[0;32m      7\u001b[0m \u001b[0mprint\u001b[0m\u001b[1;33m(\u001b[0m\u001b[0ms_string1\u001b[0m\u001b[1;33m.\u001b[0m\u001b[0mindex\u001b[0m\u001b[1;33m(\u001b[0m\u001b[1;34m'u'\u001b[0m\u001b[1;33m)\u001b[0m\u001b[1;33m)\u001b[0m\u001b[1;33m\u001b[0m\u001b[1;33m\u001b[0m\u001b[0m\n\u001b[0;32m      8\u001b[0m \u001b[0mprint\u001b[0m\u001b[1;33m(\u001b[0m\u001b[0ms_string1\u001b[0m\u001b[1;33m.\u001b[0m\u001b[0mindex\u001b[0m\u001b[1;33m(\u001b[0m\u001b[1;34m'u'\u001b[0m\u001b[1;33m,\u001b[0m\u001b[1;36m3\u001b[0m\u001b[1;33m,\u001b[0m\u001b[1;36m8\u001b[0m\u001b[1;33m)\u001b[0m\u001b[1;33m)\u001b[0m\u001b[1;33m\u001b[0m\u001b[1;33m\u001b[0m\u001b[0m\n\u001b[1;32m----> 9\u001b[1;33m \u001b[0mprint\u001b[0m\u001b[1;33m(\u001b[0m\u001b[0ms_string1\u001b[0m\u001b[1;33m.\u001b[0m\u001b[0mindex\u001b[0m\u001b[1;33m(\u001b[0m\u001b[1;34m'k'\u001b[0m\u001b[1;33m,\u001b[0m\u001b[1;36m3\u001b[0m\u001b[1;33m,\u001b[0m\u001b[1;36m8\u001b[0m\u001b[1;33m)\u001b[0m\u001b[1;33m)\u001b[0m\u001b[1;33m\u001b[0m\u001b[1;33m\u001b[0m\u001b[0m\n\u001b[0m",
      "\u001b[1;31mValueError\u001b[0m: substring not found"
     ]
    }
   ],
   "source": [
    "print(s_string1)\n",
    "print('i' in s_string1)\n",
    "print('l' in s_string1) # --> membership operator \"in\" - if the character or substring not found it will return false\n",
    "print(s_string1.find('e'))\n",
    "print(s_string1.find('i'))\n",
    "print(s_string1.find('l',4,8)) #--> find() - if the character or substring is not present then it will return -1\n",
    "print(s_string1.index('u'))\n",
    "print(s_string1.index('u',3,8))\n",
    "print(s_string1.index('k',3,8)) #--> index() - if the character or substring not present then it will generate an error"
   ]
  },
  {
   "cell_type": "code",
   "execution_count": 76,
   "id": "2f2476b9",
   "metadata": {},
   "outputs": [
    {
     "name": "stdout",
     "output_type": "stream",
     "text": [
      "future is MYSTERY\n",
      "False\n",
      "True\n"
     ]
    }
   ],
   "source": [
    "print(s_string1)\n",
    "print(s_string1.endswith(\"mystery\"))\n",
    "print(s_string1.startswith(\"future\"))"
   ]
  },
  {
   "cell_type": "code",
   "execution_count": 17,
   "id": "508f5d91",
   "metadata": {},
   "outputs": [
    {
     "name": "stdout",
     "output_type": "stream",
     "text": [
      "True\n",
      "True\n",
      "False\n",
      "True\n"
     ]
    }
   ],
   "source": [
    "mailid = \"bvishnu2731\"\n",
    "mailid1 = \"Bvishnu2731 Priya\"\n",
    "print(mailid.isalnum())\n",
    "print(mailid.islower())\n",
    "print(mailid1.isupper())\n",
    "print(mailid1.istitle())"
   ]
  },
  {
   "cell_type": "code",
   "execution_count": 39,
   "id": "92114e51",
   "metadata": {},
   "outputs": [
    {
     "name": "stdout",
     "output_type": "stream",
     "text": [
      "   IAS Academy   \n",
      "IAS Academy\n",
      "IAS Academy   \n",
      "   IAS Academy\n",
      "ucation is unlimit\n",
      "ife is colorful\n",
      "life is colorful\n",
      "life is colorfu\n"
     ]
    }
   ],
   "source": [
    "name = \"   IAS Academy   \"\n",
    "print(name)\n",
    "\n",
    "#Strip function is used to remove space only at the begining and end\n",
    "print(name.strip())\n",
    "print(name.lstrip()) ##remove the space at the left (begining)\n",
    "print(name.rstrip()) ## remove the space at the right end\n",
    "\n",
    "#but strip function may be used to strinp any combination of the specified characters in the string\n",
    "sent = \"education is unlimited\"\n",
    "print(sent.strip(\"ed\")) #Strip the substring \"ed\" at both the starting and ending\n",
    "\n",
    "sent1 = \"life is colorful\"\n",
    "print(sent1.lstrip(\"l\")) #strips \"l\" at the begining\n",
    "print(sent1.lstrip(\"L\")) #strips \"l\" at the begining --> this will not strip because first character is \"l\" but given as \"L\"\n",
    "\n",
    "sent1 = \"life is colorful\"\n",
    "print(sent1.rstrip(\"l\")) #strips \"l\" at the end\n"
   ]
  },
  {
   "cell_type": "code",
   "execution_count": 20,
   "id": "520c5c41",
   "metadata": {},
   "outputs": [
    {
     "name": "stdout",
     "output_type": "stream",
     "text": [
      "Tamilnadu is located in Northern part of India\n",
      "Tamilnadu is located in Southern part of India\n"
     ]
    }
   ],
   "source": [
    "state = \"Tamilnadu is located in Northern part of India\"\n",
    "s = state.replace(\"Northern\",\"Southern\")\n",
    "print(state)\n",
    "print(s)"
   ]
  },
  {
   "cell_type": "code",
   "execution_count": 26,
   "id": "79e54835",
   "metadata": {},
   "outputs": [
    {
     "name": "stdout",
     "output_type": "stream",
     "text": [
      "Tamilnadu is located in Southern part of India, Incrediable India \n",
      "\n",
      "['Tamilnadu', 'is', 'located', 'in', 'Southern', 'part', 'of', 'India,', 'Incrediable', 'India']\n",
      "['Tamilnadu is located in Southern part of India', ' Incrediable India']\n",
      "['Tam', 'lnadu ', 's located ', 'n Southern part of Ind', 'a, Incred', 'able Ind', 'a']\n",
      "['Tamilnadu is located ', ' Southern part of India, Incrediable India']\n"
     ]
    }
   ],
   "source": [
    "## Split function - split the string based the value passed to split function and it RETURN LIST\n",
    "\n",
    "state = \"Tamilnadu is located in Southern part of India, Incrediable India\"\n",
    "print(state,\"\\n\")\n",
    "\n",
    "s1 = state.split() ## by default it will split the string based on space operator\n",
    "print(s1)\n",
    "\n",
    "s2 = state.split(\",\") ## will split the string by considering \",\" as seperator\n",
    "print(s2)\n",
    "\n",
    "s3 = state.split(\"i\") ## will split the string by considering \"i\" as seperator\n",
    "print(s3)\n",
    "\n",
    "s4 = state.split(\"in\") ## will split the string by considering substring \"in\" as seperator \n",
    "print(s4)"
   ]
  },
  {
   "cell_type": "code",
   "execution_count": 27,
   "id": "e15b2635",
   "metadata": {},
   "outputs": [
    {
     "name": "stdout",
     "output_type": "stream",
     "text": [
      "Tamilnadu is located in Southern part of India, Incrediable India \n",
      "\n",
      "('Tamilnadu is located in Southern part of ', 'In', 'dia, Incrediable India')\n",
      "('Tamilnadu is located in Southern part of India, Incrediable ', 'In', 'dia')\n"
     ]
    }
   ],
   "source": [
    "print(state,\"\\n\")\n",
    "'''\n",
    "Partitions the given string at the first occurance of the Substring (seperator)\n",
    "and returned the string partition into three parts\n",
    "1. Substring before the seperator\n",
    "2. Seperator\n",
    "3. Substring after the seperator\n",
    "'''\n",
    "stmt1 = state.partition(\"In\")\n",
    "print(stmt1)\n",
    "stmt_r = state.rpartition(\"In\")\n",
    "print(stmt_r)"
   ]
  },
  {
   "cell_type": "code",
   "execution_count": 30,
   "id": "bba7a7fc",
   "metadata": {},
   "outputs": [
    {
     "name": "stdout",
     "output_type": "stream",
     "text": [
      "Tamilnadu is located in Southern part of India, Incrediable India\n",
      "bvishnu2731@gmail.com\n"
     ]
    }
   ],
   "source": [
    "#join function is used to join the strings in the list\n",
    "stmt = ['Tamilnadu', 'is', 'located', 'in', 'Southern', 'part', 'of', 'India,', 'Incrediable', 'India']\n",
    "s = \" \".join(stmt)\n",
    "print(s)\n",
    "\n",
    "details = [\"bvishnu2731\",\"gmail.com\"]\n",
    "mail_id = \"@\".join(details)\n",
    "print(mail_id)"
   ]
  },
  {
   "cell_type": "code",
   "execution_count": 45,
   "id": "d81b6199",
   "metadata": {},
   "outputs": [
    {
     "name": "stdout",
     "output_type": "stream",
     "text": [
      "Life----------------\n",
      "----------------Life\n",
      "0009865451\n"
     ]
    }
   ],
   "source": [
    "s = \"Life\"\n",
    "\n",
    "#Syntax - ljust(width,fillchar)\n",
    "print(s.ljust(20,\"-\")) #return the justified string 1st argument is total length of the string to be(20), 2nd character to fill \n",
    "#the remaining space to the left\n",
    "\n",
    "print(s.rjust(20,\"-\")) #return the justified string 1st argument is total length of the string to be(20), 2nd character to fill \n",
    "#the remaining space to the right\n",
    "\n",
    "n = \"9865451\"\n",
    "print(n.zfill(10)) #it is used to add only \"0\"s to the left of the string\n"
   ]
  },
  {
   "cell_type": "markdown",
   "id": "71b246d2",
   "metadata": {},
   "source": [
    "#### ord() and chr() function\n",
    "The ord() function returns the ASCII code of the character \n",
    "\n",
    "The chr() functions returns the character represented by a ASCII NUMBER\n"
   ]
  },
  {
   "cell_type": "code",
   "execution_count": 54,
   "id": "de26b245",
   "metadata": {},
   "outputs": [
    {
     "name": "stdout",
     "output_type": "stream",
     "text": [
      "116\n",
      "100\n",
      "Y\n",
      "u\n",
      "(\n"
     ]
    }
   ],
   "source": [
    "ch = \"t\"\n",
    "print(ord(ch))\n",
    "print(ord('d'))\n",
    "\n",
    "n = 89\n",
    "print(chr(n))\n",
    "print(chr(117))\n",
    "print(chr(40)) # 40 is the ASCII code for \"(\""
   ]
  },
  {
   "cell_type": "markdown",
   "id": "8b274f90",
   "metadata": {},
   "source": [
    "### Python String Module\n",
    "\n",
    "It’s a built-in module and we have to import it before using any of its constants and classes."
   ]
  },
  {
   "cell_type": "markdown",
   "id": "adb527d9",
   "metadata": {},
   "source": [
    "#### String Module Constants"
   ]
  },
  {
   "cell_type": "code",
   "execution_count": 56,
   "id": "63a35d7a",
   "metadata": {},
   "outputs": [
    {
     "name": "stdout",
     "output_type": "stream",
     "text": [
      "abcdefghijklmnopqrstuvwxyzABCDEFGHIJKLMNOPQRSTUVWXYZ\n",
      "abcdefghijklmnopqrstuvwxyz\n",
      "ABCDEFGHIJKLMNOPQRSTUVWXYZ\n",
      "0123456789\n",
      "0123456789abcdefABCDEF\n",
      "01234567\n",
      "!\"#$%&'()*+,-./:;<=>?@[\\]^_`{|}~\n",
      "0123456789abcdefghijklmnopqrstuvwxyzABCDEFGHIJKLMNOPQRSTUVWXYZ!\"#$%&'()*+,-./:;<=>?@[\\]^_`{|}~ \t\n",
      "\r",
      "\u000b",
      "\f",
      "\n",
      " \t\n",
      "\r",
      "\u000b",
      "\f",
      "\n",
      "['Formatter', 'Template', '_ChainMap', '__all__', '__builtins__', '__cached__', '__doc__', '__file__', '__loader__', '__name__', '__package__', '__spec__', '_re', '_sentinel_dict', '_string', 'ascii_letters', 'ascii_lowercase', 'ascii_uppercase', 'capwords', 'digits', 'hexdigits', 'octdigits', 'printable', 'punctuation', 'whitespace']\n"
     ]
    }
   ],
   "source": [
    "import string\n",
    "\n",
    "print(string.ascii_letters)\n",
    "print(string.ascii_lowercase)\n",
    "print(string.ascii_uppercase)\n",
    "print(string.digits)\n",
    "print(string.hexdigits)\n",
    "print(string.octdigits)\n",
    "print(string.punctuation)\n",
    "print(string.printable)\n",
    "print(string.whitespace)  \n",
    "\n",
    "print(dir(string))"
   ]
  },
  {
   "cell_type": "markdown",
   "id": "085ae153",
   "metadata": {},
   "source": [
    "### capwords()\n",
    "\n",
    "The capwords() method of the String module in Python capitalizes all the words in a string. It does the following operations:\n",
    "\n",
    "1. It splits the given string using the split() method.\n",
    "2. It capitalizes every word using the capitalize() method.\n",
    "3. It joins the capitalized words into a single string using the join() method.\n",
    "\n",
    "The method optionally accepts a parameter called sep.\n",
    "\n",
    "1. If a value is specified for the sep parameter, the given separator splits and join the string (Steps 1 and 3).\n",
    "2. If no value is specified for the sep parameter, i.e., if sep is None, the leading and trailing whitespaces are deleted. A single space substitutes the runs of whitespace characters.\n",
    "\n",
    "**Syntax**\n",
    "\n",
    "string.capwords(s, sep=None)\n",
    "\n",
    "Parameters\n",
    "\n",
    "s: This is the given text/string.<br>\n",
    "sep: This is the separator used to split and join the string.\n",
    "\n",
    "Return value\n",
    "The capwords() method returns a string where all the words are capitalized. "
   ]
  },
  {
   "cell_type": "code",
   "execution_count": 61,
   "id": "cc84b213",
   "metadata": {},
   "outputs": [
    {
     "name": "stdout",
     "output_type": "stream",
     "text": [
      "Original string -  never stop learning, tomorrow is beautiful\n",
      "After applying capwords method -  Never Stop Learning, Tomorrow Is Beautiful\n",
      "Original string -  never stop learning, tomorrow is beautiful\n",
      "After applying capwords method -  Never stop learning, tomorrow is beautiful\n"
     ]
    }
   ],
   "source": [
    "s = \"never stop learning, tomorrow is beautiful\"\n",
    "\n",
    "new_str = string.capwords(s)\n",
    "print(\"Original string - \" , s)\n",
    "print(\"After applying capwords method - \" , new_str)\n",
    "\n",
    "new_str = string.capwords(s,\",\")\n",
    "print(\"Original string - \" , s)\n",
    "print(\"After applying capwords method - \" , new_str)"
   ]
  }
 ],
 "metadata": {
  "kernelspec": {
   "display_name": "Python 3 (ipykernel)",
   "language": "python",
   "name": "python3"
  },
  "language_info": {
   "codemirror_mode": {
    "name": "ipython",
    "version": 3
   },
   "file_extension": ".py",
   "mimetype": "text/x-python",
   "name": "python",
   "nbconvert_exporter": "python",
   "pygments_lexer": "ipython3",
   "version": "3.9.7"
  }
 },
 "nbformat": 4,
 "nbformat_minor": 5
}
