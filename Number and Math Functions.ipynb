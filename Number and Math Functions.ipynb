{
 "cells": [
  {
   "cell_type": "markdown",
   "id": "eee96acc",
   "metadata": {},
   "source": [
    "### Built-in Math Functions"
   ]
  },
  {
   "cell_type": "code",
   "execution_count": 2,
   "id": "6ee78881",
   "metadata": {},
   "outputs": [
    {
     "name": "stdout",
     "output_type": "stream",
     "text": [
      "5\n",
      "25\n",
      "7.25\n",
      "64\n",
      "64\n"
     ]
    }
   ],
   "source": [
    "#The min() and max() functions can be used to find the lowest or highest value in an iterable:\n",
    "x = min(5, 10, 25)\n",
    "y = max(5, 10, 25)\n",
    "\n",
    "print(x)\n",
    "print(y)\n",
    "\n",
    "#The abs() function returns the absolute (positive) value of the specified number:\n",
    "x = abs(-7.25)\n",
    "\n",
    "print(x)\n",
    "\n",
    "#The pow(x, y) function returns the value of x to the power of y (x^y).\n",
    "x = pow(4, 3)\n",
    "print(4**3)\n",
    "print(x)"
   ]
  },
  {
   "cell_type": "markdown",
   "id": "3bfac827",
   "metadata": {},
   "source": [
    "## math — Mathematical functions"
   ]
  },
  {
   "cell_type": "markdown",
   "id": "a7e7e652",
   "metadata": {},
   "source": [
    "#### Numbers and Numeric functions or Arthmetic Functions"
   ]
  },
  {
   "cell_type": "code",
   "execution_count": 4,
   "id": "df1435e9",
   "metadata": {},
   "outputs": [],
   "source": [
    "import math as m"
   ]
  },
  {
   "cell_type": "code",
   "execution_count": 10,
   "id": "a9691b7a",
   "metadata": {
    "collapsed": true
   },
   "outputs": [
    {
     "name": "stdout",
     "output_type": "stream",
     "text": [
      "4\n",
      "6\n",
      "20\n",
      "0\n",
      "-3.5\n",
      "720\n",
      "7\n",
      "8\n",
      "5.0\n",
      "(0.5, 3)\n",
      "(-0.5, 3)\n",
      "(0.875, 3)\n",
      "15.0\n",
      "1340.0\n",
      "GCD:  1\n",
      "6\n",
      "12\n",
      "12\n",
      "False\n",
      "True\n",
      "False\n",
      "True\n",
      "finite\n",
      "True\n",
      "False\n",
      "False\n",
      "False\n",
      "True\n",
      "NAN\n",
      "False\n",
      "False\n",
      "True\n",
      "3.1622776601683795\n",
      "3.4641016151377544\n",
      "ISSQRT\n",
      "3\n",
      "3\n",
      "20\n",
      "5040\n",
      "2.0\n"
     ]
    }
   ],
   "source": [
    "print(m.ceil(3.48))  #-> Return the ceiling of x, the smallest integer greater than or equal to x\n",
    "print(m.ceil(5.99))\n",
    "\n",
    "#--> comb(n,k) ---> number of ways to choose k items from n items without repetition and without order. \n",
    "#n! / (k! * (n - k)!) when k <= n and evaluates to zero when k > n.\n",
    "print(m.comb(6,3))\n",
    "print(m.comb(3,5))\n",
    "print(m.copysign(3.5,-9.78)) #copysign(x,y) --> Return a float with the magnitude (absolute value) of x but the sign of y\n",
    "print(m.factorial(6))\n",
    "print(m.floor(7.69))\n",
    "print(m.floor(8.125))\n",
    "print(m.fmod(35,6)) #--> Returns the remainder of x/y\n",
    "\n",
    "#The math.frexp() method returns the mantissa and the exponent of a specified number, as a pair (m,e).\n",
    "#The mathematical formula for this method is: number = m * 2**e.\n",
    "print(m.frexp(4))\n",
    "print(m.frexp(-4))\n",
    "print(m.frexp(7))\n",
    "\n",
    "#The math.fsum() method returns the sum of all items in any iterable (tuples, arrays, lists, etc.).\n",
    "print(m.fsum([1, 2, 3, 4, 5]))\n",
    "print(m.fsum([100, 400, 340, 500]))\n",
    "\n",
    "# returns the greatest common divisor of the two integers int1 and int2.\n",
    "print(\"GCD: \",m.gcd(2,3))\n",
    "print (m.gcd(6, 12))\n",
    "print (m.gcd(12, 36))\n",
    "print (m.gcd(-12, -36))\n",
    "\n",
    "#The math.isclose() method checks whether two values are close to each other, or not. Returns True if the values are close, otherwise False.\n",
    "#This method uses a relative or absolute tolerance, to see if the values are close.\n",
    "#abs(a-b) <= max(rel_tol * max(abs(a), abs(b)), abs_tol)\n",
    "print(m.isclose(1.233, 1.4566))\n",
    "print(m.isclose(1.233, 1.233))\n",
    "print(m.isclose(5,6))\n",
    "print(m.isclose(5.999999999,6))\n",
    "\n",
    "#checks whether a number is finite or not\n",
    "print(\"finite\")\n",
    "print(m.isfinite(+45.34))\n",
    "print(m.isfinite(m.inf))\n",
    "print(m.isfinite(float(\"nan\")))\n",
    "\n",
    "#checks whether a number is infinite or not.\n",
    "print(m.isinf(+45.34))\n",
    "print(m.isinf(m.inf))\n",
    "\n",
    "#checks whether a value is NaN (Not a Number), or not.\n",
    "print(\"NAN\")\n",
    "print (m.isnan (+45.34))\n",
    "print (m.isnan (float(\"-inf\")))\n",
    "print (m.isnan (m.nan))\n",
    "\n",
    "# sqrt() -  print the square root of different numbers\n",
    "print (m.sqrt(10))\n",
    "print (m.sqrt (12))\n",
    "# isqrt() - square root numbers downward to the nearest integer\n",
    "print(\"ISSQRT\")\n",
    "print (m.isqrt(10))\n",
    "print (m.isqrt (12))\n",
    "\n",
    "#math.perm() method returns the number of ways to choose k items from n items with order and without repetition.\n",
    "#The k parameter is optional. If we do not provide one, this method will return n! (for example, math.perm(7) will return 5040).\n",
    "print(m.perm(5,2))\n",
    "print(m.perm(7))\n",
    "\n",
    "print (m.remainder(18, 4)) #--> returns the remainder of x with respect to y."
   ]
  },
  {
   "cell_type": "markdown",
   "id": "31976693",
   "metadata": {},
   "source": [
    "#### Power and logarithmic functions"
   ]
  },
  {
   "cell_type": "code",
   "execution_count": 13,
   "id": "e530a5d4",
   "metadata": {
    "collapsed": true
   },
   "outputs": [
    {
     "name": "stdout",
     "output_type": "stream",
     "text": [
      "1.6948892444103338e+28\n",
      "0.0010179138409954387\n",
      "78962960182679.69\n",
      "-0.9999813562576685\n",
      "1.0000066849139877\n",
      "0.6931471805599453\n",
      "0.0\n",
      "0.43429738512450866\n",
      "0.3010299956639812\n",
      "1.4427046851812222\n",
      "1.0\n",
      "1.313266574586334\n",
      "1.0986122886681098\n",
      "64.0\n",
      "1.0\n",
      "1.0\n"
     ]
    }
   ],
   "source": [
    "#exp(n) --> method returns E raised to the power of x (E^x).\n",
    "#'E' is the base of the natural system of logarithms (approximately 2.718282) and x is the number passed to it.\n",
    "print(m.exp(65))\n",
    "print(m.exp(-6.89))\n",
    "\n",
    "print(m.expm1(32)) #--> method returns E^x - 1.\n",
    "print(m.expm1(-10.89))\n",
    "\n",
    "# log(x,base) --> returns the natural logarithm of a number, or the logarithm of number to base.\n",
    "#The logarithmic base to use. Default is 'e'\n",
    "print(m.log(2.7183))\n",
    "print(m.log(2))\n",
    "print(m.log(1))\n",
    "\n",
    "#returns the base-10 logarithm of a number.\n",
    "print(m.log10(2.7183))\n",
    "print(m.log10(2))\n",
    "\n",
    "#returns the base-2 logarithm of a number.\n",
    "print(m.log2(2.7183))\n",
    "print(m.log2(2))\n",
    "\n",
    "#returns log(1+number), computed in a way that is accurate even when the value of number is close to zero.\n",
    "print(m.log1p(2.7183))\n",
    "print(m.log1p(2))\n",
    "\n",
    "print(m.pow(4, 3))\n",
    "print(m.pow(1.0,3))#--> always returns 1.0.\n",
    "print(m.pow(5,0.0))#--> always returns 1.0."
   ]
  },
  {
   "cell_type": "markdown",
   "id": "6531227e",
   "metadata": {},
   "source": [
    "#### Trigonometric functions"
   ]
  },
  {
   "cell_type": "code",
   "execution_count": 14,
   "id": "29e9bf0c",
   "metadata": {
    "collapsed": true
   },
   "outputs": [
    {
     "name": "stdout",
     "output_type": "stream",
     "text": [
      "1.0\n",
      "0.3342377271245026\n",
      "-0.8390715290764524\n",
      "-1.0\n",
      "0.0\n",
      "-0.9424888019316975\n",
      "-0.5440211108893698\n",
      "1.2246467991473532e-16\n",
      "1.0\n",
      "-1.995200412208242\n",
      "1.995200412208242\n",
      "1.6197751905438615\n",
      "0.320040389379563\n",
      "9.486832980505138\n",
      "11.180339887498949\n",
      "17.0\n",
      "11.357816691600547\n",
      "18.439088914585774\n",
      "0.9884320889261531\n",
      "2.15316056466364\n",
      "1.5707963267948966\n",
      "0.0\n",
      "3.141592653589793\n",
      "0.5823642378687435\n",
      "-0.5823642378687435\n",
      "0.0\n",
      "1.5707963267948966\n",
      "-1.5707963267948966\n",
      "0.37185607384858127\n",
      "1.5558720618048116\n",
      "-1.5232132235179132\n",
      "1.0121970114513341\n",
      "1.1071487177940904\n"
     ]
    }
   ],
   "source": [
    "#returns the cosine of a number.\n",
    "print (m.cos(0.00))\n",
    "print (m.cos(-1.23))\n",
    "print (m.cos(10))\n",
    "print (m.cos(3.14159265359))\n",
    "\n",
    "#math.sin() method returns the sine of a number.\n",
    "#To find the sine of degrees, it must first be converted into radians with the math.radians()\n",
    "\n",
    "print (m.sin(0.00))\n",
    "print (m.sin(-1.23))\n",
    "print (m.sin(10))\n",
    "print (m.sin(m.pi))\n",
    "print (m.sin(m.pi/2))\n",
    "\n",
    "#returns the tangent of a number.\n",
    "print (m.tan(90))\n",
    "print (m.tan(-90))\n",
    "print (m.tan(45))\n",
    "print (m.tan(60))\n",
    "\n",
    "#returns the Euclidean distance between two points (p and q), where p and q are the coordinates of that point.\n",
    "#The two points (p and q) must be of the same dimensions.\n",
    "print (m.dist([3, 3], [6, 12]))\n",
    "\n",
    "#hypot(parendicular, base) --> hypotenuse of a right-angled triangle\n",
    "print(m.hypot(10, 5))\n",
    "#math.hypot(x1, x2, x3, ..., xn)\n",
    "#Euclidean length from the origin is calculated by sqrt(x1*x1 + x2*x2 +x3*x3 .... xn*xn).\n",
    "print(m.hypot(10, 2, 4, 13))\n",
    "print(m.hypot(4, 7, 8))\n",
    "print(m.hypot(12, 14))\n",
    "\n",
    "#returns the arc cosine value of a number.\n",
    "#parameter passed in math.acos() must lie between -1 to 1.\n",
    "\n",
    "print(m.acos(0.55))\n",
    "print(m.acos(-0.55))\n",
    "print(m.acos(0))\n",
    "print(m.acos(1))\n",
    "print(m.acos(-1)) #--> return pi value\n",
    "\n",
    "#returns the arc sine of a number (inverse trigonometric function of the sine function --> sin -1 x)\n",
    "print(m.asin(0.55))\n",
    "print(m.asin(-0.55))\n",
    "print(m.asin(0))\n",
    "print(m.asin(1))  #--> returns value of PI/2\n",
    "print(m.asin(-1)) #--> returns value of -PI/2\n",
    "\n",
    "#returns the arc tangent of a number (x) as a numeric value between -PI/2 and PI/2 radians.\n",
    "print (m.atan(0.39))\n",
    "print (m.atan(67))\n",
    "print (m.atan(-21))\n",
    "\n",
    "#method returns the arc tangent of y/x, in radians. Where x and y are the coordinates of a point (x,y).\n",
    "#The returned value is between PI and -PI.\n",
    "print(m.atan2(8, 5))\n",
    "print(m.atan2(20, 10))"
   ]
  },
  {
   "cell_type": "markdown",
   "id": "5e689cf1",
   "metadata": {},
   "source": [
    "### Hyperbolic functions\n",
    "Hyperbolic functions are analogs of trigonometric functions that are based on hyperbolas instead of circles.\n",
    "\n",
    "math.acosh(x)\n",
    "Return the inverse hyperbolic cosine of x.\n",
    "\n",
    "math.asinh(x)\n",
    "Return the inverse hyperbolic sine of x.\n",
    "\n",
    "math.atanh(x)\n",
    "Return the inverse hyperbolic tangent of x.\n",
    "\n",
    "math.cosh(x)\n",
    "Return the hyperbolic cosine of x.\n",
    "\n",
    "math.sinh(x)\n",
    "Return the hyperbolic sine of x.\n",
    "\n",
    "math.tanh(x)\n",
    "Return the hyperbolic tangent of x."
   ]
  },
  {
   "cell_type": "markdown",
   "id": "852fa3ad",
   "metadata": {},
   "source": [
    "### Angular conversion"
   ]
  },
  {
   "cell_type": "code",
   "execution_count": 15,
   "id": "18ffc82d",
   "metadata": {
    "collapsed": true
   },
   "outputs": [
    {
     "name": "stdout",
     "output_type": "stream",
     "text": [
      "3.141592653589793\n",
      "1.7458528507699278\n",
      "-0.3490658503988659\n",
      "509.9324376664327\n",
      "-1145.9155902616465\n",
      "57.29577951308232\n",
      "5156.620156177409\n"
     ]
    }
   ],
   "source": [
    "#converts a degree value into radians\n",
    "print(m.radians(180))\n",
    "print(m.radians(100.03))\n",
    "print(m.radians(-20))\n",
    "\n",
    "#method converts an angle from radians to degrees.\n",
    "#PI (3.14..) radians are equal to 180 degrees, which means that 1 radian is equal to 57.2957795 degrees.\n",
    "\n",
    "print (m.degrees(8.90))\n",
    "print (m.degrees(-20))\n",
    "print (m.degrees(1))\n",
    "print (m.degrees(90))"
   ]
  },
  {
   "cell_type": "markdown",
   "id": "3939c201",
   "metadata": {},
   "source": [
    "### Special functions"
   ]
  },
  {
   "cell_type": "code",
   "execution_count": 19,
   "id": "c82d274e",
   "metadata": {
    "collapsed": true
   },
   "outputs": [
    {
     "name": "stdout",
     "output_type": "stream",
     "text": [
      "0.6566277023003051\n",
      "0.9419137152583654\n",
      "-1.0\n",
      "0.3433722976996949\n",
      "0.05808628474163466\n",
      "2.0\n",
      "-10.686287021193193\n",
      "5040.0\n",
      "-3.578429819277059\n"
     ]
    }
   ],
   "source": [
    "#method returns the error function of a number.\n",
    "#This method accepts a value between - inf and + inf, and returns a value between - 1 to + 1.\n",
    "#The erf() function can be used to compute traditional statistical functions such as the cumulative standard normal distribution:\n",
    "\n",
    "'''\n",
    "def phi(x):\n",
    "    'Cumulative distribution function for the standard normal distribution'\n",
    "    return (1.0 + m.erf(x / m.sqrt(2.0))) / 2.0\n",
    "'''\n",
    "\n",
    "print (m.erf(0.67))\n",
    "print (m.erf(1.34))\n",
    "print (m.erf(-6))\n",
    "\n",
    "#returns the complementary error function of a number.\n",
    "#This method accepts a value between - inf and + inf, and returns a value between 0 and 2.\n",
    "print (m.erfc(0.67))\n",
    "print (m.erfc(1.34))\n",
    "print (m.erfc(-6))\n",
    "\n",
    "#method returns the gamma function at a number.\n",
    "#To find the log gamma value of a number, use the math.lgamma() method.\n",
    "\n",
    "print(m.gamma(-0.1))\n",
    "print(m.gamma(8))\n",
    "print(m.gamma(-0.55))\n"
   ]
  },
  {
   "cell_type": "markdown",
   "id": "ab51e267",
   "metadata": {},
   "source": [
    "### Math Constants"
   ]
  },
  {
   "cell_type": "code",
   "execution_count": null,
   "id": "4ccfc25b",
   "metadata": {},
   "outputs": [],
   "source": [
    "#math.pi --> The mathematical constant π = 3.141592…, to available precision.\n",
    "print(m.pi)\n",
    "\n",
    "#math.e --> constant returns the Eular's number: 2.718281828459045.\n",
    "print(m.e)\n",
    "\n",
    "#math.tau --> The mathematical constant τ = 6.283185…, to available precision. Tau is a circle constant equal to 2π, the ratio of a circle’s circumference to its radius. To learn more about Tau, check out Vi Hart’s video Pi is (still) Wrong, and start celebrating Tau day by eating twice as much pie!\n",
    "print(m.tau)\n",
    "\n",
    "#math.inf --> A floating-point positive infinity. (For negative infinity, use -math.inf.) \n",
    "#Equivalent to the output of float('inf').\n",
    "print(m.inf)\n",
    "\n",
    "#math.nan --> A floating-point “not a number” (NaN) value. \n",
    "#Equivalent to the output of float('nan'). \n",
    "#Due to the requirements of the IEEE-754 standard, math.nan and float('nan') are not considered to equal to any other numeric value, including themselves. \n",
    "#To check whether a number is a NaN, use the isnan() function to test for NaNs instead of is or ==. \n",
    "Example:"
   ]
  }
 ],
 "metadata": {
  "kernelspec": {
   "display_name": "Python 3 (ipykernel)",
   "language": "python",
   "name": "python3"
  },
  "language_info": {
   "codemirror_mode": {
    "name": "ipython",
    "version": 3
   },
   "file_extension": ".py",
   "mimetype": "text/x-python",
   "name": "python",
   "nbconvert_exporter": "python",
   "pygments_lexer": "ipython3",
   "version": "3.9.7"
  }
 },
 "nbformat": 4,
 "nbformat_minor": 5
}
