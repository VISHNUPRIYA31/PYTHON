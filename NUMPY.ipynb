{
 "cells": [
  {
   "cell_type": "markdown",
   "id": "a9cf7207",
   "metadata": {},
   "source": [
    "### Will understand how numpy array uses less memory"
   ]
  },
  {
   "cell_type": "code",
   "execution_count": 14,
   "id": "6f2c3570",
   "metadata": {},
   "outputs": [
    {
     "name": "stdout",
     "output_type": "stream",
     "text": [
      "range(0, 500)\n",
      "100\n",
      "28\n",
      "Size of List: 14000\n",
      "4\n",
      "Size of array: 2000\n"
     ]
    }
   ],
   "source": [
    "import numpy as nup\n",
    "import sys as s\n",
    "N = range(500)\n",
    "print(N)\n",
    "print(N[100])\n",
    "print(s.getsizeof(100)) # will give the size of a single element 100\n",
    "print(\"Size of List:\",s.getsizeof(100) * len(N)) #size of one element * length of list will give the total size of the list\n",
    "\n",
    "#now will create the same range of number using numpy\n",
    "NN = nup.arange(500)\n",
    "print(NN.itemsize) # will give the size of a single element 100\n",
    "print(\"Size of array:\",NN.size*NN.itemsize)"
   ]
  },
  {
   "cell_type": "markdown",
   "id": "a4fc07b1",
   "metadata": {},
   "source": [
    "### Will understand how numpy array takes less time"
   ]
  },
  {
   "cell_type": "code",
   "execution_count": 15,
   "id": "c0688c4a",
   "metadata": {},
   "outputs": [
    {
     "ename": "NameError",
     "evalue": "name 'nu' is not defined",
     "output_type": "error",
     "traceback": [
      "\u001b[1;31m---------------------------------------------------------------------------\u001b[0m",
      "\u001b[1;31mNameError\u001b[0m                                 Traceback (most recent call last)",
      "\u001b[1;32m~\\AppData\\Local\\Temp/ipykernel_19772/3864513379.py\u001b[0m in \u001b[0;36m<module>\u001b[1;34m\u001b[0m\n\u001b[0;32m      5\u001b[0m \u001b[1;33m\u001b[0m\u001b[0m\n\u001b[0;32m      6\u001b[0m \u001b[1;31m# creating two array\u001b[0m\u001b[1;33m\u001b[0m\u001b[1;33m\u001b[0m\u001b[0m\n\u001b[1;32m----> 7\u001b[1;33m \u001b[0ma_n1\u001b[0m \u001b[1;33m=\u001b[0m \u001b[0mnu\u001b[0m\u001b[1;33m.\u001b[0m\u001b[0marange\u001b[0m\u001b[1;33m(\u001b[0m\u001b[1;36m500000\u001b[0m\u001b[1;33m)\u001b[0m\u001b[1;33m\u001b[0m\u001b[1;33m\u001b[0m\u001b[0m\n\u001b[0m\u001b[0;32m      8\u001b[0m \u001b[0ma_n2\u001b[0m \u001b[1;33m=\u001b[0m \u001b[0mnu\u001b[0m\u001b[1;33m.\u001b[0m\u001b[0marange\u001b[0m\u001b[1;33m(\u001b[0m\u001b[1;36m500000\u001b[0m\u001b[1;33m)\u001b[0m\u001b[1;33m\u001b[0m\u001b[1;33m\u001b[0m\u001b[0m\n\u001b[0;32m      9\u001b[0m \u001b[1;33m\u001b[0m\u001b[0m\n",
      "\u001b[1;31mNameError\u001b[0m: name 'nu' is not defined"
     ]
    }
   ],
   "source": [
    "import time as t\n",
    "# creating two list \n",
    "n1 = range(500000)\n",
    "n2 = range(500000)\n",
    "\n",
    "# creating two array\n",
    "a_n1 = nu.arange(500000)\n",
    "a_n2 = nu.arange(500000)\n",
    "\n",
    "start = t.time()\n",
    "concate = [x+y for x,y in zip(n1,n2)]\n",
    "#print(concate)\n",
    "end = t.time()\n",
    "print((end-start)*1000)\n",
    "\n",
    "start = t.time()\n",
    "a_concate = a_n1 + a_n2\n",
    "#print(a_concate)\n",
    "end = t.time()\n",
    "print((end-start)*1000)"
   ]
  },
  {
   "attachments": {
    "image.png": {
     "image/png": "[encoded data removed]"
    }
   },
   "cell_type": "markdown",
   "id": "ad4ae753",
   "metadata": {},
   "source": [
    "## Numpy Installation\n",
    "\n",
    "![image.png](attachment:image.png)"
   ]
  },
  {
   "cell_type": "code",
   "execution_count": 16,
   "id": "2c119bf2",
   "metadata": {},
   "outputs": [],
   "source": [
    "import numpy as nup"
   ]
  },
  {
   "cell_type": "code",
   "execution_count": 17,
   "id": "0078995e",
   "metadata": {},
   "outputs": [
    {
     "name": "stdout",
     "output_type": "stream",
     "text": [
      "[10 20 30 40 50]\n",
      "<class 'numpy.ndarray'>\n"
     ]
    }
   ],
   "source": [
    "arr = nup.array([10,20,30,40,50])\n",
    "print(arr)\n",
    "print(type(arr))"
   ]
  },
  {
   "cell_type": "code",
   "execution_count": 18,
   "id": "663128e1",
   "metadata": {},
   "outputs": [
    {
     "name": "stdout",
     "output_type": "stream",
     "text": [
      "50\n",
      "[1 2 3 4 5]\n",
      "[1 2 3 4 5]\n",
      "[[1 2 3]\n",
      " [4 5 6]]\n",
      "[[[ 1  2  3]\n",
      "  [ 4  5  6]]\n",
      "\n",
      " [[ 8  9 10]\n",
      "  [12 13 14]]]\n"
     ]
    }
   ],
   "source": [
    "arr = nup.array(50) #creation of 0-D array\n",
    "print(arr)\n",
    "\n",
    "arr1 = nup.array((1,2,3,4,5)) #1-D Array\n",
    "print(arr1)\n",
    "\n",
    "arrl = nup.array([1,2,3,4,5]) #1-D Array\n",
    "print(arrl)\n",
    "\n",
    "arr2 = nup.array([[1,2,3],[4,5,6]]) #creation of 2-D Array\n",
    "print(arr2)\n",
    "\n",
    "arr3 = nup.array([[[1,2,3],[4,5,6]],[[8,9,10],[12,13,14]]]) #creation of n-D array\n",
    "print(arr3)"
   ]
  },
  {
   "cell_type": "code",
   "execution_count": 19,
   "id": "9fddb2f6",
   "metadata": {},
   "outputs": [
    {
     "name": "stdout",
     "output_type": "stream",
     "text": [
      "[[[[[1 2 3 4 5]]]]]\n"
     ]
    }
   ],
   "source": [
    "#ndmin specifies the minimum dimensions of resultant array\n",
    "#creation of high dimension array\n",
    "arr5 = nup.array((1,2,3,4,5),ndmin = 5)\n",
    "print(arr5)"
   ]
  },
  {
   "cell_type": "code",
   "execution_count": 20,
   "id": "855fa7f1",
   "metadata": {},
   "outputs": [
    {
     "name": "stdout",
     "output_type": "stream",
     "text": [
      "List to array: \n",
      "[1 2 3 4 5 6 7 8]\n",
      "Tuple to array: \n",
      "[[8 4 6]\n",
      " [1 2 3]]\n"
     ]
    }
   ],
   "source": [
    "import numpy as np\n",
    "my_list = [1, 2, 3, 4, 5, 6, 7, 8]\n",
    "print(\"List to array: \")\n",
    "print(np.array(my_list))\n",
    "my_tuple = ([8, 4, 6], [1, 2, 3])\n",
    "print(\"Tuple to array: \")\n",
    "print(np.array(my_tuple))\n"
   ]
  },
  {
   "cell_type": "markdown",
   "id": "82483dab",
   "metadata": {},
   "source": [
    "## Array Attributes"
   ]
  },
  {
   "cell_type": "markdown",
   "id": "2db63f8a",
   "metadata": {},
   "source": [
    "### Finding dimension of the array"
   ]
  },
  {
   "cell_type": "code",
   "execution_count": 21,
   "id": "0a24b21b",
   "metadata": {},
   "outputs": [
    {
     "ename": "ValueError",
     "evalue": "setting an array element with a sequence. The requested array has an inhomogeneous shape after 1 dimensions. The detected shape was (3,) + inhomogeneous part.",
     "output_type": "error",
     "traceback": [
      "\u001b[1;31m---------------------------------------------------------------------------\u001b[0m",
      "\u001b[1;31mValueError\u001b[0m                                Traceback (most recent call last)",
      "\u001b[1;32m~\\AppData\\Local\\Temp/ipykernel_19772/1396713494.py\u001b[0m in \u001b[0;36m<module>\u001b[1;34m\u001b[0m\n\u001b[0;32m      1\u001b[0m \u001b[0marrl\u001b[0m \u001b[1;33m=\u001b[0m \u001b[0mnup\u001b[0m\u001b[1;33m.\u001b[0m\u001b[0marray\u001b[0m\u001b[1;33m(\u001b[0m\u001b[1;33m[\u001b[0m\u001b[1;36m1\u001b[0m\u001b[1;33m,\u001b[0m\u001b[1;36m2\u001b[0m\u001b[1;33m,\u001b[0m\u001b[1;36m3\u001b[0m\u001b[1;33m,\u001b[0m\u001b[1;36m4\u001b[0m\u001b[1;33m,\u001b[0m\u001b[1;36m5\u001b[0m\u001b[1;33m]\u001b[0m\u001b[1;33m)\u001b[0m\u001b[1;33m\u001b[0m\u001b[1;33m\u001b[0m\u001b[0m\n\u001b[0;32m      2\u001b[0m \u001b[0marr2\u001b[0m \u001b[1;33m=\u001b[0m \u001b[0mnup\u001b[0m\u001b[1;33m.\u001b[0m\u001b[0marray\u001b[0m\u001b[1;33m(\u001b[0m\u001b[1;33m[\u001b[0m\u001b[1;33m[\u001b[0m\u001b[1;36m1\u001b[0m\u001b[1;33m,\u001b[0m\u001b[1;36m2\u001b[0m\u001b[1;33m,\u001b[0m\u001b[1;36m3\u001b[0m\u001b[1;33m]\u001b[0m\u001b[1;33m,\u001b[0m\u001b[1;33m[\u001b[0m\u001b[1;36m4\u001b[0m\u001b[1;33m,\u001b[0m\u001b[1;36m5\u001b[0m\u001b[1;33m,\u001b[0m\u001b[1;36m6\u001b[0m\u001b[1;33m]\u001b[0m\u001b[1;33m]\u001b[0m\u001b[1;33m)\u001b[0m\u001b[1;33m\u001b[0m\u001b[1;33m\u001b[0m\u001b[0m\n\u001b[1;32m----> 3\u001b[1;33m arr3 = nup.array([[[1,2,3],[4,5,6]],\n\u001b[0m\u001b[0;32m      4\u001b[0m                   \u001b[1;33m[\u001b[0m\u001b[1;33m[\u001b[0m\u001b[1;36m8\u001b[0m\u001b[1;33m,\u001b[0m\u001b[1;36m9\u001b[0m\u001b[1;33m,\u001b[0m\u001b[1;36m10\u001b[0m\u001b[1;33m]\u001b[0m\u001b[1;33m,\u001b[0m\u001b[1;33m[\u001b[0m\u001b[1;36m12\u001b[0m\u001b[1;33m,\u001b[0m\u001b[1;36m13\u001b[0m\u001b[1;33m,\u001b[0m\u001b[1;36m14\u001b[0m\u001b[1;33m]\u001b[0m\u001b[1;33m]\u001b[0m\u001b[1;33m,\u001b[0m\u001b[1;33m\u001b[0m\u001b[1;33m\u001b[0m\u001b[0m\n\u001b[0;32m      5\u001b[0m                   \u001b[1;33m[\u001b[0m\u001b[1;33m[\u001b[0m\u001b[1;36m1\u001b[0m\u001b[1;33m,\u001b[0m\u001b[1;36m2\u001b[0m\u001b[1;33m,\u001b[0m\u001b[1;36m3\u001b[0m\u001b[1;33m]\u001b[0m\u001b[1;33m]\u001b[0m\u001b[1;33m\u001b[0m\u001b[1;33m\u001b[0m\u001b[0m\n",
      "\u001b[1;31mValueError\u001b[0m: setting an array element with a sequence. The requested array has an inhomogeneous shape after 1 dimensions. The detected shape was (3,) + inhomogeneous part."
     ]
    }
   ],
   "source": [
    "arrl = nup.array([1,2,3,4,5])\n",
    "arr2 = nup.array([[1,2,3],[4,5,6]])\n",
    "arr3 = nup.array([[[1,2,3],[4,5,6]],\n",
    "                  [[8,9,10],[12,13,14]],\n",
    "                  [[1,2,3]]\n",
    "                 ]) \n",
    "print(\"-----DIMENSION OF AN ARRAY-----\")\n",
    "#print(arr.ndim)\n",
    "print(arr1.ndim)\n",
    "print(arr2.ndim)\n",
    "print(arr3.ndim)\n",
    "print(\"----SIZE OF AN ARRAY (No.of Elements in an array)-----\")\n",
    "print(arr1.size)\n",
    "print(arr2.size)\n",
    "print(arr3.size)\n",
    "print(\"----Shape of an array (As rows and columns)-----\")\n",
    "print(arr1.shape)\n",
    "print(arr2.shape)\n",
    "print(arr3.shape)\n",
    "print(\"-----Size of one element in an array-----\")\n",
    "print(arr1.itemsize)\n",
    "print(arr2.itemsize)\n",
    "print(arr3.itemsize)\n",
    "print(\"----Total number of bytes allocated for the array-----\")\n",
    "print(arr1.nbytes)\n",
    "print(arr2.nbytes)\n",
    "print(arr3.nbytes)\n",
    "print(\"------MULTIDIMENSIONAL ARRAY-----\")\n",
    "g = nup.array([\n",
    "                [[1,2,3],[4,5,6]],\n",
    "                [[10,20,30],[89,45,56]],\n",
    "                [[8,7,9],[6,3,1]]\n",
    "               ])\n",
    "print(g.ndim)\n",
    "print(g.shape)"
   ]
  },
  {
   "cell_type": "code",
   "execution_count": 22,
   "id": "39d97612",
   "metadata": {},
   "outputs": [
    {
     "name": "stdout",
     "output_type": "stream",
     "text": [
      "----Element of type FLOAT----\n",
      "[[1.2 3.4 5. ]\n",
      " [2.3 6.  5.6]]\n",
      "float64\n",
      "6\n",
      "8\n",
      "48\n"
     ]
    }
   ],
   "source": [
    "fl = nup.array([[1.2,3.4,5.0],[2.3,6.0,5.6]])\n",
    "print(\"----Element of type FLOAT----\")\n",
    "print(fl)\n",
    "print(fl.dtype) #determine the type of an elements\n",
    "print(fl.size)\n",
    "print(fl.itemsize) \n",
    "print(fl.nbytes)"
   ]
  },
  {
   "cell_type": "code",
   "execution_count": 23,
   "id": "caea53ad",
   "metadata": {},
   "outputs": [
    {
     "name": "stdout",
     "output_type": "stream",
     "text": [
      "----representing the array elements in 8 bits (1byte)-----\n",
      "[23 34 56 67 78]\n",
      "int8\n",
      "5\n",
      "----representing the array elements in 16 bits (2 byte)-----\n",
      "[23 34 56 67 78]\n",
      "int16\n",
      "10\n",
      "----representing the array elements in 32 bits (4 byte)-----\n",
      "[23 34 56 67 78]\n",
      "int32\n",
      "20\n",
      "----representing the array elements in 64 bits (8 byte)-----\n",
      "[23 34 56 67 78]\n",
      "int64\n",
      "40\n"
     ]
    }
   ],
   "source": [
    "dt = nup.array([23,34,56,67,78],dtype='int8')\n",
    "print(\"----representing the array elements in 8 bits (1byte)-----\")\n",
    "print(dt)\n",
    "print(dt.dtype)\n",
    "print(dt.nbytes)\n",
    "dt = nup.array([23,34,56,67,78],dtype='int16')\n",
    "print(\"----representing the array elements in 16 bits (2 byte)-----\")\n",
    "print(dt)\n",
    "print(dt.dtype)\n",
    "print(dt.nbytes)\n",
    "dt = nup.array([23,34,56,67,78],dtype='int32')\n",
    "print(\"----representing the array elements in 32 bits (4 byte)-----\")\n",
    "print(dt)\n",
    "print(dt.dtype)\n",
    "print(dt.nbytes)\n",
    "dt = nup.array([23,34,56,67,78],dtype='int64')\n",
    "print(\"----representing the array elements in 64 bits (8 byte)-----\")\n",
    "print(dt)\n",
    "print(dt.dtype)\n",
    "print(dt.nbytes)"
   ]
  },
  {
   "cell_type": "code",
   "execution_count": 24,
   "id": "7beff337",
   "metadata": {},
   "outputs": [
    {
     "name": "stdout",
     "output_type": "stream",
     "text": [
      "----Elements containing characters----\n",
      "['a' 'b' 'c' 'j' 'h']\n",
      "<U1\n",
      "4\n",
      "5\n"
     ]
    }
   ],
   "source": [
    "ch = nup.array(['a','b','c','j','h'])\n",
    "print(\"----Elements containing characters----\")\n",
    "print(ch)\n",
    "print(ch.dtype)\n",
    "print(ch.itemsize)\n",
    "print(ch.size)"
   ]
  },
  {
   "cell_type": "code",
   "execution_count": 25,
   "id": "75f37203",
   "metadata": {},
   "outputs": [
    {
     "name": "stdout",
     "output_type": "stream",
     "text": [
      "<U11\n",
      "<class 'numpy.str_'>\n",
      "<U1\n",
      "<U1\n",
      "396\n",
      "44\n"
     ]
    }
   ],
   "source": [
    "a = nup.array([[1,2,3],\n",
    "             [4,\"5\",5],\n",
    "             [7,8,9]])\n",
    "print(a.dtype)\n",
    "print(type(a[0][0]))\n",
    "print(a[0][0].dtype)\n",
    "print(a[0][0].dtype)\n",
    "print(a.nbytes)\n",
    "print(a.itemsize)"
   ]
  },
  {
   "cell_type": "code",
   "execution_count": 26,
   "id": "d5878e0f",
   "metadata": {},
   "outputs": [
    {
     "name": "stdout",
     "output_type": "stream",
     "text": [
      "int32\n",
      "<class 'numpy.int32'>\n"
     ]
    }
   ],
   "source": [
    "a = nup.array([[1,2,3],\n",
    "             [4,6,5],\n",
    "             [7,8,9]])\n",
    "print(a.dtype)\n",
    "print(type(a[0][0]))"
   ]
  },
  {
   "cell_type": "code",
   "execution_count": 27,
   "id": "1336623c",
   "metadata": {},
   "outputs": [
    {
     "ename": "ValueError",
     "evalue": "invalid literal for int() with base 10: 'k'",
     "output_type": "error",
     "traceback": [
      "\u001b[1;31m---------------------------------------------------------------------------\u001b[0m",
      "\u001b[1;31mValueError\u001b[0m                                Traceback (most recent call last)",
      "\u001b[1;32m~\\AppData\\Local\\Temp/ipykernel_19772/2601134718.py\u001b[0m in \u001b[0;36m<module>\u001b[1;34m\u001b[0m\n\u001b[1;32m----> 1\u001b[1;33m a = nup.array([[1,2,3],\n\u001b[0m\u001b[0;32m      2\u001b[0m              \u001b[1;33m[\u001b[0m\u001b[1;36m4\u001b[0m\u001b[1;33m,\u001b[0m\u001b[1;34m\"k\"\u001b[0m\u001b[1;33m,\u001b[0m\u001b[1;36m5\u001b[0m\u001b[1;33m]\u001b[0m\u001b[1;33m,\u001b[0m\u001b[1;33m\u001b[0m\u001b[1;33m\u001b[0m\u001b[0m\n\u001b[0;32m      3\u001b[0m              [7,8,9]],dtype = \"int32\")\n\u001b[0;32m      4\u001b[0m \u001b[0mprint\u001b[0m\u001b[1;33m(\u001b[0m\u001b[0ma\u001b[0m\u001b[1;33m.\u001b[0m\u001b[0mdtype\u001b[0m\u001b[1;33m)\u001b[0m\u001b[1;33m\u001b[0m\u001b[1;33m\u001b[0m\u001b[0m\n\u001b[0;32m      5\u001b[0m \u001b[0mprint\u001b[0m\u001b[1;33m(\u001b[0m\u001b[0mtype\u001b[0m\u001b[1;33m(\u001b[0m\u001b[0ma\u001b[0m\u001b[1;33m[\u001b[0m\u001b[1;36m0\u001b[0m\u001b[1;33m]\u001b[0m\u001b[1;33m[\u001b[0m\u001b[1;36m0\u001b[0m\u001b[1;33m]\u001b[0m\u001b[1;33m)\u001b[0m\u001b[1;33m)\u001b[0m\u001b[1;33m\u001b[0m\u001b[1;33m\u001b[0m\u001b[0m\n",
      "\u001b[1;31mValueError\u001b[0m: invalid literal for int() with base 10: 'k'"
     ]
    }
   ],
   "source": [
    "a = nup.array([[1,2,3],\n",
    "             [4,\"k\",5],\n",
    "             [7,8,9]],dtype = \"int32\")\n",
    "print(a.dtype)\n",
    "print(type(a[0][0]))\n",
    "print(a[0][0].dtype)"
   ]
  },
  {
   "cell_type": "code",
   "execution_count": 28,
   "id": "23807a69",
   "metadata": {},
   "outputs": [
    {
     "name": "stderr",
     "output_type": "stream",
     "text": [
      "<>:1: SyntaxWarning: 'int' object is not subscriptable; perhaps you missed a comma?\n",
      "<>:1: SyntaxWarning: 'int' object is not subscriptable; perhaps you missed a comma?\n",
      "C:\\Users\\bvish\\AppData\\Local\\Temp/ipykernel_19772/3561133128.py:1: SyntaxWarning: 'int' object is not subscriptable; perhaps you missed a comma?\n",
      "  a = nup.array([0[1,2,3],\n"
     ]
    },
    {
     "ename": "TypeError",
     "evalue": "'int' object is not subscriptable",
     "output_type": "error",
     "traceback": [
      "\u001b[1;31m---------------------------------------------------------------------------\u001b[0m",
      "\u001b[1;31mTypeError\u001b[0m                                 Traceback (most recent call last)",
      "\u001b[1;32m~\\AppData\\Local\\Temp/ipykernel_19772/3561133128.py\u001b[0m in \u001b[0;36m<module>\u001b[1;34m\u001b[0m\n\u001b[1;32m----> 1\u001b[1;33m a = nup.array([0[1,2,3],\n\u001b[0m\u001b[0;32m      2\u001b[0m              \u001b[1;33m[\u001b[0m\u001b[1;36m4\u001b[0m\u001b[1;33m,\u001b[0m\u001b[1;36m6\u001b[0m\u001b[1;33m,\u001b[0m\u001b[1;36m5\u001b[0m\u001b[1;33m]\u001b[0m\u001b[1;33m,\u001b[0m\u001b[1;33m\u001b[0m\u001b[1;33m\u001b[0m\u001b[0m\n\u001b[0;32m      3\u001b[0m              [7,8,9]],dtype=\"float32\")\n\u001b[0;32m      4\u001b[0m \u001b[0mprint\u001b[0m\u001b[1;33m(\u001b[0m\u001b[0ma\u001b[0m\u001b[1;33m.\u001b[0m\u001b[0mdtype\u001b[0m\u001b[1;33m)\u001b[0m\u001b[1;33m\u001b[0m\u001b[1;33m\u001b[0m\u001b[0m\n\u001b[0;32m      5\u001b[0m \u001b[0mprint\u001b[0m\u001b[1;33m(\u001b[0m\u001b[0mtype\u001b[0m\u001b[1;33m(\u001b[0m\u001b[0ma\u001b[0m\u001b[1;33m[\u001b[0m\u001b[1;36m0\u001b[0m\u001b[1;33m]\u001b[0m\u001b[1;33m[\u001b[0m\u001b[1;36m0\u001b[0m\u001b[1;33m]\u001b[0m\u001b[1;33m)\u001b[0m\u001b[1;33m)\u001b[0m\u001b[1;33m\u001b[0m\u001b[1;33m\u001b[0m\u001b[0m\n",
      "\u001b[1;31mTypeError\u001b[0m: 'int' object is not subscriptable"
     ]
    }
   ],
   "source": [
    "a = nup.array([0[1,2,3],\n",
    "             [4,6,5],\n",
    "             [7,8,9]],dtype=\"float32\")\n",
    "print(a.dtype)\n",
    "print(type(a[0][0]))\n",
    "print(a)"
   ]
  },
  {
   "cell_type": "code",
   "execution_count": 29,
   "id": "7a208bba",
   "metadata": {},
   "outputs": [
    {
     "name": "stdout",
     "output_type": "stream",
     "text": [
      "object\n",
      "<class 'int'>\n",
      "<class 'dict'>\n",
      "[[1 2 3]\n",
      " [4 6 5]\n",
      " [7 {'1': 'BBB'} 9]]\n"
     ]
    }
   ],
   "source": [
    "d = {'1':'BBB'}\n",
    "a = nup.array([[1,2,3],\n",
    "             [4,6,5],\n",
    "             [7,d,9]])\n",
    "print(a.dtype)\n",
    "print(type(a[1][0]))\n",
    "print(type(a[2][1]))\n",
    "print(a)"
   ]
  },
  {
   "cell_type": "code",
   "execution_count": 30,
   "id": "b63ddf3e",
   "metadata": {},
   "outputs": [
    {
     "name": "stdout",
     "output_type": "stream",
     "text": [
      "[[1 2 3]\n",
      " [4 5 6]]\n",
      "(2, 3)\n",
      "[[1 2]\n",
      " [3 4]\n",
      " [5 6]]\n",
      "(3, 2)\n"
     ]
    }
   ],
   "source": [
    "arr2 = nup.array([[1,2,3],[4,5,6]])\n",
    "print(arr2)\n",
    "print(arr2.shape)\n",
    "##changing the rows and columns\n",
    "resh = arr2.reshape(3,2)\n",
    "print(resh)\n",
    "print(resh.shape)"
   ]
  },
  {
   "cell_type": "markdown",
   "id": "7e196962",
   "metadata": {},
   "source": [
    "## Filling Array"
   ]
  },
  {
   "cell_type": "code",
   "execution_count": 31,
   "id": "0ec3e36b",
   "metadata": {},
   "outputs": [
    {
     "name": "stdout",
     "output_type": "stream",
     "text": [
      "[['kk' 'kk' 'kk']\n",
      " ['kk' 'kk' 'kk']]\n",
      "[[[11 11 11 11]\n",
      "  [11 11 11 11]\n",
      "  [11 11 11 11]]\n",
      "\n",
      " [[11 11 11 11]\n",
      "  [11 11 11 11]\n",
      "  [11 11 11 11]]]\n",
      "[[0. 0.]\n",
      " [0. 0.]]\n",
      "float64\n",
      "[[[0. 0.]\n",
      "  [0. 0.]\n",
      "  [0. 0.]]\n",
      "\n",
      " [[0. 0.]\n",
      "  [0. 0.]\n",
      "  [0. 0.]]]\n",
      "[[1. 1. 1. 1. 1.]\n",
      " [1. 1. 1. 1. 1.]\n",
      " [1. 1. 1. 1. 1.]]\n",
      "[[[1. 1. 1.]\n",
      "  [1. 1. 1.]]\n",
      "\n",
      " [[1. 1. 1.]\n",
      "  [1. 1. 1.]]\n",
      "\n",
      " [[1. 1. 1.]\n",
      "  [1. 1. 1.]]]\n",
      "[[2.2705355e-312 2.2705355e-312 2.2705355e-312]\n",
      " [2.2705355e-312 2.2705355e-312 2.2705355e-312]] \n",
      "\n",
      "[[[8.25820928e-312 9.93071948e-322 0.00000000e+000 0.00000000e+000\n",
      "   1.89146896e-307]\n",
      "  [5.02034658e+175 7.16705706e-038 1.93307724e-076 1.01367008e-070\n",
      "   2.10553705e-076]\n",
      "  [8.29817938e-067 3.83819517e+151 2.59903818e-144 4.31352510e-096\n",
      "   2.14027814e+161]]\n",
      "\n",
      " [[1.47762371e+248 4.30625279e-096 4.82337723e+228 4.55791809e-037\n",
      "   9.94995307e-047]\n",
      "  [1.63165616e+185 4.08979772e-037 4.25866885e-096 1.16097020e-028\n",
      "   1.26087994e-076]\n",
      "  [2.54818292e-028 2.08826209e-076 1.04917184e-153 9.08366791e+223\n",
      "   6.14415221e-144]]]\n"
     ]
    }
   ],
   "source": [
    "#full(shape,fill_value)\n",
    "a = nup.full((2,3),\"kk\")\n",
    "print(a)\n",
    "\n",
    "a = nup.full((2,3,4),11)\n",
    "print(a)\n",
    "\n",
    "a = nup.zeros((2,2))\n",
    "print(a)\n",
    "print(a.dtype)\n",
    "\n",
    "a = nup.zeros((2,3,2))\n",
    "print(a)\n",
    "\n",
    "a = nup.ones((3,5))\n",
    "print(a)\n",
    "\n",
    "a = nup.ones((3,2,3))\n",
    "print(a)\n",
    "\n",
    "a = nup.empty((2,3))\n",
    "print(a,\"\\n\")\n",
    "\n",
    "a = nup.empty((2,3,5))\n",
    "print(a)"
   ]
  },
  {
   "cell_type": "code",
   "execution_count": 32,
   "id": "87d78dd3",
   "metadata": {},
   "outputs": [
    {
     "name": "stdout",
     "output_type": "stream",
     "text": [
      "[ 0  1  2  3  4  5  6  7  8  9 10 11 12 13 14 15 16 17 18 19 20 21 22 23\n",
      " 24 25 26 27 28 29 30 31 32 33 34 35 36 37 38 39 40 41 42 43 44 45 46 47\n",
      " 48 49]\n",
      "[ 0  4  8 12 16 20 24 28 32 36 40 44 48 52 56 60 64 68 72 76 80 84 88 92\n",
      " 96]\n",
      "[ 0  2  4  6  8 10 12 14 16 18 20 22 24 26 28 30 32 34 36 38 40 42 44 46\n",
      " 48 50 52 54 56 58 60 62 64 66 68 70 72 74 76 78 80 82 84 86 88 90 92 94\n",
      " 96 98]\n",
      "[ 1  3  5  7  9 11 13 15 17 19 21 23 25 27 29 31 33 35 37 39 41 43 45 47\n",
      " 49 51 53 55 57 59 61 63 65 67 69 71 73 75 77 79]\n"
     ]
    }
   ],
   "source": [
    "value = nup.arange(0,50)\n",
    "print(value)\n",
    "\n",
    "value = nup.arange(0,100,4)\n",
    "print(value)\n",
    "\n",
    "value = nup.arange(0,100,2)\n",
    "print(value)\n",
    "\n",
    "value = nup.arange(1,80,2)\n",
    "print(value)"
   ]
  },
  {
   "cell_type": "markdown",
   "id": "07f90458",
   "metadata": {},
   "source": [
    "### linspace()\n",
    "**numpy.linspace(start, stop, num=50, endpoint=True, retstep=False, dtype=None, axis=0)**\n",
    "\n",
    "Return evenly spaced numbers over a specified interval.\n",
    "\n",
    "Returns num evenly spaced samples, calculated over the interval [start, stop].\n",
    "\n",
    "The endpoint of the interval can optionally be excluded."
   ]
  },
  {
   "cell_type": "code",
   "execution_count": 33,
   "id": "23a96354",
   "metadata": {},
   "outputs": [
    {
     "name": "stdout",
     "output_type": "stream",
     "text": [
      "[ 1.          9.77777778 18.55555556 27.33333333 36.11111111 44.88888889\n",
      " 53.66666667 62.44444444 71.22222222 80.        ]\n"
     ]
    }
   ],
   "source": [
    "#linspace() - (start,stop,step(how many values to be generated))\n",
    "value = nup.linspace(1,80,10)\n",
    "print(value)"
   ]
  },
  {
   "cell_type": "markdown",
   "id": "5591af23",
   "metadata": {},
   "source": [
    "### Nan and Inf"
   ]
  },
  {
   "cell_type": "code",
   "execution_count": 34,
   "id": "63febf30",
   "metadata": {},
   "outputs": [
    {
     "name": "stdout",
     "output_type": "stream",
     "text": [
      "nan\n",
      "inf\n",
      "True\n",
      "True\n",
      "nan\n",
      "True\n"
     ]
    },
    {
     "name": "stderr",
     "output_type": "stream",
     "text": [
      "C:\\Users\\bvish\\AppData\\Local\\Temp/ipykernel_19772/2423633683.py:7: RuntimeWarning: invalid value encountered in sqrt\n",
      "  print(nup.sqrt(-1)) #cant compute squareroot for -ve number, therefore it generate nan\n",
      "C:\\Users\\bvish\\AppData\\Local\\Temp/ipykernel_19772/2423633683.py:8: RuntimeWarning: invalid value encountered in sqrt\n",
      "  print(nup.isnan(nup.sqrt(-1)))\n"
     ]
    },
    {
     "ename": "ZeroDivisionError",
     "evalue": "division by zero",
     "output_type": "error",
     "traceback": [
      "\u001b[1;31m---------------------------------------------------------------------------\u001b[0m",
      "\u001b[1;31mZeroDivisionError\u001b[0m                         Traceback (most recent call last)",
      "\u001b[1;32m~\\AppData\\Local\\Temp/ipykernel_19772/2423633683.py\u001b[0m in \u001b[0;36m<module>\u001b[1;34m\u001b[0m\n\u001b[0;32m      8\u001b[0m \u001b[0mprint\u001b[0m\u001b[1;33m(\u001b[0m\u001b[0mnup\u001b[0m\u001b[1;33m.\u001b[0m\u001b[0misnan\u001b[0m\u001b[1;33m(\u001b[0m\u001b[0mnup\u001b[0m\u001b[1;33m.\u001b[0m\u001b[0msqrt\u001b[0m\u001b[1;33m(\u001b[0m\u001b[1;33m-\u001b[0m\u001b[1;36m1\u001b[0m\u001b[1;33m)\u001b[0m\u001b[1;33m)\u001b[0m\u001b[1;33m)\u001b[0m\u001b[1;33m\u001b[0m\u001b[1;33m\u001b[0m\u001b[0m\n\u001b[0;32m      9\u001b[0m \u001b[1;33m\u001b[0m\u001b[0m\n\u001b[1;32m---> 10\u001b[1;33m \u001b[0mprint\u001b[0m\u001b[1;33m(\u001b[0m\u001b[0mnup\u001b[0m\u001b[1;33m.\u001b[0m\u001b[0misinf\u001b[0m\u001b[1;33m(\u001b[0m\u001b[1;36m10\u001b[0m\u001b[1;33m/\u001b[0m\u001b[1;36m0\u001b[0m\u001b[1;33m)\u001b[0m\u001b[1;33m)\u001b[0m \u001b[1;31m#10/0 is not possible ie., it gives infinity\u001b[0m\u001b[1;33m\u001b[0m\u001b[1;33m\u001b[0m\u001b[0m\n\u001b[0m",
      "\u001b[1;31mZeroDivisionError\u001b[0m: division by zero"
     ]
    }
   ],
   "source": [
    "print(nup.nan)\n",
    "print(nup.inf)\n",
    "\n",
    "print(nup.isnan(nup.nan))\n",
    "print(nup.isinf(nup.inf))\n",
    "\n",
    "print(nup.sqrt(-1)) #cant compute squareroot for -ve number, therefore it generate nan\n",
    "print(nup.isnan(nup.sqrt(-1)))\n",
    "\n",
    "print(nup.isinf(10/0)) #10/0 is not possible ie., it gives infinity"
   ]
  },
  {
   "cell_type": "markdown",
   "id": "b5cf32c4",
   "metadata": {},
   "source": [
    "## Mathematical Operations"
   ]
  },
  {
   "cell_type": "code",
   "execution_count": 43,
   "id": "2d91c306",
   "metadata": {},
   "outputs": [
    {
     "name": "stdout",
     "output_type": "stream",
     "text": [
      "[1 2 3 4 5]\n",
      "[6 7 8 9 0]\n",
      "[1, 2, 3, 4, 5, 6, 7, 8, 9, 0]\n",
      "[1, 2, 3, 4, 5, 1, 2, 3, 4, 5, 1, 2, 3, 4, 5, 1, 2, 3, 4, 5, 1, 2, 3, 4, 5]\n",
      "[ 5 10 15 20 25]\n",
      "[ 6  7  8  9 10]\n",
      "[1, 2, 3, 4, 5, 6, 7, 8, 9, 0]\n",
      "[ 7  9 11 13  5]\n",
      "[ 6 14 24 36  0]\n",
      "[0.16666667 0.28571429 0.375      0.44444444        inf]\n",
      "[-5 -5 -5 -5  5]\n",
      "[False False False False  True]\n",
      "[       nan        nan        nan        nan 2.23606798]\n",
      "[ True  True  True  True False]\n"
     ]
    },
    {
     "name": "stderr",
     "output_type": "stream",
     "text": [
      "C:\\Users\\bvish\\AppData\\Local\\Temp/ipykernel_19772/3088063346.py:21: RuntimeWarning: divide by zero encountered in divide\n",
      "  print(a1/a2)\n",
      "C:\\Users\\bvish\\AppData\\Local\\Temp/ipykernel_19772/3088063346.py:23: RuntimeWarning: divide by zero encountered in divide\n",
      "  print(nup.isinf(a1/a2))\n",
      "C:\\Users\\bvish\\AppData\\Local\\Temp/ipykernel_19772/3088063346.py:24: RuntimeWarning: invalid value encountered in sqrt\n",
      "  print(nup.sqrt(a1-a2))\n",
      "C:\\Users\\bvish\\AppData\\Local\\Temp/ipykernel_19772/3088063346.py:25: RuntimeWarning: invalid value encountered in sqrt\n",
      "  print(nup.isnan(nup.sqrt(a1-a2)))\n"
     ]
    },
    {
     "ename": "ValueError",
     "evalue": "invalid literal for int() with base 10: 'a'",
     "output_type": "error",
     "traceback": [
      "\u001b[1;31m---------------------------------------------------------------------------\u001b[0m",
      "\u001b[1;31mValueError\u001b[0m                                Traceback (most recent call last)",
      "\u001b[1;32m~\\AppData\\Local\\Temp/ipykernel_19772/3088063346.py\u001b[0m in \u001b[0;36m<module>\u001b[1;34m\u001b[0m\n\u001b[0;32m     25\u001b[0m \u001b[0mprint\u001b[0m\u001b[1;33m(\u001b[0m\u001b[0mnup\u001b[0m\u001b[1;33m.\u001b[0m\u001b[0misnan\u001b[0m\u001b[1;33m(\u001b[0m\u001b[0mnup\u001b[0m\u001b[1;33m.\u001b[0m\u001b[0msqrt\u001b[0m\u001b[1;33m(\u001b[0m\u001b[0ma1\u001b[0m\u001b[1;33m-\u001b[0m\u001b[0ma2\u001b[0m\u001b[1;33m)\u001b[0m\u001b[1;33m)\u001b[0m\u001b[1;33m)\u001b[0m\u001b[1;33m\u001b[0m\u001b[1;33m\u001b[0m\u001b[0m\n\u001b[0;32m     26\u001b[0m \u001b[1;33m\u001b[0m\u001b[0m\n\u001b[1;32m---> 27\u001b[1;33m \u001b[0mch1\u001b[0m \u001b[1;33m=\u001b[0m \u001b[0mnup\u001b[0m\u001b[1;33m.\u001b[0m\u001b[0marray\u001b[0m\u001b[1;33m(\u001b[0m\u001b[1;34m\"a\"\u001b[0m\u001b[1;33m,\u001b[0m\u001b[1;34m\"b\"\u001b[0m\u001b[1;33m)\u001b[0m\u001b[1;33m\u001b[0m\u001b[1;33m\u001b[0m\u001b[0m\n\u001b[0m\u001b[0;32m     28\u001b[0m \u001b[0mch2\u001b[0m \u001b[1;33m=\u001b[0m \u001b[0mnup\u001b[0m\u001b[1;33m.\u001b[0m\u001b[0marray\u001b[0m\u001b[1;33m(\u001b[0m\u001b[1;34m\"a\"\u001b[0m\u001b[1;33m,\u001b[0m\u001b[1;34m\"b\"\u001b[0m\u001b[1;33m)\u001b[0m\u001b[1;33m\u001b[0m\u001b[1;33m\u001b[0m\u001b[0m\n\u001b[0;32m     29\u001b[0m \u001b[1;31m#print(ch1*ch2) generate error - ValueError: invalid literal for int() with base 10: 'a'\u001b[0m\u001b[1;33m\u001b[0m\u001b[1;33m\u001b[0m\u001b[0m\n",
      "\u001b[1;31mValueError\u001b[0m: invalid literal for int() with base 10: 'a'"
     ]
    }
   ],
   "source": [
    "l = [1,2,3,4,5]\n",
    "l2 = [6,7,8,9,0]\n",
    "\n",
    "a1 = nup.array(l)\n",
    "a2 = nup.array(l2)\n",
    "\n",
    "print(a1)\n",
    "print(a2)\n",
    "\n",
    "print(l+l2)\n",
    "print(l*5) #repaeat the list 5 times\n",
    "print(a1*5) # 5 is multiplied with all the elements in the array\n",
    "\n",
    "#print(l+5) #Error same for Multiplication, subtraction and Division also\n",
    "print(a1+5) # 5 is added with all the elements in the array\n",
    "\n",
    "print(l+l2) #Concatenate the two list\n",
    "print(a1+a2) # add elements of the two array and generate a new array\n",
    "\n",
    "print(a1*a2)\n",
    "print(a1/a2)\n",
    "print(a1-a2)\n",
    "print(nup.isinf(a1/a2))\n",
    "print(nup.sqrt(a1-a2))\n",
    "print(nup.isnan(nup.sqrt(a1-a2)))\n",
    "\n",
    "ch1 = nup.array(\"a\",\"b\")\n",
    "ch2 = nup.array(\"a\",\"b\")\n",
    "#print(ch1*ch2) generate error - ValueError: invalid literal for int() with base 10: 'a'"
   ]
  },
  {
   "cell_type": "code",
   "execution_count": 59,
   "id": "e8e426a5",
   "metadata": {},
   "outputs": [
    {
     "name": "stdout",
     "output_type": "stream",
     "text": [
      "(2, 1)\n",
      "[[15 10 13 17  8]\n",
      " [43 38 41 45 36]]\n",
      "(2, 5)\n"
     ]
    }
   ],
   "source": [
    "#array with difference dimension\n",
    "a1 = nup.array([10,5,8,12,3])\n",
    "a2 = nup.array([[5],\n",
    "                [33]])\n",
    "print(a2.shape)\n",
    "print(a1 + a2)\n",
    "print((a1 + a2).shape)"
   ]
  },
  {
   "cell_type": "code",
   "execution_count": 61,
   "id": "d19ae0ff",
   "metadata": {},
   "outputs": [
    {
     "name": "stdout",
     "output_type": "stream",
     "text": [
      "[[2.23606798 3.46410162 3.16227766]\n",
      " [5.74456265 1.73205081 1.        ]] \n",
      "\n",
      "[[-0.95892427 -0.53657292 -0.54402111]\n",
      " [ 0.99991186  0.14112001  0.84147098]] \n",
      "\n",
      "[[ 0.28366219  0.84385396 -0.83907153]\n",
      " [-0.01327675 -0.9899925   0.54030231]] \n",
      "\n",
      "[[ -3.38051501  -0.63585993   0.64836083]\n",
      " [-75.3130148   -0.14254654   1.55740772]] \n",
      "\n",
      "[[1.37340077 1.48765509 1.47112767]\n",
      " [1.54050257 1.24904577 0.78539816]] \n",
      "\n",
      "[[1.48413159e+02 1.62754791e+05 2.20264658e+04]\n",
      " [2.14643580e+14 2.00855369e+01 2.71828183e+00]] \n",
      "\n",
      "[[1.60943791 2.48490665 2.30258509]\n",
      " [3.49650756 1.09861229 0.        ]] \n",
      "\n",
      "[[2.32192809 3.5849625  3.32192809]\n",
      " [5.04439412 1.5849625  0.        ]] \n",
      "\n",
      "[[0.69897    1.07918125 1.        ]\n",
      " [1.51851394 0.47712125 0.        ]] \n",
      "\n"
     ]
    }
   ],
   "source": [
    "a3 = nup.array([[5,12,10],\n",
    "                [33,3,1]])\n",
    "print(nup.sqrt(a3),\"\\n\")\n",
    "print(nup.sin(a3),\"\\n\")\n",
    "print(nup.cos(a3),\"\\n\")\n",
    "print(nup.tan(a3),\"\\n\")\n",
    "print(nup.arctan(a3),\"\\n\")\n",
    "print(nup.exp(a3),\"\\n\")\n",
    "print(nup.log(a3),\"\\n\")\n",
    "print(nup.log2(a3),\"\\n\")\n",
    "print(nup.log10(a3),\"\\n\")\n",
    "#print((dir(nup))) - use this command to view all the commands"
   ]
  },
  {
   "cell_type": "markdown",
   "id": "6cca4fd0",
   "metadata": {},
   "source": [
    "## Array Functions"
   ]
  },
  {
   "cell_type": "code",
   "execution_count": 50,
   "id": "ceb190d4",
   "metadata": {},
   "outputs": [
    {
     "name": "stdout",
     "output_type": "stream",
     "text": [
      "[14 80  5 12 10  4 22]\n",
      "[14 80  5 12 10  4 22] \n",
      "\n",
      "[[1 2]\n",
      " [3 4]\n",
      " [5 6]] \n",
      "\n",
      "[[1 2 5]\n",
      " [3 4 6]]\n"
     ]
    }
   ],
   "source": [
    "a3 = nup.array([14,80,5,12,10])\n",
    "a3 = nup.append(a3,[4,22]) #this will not modify the original array\n",
    "print(a3)\n",
    "print(a3,\"\\n\")\n",
    "\n",
    "# Appending elements to a 2D array along axis 0 (rows)\n",
    "arr3 = np.array([[1, 2], [3, 4]])\n",
    "arr3 = np.append(arr3, [[5, 6]], axis=0)\n",
    "print(arr3,\"\\n\")\n",
    "\n",
    "# Appending elements to a 2D array along axis 1 (columns)\n",
    "arr4 = np.array([[1, 2], [3, 4]])\n",
    "arr4 = np.append(arr4, [[5], [6]], axis=1)\n",
    "print(arr4)\n",
    "\n"
   ]
  },
  {
   "cell_type": "code",
   "execution_count": 81,
   "id": "483796b3",
   "metadata": {},
   "outputs": [
    {
     "name": "stdout",
     "output_type": "stream",
     "text": [
      "[14 80  1  2  3  5 12 10]\n"
     ]
    }
   ],
   "source": [
    "a3 = nup.array([14,80,5,12,10])\n",
    "a3 = nup.insert(a3,2,[1,2,3])\n",
    "print(a3)"
   ]
  },
  {
   "cell_type": "code",
   "execution_count": 69,
   "id": "1b95ce95",
   "metadata": {},
   "outputs": [
    {
     "name": "stdout",
     "output_type": "stream",
     "text": [
      "[14 80 12 10] \n",
      "\n",
      "[ 1  2 52 10  3  4 24  0 14 15 12 88 79 56  5]\n",
      "[[ 1  2 52 10]\n",
      " [ 3  4 24  0]\n",
      " [14 15 16 12]\n",
      " [88 79 56  5]]\n",
      "[[ 1  2 52 10]\n",
      " [88 79 56  5]] \n",
      "\n",
      "[[ 2 10]\n",
      " [79  5]]\n"
     ]
    }
   ],
   "source": [
    "a3 = nup.array([14,80,5,12,10])\n",
    "a3 = nup.delete(a3,2)\n",
    "print(a3,\"\\n\")\n",
    "\n",
    "arr3 = np.array([[1, 2, 52,10], \n",
    "                 [3, 4, 24,0],\n",
    "                 [14,15,16,12],\n",
    "                 [88,79,56,5]])\n",
    "print(nup.delete(arr3,10)) # elements are stored at continous memory location \n",
    "print(arr3)\n",
    "#how to remove the element \"4\"\n",
    "arr3 = nup.delete(arr3,(1,2),axis=0)\n",
    "print(arr3,\"\\n\")\n",
    "arr3 = nup.delete(arr3,(0,2),axis=1)\n",
    "print(arr3)"
   ]
  },
  {
   "cell_type": "code",
   "execution_count": 61,
   "id": "3031e6a0",
   "metadata": {},
   "outputs": [
    {
     "name": "stdout",
     "output_type": "stream",
     "text": [
      "[[[ 1  2]\n",
      "  [52 10]]\n",
      "\n",
      " [[ 3  4]\n",
      "  [24  0]]\n",
      "\n",
      " [[14 15]\n",
      "  [16 12]]\n",
      "\n",
      " [[88 79]\n",
      "  [56  5]]\n",
      "\n",
      " [[ 1  2]\n",
      "  [ 3  4]]]\n",
      "[[ 1  2 52 10]\n",
      " [ 3  4 24  0]\n",
      " [14 15 16 12]\n",
      " [88 79 56  5]\n",
      " [ 1  2  3  4]]\n"
     ]
    }
   ],
   "source": [
    "arr3 = np.array([[1, 2, 52,10], \n",
    "                 [3, 4, 24,0],\n",
    "                 [14,15,16,12],\n",
    "                 [88,79,56,5],\n",
    "                 [1,2,3,4]])\n",
    "#print(arr3.reshape(4,5))\n",
    "#print(arr3.reshape(4,4))#will throw an error doesnt match with number of elements\n",
    "#print(arr3.reshape(2,2,5))\n",
    "#print(arr3.reshape(4,1,5))\n",
    "print(arr3.reshape(5,2,2))\n",
    "print(arr3)"
   ]
  },
  {
   "cell_type": "code",
   "execution_count": 67,
   "id": "bfb0c1b4",
   "metadata": {},
   "outputs": [
    {
     "name": "stdout",
     "output_type": "stream",
     "text": [
      "[[ 1  2 52 10  3]\n",
      " [ 4 24  0 14 15]\n",
      " [16 12 88 79 56]\n",
      " [ 5  1  2  3  4]\n",
      " [ 0  0  0  0  0]]\n"
     ]
    }
   ],
   "source": [
    "arr3 = np.array([[1, 2, 52,10], \n",
    "                 [3, 4, 24,0],\n",
    "                 [14,15,16,12],\n",
    "                 [88,79,56,5],\n",
    "                 [1,2,3,4]])\n",
    "#arr3.resize(4,5)\n",
    "#arr3.resize(4,4) #it will remove the adding element when generating an error\n",
    "#arr3.resize(5,3)\n",
    "arr3.resize(5,5)\n",
    "#arr3.resize(2,1,4) #will array with 2 collection, 1 row and 4 columns\n",
    "print(arr3)"
   ]
  },
  {
   "cell_type": "markdown",
   "id": "a7f532a8",
   "metadata": {},
   "source": [
    "## flatten() and ravel()​"
   ]
  },
  {
   "cell_type": "code",
   "execution_count": 6,
   "id": "4db56202",
   "metadata": {},
   "outputs": [
    {
     "name": "stdout",
     "output_type": "stream",
     "text": [
      "[  1   2  52  10   3   4  24   0  14  15  16 555  88  79  56   5   1   2\n",
      "   3   4]\n",
      "[[  1   2  52  10]\n",
      " [  3   4  24   0]\n",
      " [ 14  15  16 555]\n",
      " [ 88  79  56   5]\n",
      " [  1   2   3   4]]\n",
      "[  1   2  52  10   3   4  24   0  14  15  16 555  88  79  56   5   1   2\n",
      "   3   4]\n",
      "[  1   3  14  88   1   2   4  15  79   2  52  24  16  56   3  10   0 555\n",
      "   5   4]\n"
     ]
    }
   ],
   "source": [
    "arr3 = nup.array([[1, 2, 52,10], \n",
    "                 [3, 4, 24,0],\n",
    "                 [14,15,16,12],\n",
    "                 [88,79,56,5],\n",
    "                 [1,2,3,4]])\n",
    "x = arr3.ravel() #It will just display the flattened VIEW of the 2-D array\n",
    "#now changing the index value using x variable \n",
    "#by default it will flatten in row-wise manner\n",
    "x[11] = 555\n",
    "print(x)\n",
    "print(arr3)\n",
    "#order determine in order the array to flattend either row-wise or column-wise\n",
    "x1 = arr3.ravel(order=\"C\") #flatten in row-wise \n",
    "print(x1)\n",
    "x2 = arr3.ravel(order=\"F\") #flatten in column-wise \n",
    "print(x2)"
   ]
  },
  {
   "cell_type": "code",
   "execution_count": 7,
   "id": "661dc936",
   "metadata": {},
   "outputs": [
    {
     "name": "stdout",
     "output_type": "stream",
     "text": [
      "[ 1  2 52 10  3  4 24  0 14 15 16 12 88 79 56  5  1  2  3  4]\n",
      "[   1    2   52   10 1001    4   24    0   14   15   16   12   88   79\n",
      "   56    5    1    2    3    4]\n",
      "[[ 1  2 52 10]\n",
      " [ 3  4 24  0]\n",
      " [14 15 16 12]\n",
      " [88 79 56  5]\n",
      " [ 1  2  3  4]]\n",
      "[ 1  2 52 10  3  4 24  0 14 15 16 12 88 79 56  5  1  2  3  4]\n",
      "[ 1  3 14 88  1  2  4 15 79  2 52 24 16 56  3 10  0 12  5  4]\n"
     ]
    }
   ],
   "source": [
    "import numpy as nup\n",
    "arr3 = nup.array([[1, 2, 52,10], \n",
    "                 [3, 4, 24,0],\n",
    "                 [14,15,16,12],\n",
    "                 [88,79,56,5],\n",
    "                 [1,2,3,4]])\n",
    "y = arr3.flatten() #it will return the flattened deep copy of the array\n",
    "print(y)\n",
    "y[4] = 1001\n",
    "print(y) #the change will be reflected only in y not in original array (arr3)\n",
    "print(arr3)\n",
    "\n",
    "y1 = arr3.ravel(order=\"C\") #flatten in row-wise \n",
    "print(y1)\n",
    "y2 = arr3.ravel(order=\"F\") #flatten in column-wise \n",
    "print(y2)"
   ]
  },
  {
   "cell_type": "code",
   "execution_count": 12,
   "id": "8de72ab6",
   "metadata": {},
   "outputs": [
    {
     "name": "stdout",
     "output_type": "stream",
     "text": [
      "[array([[ 1,  2, 52, 10],\n",
      "       [ 3,  4, 24,  0]]), array([[14, 15, 16, 12],\n",
      "       [88, 79, 56,  5]]), array([[88, 79, 56,  5],\n",
      "       [88, 79, 56,  5]])]\n"
     ]
    },
    {
     "data": {
      "text/plain": [
       "[array([0., 1.]), array([2., 3.]), array([4., 5.]), array([6., 7.])]"
      ]
     },
     "execution_count": 12,
     "metadata": {},
     "output_type": "execute_result"
    }
   ],
   "source": [
    "arr = nup.array([[1, 2, 52,10], \n",
    "                 [3, 4, 24,0],\n",
    "                 [14,15,16,12],\n",
    "                 [88,79,56,5],[88,79,56,5],[88,79,56,5]])\n",
    "\n",
    "#into three subarrays along the vertical axis (axis=0) at the specified indices.\n",
    "print(nup.split(arr, [2,4],axis=0))\n",
    "x = nup.arange(8.0)\n",
    "nup.split(x, [2,4,6],axis=0)"
   ]
  },
  {
   "cell_type": "code",
   "execution_count": 167,
   "id": "697685fc",
   "metadata": {},
   "outputs": [
    {
     "name": "stdout",
     "output_type": "stream",
     "text": [
      "[[ 1  3 14 88  1]\n",
      " [ 2  4 15 79  2]\n",
      " [52 24 16 56  3]\n",
      " [10  0 12  5  4]]\n"
     ]
    }
   ],
   "source": [
    "arr3 = np.array([[1, 2, 52,10], \n",
    "                 [3, 4, 24,0],\n",
    "                 [14,15,16,12],\n",
    "                 [88,79,56,5],\n",
    "                 [1,2,3,4]])\n",
    "print(arr3.transpose())"
   ]
  },
  {
   "cell_type": "markdown",
   "id": "9906fb71",
   "metadata": {},
   "source": [
    "## Concatenating, stacking and splitting"
   ]
  },
  {
   "cell_type": "code",
   "execution_count": 3,
   "id": "ccac8dbf",
   "metadata": {},
   "outputs": [
    {
     "name": "stdout",
     "output_type": "stream",
     "text": [
      "[[ 1  2 52 10]\n",
      " [ 3  4 24  0]\n",
      " [14 15 16 12]\n",
      " [88 79 56  5]\n",
      " [ 1  2  3  4]]\n",
      "[[ 1  2 52 10]\n",
      " [ 3  4 24  0]\n",
      " [14 15 16 12]\n",
      " [88 79 56  5]\n",
      " [ 1  2  3  4]]\n",
      "[[ 1  2 52 10 14 15 16 12]\n",
      " [ 3  4 24  0 88 79 56  5]]\n"
     ]
    }
   ],
   "source": [
    "import numpy as nup\n",
    "arr3 = nup.array([[1, 2, 52,10], \n",
    "                 [3, 4, 24,0]])\n",
    "                \n",
    "arr4 = nup.array([[14,15,16,12],\n",
    "                 [88,79,56,5],\n",
    "                 [1,2,3,4]])\n",
    "\n",
    "re = nup.concatenate((arr3,arr4))\n",
    "print(re)\n",
    "re1 = nup.concatenate((arr3,arr4),axis = 0) #combine two array row-wise\n",
    "print(re1)\n",
    "\n",
    "arr3 = nup.array([[1, 2, 52,10], \n",
    "                 [3, 4, 24,0]])\n",
    "                \n",
    "arr4 = nup.array([[14,15,16,12],\n",
    "                 [88,79,56,5]])\n",
    "#combine two array column-wise\n",
    "re2 = nup.concatenate((arr3,arr4),axis = 1) #number of rows in two array must be same.\n",
    "print(re2)"
   ]
  },
  {
   "cell_type": "code",
   "execution_count": 4,
   "id": "5b6f41bb",
   "metadata": {},
   "outputs": [
    {
     "name": "stdout",
     "output_type": "stream",
     "text": [
      "[[[ 1  2 52 10]\n",
      "  [ 3  4 24  0]]\n",
      "\n",
      " [[14 15 16 12]\n",
      "  [88 79 56  5]]] \n",
      "\n",
      "[[ 1  2 52 10 14 15 16 12]\n",
      " [ 3  4 24  0 88 79 56  5]] \n",
      "\n",
      "[[ 1  2 52 10]\n",
      " [ 3  4 24  0]\n",
      " [14 15 16 12]\n",
      " [88 79 56  5]]\n"
     ]
    }
   ],
   "source": [
    "arr3 = nup.array([[1, 2, 52,10], \n",
    "                 [3, 4, 24,0]])\n",
    "                \n",
    "#arr4 = nup.array([[14,15,16,12],\n",
    "#                 [88,79,56,5],\n",
    "#                 [1,2,3,4]])\n",
    "#ensure that all input arrays must have the same shape\n",
    "arr4 = nup.array([[14,15,16,12],\n",
    "                 [88,79,56,5]])\n",
    "\n",
    "re = nup.stack((arr3,arr4))\n",
    "print(re,\"\\n\")\n",
    "h = nup.hstack((arr3,arr4))\n",
    "print(h,\"\\n\")\n",
    "v = nup.vstack((arr3,arr4))\n",
    "print(v)\n"
   ]
  },
  {
   "cell_type": "markdown",
   "id": "534f32de",
   "metadata": {},
   "source": [
    "## Aggregate Functions"
   ]
  },
  {
   "cell_type": "code",
   "execution_count": 51,
   "id": "b4442eba",
   "metadata": {},
   "outputs": [
    {
     "name": "stdout",
     "output_type": "stream",
     "text": [
      "0\n",
      "88\n",
      "391\n",
      "19.55\n",
      "26.232565638915307\n",
      "7.5\n",
      "[107 102 151  31]\n",
      "[ 65  31  57 228  10]\n"
     ]
    }
   ],
   "source": [
    "a = np.array([[1, 2, 52,10], \n",
    "              [3, 4, 24,0],\n",
    "              [14,15,16,12],\n",
    "              [88,79,56,5],\n",
    "              [1,2,3,4]])\n",
    "print(a.min())\n",
    "print(a.max())\n",
    "print(a.sum())\n",
    "print(a.mean())\n",
    "print(a.std())\n",
    "print(nup.median(a))\n",
    "print(a.sum(axis=0))\n",
    "print(a.sum(axis=1))"
   ]
  },
  {
   "cell_type": "markdown",
   "id": "1fcfc92a",
   "metadata": {},
   "source": [
    "## Numpy Random"
   ]
  },
  {
   "cell_type": "markdown",
   "id": "72a6785c",
   "metadata": {},
   "source": [
    "Generate the random number between 0 to 99"
   ]
  },
  {
   "cell_type": "code",
   "execution_count": 15,
   "id": "cd25b635",
   "metadata": {},
   "outputs": [
    {
     "name": "stdout",
     "output_type": "stream",
     "text": [
      "99\n"
     ]
    }
   ],
   "source": [
    "number = nup.random.randint(100)\n",
    "print(number)"
   ]
  },
  {
   "cell_type": "code",
   "execution_count": 18,
   "id": "3854ece6",
   "metadata": {},
   "outputs": [
    {
     "name": "stdout",
     "output_type": "stream",
     "text": [
      "0.12479747940050467\n"
     ]
    }
   ],
   "source": [
    "#generate a random FLOAT number between 0 to 1\n",
    "number = nup.random.rand()\n",
    "print(number)"
   ]
  },
  {
   "cell_type": "markdown",
   "id": "b1b4085e",
   "metadata": {},
   "source": [
    "The **randint()** method takes a size parameter where you can specify the shape of an array."
   ]
  },
  {
   "cell_type": "code",
   "execution_count": 19,
   "id": "afd6746d",
   "metadata": {},
   "outputs": [
    {
     "name": "stdout",
     "output_type": "stream",
     "text": [
      "[[93 83  6]\n",
      " [58 93 14]]\n",
      "(2, 3)\n",
      "2\n"
     ]
    }
   ],
   "source": [
    "number = nup.random.randint(100,size=(2,3))\n",
    "print(number)\n",
    "print(number.shape)\n",
    "print(number.ndim)"
   ]
  },
  {
   "cell_type": "code",
   "execution_count": 24,
   "id": "f55cfac0",
   "metadata": {},
   "outputs": [
    {
     "name": "stdout",
     "output_type": "stream",
     "text": [
      "[80 77]\n",
      "(2,)\n",
      "1\n"
     ]
    }
   ],
   "source": [
    "number = nup.random.randint(100,size=(2,))\n",
    "print(number)\n",
    "print(number.shape)\n",
    "print(number.ndim)"
   ]
  },
  {
   "cell_type": "code",
   "execution_count": 15,
   "id": "d686a2e9",
   "metadata": {},
   "outputs": [
    {
     "name": "stdout",
     "output_type": "stream",
     "text": [
      "[[[73 66 33 75]\n",
      "  [19 22 58 14]\n",
      "  [65 10 16 35]]\n",
      "\n",
      " [[43 50 66 38]\n",
      "  [90  3 64 95]\n",
      "  [33 11 45 66]]]\n",
      "(2, 3, 4)\n",
      "3\n"
     ]
    }
   ],
   "source": [
    "number = nup.random.randint(100,size=(2,3,4))\n",
    "print(number)\n",
    "print(number.shape)\n",
    "print(number.ndim)"
   ]
  },
  {
   "cell_type": "code",
   "execution_count": 23,
   "id": "284fd03c",
   "metadata": {},
   "outputs": [
    {
     "name": "stdout",
     "output_type": "stream",
     "text": [
      "[[[33 37 36 43]\n",
      "  [27 33 37 35]\n",
      "  [50 44 38 56]]\n",
      "\n",
      " [[43 40 25 50]\n",
      "  [20 49 58 41]\n",
      "  [30 26 22 38]]]\n",
      "(2, 3, 4)\n",
      "3\n"
     ]
    }
   ],
   "source": [
    "number = nup.random.randint(20,60,size=(2,3,4))\n",
    "print(number)\n",
    "print(number.shape)\n",
    "print(number.ndim)"
   ]
  },
  {
   "cell_type": "code",
   "execution_count": 22,
   "id": "4cd17b07",
   "metadata": {},
   "outputs": [
    {
     "name": "stdout",
     "output_type": "stream",
     "text": [
      "11\n"
     ]
    }
   ],
   "source": [
    "number = nup.random.choice([45,78,6,2,3,7,11,110,88])\n",
    "print(number)"
   ]
  },
  {
   "cell_type": "code",
   "execution_count": 25,
   "id": "e6cbcd48",
   "metadata": {},
   "outputs": [
    {
     "name": "stdout",
     "output_type": "stream",
     "text": [
      "[[  3 110 110]\n",
      " [  6   3   6]]\n"
     ]
    }
   ],
   "source": [
    "number = nup.random.choice([45,78,6,2,3,7,11,110,88],size=(2,3))\n",
    "print(number)\n"
   ]
  },
  {
   "cell_type": "markdown",
   "id": "ba3eb968",
   "metadata": {},
   "source": [
    "**Binomial Distribution**\n",
    "\n",
    "Binomial Distribution is a Discrete Distribution.\n",
    "\n",
    "It describes the outcome of binary scenarios, e.g. toss of a coin, it will either be head or tails.\n",
    "\n",
    "It has three parameters:\n",
    "\n",
    "n - number of trials.\n",
    "\n",
    "p - probability of occurence of each trial (e.g. for toss of a coin 0.5 each).\n",
    "\n",
    "size - The shape of the returned array."
   ]
  },
  {
   "cell_type": "code",
   "execution_count": 13,
   "id": "1b9c4cbc",
   "metadata": {},
   "outputs": [
    {
     "name": "stdout",
     "output_type": "stream",
     "text": [
      "[[6 7 7]\n",
      " [5 4 3]]\n",
      "(2, 3)\n",
      "2\n"
     ]
    }
   ],
   "source": [
    "number = nup.random.binomial(10,0.5,size=(2,3))\n",
    "print(number)\n",
    "print(number.shape)\n",
    "print(number.ndim)"
   ]
  },
  {
   "cell_type": "markdown",
   "id": "e50c0aaa",
   "metadata": {},
   "source": [
    "**The Normal Distribution is one of the most important distributions.**\n",
    "\n",
    "It fits the probability distribution of many events, eg. IQ Scores, Heartbeat etc.\n",
    "\n",
    "Use the random.normal() method to get a Normal Data Distribution.\n",
    "\n",
    "It has three parameters:\n",
    "\n",
    "loc - (Mean) where the peak of the bell exists.\n",
    "\n",
    "scale - (Standard Deviation) how flat the graph distribution should be.\n",
    "\n",
    "size - The shape of the returned array."
   ]
  },
  {
   "cell_type": "code",
   "execution_count": 21,
   "id": "0064e4e2",
   "metadata": {},
   "outputs": [
    {
     "name": "stdout",
     "output_type": "stream",
     "text": [
      "[[-6.86419261 11.78850601 -5.31821754]\n",
      " [ 0.75830645 -6.36576358 -5.87203186]]\n",
      "(2, 3)\n",
      "2\n"
     ]
    }
   ],
   "source": [
    "number = nup.random.normal(loc=1, scale=10, size=(2, 3))\n",
    "print(number)\n",
    "print(number.shape)\n",
    "print(number.ndim)"
   ]
  },
  {
   "cell_type": "code",
   "execution_count": 22,
   "id": "9d0a6434",
   "metadata": {
    "collapsed": true
   },
   "outputs": [
    {
     "name": "stderr",
     "output_type": "stream",
     "text": [
      "E:\\Anaconda\\lib\\site-packages\\seaborn\\distributions.py:2619: FutureWarning: `distplot` is a deprecated function and will be removed in a future version. Please adapt your code to use either `displot` (a figure-level function with similar flexibility) or `kdeplot` (an axes-level function for kernel density plots).\n",
      "  warnings.warn(msg, FutureWarning)\n"
     ]
    },
    {
     "data": {
      "image/png": "[encoded data removed]",
      "text/plain": [
       "<Figure size 432x288 with 1 Axes>"
      ]
     },
     "metadata": {
      "needs_background": "light"
     },
     "output_type": "display_data"
    }
   ],
   "source": [
    "import matplotlib.pyplot as plt\n",
    "import seaborn as sns\n",
    "sns.distplot(number, hist=False)\n",
    "\n",
    "plt.show()"
   ]
  },
  {
   "cell_type": "markdown",
   "id": "1afd2a4a",
   "metadata": {},
   "source": [
    "### Linear Algebra"
   ]
  },
  {
   "cell_type": "markdown",
   "id": "9763b51a",
   "metadata": {},
   "source": [
    "The function eig() returns a tuple (eigvals,eigvecs) \n",
    "\n",
    "where eigvals is a 1D NumPy array of complex numbers giving the eigenvalues of \n",
    "\n",
    "eigvecs is a 2D NumPy array with the corresponding eigenvectors in the columns:"
   ]
  },
  {
   "cell_type": "code",
   "execution_count": 53,
   "id": "469eef0e",
   "metadata": {},
   "outputs": [
    {
     "name": "stdout",
     "output_type": "stream",
     "text": [
      "[-0.37228132  5.37228132]\n",
      "[[-0.82456484 -0.41597356]\n",
      " [ 0.56576746 -0.90937671]]\n"
     ]
    }
   ],
   "source": [
    "a = nup.array([[1,2],[3,4]])\n",
    "eigenvalue , eigenvector = nup.linalg.eig(a)\n",
    "print(eigenvalue)\n",
    "print(eigenvector)"
   ]
  },
  {
   "cell_type": "code",
   "execution_count": 54,
   "id": "46cf6b22",
   "metadata": {},
   "outputs": [
    {
     "name": "stdout",
     "output_type": "stream",
     "text": [
      "[-0.37228132  5.37228132]\n"
     ]
    }
   ],
   "source": []
  },
  {
   "cell_type": "code",
   "execution_count": null,
   "id": "363d2a12",
   "metadata": {},
   "outputs": [],
   "source": []
  },
  {
   "cell_type": "markdown",
   "id": "64b2853d",
   "metadata": {},
   "source": [
    "## INDEXING"
   ]
  },
  {
   "cell_type": "code",
   "execution_count": 26,
   "id": "47a569b1",
   "metadata": {},
   "outputs": [
    {
     "name": "stdout",
     "output_type": "stream",
     "text": [
      "(3, 5)\n",
      "2\n",
      "[ 1  6  7  5 10]\n",
      "[ 5  9  2 45  7]\n",
      "[ 3  8  4 78  9]\n",
      "[[ 1  6  7  5 10]\n",
      " [ 5  9  2 45  7]]\n",
      "[1 5 3]\n",
      "[7 2 4]\n",
      "[10  7  9]\n",
      "[6 9]\n",
      "[ 3  8  4 78  9]\n",
      "[78  9]\n"
     ]
    }
   ],
   "source": [
    "X = nup.array( [ [ 1, 6, 7, 5, 10],\n",
    "                 [ 5, 9, 2, 45, 7],\n",
    "                 [ 3, 8, 4, 78, 9] ] )\n",
    "print(X.shape)\n",
    "print(X[1][2]) # element at the given index i.e. 2\n",
    "print(X[0])     # first row\n",
    "print(X[1])      # second row\n",
    "print(X[-1])     # last row\n",
    "print(X[0:2]) \n",
    "print(X[:, 0])  # first column\n",
    "print(X[:, 2])  # third column\n",
    "print(X[:, -1]) # last column\n",
    "print(X[0:2, 1])\n",
    "print(X[2,:])\n",
    "print(X[2,3:6])"
   ]
  },
  {
   "cell_type": "code",
   "execution_count": null,
   "id": "8a9d15c1",
   "metadata": {},
   "outputs": [],
   "source": [
    "X = nup.array( [ [ 1, 6, 7],\n",
    "                 [ 5, 9, 2],\n",
    "                 [ 3, 8, 4] ] )\n",
    "print(X.shape)\n",
    "print(X[1][2]) # element at the given index i.e. 2\n",
    "print(X[0])     # first row\n",
    "print(X[1])      # second row\n",
    "print(X[-1])     # last row\n",
    "print(X[:, 0])  # first column\n",
    "print(X[:, 2])  # third column\n",
    "print(X[:, -1]) # last column"
   ]
  },
  {
   "attachments": {
    "image.png": {
     "image/png": "[encoded data removed]"
    }
   },
   "cell_type": "markdown",
   "id": "060422e1",
   "metadata": {},
   "source": [
    "### Slicing of 3-D array\n",
    "\n",
    "![image.png](attachment:image.png)"
   ]
  },
  {
   "cell_type": "code",
   "execution_count": 274,
   "id": "ff796ee6",
   "metadata": {},
   "outputs": [
    {
     "name": "stdout",
     "output_type": "stream",
     "text": [
      "[[1 6 7]\n",
      " [5 9 2]\n",
      " [3 8 4]] \n",
      "\n",
      "[[10 60 70]\n",
      " [50 90 20]\n",
      " [30 80 40]] \n",
      "\n",
      "[[10 60 70]\n",
      " [50 90 20]\n",
      " [30 80 40]] \n",
      "\n",
      "[[[ 1  6  7]\n",
      "  [ 5  9  2]\n",
      "  [ 3  8  4]]\n",
      "\n",
      " [[10 60 70]\n",
      "  [50 90 20]\n",
      "  [30 80 40]]] \n",
      "\n",
      "[[ 1  6  7]\n",
      " [10 60 70]] \n",
      "\n",
      "[[ 6  9  8]\n",
      " [60 90 80]] \n",
      "\n",
      "[70 20 40]\n",
      "[50 90 20]\n"
     ]
    }
   ],
   "source": [
    "X = nup.array( [[[ 1, 6, 7],\n",
    "                 [ 5, 9, 2],\n",
    "                 [ 3, 8, 4]],\n",
    "                [[ 10, 60, 70],\n",
    "                 [ 50, 90, 20],\n",
    "                 [ 30, 80, 40]]])\n",
    " \n",
    "print(X[0],\"\\n\")     \n",
    "print(X[1],\"\\n\")      \n",
    "print(X[-1],\"\\n\")     \n",
    "print(X[0:2],\"\\n\") \n",
    "print(X[:, 0],\"\\n\")  \n",
    "#how to print the elements of second column [6,9,8][60,90,80]\n",
    "print(X[:,:,1],\"\\n\")\n",
    "#how would you print the elements of last row of array in 2nd index of 3-D array (ie.,[70,20,40])\n",
    "print(X[1,:,-1])\n",
    "#how to print the element in the 2nd row(elements are 1st index) of at 1st index of the 3-D array (ie.,[5,9,2])\n",
    "print(X[1,1,:])"
   ]
  },
  {
   "cell_type": "code",
   "execution_count": 128,
   "id": "110d3ee1",
   "metadata": {},
   "outputs": [
    {
     "name": "stdout",
     "output_type": "stream",
     "text": [
      "[[1 2 3 4]\n",
      " [4 5 6 7]]\n",
      "[[[ 1  2  3  4]\n",
      "  [ 4  5  6  7]]\n",
      "\n",
      " [[ 8  9 10  1]\n",
      "  [12 13 14  8]]]\n",
      "[[4 5 6 7]]\n",
      "[[[12 13 14  8]]]\n",
      "[[ 4  5  6  7]\n",
      " [12 13 14  8]\n",
      " [ 2  3  1  9]]\n"
     ]
    }
   ],
   "source": [
    "arr3 = nup.array([\n",
    "                  [[1,2,3,4],[4,5,6,7]],\n",
    "                  [[8,9,10,1],[12,13,14,8]],\n",
    "                  [[81,94,101,5],[2,3,1,9]]\n",
    "                ])\n",
    "print(arr3[0])\n",
    "print(arr3[0:2])\n",
    "print(arr3[0,1:4])\n",
    "print(arr3[1:2,1:4])\n",
    "print(arr3[:,-1])"
   ]
  }
 ],
 "metadata": {
  "kernelspec": {
   "display_name": "Python 3 (ipykernel)",
   "language": "python",
   "name": "python3"
  },
  "language_info": {
   "codemirror_mode": {
    "name": "ipython",
    "version": 3
   },
   "file_extension": ".py",
   "mimetype": "text/x-python",
   "name": "python",
   "nbconvert_exporter": "python",
   "pygments_lexer": "ipython3",
   "version": "3.9.7"
  }
 },
 "nbformat": 4,
 "nbformat_minor": 5
}
