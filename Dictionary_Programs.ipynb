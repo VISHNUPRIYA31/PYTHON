{
 "cells": [
  {
   "cell_type": "markdown",
   "id": "4d52e018",
   "metadata": {},
   "source": [
    "#### Write a python program to generate the following dictionary \n",
    "\n",
    "**Num = { 1 : 1, 2 : 8, 3 : 27, 4 : 64, 5 : 125 ….. , 20 : 8000}**\n"
   ]
  },
  {
   "cell_type": "code",
   "execution_count": 1,
   "id": "d995dd28",
   "metadata": {},
   "outputs": [
    {
     "name": "stdout",
     "output_type": "stream",
     "text": [
      "{1: 1, 2: 8, 3: 27, 4: 64, 5: 125, 6: 216, 7: 343, 8: 512, 9: 729, 10: 1000, 11: 1331, 12: 1728, 13: 2197, 14: 2744, 15: 3375, 16: 4096, 17: 4913, 18: 5832, 19: 6859, 20: 8000}\n"
     ]
    }
   ],
   "source": [
    "num = {x:x**3 for x in range(1,21)}\n",
    "print(num)"
   ]
  },
  {
   "cell_type": "markdown",
   "id": "4abd73f4",
   "metadata": {},
   "source": [
    "#### Write a program that inverts a dictionary. I.e., it makes key of one dictionary value of another and vice versa\n",
    "\n",
    "**Sample Input:**\n",
    "\n",
    "Dict={‘Reg.No”:123, ‘Name’:’abc’,Course’:’CSE’}\n",
    "\n",
    "**Sample Output:**\n",
    "\n",
    "Inv Dict={123:’Reg.No’, ‘abc’ : ‘Name’, ‘CSE’: ‘Course’}"
   ]
  },
  {
   "cell_type": "code",
   "execution_count": 4,
   "id": "84a44162",
   "metadata": {},
   "outputs": [
    {
     "name": "stdout",
     "output_type": "stream",
     "text": [
      "initial dictionary :  {'reg no': '22EE007', 'name': 'dhanu', 'dept': 'EEE'}\n",
      "inverse mapped dictionary :  {'22EE007': 'reg no', 'dhanu': 'name', 'EEE': 'dept'}\n"
     ]
    }
   ],
   "source": [
    "Dict={\"reg no\":\"22EE007\",\"name\":\"dhanu\",\"dept\":\"EEE\"}\n",
    "print(\"initial dictionary : \", Dict)\n",
    "Inv_dict = {v:k for k,v in Dict.items()}\n",
    "print(\"inverse mapped dictionary : \", Inv_dict)"
   ]
  },
  {
   "cell_type": "markdown",
   "id": "d8f3f6e0",
   "metadata": {},
   "source": [
    "#### Generate a dictionary where keys are numbers and values consist of a set of its factors in a specified range. \n",
    "\n",
    "Factors = {1:{1} , 2:{1,2}, 3: {1,3}, 4:{1,2,4} , 5:{1,5}, 6:{1,2,3,6}, 7:{1,7}, 8:{1,2,4,8}, 9:{1,3,9,}}"
   ]
  },
  {
   "cell_type": "code",
   "execution_count": 5,
   "id": "e093809c",
   "metadata": {},
   "outputs": [
    {
     "name": "stdout",
     "output_type": "stream",
     "text": [
      "Factors:  {1: {1}, 2: {1, 2}, 3: {1, 3}, 4: {1, 2, 4}, 5: {1, 5}, 6: {1, 2, 3, 6}, 7: {1, 7}, 8: {8, 1, 2, 4}, 9: {1, 3, 9}}\n"
     ]
    }
   ],
   "source": [
    "d = dict()\n",
    "for x in range(1,10):\n",
    "    s = set()\n",
    "    for i in range(1,x+1):\n",
    "        if x%i == 0:\n",
    "            s.add(i)\n",
    "    d[x] = s\n",
    "print(\"Factors: \",d)"
   ]
  },
  {
   "cell_type": "markdown",
   "id": "d0ad2ef5",
   "metadata": {},
   "source": [
    "#### Assume that the below dictionary \n",
    "\n",
    "Digit_word = { 1 : “One”, 2 : “Two” , 3 : “Three” , 4 : “Four” , 5 : “Five” , 6 : “Six” , 7 : “Seven” , 8 : “Eight” , 9 : “Nine”}\n",
    "\n",
    "Read the integer from the user and display it in words by considering the above dictionary.\n",
    "\n",
    "**Sample Input**\n",
    "\n",
    "324\n",
    "\n",
    "**Sample Output**\n",
    "\n",
    "Three Two Four"
   ]
  },
  {
   "cell_type": "code",
   "execution_count": 7,
   "id": "d015caa9",
   "metadata": {},
   "outputs": [
    {
     "name": "stdout",
     "output_type": "stream",
     "text": [
      "enter the number:456\n",
      "Four Five Six\n"
     ]
    }
   ],
   "source": [
    "Digit_word = { 1 : \"One\", 2 :\"Two\",3 :\"Three\",4:\"Four\",5:\"Five\",6:\"Six\",7:\"Seven\",8:\"Eight\",9:\"Nine\"}\n",
    "num=input(\"enter the number:\")\n",
    "result=\" \".join(Digit_word[int(digit)] for digit in num)\n",
    "print(result)"
   ]
  },
  {
   "cell_type": "markdown",
   "id": "73eea926",
   "metadata": {},
   "source": [
    "#### Given the dictionary that contains Key as “Cricketer Name”, and Value as dictionary of {Total Runs Conceded and Wickets} taken by 6 different players, \n",
    "\n",
    "Cricketer = {”VinayKumar”:{102,5},Yuzvendra Chahal : {89,10}, Sandeep Sharma : {95,8}, Umesh Yadav : {85,6}, “BhuvaneswarKumar”:{106,10}, Basil Thampi : {70,5}}\n",
    "\n",
    "**calculate the average bowling score using below Formula**\n",
    "\n",
    "Bowling Average = Total Runs Conceded / Total Wickets Taken\n",
    "\n",
    "Replace the key values with the calculated Bowling Average.\n",
    "\n",
    "Then sort the dictionary based on the Bowling Average.\n",
    "\n",
    "**Output**\n",
    "\n",
    "must be sorted based on the the value\n",
    "\n",
    "{”VinayKumar”:{20.4},Umesh Yadav : {14.6}, Basil Thampi : {14}, Sandeep Sharma : {11.85}, “BhuvaneswarKumar”:{10.6}, Yuzvendra Chahal : {8.9}}\n",
    "\n",
    "Sorted() function syntax to sort the value based on the key\n",
    "\n",
    "sorted_dict = sorted(dictionary.items(), key=lambda x: x[1])\n",
    "\n",
    "1st argument - dictionary.items() returns key,value pairs of the given dictionary\n",
    "\n",
    "2nd argument - key parameter -> set to lambda x:x[1] refer to the value in pair therefore the dictionary will be sorted based on the value."
   ]
  },
  {
   "cell_type": "code",
   "execution_count": 27,
   "id": "76b85aff",
   "metadata": {},
   "outputs": [
    {
     "name": "stdout",
     "output_type": "stream",
     "text": [
      "{'Yuzvendra Chahal': 8.9, 'BhuvaneswarKumar': 10.6, 'Sandeep Sharma': 11.88, 'Basil Thampi': 14.0, 'Umesh Yadav': 14.17, 'VinayKumar': 20.4}\n"
     ]
    }
   ],
   "source": [
    "# Since given values are in the set we can't access the values in order, so I have converted it to tuple\n",
    "\n",
    "Cricketer = {\"VinayKumar\":(102,5),\"Yuzvendra Chahal\":(89,10),\"Sandeep Sharma\":(95,8),\"Umesh Yadav\":(85,6),\n",
    "        \"BhuvaneswarKumar\":(106,10),\"Basil Thampi\": (70,5)}\n",
    "\n",
    "for players,stats in Cricketer.items():\n",
    "    runs_conceded,wickets = stats\n",
    "    bowling_average = runs_conceded/wickets\n",
    "    Cricketer[players] = round(bowling_average,2)\n",
    "    \n",
    "Cricketer = dict(sorted(Cricketer.items(),key=lambda x:x[1]))\n",
    "\n",
    "print(Cricketer)"
   ]
  }
 ],
 "metadata": {
  "kernelspec": {
   "display_name": "Python 3 (ipykernel)",
   "language": "python",
   "name": "python3"
  },
  "language_info": {
   "codemirror_mode": {
    "name": "ipython",
    "version": 3
   },
   "file_extension": ".py",
   "mimetype": "text/x-python",
   "name": "python",
   "nbconvert_exporter": "python",
   "pygments_lexer": "ipython3",
   "version": "3.9.7"
  }
 },
 "nbformat": 4,
 "nbformat_minor": 5
}
