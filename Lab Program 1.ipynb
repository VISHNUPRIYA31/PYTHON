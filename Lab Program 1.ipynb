{
 "cells": [
  {
   "cell_type": "markdown",
   "id": "e3532cff",
   "metadata": {},
   "source": [
    "**PROGRAMS ON SELECTION AND ITERATION OPERATION**\n",
    "\n",
    "Get an integer input from a user. If the number is odd, then find the factorial of the number and find the number of digits in the factorial of the number. If the number is even, then check if the given number is a palindrome or not."
   ]
  },
  {
   "cell_type": "code",
   "execution_count": 9,
   "id": "f18526ee",
   "metadata": {},
   "outputs": [
    {
     "name": "stdout",
     "output_type": "stream",
     "text": [
      "Enter the number: 12\n",
      "Not a Palindrome\n"
     ]
    }
   ],
   "source": [
    "n = int(input(\"Enter the number: \"))\n",
    "if n%2 == 0:\n",
    "    r = 0\n",
    "    t = n\n",
    "    while t != 0:\n",
    "        d = t%10\n",
    "        r = d + r*10\n",
    "        t //= 10\n",
    "    if r == n:\n",
    "        print(\"Number is Palindrome\")\n",
    "    else:\n",
    "        print(\"Not a Palindrome\")\n",
    "else:\n",
    "    f = 1\n",
    "    for i in range(n,0,-1):\n",
    "        f = f * i\n",
    "    t = f\n",
    "    c = 0\n",
    "    while t != 0:\n",
    "        c += 1\n",
    "        t //= 10\n",
    "    print(\"Number of digits in Factorial {} of a number {}\".format(f,c))\n",
    "    "
   ]
  }
 ],
 "metadata": {
  "kernelspec": {
   "display_name": "Python 3 (ipykernel)",
   "language": "python",
   "name": "python3"
  },
  "language_info": {
   "codemirror_mode": {
    "name": "ipython",
    "version": 3
   },
   "file_extension": ".py",
   "mimetype": "text/x-python",
   "name": "python",
   "nbconvert_exporter": "python",
   "pygments_lexer": "ipython3",
   "version": "3.9.7"
  }
 },
 "nbformat": 4,
 "nbformat_minor": 5
}
