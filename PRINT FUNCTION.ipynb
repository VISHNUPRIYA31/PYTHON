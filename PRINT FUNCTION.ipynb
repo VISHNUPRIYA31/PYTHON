{
 "cells": [
  {
   "cell_type": "code",
   "execution_count": 6,
   "id": "97f30900",
   "metadata": {},
   "outputs": [
    {
     "name": "stdout",
     "output_type": "stream",
     "text": [
      "25\n",
      "8\n"
     ]
    }
   ],
   "source": [
    "import math\n",
    "print(5**2)\n",
    "math.pow(5,2)\n",
    "print(69//8)"
   ]
  },
  {
   "cell_type": "code",
   "execution_count": 12,
   "id": "971aaf9a",
   "metadata": {},
   "outputs": [
    {
     "name": "stdout",
     "output_type": "stream",
     "text": [
      "4.5\n",
      "10\n",
      "89\n"
     ]
    }
   ],
   "source": [
    "print(10 and 4.5)\n",
    "print(10 or 4)\n",
    "print(10 and 4 and 89)"
   ]
  },
  {
   "cell_type": "code",
   "execution_count": 16,
   "id": "6c272bfa",
   "metadata": {},
   "outputs": [
    {
     "name": "stdout",
     "output_type": "stream",
     "text": [
      "True\n",
      "True\n",
      "False\n",
      "False\n"
     ]
    }
   ],
   "source": [
    "a = 15\n",
    "b = 10.56\n",
    "c = 15\n",
    "d = c\n",
    "print(a is c)\n",
    "print(d is c) \n",
    "print(a is b)\n",
    "print( a is not c)"
   ]
  },
  {
   "cell_type": "code",
   "execution_count": 19,
   "id": "e6582fe2",
   "metadata": {},
   "outputs": [
    {
     "name": "stdout",
     "output_type": "stream",
     "text": [
      "True\n"
     ]
    }
   ],
   "source": [
    "print(156 not in [45,67,89,56])"
   ]
  },
  {
   "cell_type": "code",
   "execution_count": 20,
   "id": "480419c8",
   "metadata": {},
   "outputs": [
    {
     "name": "stdout",
     "output_type": "stream",
     "text": [
      "2,550,000\n",
      "255,000\n",
      "25,500\n",
      "2,550\n",
      "255\n",
      "25\n",
      "2\n"
     ]
    }
   ],
   "source": [
    "print(\"{:,}\".format(2550000))\n",
    "print(\"{:,}\".format(255000))\n",
    "print(\"{:,}\".format(25500))\n",
    "print(\"{:,}\".format(2550))\n",
    "print(\"{:,}\".format(255))\n",
    "print(\"{:,}\".format(25))\n",
    "print(\"{:,}\".format(2))"
   ]
  }
 ],
 "metadata": {
  "kernelspec": {
   "display_name": "Python 3 (ipykernel)",
   "language": "python",
   "name": "python3"
  },
  "language_info": {
   "codemirror_mode": {
    "name": "ipython",
    "version": 3
   },
   "file_extension": ".py",
   "mimetype": "text/x-python",
   "name": "python",
   "nbconvert_exporter": "python",
   "pygments_lexer": "ipython3",
   "version": "3.9.7"
  }
 },
 "nbformat": 4,
 "nbformat_minor": 5
}
