{
 "cells": [
  {
   "cell_type": "markdown",
   "id": "bb31ada1",
   "metadata": {},
   "source": [
    "### Opening Files in Python"
   ]
  },
  {
   "cell_type": "code",
   "execution_count": 2,
   "id": "954802b7",
   "metadata": {},
   "outputs": [
    {
     "name": "stdout",
     "output_type": "stream",
     "text": [
      "<_io.TextIOWrapper name='outputt.txt' mode='r' encoding='cp1252'>\n"
     ]
    }
   ],
   "source": [
    "file1 = open(\"outputt.txt\",\"r\")\n",
    "print(file1)"
   ]
  },
  {
   "cell_type": "code",
   "execution_count": 3,
   "id": "6eb53b07",
   "metadata": {},
   "outputs": [],
   "source": [
    "create = open(\"newfile.txt\",\"x\")"
   ]
  },
  {
   "cell_type": "markdown",
   "id": "3f440a0b",
   "metadata": {},
   "source": [
    "### read()\n",
    "\n",
    "**read(chars)** reads the specified number of characters starting from the current position."
   ]
  },
  {
   "cell_type": "code",
   "execution_count": 1,
   "id": "6405a850",
   "metadata": {},
   "outputs": [
    {
     "name": "stdout",
     "output_type": "stream",
     "text": [
      "Mac\n",
      "3\n",
      "hine Learning\n",
      "Deep Learning\n",
      "<_io.TextIOWrapper name='outputt.txt' mode='r' encoding='cp1252'>\n"
     ]
    }
   ],
   "source": [
    "file = open(\"outputt.txt\",\"r\")\n",
    "print(file.read(3))\n",
    "print(file.tell())\n",
    "print(file.read())\n",
    "print(file) #this is display the name of the file, mode and encoding format"
   ]
  },
  {
   "cell_type": "code",
   "execution_count": 12,
   "id": "1facf5c1",
   "metadata": {},
   "outputs": [
    {
     "ename": "UnicodeDecodeError",
     "evalue": "'charmap' codec can't decode byte 0x90 in position 253: character maps to <undefined>",
     "output_type": "error",
     "traceback": [
      "\u001b[1;31m---------------------------------------------------------------------------\u001b[0m",
      "\u001b[1;31mUnicodeDecodeError\u001b[0m                        Traceback (most recent call last)",
      "\u001b[1;32m~\\AppData\\Local\\Temp/ipykernel_24284/474739920.py\u001b[0m in \u001b[0;36m<module>\u001b[1;34m\u001b[0m\n\u001b[0;32m      1\u001b[0m \u001b[0mpic\u001b[0m \u001b[1;33m=\u001b[0m \u001b[0mopen\u001b[0m\u001b[1;33m(\u001b[0m\u001b[1;34m\"204336.jpg\"\u001b[0m\u001b[1;33m,\u001b[0m\u001b[1;34m\"r\"\u001b[0m\u001b[1;33m)\u001b[0m \u001b[1;31m#--> if we just read the file in text mode then it will raise an error\u001b[0m\u001b[1;33m\u001b[0m\u001b[1;33m\u001b[0m\u001b[0m\n\u001b[0;32m      2\u001b[0m \u001b[1;31m#pic = open(\"204336.jpg\",\"rb\") #--> image file to read in binary format\u001b[0m\u001b[1;33m\u001b[0m\u001b[1;33m\u001b[0m\u001b[0m\n\u001b[1;32m----> 3\u001b[1;33m \u001b[0mprint\u001b[0m\u001b[1;33m(\u001b[0m\u001b[0mpic\u001b[0m\u001b[1;33m.\u001b[0m\u001b[0mread\u001b[0m\u001b[1;33m(\u001b[0m\u001b[1;33m)\u001b[0m\u001b[1;33m)\u001b[0m\u001b[1;33m\u001b[0m\u001b[1;33m\u001b[0m\u001b[0m\n\u001b[0m",
      "\u001b[1;32mE:\\Anaconda\\lib\\encodings\\cp1252.py\u001b[0m in \u001b[0;36mdecode\u001b[1;34m(self, input, final)\u001b[0m\n\u001b[0;32m     21\u001b[0m \u001b[1;32mclass\u001b[0m \u001b[0mIncrementalDecoder\u001b[0m\u001b[1;33m(\u001b[0m\u001b[0mcodecs\u001b[0m\u001b[1;33m.\u001b[0m\u001b[0mIncrementalDecoder\u001b[0m\u001b[1;33m)\u001b[0m\u001b[1;33m:\u001b[0m\u001b[1;33m\u001b[0m\u001b[1;33m\u001b[0m\u001b[0m\n\u001b[0;32m     22\u001b[0m     \u001b[1;32mdef\u001b[0m \u001b[0mdecode\u001b[0m\u001b[1;33m(\u001b[0m\u001b[0mself\u001b[0m\u001b[1;33m,\u001b[0m \u001b[0minput\u001b[0m\u001b[1;33m,\u001b[0m \u001b[0mfinal\u001b[0m\u001b[1;33m=\u001b[0m\u001b[1;32mFalse\u001b[0m\u001b[1;33m)\u001b[0m\u001b[1;33m:\u001b[0m\u001b[1;33m\u001b[0m\u001b[1;33m\u001b[0m\u001b[0m\n\u001b[1;32m---> 23\u001b[1;33m         \u001b[1;32mreturn\u001b[0m \u001b[0mcodecs\u001b[0m\u001b[1;33m.\u001b[0m\u001b[0mcharmap_decode\u001b[0m\u001b[1;33m(\u001b[0m\u001b[0minput\u001b[0m\u001b[1;33m,\u001b[0m\u001b[0mself\u001b[0m\u001b[1;33m.\u001b[0m\u001b[0merrors\u001b[0m\u001b[1;33m,\u001b[0m\u001b[0mdecoding_table\u001b[0m\u001b[1;33m)\u001b[0m\u001b[1;33m[\u001b[0m\u001b[1;36m0\u001b[0m\u001b[1;33m]\u001b[0m\u001b[1;33m\u001b[0m\u001b[1;33m\u001b[0m\u001b[0m\n\u001b[0m\u001b[0;32m     24\u001b[0m \u001b[1;33m\u001b[0m\u001b[0m\n\u001b[0;32m     25\u001b[0m \u001b[1;32mclass\u001b[0m \u001b[0mStreamWriter\u001b[0m\u001b[1;33m(\u001b[0m\u001b[0mCodec\u001b[0m\u001b[1;33m,\u001b[0m\u001b[0mcodecs\u001b[0m\u001b[1;33m.\u001b[0m\u001b[0mStreamWriter\u001b[0m\u001b[1;33m)\u001b[0m\u001b[1;33m:\u001b[0m\u001b[1;33m\u001b[0m\u001b[1;33m\u001b[0m\u001b[0m\n",
      "\u001b[1;31mUnicodeDecodeError\u001b[0m: 'charmap' codec can't decode byte 0x90 in position 253: character maps to <undefined>"
     ]
    }
   ],
   "source": [
    "#pic = open(\"204336.jpg\",\"r\") #--> if we just read the file in text mode then it will raise an error\n",
    "pic = open(\"204336.jpg\",\"rb\") #--> image file to read in binary format\n",
    "print(pic.read())"
   ]
  },
  {
   "cell_type": "markdown",
   "id": "a0af566c",
   "metadata": {},
   "source": [
    "### readline()\n",
    "\n",
    "**readline()** reads the characters starting from the current reading position up to a newline character."
   ]
  },
  {
   "cell_type": "code",
   "execution_count": 5,
   "id": "b519ffc6",
   "metadata": {},
   "outputs": [
    {
     "name": "stdout",
     "output_type": "stream",
     "text": [
      "Machine Learning\n",
      "\n",
      "De\n",
      "ep Lea\n",
      "rning\n"
     ]
    }
   ],
   "source": [
    "file = open(\"outputt.txt\",\"r\")\n",
    "print(file.readline())\n",
    "print(file.readline(2))\n",
    "print(file.readline(6))\n",
    "print(file.readline())"
   ]
  },
  {
   "cell_type": "markdown",
   "id": "79db77d8",
   "metadata": {},
   "source": [
    "### readlines()\n",
    "**readlines()** reads all lines until the end of file and returns a list object."
   ]
  },
  {
   "cell_type": "code",
   "execution_count": 6,
   "id": "b99607fa",
   "metadata": {},
   "outputs": [
    {
     "name": "stdout",
     "output_type": "stream",
     "text": [
      "['Machine Learning\\n', 'Deep Learning']\n"
     ]
    }
   ],
   "source": [
    "file = open(\"outputt.txt\",\"r\")\n",
    "print(file.readlines())"
   ]
  },
  {
   "cell_type": "markdown",
   "id": "19411ddd",
   "metadata": {},
   "source": [
    "### Use the for loop to read a file "
   ]
  },
  {
   "cell_type": "code",
   "execution_count": 19,
   "id": "7ec07464",
   "metadata": {},
   "outputs": [
    {
     "name": "stdout",
     "output_type": "stream",
     "text": [
      "Machine Learning\n",
      "\n",
      "Deep Learning\n",
      "\n",
      "Augumented AnalyticsVirtual Reality\n",
      "\n",
      "Virtual Reality\n",
      "\n"
     ]
    }
   ],
   "source": [
    "f = open(\"line.txt\",\"r\")\n",
    "for line in f:\n",
    "    print(line)\n",
    "f.close()"
   ]
  },
  {
   "cell_type": "markdown",
   "id": "440dd25e",
   "metadata": {},
   "source": [
    "### close()\n",
    "\n",
    "f.close() will flush and close the stream."
   ]
  },
  {
   "cell_type": "code",
   "execution_count": 55,
   "id": "f50bd321",
   "metadata": {},
   "outputs": [],
   "source": [
    "file.close()"
   ]
  },
  {
   "cell_type": "markdown",
   "id": "bcab69aa",
   "metadata": {},
   "source": [
    "### write()\n",
    "\n",
    "**write(s):** Write the string s to the stream and return the number of characters written."
   ]
  },
  {
   "cell_type": "code",
   "execution_count": 8,
   "id": "a7cbb97e",
   "metadata": {},
   "outputs": [],
   "source": [
    "w_file = open(\"out.txt\",\"w\")\n",
    "w_file.write(\"Machine Learning\\n\")\n",
    "w_file.write(\"Deep Learning\")\n",
    "w_file.write(\"Methods\")\n",
    "#w_file.write(100) error\n",
    "w_file.close()"
   ]
  },
  {
   "cell_type": "markdown",
   "id": "24423f94",
   "metadata": {},
   "source": [
    "### writelines([list of strings])\n",
    "\n",
    "**writelines(lines):** Write a list of lines to the stream. Each line must have a separator at the end of it."
   ]
  },
  {
   "cell_type": "code",
   "execution_count": 9,
   "id": "5869d879",
   "metadata": {},
   "outputs": [],
   "source": [
    "wr_file = open(\"line.txt\",\"w\")\n",
    "wr_file.writelines(['Machine Learning\\n', 'Deep Learning\\n',\"Robotics\"])\n",
    "wr_file.close()"
   ]
  },
  {
   "attachments": {
    "image.png": {
     "image/png": "[encoded data removed]"
    }
   },
   "cell_type": "markdown",
   "id": "63b74e32",
   "metadata": {},
   "source": [
    "![image.png](attachment:image.png)"
   ]
  },
  {
   "cell_type": "code",
   "execution_count": 11,
   "id": "7c21549f",
   "metadata": {},
   "outputs": [
    {
     "name": "stdout",
     "output_type": "stream",
     "text": [
      "45\n",
      "Learning\n",
      "Deep Learning\n",
      "Augumented Analytics\n"
     ]
    }
   ],
   "source": [
    "wr_file = open(\"line.txt\",\"w+\") ##--> open the file both in read and write mode\n",
    "wr_file.writelines(['Learning\\n', 'Deep Learning\\n',\"Augumented Analytics\"])\n",
    "print(wr_file.tell())\n",
    "wr_file.seek(0)\n",
    "string = wr_file.read()\n",
    "wr_file.close()\n",
    "print(string)"
   ]
  },
  {
   "cell_type": "markdown",
   "id": "107e928d",
   "metadata": {},
   "source": [
    "### Appending to an Existing File"
   ]
  },
  {
   "cell_type": "code",
   "execution_count": 14,
   "id": "48bb370b",
   "metadata": {},
   "outputs": [
    {
     "name": "stdout",
     "output_type": "stream",
     "text": [
      "87\n",
      "Machine Learning\n",
      "Deep Learning\n",
      "Augumented AnalyticsVirtual Reality\n",
      "Virtual Reality\n",
      "\n"
     ]
    }
   ],
   "source": [
    "a_file = open(\"line.txt\",\"a+\")\n",
    "a_file.write(\"Virtual Reality\\n\")\n",
    "print(a_file.tell())\n",
    "a_file.seek(0)\n",
    "print(a_file.read())"
   ]
  },
  {
   "cell_type": "markdown",
   "id": "e7c29738",
   "metadata": {},
   "source": [
    "### tell() and seek "
   ]
  },
  {
   "cell_type": "code",
   "execution_count": 6,
   "id": "e3ae5e79",
   "metadata": {},
   "outputs": [
    {
     "name": "stdout",
     "output_type": "stream",
     "text": [
      "Machine Le\n",
      "10\n",
      "5\n",
      "ne Learning\n",
      "Deep Learning\n",
      "Augumented AnalyticsVirtual Reality\n",
      "Virtual Reality\n",
      "\n"
     ]
    }
   ],
   "source": [
    "r_file = open(\"line.txt\",\"r\")\n",
    "print(r_file.read(10))\n",
    "print(r_file.tell())\n",
    "print(r_file.seek(5))\n",
    "print(r_file.read())\n",
    "r_file.close()"
   ]
  },
  {
   "cell_type": "markdown",
   "id": "0852194d",
   "metadata": {},
   "source": [
    "### remove()"
   ]
  },
  {
   "cell_type": "code",
   "execution_count": 59,
   "id": "0af088c7",
   "metadata": {},
   "outputs": [],
   "source": [
    "import os\n",
    "os.remove(\"out.txt\")"
   ]
  },
  {
   "cell_type": "code",
   "execution_count": 61,
   "id": "cff9f80c",
   "metadata": {},
   "outputs": [],
   "source": [
    "### os.listdir() - will display all the files and folders in the current location"
   ]
  },
  {
   "cell_type": "code",
   "execution_count": 22,
   "id": "a74d7876",
   "metadata": {},
   "outputs": [
    {
     "name": "stdout",
     "output_type": "stream",
     "text": [
      "22CS001,Abi,M\n",
      "\n",
      "22CS015,Giri,M\n",
      "\n",
      "22CS058,Harini,F\n",
      "\n",
      "22CS120,Swetha,F\n"
     ]
    }
   ],
   "source": [
    "stud = open(\"stud_detail.txt\",\"r\")\n",
    "s_l = stud.readlines()\n",
    "for i in s_l:\n",
    "    print(i)"
   ]
  },
  {
   "cell_type": "code",
   "execution_count": 24,
   "id": "341e113a",
   "metadata": {},
   "outputs": [
    {
     "name": "stdout",
     "output_type": "stream",
     "text": [
      "22CS001,Abi,M\n",
      "\n",
      "22CS001,Abi,M\n"
     ]
    }
   ],
   "source": [
    "st = \"22CS001,Abi,M\\n\"\n",
    "print(st)\n",
    "ss = st.strip()\n",
    "print(ss)"
   ]
  },
  {
   "cell_type": "code",
   "execution_count": 10,
   "id": "12ad6739",
   "metadata": {},
   "outputs": [
    {
     "name": "stdout",
     "output_type": "stream",
     "text": [
      "Enter number of lines to be read from the file: 3\n",
      "Machine Learning\n",
      "\n",
      "Deep Learning\n",
      "\n",
      "Augumented Reality\n",
      "\n"
     ]
    }
   ],
   "source": [
    "file = open(\"outputt.txt\",\"r\")\n",
    "n = int(input(\"Enter number of lines to be read from the file: \"))\n",
    "for i in range(n):\n",
    "    print(file.readline())\n",
    "file.close()"
   ]
  },
  {
   "cell_type": "code",
   "execution_count": 14,
   "id": "3bd8c31f",
   "metadata": {},
   "outputs": [],
   "source": [
    "file = open(\"outputt.txt\",\"a+\")\n",
    "file2 = open(\"line.txt\",\"r\")\n",
    "con2 = file2.read()\n",
    "file.write(con2)\n",
    "file.close()\n",
    "file2.close()"
   ]
  },
  {
   "cell_type": "code",
   "execution_count": null,
   "id": "b9bd92c8",
   "metadata": {},
   "outputs": [],
   "source": []
  }
 ],
 "metadata": {
  "kernelspec": {
   "display_name": "Python 3 (ipykernel)",
   "language": "python",
   "name": "python3"
  },
  "language_info": {
   "codemirror_mode": {
    "name": "ipython",
    "version": 3
   },
   "file_extension": ".py",
   "mimetype": "text/x-python",
   "name": "python",
   "nbconvert_exporter": "python",
   "pygments_lexer": "ipython3",
   "version": "3.9.7"
  }
 },
 "nbformat": 4,
 "nbformat_minor": 5
}
